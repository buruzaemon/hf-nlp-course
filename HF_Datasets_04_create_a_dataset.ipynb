{
 "cells": [
  {
   "cell_type": "markdown",
   "id": "e7286918-905e-4980-a2e0-34d27ecf3258",
   "metadata": {},
   "source": [
    "# 🤗 Datasets"
   ]
  },
  {
   "cell_type": "markdown",
   "id": "c8da6ece-d25d-4d3d-84c7-d18e339282ae",
   "metadata": {},
   "source": [
    "## Create a dataset\n",
    "\n",
    "Please see the [Create a dataset tutorial](https://huggingface.co/docs/datasets/create_dataset#create-a-dataset) for 🤗 Datasets.\n",
    "\n",
    "##### In a nutshell...\n",
    "\n",
    "> 🤗 Datasets low-code methods for creating all types of datasets:\n",
    "> * Folder-based builders for quickly creating an image or audio dataset\n",
    "> * `from_` methods for creating datasets from local files"
   ]
  },
  {
   "cell_type": "markdown",
   "id": "29d0de98-470b-4a75-89fc-08cf01fb45fc",
   "metadata": {},
   "source": [
    "### File-based builders\n",
    "\n",
    "It can be as simple as the code snippet below..."
   ]
  },
  {
   "cell_type": "raw",
   "id": "99173eec-aadf-4fc7-9ab4-6d7fc9765e98",
   "metadata": {},
   "source": [
    "from datasets import load_dataset\n",
    "\n",
    "dataset = load_dataset(\"csv\", data_files=\"my_file.csv\")"
   ]
  },
  {
   "cell_type": "markdown",
   "id": "087cf88f-d193-4c4b-b08f-19300db2e172",
   "metadata": {},
   "source": [
    "### Folder-based builders"
   ]
  },
  {
   "cell_type": "code",
   "execution_count": null,
   "id": "d990d31f-4c03-488e-9945-d1ed613ee52c",
   "metadata": {},
   "outputs": [],
   "source": []
  }
 ],
 "metadata": {
  "kernelspec": {
   "display_name": "Python 3 (ipykernel)",
   "language": "python",
   "name": "python3"
  },
  "language_info": {
   "codemirror_mode": {
    "name": "ipython",
    "version": 3
   },
   "file_extension": ".py",
   "mimetype": "text/x-python",
   "name": "python",
   "nbconvert_exporter": "python",
   "pygments_lexer": "ipython3",
   "version": "3.9.21"
  }
 },
 "nbformat": 4,
 "nbformat_minor": 5
}
