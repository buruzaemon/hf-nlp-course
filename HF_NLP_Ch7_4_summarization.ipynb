{
 "cells": [
  {
   "cell_type": "markdown",
   "id": "d612ec0f-ad9f-4296-b5d1-dea029e83476",
   "metadata": {},
   "source": [
    "# NLP Course\n",
    "\n",
    "Please see the [Hugging Face NLP Course page](https://huggingface.co/learn/nlp-course/chapter0/1?fw=pt)."
   ]
  },
  {
   "cell_type": "code",
   "execution_count": 1,
   "id": "52825be3-e6e8-45a0-859d-fed972674a4c",
   "metadata": {},
   "outputs": [],
   "source": [
    "%matplotlib inline\n",
    "\n",
    "import matplotlib.pyplot as plt\n",
    "import numpy as np"
   ]
  },
  {
   "cell_type": "markdown",
   "id": "c63237ac-efb8-4e3a-aba7-eeec24d80432",
   "metadata": {},
   "source": [
    "## Summarization\n",
    "\n",
    "\n",
    "\n",
    "Please see [Summarization](https://huggingface.co/learn/nlp-course/chapter7/5?fw=pt#summarization), 7. Main NLP Tasks, in the 🤗 NLP Course."
   ]
  },
  {
   "cell_type": "markdown",
   "id": "80e1f4a2-5d49-47fa-a18f-cf4f000ab44c",
   "metadata": {},
   "source": [
    "### Preparing a multilingual corpus\n",
    "\n",
    "> Defunct: Dataset \"amazon_reviews_multi\" is defunct and no longer accessible due to the decision of data providers.\n",
    "\n",
    "The following code will not work, since The Multilingual Amazon Reviews Corpus has been taken down from 🤗 Datasets."
   ]
  },
  {
   "cell_type": "raw",
   "id": "52709167-c1ea-4e72-8f46-e43b15c44c17",
   "metadata": {},
   "source": [
    "from datasets import load_dataset\n",
    "\n",
    "japanese_dataset = load_dataset(\"amazon_reviews_multi\", \"ja\")\n",
    "english_dataset = load_dataset(\"amazon_reviews_multi\", \"en\")\n",
    "english_dataset"
   ]
  },
  {
   "cell_type": "code",
   "execution_count": 2,
   "id": "2552e504-f837-4204-9151-113b558acd0d",
   "metadata": {},
   "outputs": [
    {
     "data": {
      "application/vnd.jupyter.widget-view+json": {
       "model_id": "d8b36cefe56444d8a40f09f981eec0d8",
       "version_major": 2,
       "version_minor": 0
      },
      "text/plain": [
       "VBox(children=(HTML(value='<center> <img\\nsrc=https://huggingface.co/front/assets/huggingface_logo-noborder.sv…"
      ]
     },
     "metadata": {},
     "output_type": "display_data"
    }
   ],
   "source": [
    "from huggingface_hub import notebook_login\n",
    "\n",
    "notebook_login()"
   ]
  },
  {
   "cell_type": "code",
   "execution_count": 3,
   "id": "65b44991-3ec0-4525-95f9-7e8f66fa5883",
   "metadata": {},
   "outputs": [
    {
     "data": {
      "text/plain": [
       "DatasetDict({\n",
       "    train: Dataset({\n",
       "        features: ['review_id', 'product_id', 'reviewer_id', 'stars', 'review_body', 'review_title', 'language', 'product_category'],\n",
       "        num_rows: 200000\n",
       "    })\n",
       "    validation: Dataset({\n",
       "        features: ['review_id', 'product_id', 'reviewer_id', 'stars', 'review_body', 'review_title', 'language', 'product_category'],\n",
       "        num_rows: 5000\n",
       "    })\n",
       "    test: Dataset({\n",
       "        features: ['review_id', 'product_id', 'reviewer_id', 'stars', 'review_body', 'review_title', 'language', 'product_category'],\n",
       "        num_rows: 5000\n",
       "    })\n",
       "})"
      ]
     },
     "execution_count": 3,
     "metadata": {},
     "output_type": "execute_result"
    }
   ],
   "source": [
    "from datasets import load_dataset\n",
    "\n",
    "dataset_en = load_dataset(\"buruzaemon/amazon_reviews_multi\", \"en\")\n",
    "dataset_en"
   ]
  },
  {
   "cell_type": "code",
   "execution_count": 4,
   "id": "fc0687ca-5caa-4822-894d-696c3616f956",
   "metadata": {},
   "outputs": [
    {
     "data": {
      "text/plain": [
       "DatasetDict({\n",
       "    train: Dataset({\n",
       "        features: ['review_id', 'product_id', 'reviewer_id', 'stars', 'review_body', 'review_title', 'language', 'product_category'],\n",
       "        num_rows: 200000\n",
       "    })\n",
       "    validation: Dataset({\n",
       "        features: ['review_id', 'product_id', 'reviewer_id', 'stars', 'review_body', 'review_title', 'language', 'product_category'],\n",
       "        num_rows: 5000\n",
       "    })\n",
       "    test: Dataset({\n",
       "        features: ['review_id', 'product_id', 'reviewer_id', 'stars', 'review_body', 'review_title', 'language', 'product_category'],\n",
       "        num_rows: 5000\n",
       "    })\n",
       "})"
      ]
     },
     "execution_count": 4,
     "metadata": {},
     "output_type": "execute_result"
    }
   ],
   "source": [
    "dataset_ja = load_dataset(\"buruzaemon/amazon_reviews_multi\", \"ja\")\n",
    "dataset_ja"
   ]
  },
  {
   "cell_type": "code",
   "execution_count": 5,
   "id": "0bfe58e0-e76f-4b34-adb1-e536f3da83a5",
   "metadata": {},
   "outputs": [],
   "source": [
    "def show_samples(dataset, num_samples=3, seed=42):\n",
    "    sample = dataset[\"train\"].shuffle(seed=seed).select(range(num_samples))\n",
    "    for example in sample:\n",
    "        print(f\"\\n'>> Title: {example['review_title']}'\")\n",
    "        print(f\"'>> Review: {example['review_body']}'\")"
   ]
  },
  {
   "cell_type": "code",
   "execution_count": 6,
   "id": "bd31777c-1e18-48ff-8c30-515a2d8558f4",
   "metadata": {},
   "outputs": [
    {
     "name": "stdout",
     "output_type": "stream",
     "text": [
      "\n",
      "'>> Title: Worked in front position, not rear'\n",
      "'>> Review: 3 stars because these are not rear brakes as stated in the item description. At least the mount adapter only worked on the front fork of the bike that I got it for.'\n",
      "\n",
      "'>> Title: meh'\n",
      "'>> Review: Does it’s job and it’s gorgeous but mine is falling apart, I had to basically put it together again with hot glue'\n",
      "\n",
      "'>> Title: Can't beat these for the money'\n",
      "'>> Review: Bought this for handling miscellaneous aircraft parts and hanger \"stuff\" that I needed to organize; it really fit the bill. The unit arrived quickly, was well packaged and arrived intact (always a good sign). There are five wall mounts-- three on the top and two on the bottom. I wanted to mount it on the wall, so all I had to do was to remove the top two layers of plastic drawers, as well as the bottom corner drawers, place it when I wanted and mark it; I then used some of the new plastic screw in wall anchors (the 50 pound variety) and it easily mounted to the wall. Some have remarked that they wanted dividers for the drawers, and that they made those. Good idea. My application was that I needed something that I can see the contents at about eye level, so I wanted the fuller-sized drawers. I also like that these are the new plastic that doesn't get brittle and split like my older plastic drawers did. I like the all-plastic construction. It's heavy duty enough to hold metal parts, but being made of plastic it's not as heavy as a metal frame, so you can easily mount it to the wall and still load it up with heavy stuff, or light stuff. No problem there. For the money, you can't beat it. Best one of these I've bought to date-- and I've been using some version of these for over forty years.'\n"
     ]
    }
   ],
   "source": [
    "show_samples(dataset_en)"
   ]
  },
  {
   "cell_type": "code",
   "execution_count": 7,
   "id": "081d7f29-963f-40b0-8a95-0043427481e9",
   "metadata": {},
   "outputs": [
    {
     "name": "stdout",
     "output_type": "stream",
     "text": [
      "\n",
      "'>> Title: デザインは良いが…。'\n",
      "'>> Review: 綿棒に比べて思っていたほど耳垢は取れなかった、また音が大きい。'\n",
      "\n",
      "'>> Title: 男性には、耳かけが短すぎる。'\n",
      "'>> Review: マスク自体は、フィットして良いのですが、耳かけが、短すぎる。女性ならば、良いかも⁉あと気になる点は、ちょっと油？の臭いがします。'\n",
      "\n",
      "'>> Title: 吸い込みパワーも申し分ない'\n",
      "'>> Review: 吸引力はすごいです！たくさん埃が取れます。自宅用は現在キャニスタータイプを使用中ですがコードレスはやはり取り扱いが便利で楽です。'\n"
     ]
    }
   ],
   "source": [
    "show_samples(dataset_ja)"
   ]
  },
  {
   "cell_type": "markdown",
   "id": "bf05c60a-b996-4f9c-8ba9-29ccb6a78b3f",
   "metadata": {},
   "source": [
    "<hr width=40%/>"
   ]
  },
  {
   "cell_type": "code",
   "execution_count": 8,
   "id": "85c41d86-7014-49b1-83d9-53b7d8bca8b0",
   "metadata": {},
   "outputs": [
    {
     "data": {
      "text/plain": [
       "product_category\n",
       "home                      17679\n",
       "apparel                   15951\n",
       "wireless                  15717\n",
       "other                     13418\n",
       "beauty                    12091\n",
       "drugstore                 11730\n",
       "kitchen                   10382\n",
       "toy                        8745\n",
       "sports                     8277\n",
       "automotive                 7506\n",
       "lawn_and_garden            7327\n",
       "home_improvement           7136\n",
       "pet_products               7082\n",
       "digital_ebook_purchase     6749\n",
       "pc                         6401\n",
       "electronics                6186\n",
       "office_product             5521\n",
       "shoes                      5197\n",
       "grocery                    4730\n",
       "book                       3756\n",
       "Name: count, dtype: int64"
      ]
     },
     "execution_count": 8,
     "metadata": {},
     "output_type": "execute_result"
    }
   ],
   "source": [
    "dataset_en.set_format(\"pandas\")\n",
    "english_df = dataset_en[\"train\"][:]\n",
    "\n",
    "# Show counts for top 20 products for English reviews\n",
    "english_df[\"product_category\"].value_counts()[:20]"
   ]
  },
  {
   "cell_type": "code",
   "execution_count": 9,
   "id": "5ddaf09d-508d-4c17-96db-d283019853b7",
   "metadata": {},
   "outputs": [
    {
     "data": {
      "text/plain": [
       "product_category\n",
       "home                18662\n",
       "wireless            16333\n",
       "sports              15788\n",
       "pc                  14892\n",
       "kitchen             13356\n",
       "automotive          13124\n",
       "drugstore           10286\n",
       "electronics          9867\n",
       "shoes                8924\n",
       "toy                  8605\n",
       "beauty               8476\n",
       "apparel              8166\n",
       "home_improvement     6717\n",
       "grocery              6409\n",
       "other                5826\n",
       "book                 5591\n",
       "pet_products         4842\n",
       "camera               4415\n",
       "office_product       4257\n",
       "video_games          2559\n",
       "Name: count, dtype: int64"
      ]
     },
     "execution_count": 9,
     "metadata": {},
     "output_type": "execute_result"
    }
   ],
   "source": [
    "dataset_ja.set_format(\"pandas\")\n",
    "japanese_df = dataset_ja[\"train\"][:]\n",
    "\n",
    "# Show counts for top 20 products for Japanese reviews\n",
    "japanese_df[\"product_category\"].value_counts()[:20]"
   ]
  },
  {
   "cell_type": "markdown",
   "id": "ca52a05e-ce2b-4bf2-93d3-73963c263894",
   "metadata": {},
   "source": [
    "<hr width=40%/>"
   ]
  },
  {
   "cell_type": "markdown",
   "id": "b133540f-1955-4412-b8c7-6dad1edb6824",
   "metadata": {},
   "source": [
    "> ... To stick with the Amazon theme, though, let’s focus on summarizing book reviews ..."
   ]
  },
  {
   "cell_type": "code",
   "execution_count": 10,
   "id": "dc1c3f10-386c-4258-9f29-0a9b74f0fce1",
   "metadata": {},
   "outputs": [],
   "source": [
    "dataset_en.reset_format()\n",
    "dataset_ja.reset_format()"
   ]
  },
  {
   "cell_type": "code",
   "execution_count": 11,
   "id": "78bfe742-e225-4e3d-937b-30957819a5b5",
   "metadata": {},
   "outputs": [],
   "source": [
    "def filter_books(example):\n",
    "    return example[\"product_category\"] in (\"book\", \"digital_ebook_purchase\")"
   ]
  },
  {
   "cell_type": "code",
   "execution_count": 12,
   "id": "eeff3baf-f26d-4ce9-ac76-48849ff8bae4",
   "metadata": {},
   "outputs": [
    {
     "name": "stdout",
     "output_type": "stream",
     "text": [
      "\n",
      "'>> Title: I'm dissapointed.'\n",
      "'>> Review: I guess I had higher expectations for this book from the reviews. I really thought I'd at least like it. The plot idea was great. I loved Ash but, it just didnt go anywhere. Most of the book was about their radio show and talking to callers. I wanted the author to dig deeper so we could really get to know the characters. All we know about Grace is that she is attractive looking, Latino and is kind of a brat. I'm dissapointed.'\n",
      "\n",
      "'>> Title: Good art, good price, poor design'\n",
      "'>> Review: I had gotten the DC Vintage calendar the past two years, but it was on backorder forever this year and I saw they had shrunk the dimensions for no good reason. This one has good art choices but the design has the fold going through the picture, so it's less aesthetically pleasing, especially if you want to keep a picture to hang. For the price, a good calendar'\n",
      "\n",
      "'>> Title: Helpful'\n",
      "'>> Review: Nearly all the tips useful and. I consider myself an intermediate to advanced user of OneNote. I would highly recommend.'\n"
     ]
    }
   ],
   "source": [
    "english_books = dataset_en.filter(filter_books)\n",
    "\n",
    "show_samples(english_books)"
   ]
  },
  {
   "cell_type": "code",
   "execution_count": 13,
   "id": "02527c2d-9e20-4cf8-a32a-492e812512cf",
   "metadata": {},
   "outputs": [
    {
     "name": "stdout",
     "output_type": "stream",
     "text": [
      "\n",
      "'>> Title: おすすめできない'\n",
      "'>> Review: ダンジョン飯を読んだときも同じ感想を抱いたのですが……。 はっきり言って、つまらない。読めば分かる。 ジャンルで言うと近いのは魔法陣グルグル。それを無駄にエロにシフトした感じ。 グルグルと根本的に違うのは、ストーリー性が全く無いこと。少なくとも１巻時点では何もありません。ヒロインが戦うたびに馬鹿やってエロいことになる。 → パーティーが混乱する。→ メンバーが１人増える。 → 戦いに出たらまたヒロインが馬鹿やってエロいことに……。 それを何度も繰り返す。 『 面 白 い わ け が な い 』 私は思うのですが、ギャグとエロはあまり相性が良くない。笑わせたいのか、エロを見せていきたいのか、どっちなんだ？ 水と油を無理やり混ぜようとしたみたいに、漫画として未完成なうえに見せたいストーリーすらない。これで背景にきちっとしたストーリーがあるならエロも活きるが、日々適当に戦って、適当にエロいことが起きて、適当な仲間だけが増えていく……。ただそれだけの物語。 ぶっちゃけ、つまらないです……。というより、何を見せたいのかよく分からないとしか言いようがない。 ギャグは笑えず、おっぱい見せとけば良いだろう的な、全く無意味なエロ。所帯を増やしてそれを繰り返していくだけの漫画です。絶対におすすめできない。'\n",
      "\n",
      "'>> Title: 即戦力ブランド本'\n",
      "'>> Review: タイトルが刺激的。これが「ジャパンプレミアムブランド」とかだと重版には至らなかっただろう。それは、氏が自ら広告に携わる現場のマーケッターであったがゆえ、タイトルのうまさももちろん、内容もこの部分が良く反映されている。つまり、プレミアムブランドの分析を、しっかりと企業の利益に落とし込む事を絡めながら、なぜ日本でプレミアムブランドが育ちにくいかという本質に迫っている。コミュニケーションを生業とする人間から見た、日本の製造業の人々、特に経営に携わる企業トップの人々への、愛を込めた大きな提言なのではないかと感じた。'\n",
      "\n",
      "'>> Title: プライスアクションの概要がつかめる'\n",
      "'>> Review: プライスアクションに関する本がそれほど多くない中、 本書は原版的な知sh気を得る上では役に立つ。 ただ、実践面でのより詳しい説明が欲しいところである。'\n"
     ]
    }
   ],
   "source": [
    "japanese_books = dataset_ja.filter(filter_books)\n",
    "\n",
    "show_samples(japanese_books)"
   ]
  },
  {
   "cell_type": "markdown",
   "id": "64b6e127-2bf5-4d87-8624-f2fd020de21e",
   "metadata": {},
   "source": [
    "<hr width=40%/>"
   ]
  },
  {
   "cell_type": "markdown",
   "id": "705e55e0-699e-4b02-bca1-8ab3907c4b99",
   "metadata": {},
   "source": [
    ">  one final thing to check is the distribution of words in the reviews and their titles. This is especially important for summarization tasks, where short reference summaries in the data can bias the model to only output one or two words in the generated summaries. The plots below show the word distributions, and we can see that the titles are heavily skewed toward just 1-2 word"
   ]
  },
  {
   "cell_type": "code",
   "execution_count": 14,
   "id": "d6d10649-5584-4c6a-b5b9-d3b52e4d906a",
   "metadata": {},
   "outputs": [],
   "source": [
    "def en_word_count(example):\n",
    "    title_char_count = len(example['review_title'].strip().split())\n",
    "    review_char_count = len(example['review_body'].strip().split())\n",
    "    return {\n",
    "        \"title_count\": title_char_count, \n",
    "        \"review_count\": review_char_count\n",
    "    }\n",
    "\n",
    "english_books = english_books.map(en_word_count)"
   ]
  },
  {
   "cell_type": "code",
   "execution_count": 15,
   "id": "f416d711-9349-4e80-863e-6fcd7109ee86",
   "metadata": {},
   "outputs": [],
   "source": [
    "english_books.set_format(\"pandas\")\n",
    "english_df = english_books[\"train\"][:]\n",
    "\n",
    "en_title_word_counts = english_df.value_counts(\"title_count\")\n",
    "en_title_word_counts = sorted(en_title_word_counts.to_dict().items())\n",
    "\n",
    "en_title_num_words, en_title_counts = [], []\n",
    "\n",
    "for (n,c) in en_title_word_counts:\n",
    "    en_title_num_words.append(n)\n",
    "    en_title_counts.append(c)\n",
    "\n",
    "# -------\n",
    "\n",
    "en_review_word_counts = english_df.value_counts(\"review_count\")\n",
    "en_review_word_counts = sorted(en_review_word_counts.to_dict().items())\n",
    "\n",
    "en_review_num_words, en_review_counts = [], []\n",
    "\n",
    "for (n,c) in en_review_word_counts:\n",
    "    en_review_num_words.append(n)\n",
    "    en_review_counts.append(c)"
   ]
  },
  {
   "cell_type": "code",
   "execution_count": 16,
   "id": "e79a0817-4d2e-41d8-8a19-694c48a626b0",
   "metadata": {
    "jupyter": {
     "source_hidden": true
    }
   },
   "outputs": [
    {
     "data": {
      "image/png": "[encoded data removed]",
      "text/plain": [
       "<Figure size 1500x400 with 2 Axes>"
      ]
     },
     "metadata": {},
     "output_type": "display_data"
    }
   ],
   "source": [
    "import numpy as np\n",
    "import matplotlib.pyplot as plt\n",
    "\n",
    "fig, (ax1, ax2) = plt.subplots(1,2, figsize=(15,4))\n",
    "\n",
    "ax1.grid(linestyle='--')\n",
    "ax1.bar(en_title_num_words[:20], en_title_counts[:20], zorder=2)\n",
    "ax1.set_xlabel('Number of words')\n",
    "ax1.set_ylabel('Counts')\n",
    "ax1.set_xticks(list(range(en_title_num_words[:20][-1]+1)))\n",
    "ax1.set_xlim(left=0)\n",
    "ax1.set_title('English title word counts')\n",
    "\n",
    "ax2.grid(linestyle='--')\n",
    "ax2.bar(en_review_num_words[:20], en_review_counts[:20], zorder=2)\n",
    "ax2.set_xlabel('Number of words')\n",
    "ax2.set_ylabel('Counts')\n",
    "ax2.set_xticks(list(range(0, en_review_num_words[:20][-1]+1)))\n",
    "ax2.set_xlim(left=0)\n",
    "ax2.set_title('English review word counts')\n",
    "\n",
    "plt.show()"
   ]
  },
  {
   "cell_type": "markdown",
   "id": "77330a8a-9bf1-420b-9836-3008ed8d5b4b",
   "metadata": {},
   "source": [
    "<hr width=40%/>"
   ]
  },
  {
   "cell_type": "code",
   "execution_count": 17,
   "id": "e880bfce-306a-4d94-86f0-b53d1c0f4eac",
   "metadata": {},
   "outputs": [],
   "source": [
    "def ja_char_count(example):\n",
    "    title_char_count = len(example['review_title'].strip())\n",
    "    review_char_count = len(example['review_body'].strip())\n",
    "    return {\n",
    "        \"title_count\": title_char_count, \n",
    "        \"review_count\": review_char_count\n",
    "    }\n",
    "\n",
    "japanese_books = japanese_books.map(ja_char_count)"
   ]
  },
  {
   "cell_type": "code",
   "execution_count": 18,
   "id": "2fe45a17-77ae-4307-955d-4ec108ceaec5",
   "metadata": {},
   "outputs": [],
   "source": [
    "japanese_books.set_format(\"pandas\")\n",
    "japanese_df = japanese_books[\"train\"][:]\n",
    "\n",
    "ja_title_char_counts = japanese_df.value_counts(\"title_count\")\n",
    "ja_title_char_counts = sorted(ja_title_char_counts.to_dict().items())\n",
    "\n",
    "ja_title_num_chars, ja_title_counts = [], []\n",
    "\n",
    "for (n,c) in ja_title_char_counts:\n",
    "    ja_title_num_chars.append(n)\n",
    "    ja_title_counts.append(c)\n",
    "\n",
    "# -------\n",
    "\n",
    "ja_review_char_counts = japanese_df.value_counts(\"review_count\")\n",
    "ja_review_char_counts = sorted(ja_review_char_counts.to_dict().items())\n",
    "\n",
    "ja_review_num_chars, ja_review_counts = [], []\n",
    "\n",
    "for (n,c) in ja_review_char_counts:\n",
    "    ja_review_num_chars.append(n)\n",
    "    ja_review_counts.append(c)"
   ]
  },
  {
   "cell_type": "code",
   "execution_count": 19,
   "id": "2272a153-638b-4a40-975d-b652adb051cc",
   "metadata": {
    "jupyter": {
     "source_hidden": true
    }
   },
   "outputs": [
    {
     "data": {
      "image/png": "[encoded data removed]",
      "text/plain": [
       "<Figure size 1500x400 with 2 Axes>"
      ]
     },
     "metadata": {},
     "output_type": "display_data"
    }
   ],
   "source": [
    "fig, (ax1, ax2) = plt.subplots(1,2, figsize=(15,4))\n",
    "\n",
    "ax1.grid(linestyle='--')\n",
    "ax1.bar(ja_title_num_chars[:20], ja_title_counts[:20], zorder=2)\n",
    "ax1.set_xlabel('Number of chars')\n",
    "ax1.set_ylabel('Counts')\n",
    "ax1.set_xticks(list(range(ja_title_num_chars[:20][-1]+1)))\n",
    "ax1.set_xlim(left=0)\n",
    "ax1.set_title('Japanese title char counts')\n",
    "\n",
    "ax2.grid(linestyle='--')\n",
    "ax2.bar(ja_review_num_chars[:20], ja_review_counts[:20], zorder=2)\n",
    "ax2.set_xlabel('Number of chars')\n",
    "ax2.set_ylabel('Counts')\n",
    "ax2.set_xticks(list(range(0, ja_review_num_chars[:20][-1]+1)))\n",
    "ax2.set_xlim(left=0)\n",
    "ax2.set_title('Japanese review char counts')\n",
    "\n",
    "plt.show()"
   ]
  },
  {
   "cell_type": "markdown",
   "id": "2d950657-e5db-43e3-96c7-044bc359dba4",
   "metadata": {},
   "source": [
    "<hr width=40%/>"
   ]
  },
  {
   "cell_type": "code",
   "execution_count": 20,
   "id": "b3876c3f-57e6-410f-a6d8-938f195375df",
   "metadata": {},
   "outputs": [
    {
     "data": {
      "text/plain": [
       "DatasetDict({\n",
       "    train: Dataset({\n",
       "        features: ['review_id', 'product_id', 'reviewer_id', 'stars', 'review_body', 'review_title', 'language', 'product_category', 'title_count', 'review_count'],\n",
       "        num_rows: 6162\n",
       "    })\n",
       "    validation: Dataset({\n",
       "        features: ['review_id', 'product_id', 'reviewer_id', 'stars', 'review_body', 'review_title', 'language', 'product_category', 'title_count', 'review_count'],\n",
       "        num_rows: 135\n",
       "    })\n",
       "    test: Dataset({\n",
       "        features: ['review_id', 'product_id', 'reviewer_id', 'stars', 'review_body', 'review_title', 'language', 'product_category', 'title_count', 'review_count'],\n",
       "        num_rows: 164\n",
       "    })\n",
       "})"
      ]
     },
     "execution_count": 20,
     "metadata": {},
     "output_type": "execute_result"
    }
   ],
   "source": [
    "english_books.reset_format()\n",
    "\n",
    "english_books = english_books.filter(lambda x: len(x[\"review_title\"].split()) > 2)\n",
    "english_books"
   ]
  },
  {
   "cell_type": "code",
   "execution_count": 21,
   "id": "12d00a6c-416b-493c-882f-f70453490bb6",
   "metadata": {},
   "outputs": [
    {
     "data": {
      "text/plain": [
       "DatasetDict({\n",
       "    train: Dataset({\n",
       "        features: ['review_id', 'product_id', 'reviewer_id', 'stars', 'review_body', 'review_title', 'language', 'product_category', 'title_count', 'review_count'],\n",
       "        num_rows: 7555\n",
       "    })\n",
       "    validation: Dataset({\n",
       "        features: ['review_id', 'product_id', 'reviewer_id', 'stars', 'review_body', 'review_title', 'language', 'product_category', 'title_count', 'review_count'],\n",
       "        num_rows: 160\n",
       "    })\n",
       "    test: Dataset({\n",
       "        features: ['review_id', 'product_id', 'reviewer_id', 'stars', 'review_body', 'review_title', 'language', 'product_category', 'title_count', 'review_count'],\n",
       "        num_rows: 178\n",
       "    })\n",
       "})"
      ]
     },
     "execution_count": 21,
     "metadata": {},
     "output_type": "execute_result"
    }
   ],
   "source": [
    "japanese_books.reset_format()\n",
    "\n",
    "japanese_books = japanese_books.filter(lambda x: len(x[\"review_title\"]) > 2)\n",
    "japanese_books"
   ]
  },
  {
   "cell_type": "markdown",
   "id": "5ccba607-1442-4a20-a7b5-e8dde2f04d4f",
   "metadata": {},
   "source": [
    "<hr width=40%/>"
   ]
  },
  {
   "cell_type": "markdown",
   "id": "9de2dafa-fd56-4759-95d2-82bc3c3c89ee",
   "metadata": {},
   "source": [
    "> Before we look at various models that are suitable for this task, we have one last bit of data preparation to do: combining the English and (Japanese) reviews as a single `DatasetDict` object. 🤗 Datasets provides a handy [`concatenate_datasets()`](https://huggingface.co/docs/datasets/v3.4.1/en/package_reference/main_classes#datasets.concatenate_datasets) function that (as the name suggests) will stack two `Dataset` objects on top of each other. So, to create our bilingual dataset, we’ll loop over each split, concatenate the datasets for that split, and shuffle the result to ensure our model doesn’t overfit to a single language"
   ]
  },
  {
   "cell_type": "code",
   "execution_count": 22,
   "id": "9b499f47-7f0c-47df-aa19-bc746bf9fbec",
   "metadata": {},
   "outputs": [],
   "source": [
    "from datasets import concatenate_datasets, DatasetDict\n",
    "\n",
    "en_ja_books_dataset = DatasetDict()\n",
    "\n",
    "for split in english_books.keys():\n",
    "    en_ja_books_dataset[split] = concatenate_datasets([\n",
    "        english_books[split], japanese_books[split]\n",
    "    ])\n",
    "    en_ja_books_dataset[split] = en_ja_books_dataset[split].shuffle(seed=777)"
   ]
  },
  {
   "cell_type": "code",
   "execution_count": 23,
   "id": "1a13a555-e4ff-475c-ae74-86b6d3662dfb",
   "metadata": {},
   "outputs": [
    {
     "data": {
      "text/plain": [
       "DatasetDict({\n",
       "    train: Dataset({\n",
       "        features: ['review_id', 'product_id', 'reviewer_id', 'stars', 'review_body', 'review_title', 'language', 'product_category', 'title_count', 'review_count'],\n",
       "        num_rows: 13717\n",
       "    })\n",
       "    validation: Dataset({\n",
       "        features: ['review_id', 'product_id', 'reviewer_id', 'stars', 'review_body', 'review_title', 'language', 'product_category', 'title_count', 'review_count'],\n",
       "        num_rows: 295\n",
       "    })\n",
       "    test: Dataset({\n",
       "        features: ['review_id', 'product_id', 'reviewer_id', 'stars', 'review_body', 'review_title', 'language', 'product_category', 'title_count', 'review_count'],\n",
       "        num_rows: 342\n",
       "    })\n",
       "})"
      ]
     },
     "execution_count": 23,
     "metadata": {},
     "output_type": "execute_result"
    }
   ],
   "source": [
    "en_ja_books_dataset"
   ]
  },
  {
   "cell_type": "code",
   "execution_count": 24,
   "id": "c753d990-9da9-468e-93a5-9e0579620e50",
   "metadata": {},
   "outputs": [
    {
     "name": "stdout",
     "output_type": "stream",
     "text": [
      "\n",
      "'>> Title: Another special read by this author'\n",
      "'>> Review: Unique storyline . A good tale with characters you like and that all important HEA. Wondering what happened to that email to Clay, though.'\n",
      "\n",
      "'>> Title: One book NOT 24 volumes.'\n",
      "'>> Review: If I could I would leave no stars. The description says 24 volumes but the seller only sells one book. The seller is deceitful and crooked. If I could I would ask for a refund based on fraud.'\n",
      "\n",
      "'>> Title: 最悪でした'\n",
      "'>> Review: サインと前の持ち主の名前が書いてありました。新品じゃないじゃん…'\n",
      "\n",
      "'>> Title: エンジニアはもちろん、IT企業にいる人に読んで欲しいです'\n",
      "'>> Review: 現場にいるとおもしろいくらいに本の中に書いてある問題が続々と起こります。これ読んでなかったら今頃悩み続けていたと思います。'\n",
      "\n",
      "'>> Title: つまらない'\n",
      "'>> Review: つまらない内容で、途中で読むのを止めました。'\n",
      "\n",
      "'>> Title: No Right To Kill review'\n",
      "'>> Review: Very good read. A real page turner. I like Sara Ramsey. I wish her luck with the vet. It seems he's lit a spark. The cat thing is scared.'\n",
      "\n",
      "'>> Title: Delivered on time and in great shape'\n",
      "'>> Review: A great finish to the story of the Defenders of Shannara'\n",
      "\n",
      "'>> Title: Loved this story'\n",
      "'>> Review: This story was fantastic i could not put it down The story is so similar to real characters Must read'\n"
     ]
    }
   ],
   "source": [
    "# Peek at a few examples\n",
    "show_samples(en_ja_books_dataset, num_samples=8)"
   ]
  },
  {
   "cell_type": "markdown",
   "id": "bbc69bfd-77cf-449e-8e1c-ea77f0b40023",
   "metadata": {},
   "source": [
    "#### Models for text summarization\n",
    "\n",
    "> ... We'll focus on mT5, an interesting architecture based on T5 that was pretrained in a text-to-text framework. In T5, every NLP task is formulated in terms of a prompt prefix like summarize: which conditions the model to adapt the generated text to the prompt. As shown in the figure below, this makes T5 extremely versatile, as you can solve many tasks with a single model!\n",
    "\n",
    "Refer to [MT5 Release](https://huggingface.co/collections/google/mt5-release-65005f1a520f8d7b4d039509) on Google's Collections page at 🤗.\n",
    "\n",
    "> In T5, every NLP task is formulated in terms of a prompt prefix like summarize: which conditions the model to adapt the generated text to the prompt...<p/>\n",
    "> mT5 doesn’t use prefixes, but shares much of the versatility of T5 and has the advantage of being multilingual"
   ]
  },
  {
   "cell_type": "code",
   "execution_count": 25,
   "id": "7a531a11-6e40-45be-9057-5612ba1a0e91",
   "metadata": {},
   "outputs": [
    {
     "name": "stderr",
     "output_type": "stream",
     "text": [
      "You are using the default legacy behaviour of the <class 'transformers.models.t5.tokenization_t5.T5Tokenizer'>. This is expected, and simply means that the `legacy` (previous) behavior will be used so nothing changes for you. If you want to use the new behaviour, set `legacy=False`. This should only be set if you understand what it means, and thoroughly read the reason why this was added as explained in https://github.com/huggingface/transformers/pull/24565\n",
      "/opt/conda/envs/learn-hf/lib/python3.9/site-packages/transformers/convert_slow_tokenizer.py:561: UserWarning: The sentencepiece tokenizer that you are converting to a fast tokenizer uses the byte fallback option which is not implemented in the fast tokenizers. In practice this means that the fast version of the tokenizer can produce unknown tokens whereas the sentencepiece version would have converted these unknown tokens into a sequence of byte tokens matching the original piece of text.\n",
      "  warnings.warn(\n"
     ]
    }
   ],
   "source": [
    "from transformers import AutoTokenizer\n",
    "\n",
    "model_checkpoint = \"google/mt5-small\"\n",
    "tokenizer = AutoTokenizer.from_pretrained(model_checkpoint)"
   ]
  },
  {
   "cell_type": "code",
   "execution_count": 26,
   "id": "6889e0b7-6ab1-46d0-8197-273f826d5138",
   "metadata": {},
   "outputs": [
    {
     "data": {
      "text/plain": [
       "{'input_ids': [336, 259, 28387, 11807, 287, 62893, 295, 12507, 309, 1], 'attention_mask': [1, 1, 1, 1, 1, 1, 1, 1, 1, 1]}"
      ]
     },
     "execution_count": 26,
     "metadata": {},
     "output_type": "execute_result"
    }
   ],
   "source": [
    "inputs = tokenizer(\"I loved reading the Hunger Games!\")\n",
    "inputs"
   ]
  },
  {
   "cell_type": "code",
   "execution_count": 27,
   "id": "b1217d66-ff35-4749-96b7-99c819f3505a",
   "metadata": {},
   "outputs": [
    {
     "data": {
      "text/plain": [
       "['▁I', '▁', 'loved', '▁reading', '▁the', '▁Hung', 'er', '▁Games', '!', '</s>']"
      ]
     },
     "execution_count": 27,
     "metadata": {},
     "output_type": "execute_result"
    }
   ],
   "source": [
    "tokenizer.convert_ids_to_tokens(inputs.input_ids)"
   ]
  },
  {
   "cell_type": "code",
   "execution_count": 28,
   "id": "171e0735-c77d-4cb7-8c4a-0ef418282192",
   "metadata": {},
   "outputs": [
    {
     "data": {
      "text/plain": [
       "250100"
      ]
     },
     "execution_count": 28,
     "metadata": {},
     "output_type": "execute_result"
    }
   ],
   "source": [
    "tokenizer.vocab_size"
   ]
  },
  {
   "cell_type": "markdown",
   "id": "93353deb-54ca-471c-a67d-47a4a2c0ccc2",
   "metadata": {},
   "source": [
    "> To tokenize our corpus, we have to deal with a subtlety associated with summarization: because our labels are also text, it is possible that they exceed the model’s maximum context size. This means we need to apply truncation to both the reviews and their titles to ensure we don’t pass excessively long inputs to our model. <p/>\n",
    "> ... define values for max_input_length and max_target_length, which set the upper limits for how long our reviews and titles can be. Since the review body is typically much larger than the title, we’ve scaled these values accordingly ..."
   ]
  },
  {
   "cell_type": "code",
   "execution_count": 29,
   "id": "d71faaf7-35c1-4a42-8fff-dbac2a2e55ba",
   "metadata": {},
   "outputs": [],
   "source": [
    "max_input_length = 512        # max num tokens for input (review body)\n",
    "max_target_length = 30        # max num tokens for labels (review title)\n",
    "\n",
    "\n",
    "def preprocess_function(examples):\n",
    "    model_inputs = tokenizer(\n",
    "        examples[\"review_body\"],\n",
    "        max_length=max_input_length,\n",
    "        truncation=True,\n",
    "    )\n",
    "    labels = tokenizer(\n",
    "        examples[\"review_title\"], max_length=max_target_length, truncation=True\n",
    "    )\n",
    "    model_inputs[\"labels\"] = labels[\"input_ids\"]\n",
    "    return model_inputs"
   ]
  },
  {
   "cell_type": "code",
   "execution_count": 30,
   "id": "dea434e3-d189-4456-87be-d5c5c9f7546b",
   "metadata": {},
   "outputs": [
    {
     "data": {
      "application/vnd.jupyter.widget-view+json": {
       "model_id": "e6a66242ae9b4e93ad4c4c3fc28d1bc8",
       "version_major": 2,
       "version_minor": 0
      },
      "text/plain": [
       "Map:   0%|          | 0/342 [00:00<?, ? examples/s]"
      ]
     },
     "metadata": {},
     "output_type": "display_data"
    },
    {
     "data": {
      "text/plain": [
       "DatasetDict({\n",
       "    train: Dataset({\n",
       "        features: ['review_id', 'product_id', 'reviewer_id', 'stars', 'review_body', 'review_title', 'language', 'product_category', 'title_count', 'review_count', 'input_ids', 'attention_mask', 'labels'],\n",
       "        num_rows: 13717\n",
       "    })\n",
       "    validation: Dataset({\n",
       "        features: ['review_id', 'product_id', 'reviewer_id', 'stars', 'review_body', 'review_title', 'language', 'product_category', 'title_count', 'review_count', 'input_ids', 'attention_mask', 'labels'],\n",
       "        num_rows: 295\n",
       "    })\n",
       "    test: Dataset({\n",
       "        features: ['review_id', 'product_id', 'reviewer_id', 'stars', 'review_body', 'review_title', 'language', 'product_category', 'title_count', 'review_count', 'input_ids', 'attention_mask', 'labels'],\n",
       "        num_rows: 342\n",
       "    })\n",
       "})"
      ]
     },
     "execution_count": 30,
     "metadata": {},
     "output_type": "execute_result"
    }
   ],
   "source": [
    "tokenized_datasets = en_ja_books_dataset.map(\n",
    "    preprocess_function, \n",
    "    batched=True\n",
    ")\n",
    "tokenized_datasets"
   ]
  },
  {
   "cell_type": "markdown",
   "id": "ca74c085-3131-4cd9-9d3c-55f45dfadf38",
   "metadata": {},
   "source": [
    "#### Metrics for text summarization\n",
    "\n",
    "Please see the Wikipedia page for [ROUGE (metric)](https://en.wikipedia.org/wiki/ROUGE_(metric))"
   ]
  },
  {
   "cell_type": "code",
   "execution_count": 31,
   "id": "16d1274a-d0b0-4cfd-9420-3d633ceb133b",
   "metadata": {},
   "outputs": [],
   "source": [
    "generated_summary = \"I absolutely loved reading the Hunger Games\"\n",
    "reference_summary = \"I loved reading the Hunger Games\""
   ]
  },
  {
   "cell_type": "code",
   "execution_count": 32,
   "id": "45002cfe-c6f6-44db-a4bc-16f2ab25ed07",
   "metadata": {},
   "outputs": [],
   "source": [
    "import evaluate\n",
    "\n",
    "rouge_score = evaluate.load(\"rouge\")"
   ]
  },
  {
   "cell_type": "code",
   "execution_count": 33,
   "id": "d3fc52dc-efe6-4961-b111-d6284770f9d3",
   "metadata": {},
   "outputs": [
    {
     "data": {
      "text/plain": [
       "{'rouge1': 0.923076923076923,\n",
       " 'rouge2': 0.7272727272727272,\n",
       " 'rougeL': 0.923076923076923,\n",
       " 'rougeLsum': 0.923076923076923}"
      ]
     },
     "execution_count": 33,
     "metadata": {},
     "output_type": "execute_result"
    }
   ],
   "source": [
    "scores = rouge_score.compute(\n",
    "    predictions=[generated_summary], \n",
    "    references=[reference_summary]\n",
    ")\n",
    "scores"
   ]
  },
  {
   "cell_type": "raw",
   "id": "ddac43e1-d1ef-452d-bcaa-351f9cb7550b",
   "metadata": {},
   "source": [
    "!pip install nltk"
   ]
  },
  {
   "cell_type": "raw",
   "id": "0794acc1-883b-4a17-870f-c53ad29877b5",
   "metadata": {},
   "source": [
    "import nltk\n",
    "\n",
    "nltk.download(\"punkt\")"
   ]
  },
  {
   "cell_type": "raw",
   "id": "f84638a8-36a6-4cf9-86f1-5dd562a62fc5",
   "metadata": {},
   "source": [
    "from nltk.tokenize import sent_tokenize\n",
    "\n",
    "\n",
    "def three_sentence_summary(text):\n",
    "    return \"\\n\".join(sent_tokenize(text)[:3])\n",
    "\n",
    "\n",
    "print(three_sentence_summary(books_dataset[\"train\"][1][\"review_body\"]))"
   ]
  },
  {
   "cell_type": "raw",
   "id": "88e0ccf7-4468-4cb5-af1d-41907ae7c41b",
   "metadata": {},
   "source": [
    "def evaluate_baseline(dataset, metric):\n",
    "    summaries = [three_sentence_summary(text) for text in dataset[\"review_body\"]]\n",
    "    return metric.compute(predictions=summaries, references=dataset[\"review_title\"])"
   ]
  },
  {
   "cell_type": "code",
   "execution_count": 34,
   "id": "66629fa7-c03c-42b5-a5ce-a5761ff8df3d",
   "metadata": {},
   "outputs": [
    {
     "name": "stderr",
     "output_type": "stream",
     "text": [
      "huggingface/tokenizers: The current process just got forked, after parallelism has already been used. Disabling parallelism to avoid deadlocks...\n",
      "To disable this warning, you can either:\n",
      "\t- Avoid using `tokenizers` before the fork if possible\n",
      "\t- Explicitly set the environment variable TOKENIZERS_PARALLELISM=(true | false)\n",
      "huggingface/tokenizers: The current process just got forked, after parallelism has already been used. Disabling parallelism to avoid deadlocks...\n",
      "To disable this warning, you can either:\n",
      "\t- Avoid using `tokenizers` before the fork if possible\n",
      "\t- Explicitly set the environment variable TOKENIZERS_PARALLELISM=(true | false)\n"
     ]
    }
   ],
   "source": [
    "import spacy\n",
    "\n",
    "nlp_en = spacy.load(\"en_core_web_sm\")\n",
    "nlp_ja = spacy.load(\"ja_core_news_sm\")\n",
    "\n",
    "def three_sentence_summary(example):\n",
    "    nlp = nlp_en\n",
    "    if example[\"language\"] == \"ja\":\n",
    "        nlp = nlp_ja\n",
    "    text = example[\"review_body\"]\n",
    "    doc = nlp(text)\n",
    "    sents = [str(sp) for sp in doc.sents]\n",
    "    return \"\\n\".join(sents[:3])"
   ]
  },
  {
   "cell_type": "code",
   "execution_count": 35,
   "id": "620a7327-3eaa-44a7-afa8-10a4eeb3ab54",
   "metadata": {},
   "outputs": [
    {
     "name": "stdout",
     "output_type": "stream",
     "text": [
      "前回の黒いドレッサーバッグの評判がよかったため、予約して購入しました。\n",
      "ガッカリです。\n",
      "ヨレヨレなのは仕方ないと思えます。\n"
     ]
    }
   ],
   "source": [
    "print(three_sentence_summary(en_ja_books_dataset[\"test\"][0]))"
   ]
  },
  {
   "cell_type": "code",
   "execution_count": 36,
   "id": "0c781cb0-e861-49c9-815e-bee710488fa7",
   "metadata": {},
   "outputs": [],
   "source": [
    "def evaluate_baseline(dataset, metric):\n",
    "    summaries = [three_sentence_summary(ex) for ex in dataset]\n",
    "    return metric.compute(predictions=summaries, references=dataset[\"review_title\"])"
   ]
  },
  {
   "cell_type": "code",
   "execution_count": 37,
   "id": "4725b3be-c0bc-4bd0-b416-6f08d239aaa7",
   "metadata": {},
   "outputs": [
    {
     "data": {
      "text/plain": [
       "{'rouge1': 0.07996464960773085,\n",
       " 'rouge2': 0.03859659738550497,\n",
       " 'rougeL': 0.07553269887435811,\n",
       " 'rougeLsum': 0.07792319701673944}"
      ]
     },
     "execution_count": 37,
     "metadata": {},
     "output_type": "execute_result"
    }
   ],
   "source": [
    "import pandas as pd\n",
    "\n",
    "score = evaluate_baseline(en_ja_books_dataset[\"validation\"], rouge_score)\n",
    "score\n",
    "#rouge_names = [\"rouge1\", \"rouge2\", \"rougeL\", \"rougeLsum\"]\n",
    "#rouge_dict = dict((rn, round(score[rn].mid.fmeasure * 100, 2)) for rn in rouge_names)\n",
    "#rouge_dict"
   ]
  },
  {
   "cell_type": "markdown",
   "id": "76e62b09-7a4a-49b4-a9e0-2cc367f870da",
   "metadata": {},
   "source": [
    "#### Fine-tuning mT5 with the Trainer API"
   ]
  },
  {
   "cell_type": "code",
   "execution_count": 38,
   "id": "44b0066c-ba56-47e8-9c87-c5a2d3c4b3d4",
   "metadata": {},
   "outputs": [],
   "source": [
    "from transformers import AutoModelForSeq2SeqLM\n",
    "\n",
    "model = AutoModelForSeq2SeqLM.from_pretrained(model_checkpoint)"
   ]
  },
  {
   "cell_type": "code",
   "execution_count": 39,
   "id": "e9c797be-c3bd-41c4-89f4-6ed81ca37621",
   "metadata": {},
   "outputs": [
    {
     "data": {
      "application/vnd.jupyter.widget-view+json": {
       "model_id": "a2cdcdb50b2c436fac44ae61b02feb22",
       "version_major": 2,
       "version_minor": 0
      },
      "text/plain": [
       "VBox(children=(HTML(value='<center> <img\\nsrc=https://huggingface.co/front/assets/huggingface_logo-noborder.sv…"
      ]
     },
     "metadata": {},
     "output_type": "display_data"
    }
   ],
   "source": [
    "from huggingface_hub import notebook_login\n",
    "\n",
    "notebook_login()"
   ]
  },
  {
   "cell_type": "code",
   "execution_count": 40,
   "id": "23b12c9b-ca34-4cc2-8cb3-f9c29338d478",
   "metadata": {},
   "outputs": [
    {
     "name": "stderr",
     "output_type": "stream",
     "text": [
      "huggingface/tokenizers: The current process just got forked, after parallelism has already been used. Disabling parallelism to avoid deadlocks...\n",
      "To disable this warning, you can either:\n",
      "\t- Avoid using `tokenizers` before the fork if possible\n",
      "\t- Explicitly set the environment variable TOKENIZERS_PARALLELISM=(true | false)\n"
     ]
    }
   ],
   "source": [
    "from transformers import Seq2SeqTrainingArguments\n",
    "\n",
    "batch_size = 8\n",
    "num_train_epochs = 2\n",
    "# Show the training loss with every epoch\n",
    "logging_steps = len(tokenized_datasets[\"train\"]) // batch_size\n",
    "model_name = model_checkpoint.split(\"/\")[-1]\n",
    "\n",
    "args = Seq2SeqTrainingArguments(\n",
    "    output_dir=f\"{model_name}-finetuned-amazon-en-ja\",\n",
    "    eval_strategy=\"epoch\",\n",
    "    learning_rate=5.6e-5,\n",
    "    per_device_train_batch_size=batch_size,\n",
    "    per_device_eval_batch_size=batch_size,\n",
    "    weight_decay=0.01,\n",
    "    save_total_limit=3,\n",
    "    num_train_epochs=num_train_epochs,\n",
    "    predict_with_generate=True,\n",
    "    logging_steps=logging_steps,\n",
    "    push_to_hub=True,\n",
    ")"
   ]
  },
  {
   "cell_type": "code",
   "execution_count": 41,
   "id": "8b5027cf-bb26-4029-9116-b4c82b967187",
   "metadata": {},
   "outputs": [],
   "source": [
    "import numpy as np\n",
    "\n",
    "\n",
    "def compute_metrics(eval_pred):\n",
    "    predictions, labels = eval_pred\n",
    "    # Decode generated summaries into text\n",
    "    decoded_preds = tokenizer.batch_decode(predictions, skip_special_tokens=True)\n",
    "    # Replace -100 in the labels as we can't decode them\n",
    "    labels = np.where(labels != -100, labels, tokenizer.pad_token_id)\n",
    "    # Decode reference summaries into text\n",
    "    decoded_labels = tokenizer.batch_decode(labels, skip_special_tokens=True)\n",
    "    # ROUGE expects a newline after each sentence\n",
    "    decoded_preds = [\"\\n\".join(sent_tokenize(pred.strip())) for pred in decoded_preds]\n",
    "    decoded_labels = [\"\\n\".join(sent_tokenize(label.strip())) for label in decoded_labels]\n",
    "    # Compute ROUGE scores\n",
    "    result = rouge_score.compute(\n",
    "        predictions=decoded_preds, references=decoded_labels, use_stemmer=True\n",
    "    )\n",
    "    # Extract the median scores\n",
    "    #result = {key: value.mid.fmeasure * 100 for key, value in result.items()}\n",
    "    return {k: round(v, 4) for k, v in result.items()}"
   ]
  },
  {
   "cell_type": "code",
   "execution_count": 42,
   "id": "a2ce2440-a01c-45b4-a825-8a7661245f5b",
   "metadata": {},
   "outputs": [],
   "source": [
    "from transformers import DataCollatorForSeq2Seq\n",
    "\n",
    "data_collator = DataCollatorForSeq2Seq(tokenizer, model=model)"
   ]
  },
  {
   "cell_type": "code",
   "execution_count": 43,
   "id": "b0fc5814-7e02-42ef-8126-0810c3ac501f",
   "metadata": {},
   "outputs": [],
   "source": [
    "tokenized_datasets = tokenized_datasets.remove_columns(\n",
    "    en_ja_books_dataset[\"train\"].column_names\n",
    ")"
   ]
  },
  {
   "cell_type": "code",
   "execution_count": 44,
   "id": "9d7afde5-f50f-4e01-8173-399d931c1d6e",
   "metadata": {},
   "outputs": [
    {
     "data": {
      "text/plain": [
       "{'input_ids': tensor([[  1494,  12614,   1689,    263,    259,  76224,    484,  48461,    265,\n",
       "            514,    259,   3151,   3435,    260,   7483,   7779,    336,    259,\n",
       "           2220,  22677,  11807,   1537,   5425,    304,   2486,    260,    431,\n",
       "            260,      1,      0,      0,      0,      0,      0],\n",
       "        [   336,   9070,    345,    259, 108306,    304,   3199,    263,    260,\n",
       "           1385,    639,    287,   2262,   1459,    336,   4906,    259,  20882,\n",
       "            455,  12605,  51455,    261,    336,    269,  25640,  84005,    288,\n",
       "           4906,   1097,    304,   1001,   2404,    260,      1]]), 'attention_mask': tensor([[1, 1, 1, 1, 1, 1, 1, 1, 1, 1, 1, 1, 1, 1, 1, 1, 1, 1, 1, 1, 1, 1, 1, 1,\n",
       "         1, 1, 1, 1, 1, 0, 0, 0, 0, 0],\n",
       "        [1, 1, 1, 1, 1, 1, 1, 1, 1, 1, 1, 1, 1, 1, 1, 1, 1, 1, 1, 1, 1, 1, 1, 1,\n",
       "         1, 1, 1, 1, 1, 1, 1, 1, 1, 1]]), 'labels': tensor([[   259,    277,   9248,    932,  18072,    288,   7732,  58415,   4836,\n",
       "              1],\n",
       "        [   336,   9070,    345,    259, 108306,    304,   3199,    263,      1,\n",
       "           -100]]), 'decoder_input_ids': tensor([[     0,    259,    277,   9248,    932,  18072,    288,   7732,  58415,\n",
       "           4836],\n",
       "        [     0,    336,   9070,    345,    259, 108306,    304,   3199,    263,\n",
       "              1]])}"
      ]
     },
     "execution_count": 44,
     "metadata": {},
     "output_type": "execute_result"
    }
   ],
   "source": [
    "features = [tokenized_datasets[\"train\"][i] for i in range(2)]\n",
    "data_collator(features)"
   ]
  },
  {
   "cell_type": "code",
   "execution_count": 45,
   "id": "a537859b-c4dc-448b-8726-0ccafd7d1295",
   "metadata": {},
   "outputs": [],
   "source": [
    "from transformers import Seq2SeqTrainer\n",
    "\n",
    "trainer = Seq2SeqTrainer(\n",
    "    model,\n",
    "    args,\n",
    "    train_dataset=tokenized_datasets[\"train\"],\n",
    "    eval_dataset=tokenized_datasets[\"validation\"],\n",
    "    data_collator=data_collator,\n",
    "    processing_class=tokenizer,\n",
    "    compute_metrics=compute_metrics,\n",
    ")"
   ]
  },
  {
   "cell_type": "code",
   "execution_count": 46,
   "id": "3e924960-4ea1-4552-a23c-ae9b72d0daf6",
   "metadata": {},
   "outputs": [
    {
     "name": "stderr",
     "output_type": "stream",
     "text": [
      "Passing a tuple of `past_key_values` is deprecated and will be removed in Transformers v4.48.0. You should pass an instance of `EncoderDecoderCache` instead, e.g. `past_key_values=EncoderDecoderCache.from_legacy_cache(past_key_values)`.\n"
     ]
    },
    {
     "data": {
      "text/html": [
       "\n",
       "    <div>\n",
       "      \n",
       "      <progress value='1716' max='3430' style='width:300px; height:20px; vertical-align: middle;'></progress>\n",
       "      [1716/3430 08:41 < 08:41, 3.28 it/s, Epoch 1/2]\n",
       "    </div>\n",
       "    <table border=\"1\" class=\"dataframe\">\n",
       "  <thead>\n",
       " <tr style=\"text-align: left;\">\n",
       "      <th>Epoch</th>\n",
       "      <th>Training Loss</th>\n",
       "      <th>Validation Loss</th>\n",
       "    </tr>\n",
       "  </thead>\n",
       "  <tbody>\n",
       "  </tbody>\n",
       "</table><p>\n",
       "    <div>\n",
       "      \n",
       "      <progress value='37' max='37' style='width:300px; height:20px; vertical-align: middle;'></progress>\n",
       "      [37/37 00:06]\n",
       "    </div>\n",
       "    "
      ],
      "text/plain": [
       "<IPython.core.display.HTML object>"
      ]
     },
     "metadata": {},
     "output_type": "display_data"
    },
    {
     "ename": "OverflowError",
     "evalue": "out of range integral type conversion attempted",
     "output_type": "error",
     "traceback": [
      "\u001b[0;31m---------------------------------------------------------------------------\u001b[0m",
      "\u001b[0;31mOverflowError\u001b[0m                             Traceback (most recent call last)",
      "File \u001b[0;32m<timed eval>:1\u001b[0m\n",
      "File \u001b[0;32m/opt/conda/envs/learn-hf/lib/python3.9/site-packages/transformers/trainer.py:2232\u001b[0m, in \u001b[0;36mTrainer.train\u001b[0;34m(self, resume_from_checkpoint, trial, ignore_keys_for_eval, **kwargs)\u001b[0m\n\u001b[1;32m   2229\u001b[0m \u001b[38;5;28;01mtry\u001b[39;00m:\n\u001b[1;32m   2230\u001b[0m     \u001b[38;5;66;03m# Disable progress bars when uploading models during checkpoints to avoid polluting stdout\u001b[39;00m\n\u001b[1;32m   2231\u001b[0m     hf_hub_utils\u001b[38;5;241m.\u001b[39mdisable_progress_bars()\n\u001b[0;32m-> 2232\u001b[0m     \u001b[38;5;28;01mreturn\u001b[39;00m \u001b[43minner_training_loop\u001b[49m\u001b[43m(\u001b[49m\n\u001b[1;32m   2233\u001b[0m \u001b[43m        \u001b[49m\u001b[43margs\u001b[49m\u001b[38;5;241;43m=\u001b[39;49m\u001b[43margs\u001b[49m\u001b[43m,\u001b[49m\n\u001b[1;32m   2234\u001b[0m \u001b[43m        \u001b[49m\u001b[43mresume_from_checkpoint\u001b[49m\u001b[38;5;241;43m=\u001b[39;49m\u001b[43mresume_from_checkpoint\u001b[49m\u001b[43m,\u001b[49m\n\u001b[1;32m   2235\u001b[0m \u001b[43m        \u001b[49m\u001b[43mtrial\u001b[49m\u001b[38;5;241;43m=\u001b[39;49m\u001b[43mtrial\u001b[49m\u001b[43m,\u001b[49m\n\u001b[1;32m   2236\u001b[0m \u001b[43m        \u001b[49m\u001b[43mignore_keys_for_eval\u001b[49m\u001b[38;5;241;43m=\u001b[39;49m\u001b[43mignore_keys_for_eval\u001b[49m\u001b[43m,\u001b[49m\n\u001b[1;32m   2237\u001b[0m \u001b[43m    \u001b[49m\u001b[43m)\u001b[49m\n\u001b[1;32m   2238\u001b[0m \u001b[38;5;28;01mfinally\u001b[39;00m:\n\u001b[1;32m   2239\u001b[0m     hf_hub_utils\u001b[38;5;241m.\u001b[39menable_progress_bars()\n",
      "File \u001b[0;32m/opt/conda/envs/learn-hf/lib/python3.9/site-packages/transformers/trainer.py:2639\u001b[0m, in \u001b[0;36mTrainer._inner_training_loop\u001b[0;34m(self, batch_size, args, resume_from_checkpoint, trial, ignore_keys_for_eval)\u001b[0m\n\u001b[1;32m   2636\u001b[0m     \u001b[38;5;28mself\u001b[39m\u001b[38;5;241m.\u001b[39mcontrol\u001b[38;5;241m.\u001b[39mshould_training_stop \u001b[38;5;241m=\u001b[39m \u001b[38;5;28;01mTrue\u001b[39;00m\n\u001b[1;32m   2638\u001b[0m \u001b[38;5;28mself\u001b[39m\u001b[38;5;241m.\u001b[39mcontrol \u001b[38;5;241m=\u001b[39m \u001b[38;5;28mself\u001b[39m\u001b[38;5;241m.\u001b[39mcallback_handler\u001b[38;5;241m.\u001b[39mon_epoch_end(args, \u001b[38;5;28mself\u001b[39m\u001b[38;5;241m.\u001b[39mstate, \u001b[38;5;28mself\u001b[39m\u001b[38;5;241m.\u001b[39mcontrol)\n\u001b[0;32m-> 2639\u001b[0m \u001b[38;5;28;43mself\u001b[39;49m\u001b[38;5;241;43m.\u001b[39;49m\u001b[43m_maybe_log_save_evaluate\u001b[49m\u001b[43m(\u001b[49m\u001b[43mtr_loss\u001b[49m\u001b[43m,\u001b[49m\u001b[43m \u001b[49m\u001b[43mgrad_norm\u001b[49m\u001b[43m,\u001b[49m\u001b[43m \u001b[49m\u001b[43mmodel\u001b[49m\u001b[43m,\u001b[49m\u001b[43m \u001b[49m\u001b[43mtrial\u001b[49m\u001b[43m,\u001b[49m\u001b[43m \u001b[49m\u001b[43mepoch\u001b[49m\u001b[43m,\u001b[49m\u001b[43m \u001b[49m\u001b[43mignore_keys_for_eval\u001b[49m\u001b[43m,\u001b[49m\u001b[43m \u001b[49m\u001b[43mstart_time\u001b[49m\u001b[43m)\u001b[49m\n\u001b[1;32m   2641\u001b[0m \u001b[38;5;28;01mif\u001b[39;00m DebugOption\u001b[38;5;241m.\u001b[39mTPU_METRICS_DEBUG \u001b[38;5;129;01min\u001b[39;00m \u001b[38;5;28mself\u001b[39m\u001b[38;5;241m.\u001b[39margs\u001b[38;5;241m.\u001b[39mdebug:\n\u001b[1;32m   2642\u001b[0m     \u001b[38;5;28;01mif\u001b[39;00m is_torch_xla_available():\n\u001b[1;32m   2643\u001b[0m         \u001b[38;5;66;03m# tpu-comment: Logging debug metrics for PyTorch/XLA (compile, execute times, ops, etc.)\u001b[39;00m\n",
      "File \u001b[0;32m/opt/conda/envs/learn-hf/lib/python3.9/site-packages/transformers/trainer.py:3085\u001b[0m, in \u001b[0;36mTrainer._maybe_log_save_evaluate\u001b[0;34m(self, tr_loss, grad_norm, model, trial, epoch, ignore_keys_for_eval, start_time)\u001b[0m\n\u001b[1;32m   3083\u001b[0m metrics \u001b[38;5;241m=\u001b[39m \u001b[38;5;28;01mNone\u001b[39;00m\n\u001b[1;32m   3084\u001b[0m \u001b[38;5;28;01mif\u001b[39;00m \u001b[38;5;28mself\u001b[39m\u001b[38;5;241m.\u001b[39mcontrol\u001b[38;5;241m.\u001b[39mshould_evaluate:\n\u001b[0;32m-> 3085\u001b[0m     metrics \u001b[38;5;241m=\u001b[39m \u001b[38;5;28;43mself\u001b[39;49m\u001b[38;5;241;43m.\u001b[39;49m\u001b[43m_evaluate\u001b[49m\u001b[43m(\u001b[49m\u001b[43mtrial\u001b[49m\u001b[43m,\u001b[49m\u001b[43m \u001b[49m\u001b[43mignore_keys_for_eval\u001b[49m\u001b[43m)\u001b[49m\n\u001b[1;32m   3086\u001b[0m     is_new_best_metric \u001b[38;5;241m=\u001b[39m \u001b[38;5;28mself\u001b[39m\u001b[38;5;241m.\u001b[39m_determine_best_metric(metrics\u001b[38;5;241m=\u001b[39mmetrics, trial\u001b[38;5;241m=\u001b[39mtrial)\n\u001b[1;32m   3088\u001b[0m     \u001b[38;5;28;01mif\u001b[39;00m \u001b[38;5;28mself\u001b[39m\u001b[38;5;241m.\u001b[39margs\u001b[38;5;241m.\u001b[39msave_strategy \u001b[38;5;241m==\u001b[39m SaveStrategy\u001b[38;5;241m.\u001b[39mBEST:\n",
      "File \u001b[0;32m/opt/conda/envs/learn-hf/lib/python3.9/site-packages/transformers/trainer.py:3039\u001b[0m, in \u001b[0;36mTrainer._evaluate\u001b[0;34m(self, trial, ignore_keys_for_eval, skip_scheduler)\u001b[0m\n\u001b[1;32m   3038\u001b[0m \u001b[38;5;28;01mdef\u001b[39;00m\u001b[38;5;250m \u001b[39m\u001b[38;5;21m_evaluate\u001b[39m(\u001b[38;5;28mself\u001b[39m, trial, ignore_keys_for_eval, skip_scheduler\u001b[38;5;241m=\u001b[39m\u001b[38;5;28;01mFalse\u001b[39;00m):\n\u001b[0;32m-> 3039\u001b[0m     metrics \u001b[38;5;241m=\u001b[39m \u001b[38;5;28;43mself\u001b[39;49m\u001b[38;5;241;43m.\u001b[39;49m\u001b[43mevaluate\u001b[49m\u001b[43m(\u001b[49m\u001b[43mignore_keys\u001b[49m\u001b[38;5;241;43m=\u001b[39;49m\u001b[43mignore_keys_for_eval\u001b[49m\u001b[43m)\u001b[49m\n\u001b[1;32m   3040\u001b[0m     \u001b[38;5;28mself\u001b[39m\u001b[38;5;241m.\u001b[39m_report_to_hp_search(trial, \u001b[38;5;28mself\u001b[39m\u001b[38;5;241m.\u001b[39mstate\u001b[38;5;241m.\u001b[39mglobal_step, metrics)\n\u001b[1;32m   3042\u001b[0m     \u001b[38;5;66;03m# Run delayed LR scheduler now that metrics are populated\u001b[39;00m\n",
      "File \u001b[0;32m/opt/conda/envs/learn-hf/lib/python3.9/site-packages/transformers/trainer_seq2seq.py:197\u001b[0m, in \u001b[0;36mSeq2SeqTrainer.evaluate\u001b[0;34m(self, eval_dataset, ignore_keys, metric_key_prefix, **gen_kwargs)\u001b[0m\n\u001b[1;32m    195\u001b[0m \u001b[38;5;28mself\u001b[39m\u001b[38;5;241m.\u001b[39mgather_function \u001b[38;5;241m=\u001b[39m \u001b[38;5;28mself\u001b[39m\u001b[38;5;241m.\u001b[39maccelerator\u001b[38;5;241m.\u001b[39mgather\n\u001b[1;32m    196\u001b[0m \u001b[38;5;28mself\u001b[39m\u001b[38;5;241m.\u001b[39m_gen_kwargs \u001b[38;5;241m=\u001b[39m gen_kwargs\n\u001b[0;32m--> 197\u001b[0m \u001b[38;5;28;01mreturn\u001b[39;00m \u001b[38;5;28;43msuper\u001b[39;49m\u001b[43m(\u001b[49m\u001b[43m)\u001b[49m\u001b[38;5;241;43m.\u001b[39;49m\u001b[43mevaluate\u001b[49m\u001b[43m(\u001b[49m\u001b[43meval_dataset\u001b[49m\u001b[43m,\u001b[49m\u001b[43m \u001b[49m\u001b[43mignore_keys\u001b[49m\u001b[38;5;241;43m=\u001b[39;49m\u001b[43mignore_keys\u001b[49m\u001b[43m,\u001b[49m\u001b[43m \u001b[49m\u001b[43mmetric_key_prefix\u001b[49m\u001b[38;5;241;43m=\u001b[39;49m\u001b[43mmetric_key_prefix\u001b[49m\u001b[43m)\u001b[49m\n",
      "File \u001b[0;32m/opt/conda/envs/learn-hf/lib/python3.9/site-packages/transformers/trainer.py:4105\u001b[0m, in \u001b[0;36mTrainer.evaluate\u001b[0;34m(self, eval_dataset, ignore_keys, metric_key_prefix)\u001b[0m\n\u001b[1;32m   4102\u001b[0m start_time \u001b[38;5;241m=\u001b[39m time\u001b[38;5;241m.\u001b[39mtime()\n\u001b[1;32m   4104\u001b[0m eval_loop \u001b[38;5;241m=\u001b[39m \u001b[38;5;28mself\u001b[39m\u001b[38;5;241m.\u001b[39mprediction_loop \u001b[38;5;28;01mif\u001b[39;00m \u001b[38;5;28mself\u001b[39m\u001b[38;5;241m.\u001b[39margs\u001b[38;5;241m.\u001b[39muse_legacy_prediction_loop \u001b[38;5;28;01melse\u001b[39;00m \u001b[38;5;28mself\u001b[39m\u001b[38;5;241m.\u001b[39mevaluation_loop\n\u001b[0;32m-> 4105\u001b[0m output \u001b[38;5;241m=\u001b[39m \u001b[43meval_loop\u001b[49m\u001b[43m(\u001b[49m\n\u001b[1;32m   4106\u001b[0m \u001b[43m    \u001b[49m\u001b[43meval_dataloader\u001b[49m\u001b[43m,\u001b[49m\n\u001b[1;32m   4107\u001b[0m \u001b[43m    \u001b[49m\u001b[43mdescription\u001b[49m\u001b[38;5;241;43m=\u001b[39;49m\u001b[38;5;124;43m\"\u001b[39;49m\u001b[38;5;124;43mEvaluation\u001b[39;49m\u001b[38;5;124;43m\"\u001b[39;49m\u001b[43m,\u001b[49m\n\u001b[1;32m   4108\u001b[0m \u001b[43m    \u001b[49m\u001b[38;5;66;43;03m# No point gathering the predictions if there are no metrics, otherwise we defer to\u001b[39;49;00m\n\u001b[1;32m   4109\u001b[0m \u001b[43m    \u001b[49m\u001b[38;5;66;43;03m# self.args.prediction_loss_only\u001b[39;49;00m\n\u001b[1;32m   4110\u001b[0m \u001b[43m    \u001b[49m\u001b[43mprediction_loss_only\u001b[49m\u001b[38;5;241;43m=\u001b[39;49m\u001b[38;5;28;43;01mTrue\u001b[39;49;00m\u001b[43m \u001b[49m\u001b[38;5;28;43;01mif\u001b[39;49;00m\u001b[43m \u001b[49m\u001b[38;5;28;43mself\u001b[39;49m\u001b[38;5;241;43m.\u001b[39;49m\u001b[43mcompute_metrics\u001b[49m\u001b[43m \u001b[49m\u001b[38;5;129;43;01mis\u001b[39;49;00m\u001b[43m \u001b[49m\u001b[38;5;28;43;01mNone\u001b[39;49;00m\u001b[43m \u001b[49m\u001b[38;5;28;43;01melse\u001b[39;49;00m\u001b[43m \u001b[49m\u001b[38;5;28;43;01mNone\u001b[39;49;00m\u001b[43m,\u001b[49m\n\u001b[1;32m   4111\u001b[0m \u001b[43m    \u001b[49m\u001b[43mignore_keys\u001b[49m\u001b[38;5;241;43m=\u001b[39;49m\u001b[43mignore_keys\u001b[49m\u001b[43m,\u001b[49m\n\u001b[1;32m   4112\u001b[0m \u001b[43m    \u001b[49m\u001b[43mmetric_key_prefix\u001b[49m\u001b[38;5;241;43m=\u001b[39;49m\u001b[43mmetric_key_prefix\u001b[49m\u001b[43m,\u001b[49m\n\u001b[1;32m   4113\u001b[0m \u001b[43m\u001b[49m\u001b[43m)\u001b[49m\n\u001b[1;32m   4115\u001b[0m total_batch_size \u001b[38;5;241m=\u001b[39m \u001b[38;5;28mself\u001b[39m\u001b[38;5;241m.\u001b[39margs\u001b[38;5;241m.\u001b[39meval_batch_size \u001b[38;5;241m*\u001b[39m \u001b[38;5;28mself\u001b[39m\u001b[38;5;241m.\u001b[39margs\u001b[38;5;241m.\u001b[39mworld_size\n\u001b[1;32m   4116\u001b[0m \u001b[38;5;28;01mif\u001b[39;00m \u001b[38;5;124mf\u001b[39m\u001b[38;5;124m\"\u001b[39m\u001b[38;5;132;01m{\u001b[39;00mmetric_key_prefix\u001b[38;5;132;01m}\u001b[39;00m\u001b[38;5;124m_jit_compilation_time\u001b[39m\u001b[38;5;124m\"\u001b[39m \u001b[38;5;129;01min\u001b[39;00m output\u001b[38;5;241m.\u001b[39mmetrics:\n",
      "File \u001b[0;32m/opt/conda/envs/learn-hf/lib/python3.9/site-packages/transformers/trainer.py:4394\u001b[0m, in \u001b[0;36mTrainer.evaluation_loop\u001b[0;34m(self, dataloader, description, prediction_loss_only, ignore_keys, metric_key_prefix)\u001b[0m\n\u001b[1;32m   4392\u001b[0m     eval_set_kwargs[\u001b[38;5;124m\"\u001b[39m\u001b[38;5;124mlosses\u001b[39m\u001b[38;5;124m\"\u001b[39m] \u001b[38;5;241m=\u001b[39m all_losses \u001b[38;5;28;01mif\u001b[39;00m \u001b[38;5;124m\"\u001b[39m\u001b[38;5;124mloss\u001b[39m\u001b[38;5;124m\"\u001b[39m \u001b[38;5;129;01min\u001b[39;00m args\u001b[38;5;241m.\u001b[39minclude_for_metrics \u001b[38;5;28;01melse\u001b[39;00m \u001b[38;5;28;01mNone\u001b[39;00m\n\u001b[1;32m   4393\u001b[0m     eval_set_kwargs[\u001b[38;5;124m\"\u001b[39m\u001b[38;5;124minputs\u001b[39m\u001b[38;5;124m\"\u001b[39m] \u001b[38;5;241m=\u001b[39m all_inputs \u001b[38;5;28;01mif\u001b[39;00m \u001b[38;5;124m\"\u001b[39m\u001b[38;5;124minputs\u001b[39m\u001b[38;5;124m\"\u001b[39m \u001b[38;5;129;01min\u001b[39;00m args\u001b[38;5;241m.\u001b[39minclude_for_metrics \u001b[38;5;28;01melse\u001b[39;00m \u001b[38;5;28;01mNone\u001b[39;00m\n\u001b[0;32m-> 4394\u001b[0m     metrics \u001b[38;5;241m=\u001b[39m \u001b[38;5;28;43mself\u001b[39;49m\u001b[38;5;241;43m.\u001b[39;49m\u001b[43mcompute_metrics\u001b[49m\u001b[43m(\u001b[49m\n\u001b[1;32m   4395\u001b[0m \u001b[43m        \u001b[49m\u001b[43mEvalPrediction\u001b[49m\u001b[43m(\u001b[49m\u001b[43mpredictions\u001b[49m\u001b[38;5;241;43m=\u001b[39;49m\u001b[43mall_preds\u001b[49m\u001b[43m,\u001b[49m\u001b[43m \u001b[49m\u001b[43mlabel_ids\u001b[49m\u001b[38;5;241;43m=\u001b[39;49m\u001b[43mall_labels\u001b[49m\u001b[43m,\u001b[49m\u001b[43m \u001b[49m\u001b[38;5;241;43m*\u001b[39;49m\u001b[38;5;241;43m*\u001b[39;49m\u001b[43meval_set_kwargs\u001b[49m\u001b[43m)\u001b[49m\n\u001b[1;32m   4396\u001b[0m \u001b[43m    \u001b[49m\u001b[43m)\u001b[49m\n\u001b[1;32m   4397\u001b[0m \u001b[38;5;28;01melif\u001b[39;00m metrics \u001b[38;5;129;01mis\u001b[39;00m \u001b[38;5;28;01mNone\u001b[39;00m:\n\u001b[1;32m   4398\u001b[0m     metrics \u001b[38;5;241m=\u001b[39m {}\n",
      "Cell \u001b[0;32mIn[41], line 7\u001b[0m, in \u001b[0;36mcompute_metrics\u001b[0;34m(eval_pred)\u001b[0m\n\u001b[1;32m      5\u001b[0m predictions, labels \u001b[38;5;241m=\u001b[39m eval_pred\n\u001b[1;32m      6\u001b[0m \u001b[38;5;66;03m# Decode generated summaries into text\u001b[39;00m\n\u001b[0;32m----> 7\u001b[0m decoded_preds \u001b[38;5;241m=\u001b[39m \u001b[43mtokenizer\u001b[49m\u001b[38;5;241;43m.\u001b[39;49m\u001b[43mbatch_decode\u001b[49m\u001b[43m(\u001b[49m\u001b[43mpredictions\u001b[49m\u001b[43m,\u001b[49m\u001b[43m \u001b[49m\u001b[43mskip_special_tokens\u001b[49m\u001b[38;5;241;43m=\u001b[39;49m\u001b[38;5;28;43;01mTrue\u001b[39;49;00m\u001b[43m)\u001b[49m\n\u001b[1;32m      8\u001b[0m \u001b[38;5;66;03m# Replace -100 in the labels as we can't decode them\u001b[39;00m\n\u001b[1;32m      9\u001b[0m labels \u001b[38;5;241m=\u001b[39m np\u001b[38;5;241m.\u001b[39mwhere(labels \u001b[38;5;241m!=\u001b[39m \u001b[38;5;241m-\u001b[39m\u001b[38;5;241m100\u001b[39m, labels, tokenizer\u001b[38;5;241m.\u001b[39mpad_token_id)\n",
      "File \u001b[0;32m/opt/conda/envs/learn-hf/lib/python3.9/site-packages/transformers/tokenization_utils_base.py:3820\u001b[0m, in \u001b[0;36mPreTrainedTokenizerBase.batch_decode\u001b[0;34m(self, sequences, skip_special_tokens, clean_up_tokenization_spaces, **kwargs)\u001b[0m\n\u001b[1;32m   3796\u001b[0m \u001b[38;5;28;01mdef\u001b[39;00m\u001b[38;5;250m \u001b[39m\u001b[38;5;21mbatch_decode\u001b[39m(\n\u001b[1;32m   3797\u001b[0m     \u001b[38;5;28mself\u001b[39m,\n\u001b[1;32m   3798\u001b[0m     sequences: Union[List[\u001b[38;5;28mint\u001b[39m], List[List[\u001b[38;5;28mint\u001b[39m]], \u001b[38;5;124m\"\u001b[39m\u001b[38;5;124mnp.ndarray\u001b[39m\u001b[38;5;124m\"\u001b[39m, \u001b[38;5;124m\"\u001b[39m\u001b[38;5;124mtorch.Tensor\u001b[39m\u001b[38;5;124m\"\u001b[39m, \u001b[38;5;124m\"\u001b[39m\u001b[38;5;124mtf.Tensor\u001b[39m\u001b[38;5;124m\"\u001b[39m],\n\u001b[0;32m   (...)\u001b[0m\n\u001b[1;32m   3801\u001b[0m     \u001b[38;5;241m*\u001b[39m\u001b[38;5;241m*\u001b[39mkwargs,\n\u001b[1;32m   3802\u001b[0m ) \u001b[38;5;241m-\u001b[39m\u001b[38;5;241m>\u001b[39m List[\u001b[38;5;28mstr\u001b[39m]:\n\u001b[1;32m   3803\u001b[0m \u001b[38;5;250m    \u001b[39m\u001b[38;5;124;03m\"\"\"\u001b[39;00m\n\u001b[1;32m   3804\u001b[0m \u001b[38;5;124;03m    Convert a list of lists of token ids into a list of strings by calling decode.\u001b[39;00m\n\u001b[1;32m   3805\u001b[0m \n\u001b[0;32m   (...)\u001b[0m\n\u001b[1;32m   3818\u001b[0m \u001b[38;5;124;03m        `List[str]`: The list of decoded sentences.\u001b[39;00m\n\u001b[1;32m   3819\u001b[0m \u001b[38;5;124;03m    \"\"\"\u001b[39;00m\n\u001b[0;32m-> 3820\u001b[0m     \u001b[38;5;28;01mreturn\u001b[39;00m [\n\u001b[1;32m   3821\u001b[0m         \u001b[38;5;28mself\u001b[39m\u001b[38;5;241m.\u001b[39mdecode(\n\u001b[1;32m   3822\u001b[0m             seq,\n\u001b[1;32m   3823\u001b[0m             skip_special_tokens\u001b[38;5;241m=\u001b[39mskip_special_tokens,\n\u001b[1;32m   3824\u001b[0m             clean_up_tokenization_spaces\u001b[38;5;241m=\u001b[39mclean_up_tokenization_spaces,\n\u001b[1;32m   3825\u001b[0m             \u001b[38;5;241m*\u001b[39m\u001b[38;5;241m*\u001b[39mkwargs,\n\u001b[1;32m   3826\u001b[0m         )\n\u001b[1;32m   3827\u001b[0m         \u001b[38;5;28;01mfor\u001b[39;00m seq \u001b[38;5;129;01min\u001b[39;00m sequences\n\u001b[1;32m   3828\u001b[0m     ]\n",
      "File \u001b[0;32m/opt/conda/envs/learn-hf/lib/python3.9/site-packages/transformers/tokenization_utils_base.py:3821\u001b[0m, in \u001b[0;36m<listcomp>\u001b[0;34m(.0)\u001b[0m\n\u001b[1;32m   3796\u001b[0m \u001b[38;5;28;01mdef\u001b[39;00m\u001b[38;5;250m \u001b[39m\u001b[38;5;21mbatch_decode\u001b[39m(\n\u001b[1;32m   3797\u001b[0m     \u001b[38;5;28mself\u001b[39m,\n\u001b[1;32m   3798\u001b[0m     sequences: Union[List[\u001b[38;5;28mint\u001b[39m], List[List[\u001b[38;5;28mint\u001b[39m]], \u001b[38;5;124m\"\u001b[39m\u001b[38;5;124mnp.ndarray\u001b[39m\u001b[38;5;124m\"\u001b[39m, \u001b[38;5;124m\"\u001b[39m\u001b[38;5;124mtorch.Tensor\u001b[39m\u001b[38;5;124m\"\u001b[39m, \u001b[38;5;124m\"\u001b[39m\u001b[38;5;124mtf.Tensor\u001b[39m\u001b[38;5;124m\"\u001b[39m],\n\u001b[0;32m   (...)\u001b[0m\n\u001b[1;32m   3801\u001b[0m     \u001b[38;5;241m*\u001b[39m\u001b[38;5;241m*\u001b[39mkwargs,\n\u001b[1;32m   3802\u001b[0m ) \u001b[38;5;241m-\u001b[39m\u001b[38;5;241m>\u001b[39m List[\u001b[38;5;28mstr\u001b[39m]:\n\u001b[1;32m   3803\u001b[0m \u001b[38;5;250m    \u001b[39m\u001b[38;5;124;03m\"\"\"\u001b[39;00m\n\u001b[1;32m   3804\u001b[0m \u001b[38;5;124;03m    Convert a list of lists of token ids into a list of strings by calling decode.\u001b[39;00m\n\u001b[1;32m   3805\u001b[0m \n\u001b[0;32m   (...)\u001b[0m\n\u001b[1;32m   3818\u001b[0m \u001b[38;5;124;03m        `List[str]`: The list of decoded sentences.\u001b[39;00m\n\u001b[1;32m   3819\u001b[0m \u001b[38;5;124;03m    \"\"\"\u001b[39;00m\n\u001b[1;32m   3820\u001b[0m     \u001b[38;5;28;01mreturn\u001b[39;00m [\n\u001b[0;32m-> 3821\u001b[0m         \u001b[38;5;28;43mself\u001b[39;49m\u001b[38;5;241;43m.\u001b[39;49m\u001b[43mdecode\u001b[49m\u001b[43m(\u001b[49m\n\u001b[1;32m   3822\u001b[0m \u001b[43m            \u001b[49m\u001b[43mseq\u001b[49m\u001b[43m,\u001b[49m\n\u001b[1;32m   3823\u001b[0m \u001b[43m            \u001b[49m\u001b[43mskip_special_tokens\u001b[49m\u001b[38;5;241;43m=\u001b[39;49m\u001b[43mskip_special_tokens\u001b[49m\u001b[43m,\u001b[49m\n\u001b[1;32m   3824\u001b[0m \u001b[43m            \u001b[49m\u001b[43mclean_up_tokenization_spaces\u001b[49m\u001b[38;5;241;43m=\u001b[39;49m\u001b[43mclean_up_tokenization_spaces\u001b[49m\u001b[43m,\u001b[49m\n\u001b[1;32m   3825\u001b[0m \u001b[43m            \u001b[49m\u001b[38;5;241;43m*\u001b[39;49m\u001b[38;5;241;43m*\u001b[39;49m\u001b[43mkwargs\u001b[49m\u001b[43m,\u001b[49m\n\u001b[1;32m   3826\u001b[0m \u001b[43m        \u001b[49m\u001b[43m)\u001b[49m\n\u001b[1;32m   3827\u001b[0m         \u001b[38;5;28;01mfor\u001b[39;00m seq \u001b[38;5;129;01min\u001b[39;00m sequences\n\u001b[1;32m   3828\u001b[0m     ]\n",
      "File \u001b[0;32m/opt/conda/envs/learn-hf/lib/python3.9/site-packages/transformers/tokenization_utils_base.py:3860\u001b[0m, in \u001b[0;36mPreTrainedTokenizerBase.decode\u001b[0;34m(self, token_ids, skip_special_tokens, clean_up_tokenization_spaces, **kwargs)\u001b[0m\n\u001b[1;32m   3857\u001b[0m \u001b[38;5;66;03m# Convert inputs to python lists\u001b[39;00m\n\u001b[1;32m   3858\u001b[0m token_ids \u001b[38;5;241m=\u001b[39m to_py_obj(token_ids)\n\u001b[0;32m-> 3860\u001b[0m \u001b[38;5;28;01mreturn\u001b[39;00m \u001b[38;5;28;43mself\u001b[39;49m\u001b[38;5;241;43m.\u001b[39;49m\u001b[43m_decode\u001b[49m\u001b[43m(\u001b[49m\n\u001b[1;32m   3861\u001b[0m \u001b[43m    \u001b[49m\u001b[43mtoken_ids\u001b[49m\u001b[38;5;241;43m=\u001b[39;49m\u001b[43mtoken_ids\u001b[49m\u001b[43m,\u001b[49m\n\u001b[1;32m   3862\u001b[0m \u001b[43m    \u001b[49m\u001b[43mskip_special_tokens\u001b[49m\u001b[38;5;241;43m=\u001b[39;49m\u001b[43mskip_special_tokens\u001b[49m\u001b[43m,\u001b[49m\n\u001b[1;32m   3863\u001b[0m \u001b[43m    \u001b[49m\u001b[43mclean_up_tokenization_spaces\u001b[49m\u001b[38;5;241;43m=\u001b[39;49m\u001b[43mclean_up_tokenization_spaces\u001b[49m\u001b[43m,\u001b[49m\n\u001b[1;32m   3864\u001b[0m \u001b[43m    \u001b[49m\u001b[38;5;241;43m*\u001b[39;49m\u001b[38;5;241;43m*\u001b[39;49m\u001b[43mkwargs\u001b[49m\u001b[43m,\u001b[49m\n\u001b[1;32m   3865\u001b[0m \u001b[43m\u001b[49m\u001b[43m)\u001b[49m\n",
      "File \u001b[0;32m/opt/conda/envs/learn-hf/lib/python3.9/site-packages/transformers/tokenization_utils_fast.py:668\u001b[0m, in \u001b[0;36mPreTrainedTokenizerFast._decode\u001b[0;34m(self, token_ids, skip_special_tokens, clean_up_tokenization_spaces, **kwargs)\u001b[0m\n\u001b[1;32m    666\u001b[0m \u001b[38;5;28;01mif\u001b[39;00m \u001b[38;5;28misinstance\u001b[39m(token_ids, \u001b[38;5;28mint\u001b[39m):\n\u001b[1;32m    667\u001b[0m     token_ids \u001b[38;5;241m=\u001b[39m [token_ids]\n\u001b[0;32m--> 668\u001b[0m text \u001b[38;5;241m=\u001b[39m \u001b[38;5;28;43mself\u001b[39;49m\u001b[38;5;241;43m.\u001b[39;49m\u001b[43m_tokenizer\u001b[49m\u001b[38;5;241;43m.\u001b[39;49m\u001b[43mdecode\u001b[49m\u001b[43m(\u001b[49m\u001b[43mtoken_ids\u001b[49m\u001b[43m,\u001b[49m\u001b[43m \u001b[49m\u001b[43mskip_special_tokens\u001b[49m\u001b[38;5;241;43m=\u001b[39;49m\u001b[43mskip_special_tokens\u001b[49m\u001b[43m)\u001b[49m\n\u001b[1;32m    670\u001b[0m clean_up_tokenization_spaces \u001b[38;5;241m=\u001b[39m (\n\u001b[1;32m    671\u001b[0m     clean_up_tokenization_spaces\n\u001b[1;32m    672\u001b[0m     \u001b[38;5;28;01mif\u001b[39;00m clean_up_tokenization_spaces \u001b[38;5;129;01mis\u001b[39;00m \u001b[38;5;129;01mnot\u001b[39;00m \u001b[38;5;28;01mNone\u001b[39;00m\n\u001b[1;32m    673\u001b[0m     \u001b[38;5;28;01melse\u001b[39;00m \u001b[38;5;28mself\u001b[39m\u001b[38;5;241m.\u001b[39mclean_up_tokenization_spaces\n\u001b[1;32m    674\u001b[0m )\n\u001b[1;32m    675\u001b[0m \u001b[38;5;28;01mif\u001b[39;00m clean_up_tokenization_spaces:\n",
      "\u001b[0;31mOverflowError\u001b[0m: out of range integral type conversion attempted"
     ]
    }
   ],
   "source": [
    "%%time\n",
    "\n",
    "trainer.train()"
   ]
  },
  {
   "cell_type": "code",
   "execution_count": null,
   "id": "0a547e87-9760-4a91-9352-11a0e9402743",
   "metadata": {},
   "outputs": [],
   "source": []
  },
  {
   "cell_type": "code",
   "execution_count": null,
   "id": "45e86a18-24ed-4191-93aa-93a61dafdc95",
   "metadata": {},
   "outputs": [],
   "source": []
  },
  {
   "cell_type": "code",
   "execution_count": null,
   "id": "fd9722a0-4643-4f0d-b4f3-e2b935840255",
   "metadata": {},
   "outputs": [],
   "source": []
  },
  {
   "cell_type": "markdown",
   "id": "5c63b32d-bd80-4d05-a1f9-4237e1a95f6d",
   "metadata": {},
   "source": [
    "> ✏️ Try it out! Once you’ve worked through this section, see how well mT5 compares to mBART by fine-tuning the latter with the same techniques. For bonus points, you can also try fine-tuning T5 on just the English reviews. Since T5 has a special prefix prompt, you’ll need to prepend summarize: to the input examples in the preprocessing steps below."
   ]
  },
  {
   "cell_type": "code",
   "execution_count": null,
   "id": "bdf7a54b-aea0-4706-829c-5350a0a23f97",
   "metadata": {},
   "outputs": [],
   "source": []
  }
 ],
 "metadata": {
  "kernelspec": {
   "display_name": "Python 3 (ipykernel)",
   "language": "python",
   "name": "python3"
  },
  "language_info": {
   "codemirror_mode": {
    "name": "ipython",
    "version": 3
   },
   "file_extension": ".py",
   "mimetype": "text/x-python",
   "name": "python",
   "nbconvert_exporter": "python",
   "pygments_lexer": "ipython3",
   "version": "3.9.21"
  }
 },
 "nbformat": 4,
 "nbformat_minor": 5
}
