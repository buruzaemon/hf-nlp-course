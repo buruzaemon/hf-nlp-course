{
 "cells": [
  {
   "cell_type": "markdown",
   "id": "e7286918-905e-4980-a2e0-34d27ecf3258",
   "metadata": {},
   "source": [
    "# 🤗 Datasets"
   ]
  },
  {
   "cell_type": "markdown",
   "id": "c8da6ece-d25d-4d3d-84c7-d18e339282ae",
   "metadata": {},
   "source": [
    "## Load a dataset from the Hub\n",
    "\n",
    "Please see the [Load a dataset from the Hub tutorial](https://huggingface.co/docs/datasets/load_hub#load-a-dataset-from-the-hub) for 🤗 Datasets."
   ]
  },
  {
   "cell_type": "code",
   "execution_count": 1,
   "id": "186194d9-4688-4fb8-b41a-60d8503c583e",
   "metadata": {},
   "outputs": [],
   "source": [
    "from datasets import (\n",
    "    load_dataset_builder, \n",
    "    load_dataset,\n",
    "    get_dataset_split_names,\n",
    "    get_dataset_config_names\n",
    ")"
   ]
  },
  {
   "cell_type": "markdown",
   "id": "b91ad28a-a3e5-4d5f-9d6d-d7562cb9f8c8",
   "metadata": {},
   "source": [
    "### Load a dataset"
   ]
  },
  {
   "cell_type": "code",
   "execution_count": 2,
   "id": "36e328db-c8e5-409a-8b79-78c1e4e78833",
   "metadata": {},
   "outputs": [
    {
     "data": {
      "text/plain": [
       "datasets.packaged_modules.parquet.parquet.ParquetRottenTomatoes"
      ]
     },
     "execution_count": 2,
     "metadata": {},
     "output_type": "execute_result"
    }
   ],
   "source": [
    "#from datasets import load_dataset_builder\n",
    "\n",
    "ds_builder = load_dataset_builder(\"cornell-movie-review-data/rotten_tomatoes\")\n",
    "type(ds_builder)"
   ]
  },
  {
   "cell_type": "raw",
   "id": "73a23cac-11bd-4820-acf5-2e52f84f7f23",
   "metadata": {},
   "source": [
    "dir(ds_builder.info)"
   ]
  },
  {
   "cell_type": "code",
   "execution_count": 3,
   "id": "ae697e73-4f4b-41e9-8b10-c008b6a3bbcf",
   "metadata": {},
   "outputs": [
    {
     "data": {
      "text/plain": [
       "''"
      ]
     },
     "execution_count": 3,
     "metadata": {},
     "output_type": "execute_result"
    }
   ],
   "source": [
    "ds_builder.info.description"
   ]
  },
  {
   "cell_type": "code",
   "execution_count": 4,
   "id": "48f7a324-3ab9-4b3f-b0e0-efa097bca12a",
   "metadata": {},
   "outputs": [
    {
     "data": {
      "text/plain": [
       "{'text': Value(dtype='string', id=None),\n",
       " 'label': ClassLabel(names=['neg', 'pos'], id=None)}"
      ]
     },
     "execution_count": 4,
     "metadata": {},
     "output_type": "execute_result"
    }
   ],
   "source": [
    "ds_builder.info.features"
   ]
  },
  {
   "cell_type": "code",
   "execution_count": 5,
   "id": "99be66df-17f7-49fb-bcff-b2b0edc58f7f",
   "metadata": {},
   "outputs": [],
   "source": [
    "#from datasets import load_dataset\n",
    "\n",
    "dataset = load_dataset(\"cornell-movie-review-data/rotten_tomatoes\", split=\"train\")"
   ]
  },
  {
   "cell_type": "code",
   "execution_count": 6,
   "id": "9aa46a05-5dd5-496c-a808-134b2345803d",
   "metadata": {},
   "outputs": [
    {
     "data": {
      "text/plain": [
       "['train', 'validation', 'test']"
      ]
     },
     "execution_count": 6,
     "metadata": {},
     "output_type": "execute_result"
    }
   ],
   "source": [
    "#from datasets import get_dataset_split_names\n",
    "\n",
    "get_dataset_split_names(\"cornell-movie-review-data/rotten_tomatoes\")"
   ]
  },
  {
   "cell_type": "code",
   "execution_count": 7,
   "id": "ea59f409-3d0a-473e-9899-eafed20ac4ff",
   "metadata": {},
   "outputs": [
    {
     "data": {
      "text/plain": [
       "DatasetDict({\n",
       "    train: Dataset({\n",
       "        features: ['text', 'label'],\n",
       "        num_rows: 8530\n",
       "    })\n",
       "    validation: Dataset({\n",
       "        features: ['text', 'label'],\n",
       "        num_rows: 1066\n",
       "    })\n",
       "    test: Dataset({\n",
       "        features: ['text', 'label'],\n",
       "        num_rows: 1066\n",
       "    })\n",
       "})"
      ]
     },
     "execution_count": 7,
     "metadata": {},
     "output_type": "execute_result"
    }
   ],
   "source": [
    "datasets = load_dataset(\"cornell-movie-review-data/rotten_tomatoes\")\n",
    "datasets"
   ]
  },
  {
   "cell_type": "code",
   "execution_count": 8,
   "id": "f11370ed-379f-433c-8e06-96ab71752a0f",
   "metadata": {},
   "outputs": [
    {
     "name": "stdout",
     "output_type": "stream",
     "text": [
      "['cs-CZ', 'de-DE', 'en-AU', 'en-GB', 'en-US', 'es-ES', 'fr-FR', 'it-IT', 'ko-KR', 'nl-NL', 'pl-PL', 'pt-PT', 'ru-RU', 'zh-CN', 'all']\n"
     ]
    }
   ],
   "source": [
    "#from datasets import get_dataset_config_names\n",
    "\n",
    "configs = get_dataset_config_names(\"PolyAI/minds14\")\n",
    "print(configs)"
   ]
  },
  {
   "cell_type": "code",
   "execution_count": 9,
   "id": "3ca0f91d-51fc-48af-82b9-53f63ca400ea",
   "metadata": {},
   "outputs": [],
   "source": [
    "#from datasets import load_dataset\n",
    "\n",
    "mindsFR = load_dataset(\"PolyAI/minds14\", \"fr-FR\", split=\"train\")"
   ]
  },
  {
   "cell_type": "code",
   "execution_count": 10,
   "id": "5183f91c-6572-4d7b-a746-b41379d8179c",
   "metadata": {},
   "outputs": [
    {
     "data": {
      "application/vnd.jupyter.widget-view+json": {
       "model_id": "2f00316388824a6dab6671fd9252ab45",
       "version_major": 2,
       "version_minor": 0
      },
      "text/plain": [
       "Resolving data files:   0%|          | 0/1024 [00:00<?, ?it/s]"
      ]
     },
     "metadata": {},
     "output_type": "display_data"
    },
    {
     "data": {
      "text/plain": [
       "['en',\n",
       " 'en.noblocklist',\n",
       " 'en.noclean',\n",
       " 'realnewslike',\n",
       " 'multilingual',\n",
       " 'af',\n",
       " 'am',\n",
       " 'ar',\n",
       " 'az',\n",
       " 'be',\n",
       " 'bg',\n",
       " 'bg-Latn',\n",
       " 'bn',\n",
       " 'ca',\n",
       " 'ceb',\n",
       " 'co',\n",
       " 'cs',\n",
       " 'cy',\n",
       " 'da',\n",
       " 'de',\n",
       " 'el',\n",
       " 'el-Latn',\n",
       " 'en-multi',\n",
       " 'eo',\n",
       " 'es',\n",
       " 'et',\n",
       " 'eu',\n",
       " 'fa',\n",
       " 'fi',\n",
       " 'fil',\n",
       " 'fr',\n",
       " 'fy',\n",
       " 'ga',\n",
       " 'gd',\n",
       " 'gl',\n",
       " 'gu',\n",
       " 'ha',\n",
       " 'haw',\n",
       " 'hi',\n",
       " 'hi-Latn',\n",
       " 'hmn',\n",
       " 'ht',\n",
       " 'hu',\n",
       " 'hy',\n",
       " 'id',\n",
       " 'ig',\n",
       " 'is',\n",
       " 'it',\n",
       " 'iw',\n",
       " 'ja',\n",
       " 'ja-Latn',\n",
       " 'jv',\n",
       " 'ka',\n",
       " 'kk',\n",
       " 'km',\n",
       " 'kn',\n",
       " 'ko',\n",
       " 'ku',\n",
       " 'ky',\n",
       " 'la',\n",
       " 'lb',\n",
       " 'lo',\n",
       " 'lt',\n",
       " 'lv',\n",
       " 'mg',\n",
       " 'mi',\n",
       " 'mk',\n",
       " 'ml',\n",
       " 'mn',\n",
       " 'mr',\n",
       " 'ms',\n",
       " 'mt',\n",
       " 'my',\n",
       " 'ne',\n",
       " 'nl',\n",
       " 'no',\n",
       " 'ny',\n",
       " 'pa',\n",
       " 'pl',\n",
       " 'ps',\n",
       " 'pt',\n",
       " 'ro',\n",
       " 'ru',\n",
       " 'ru-Latn',\n",
       " 'sd',\n",
       " 'si',\n",
       " 'sk',\n",
       " 'sl',\n",
       " 'sm',\n",
       " 'sn',\n",
       " 'so',\n",
       " 'sq',\n",
       " 'sr',\n",
       " 'st',\n",
       " 'su',\n",
       " 'sv',\n",
       " 'sw',\n",
       " 'ta',\n",
       " 'te',\n",
       " 'tg',\n",
       " 'th',\n",
       " 'tr',\n",
       " 'uk',\n",
       " 'und',\n",
       " 'ur',\n",
       " 'uz',\n",
       " 'vi',\n",
       " 'xh',\n",
       " 'yi',\n",
       " 'yo',\n",
       " 'zh',\n",
       " 'zh-Latn',\n",
       " 'zu']"
      ]
     },
     "execution_count": 10,
     "metadata": {},
     "output_type": "execute_result"
    }
   ],
   "source": [
    "#from datasets import get_dataset_config_names, get_dataset_split_names, load_dataset\n",
    "\n",
    "get_dataset_config_names(\"allenai/c4\", trust_remote_code=True)\n",
    "\n",
    "#get_dataset_split_names(\"allenai/c4\", \"en\", trust_remote_code=True)\n",
    "#c4 = load_dataset(\"allenai/c4\", \"en\", split=\"train\", trust_remote_code=True)"
   ]
  },
  {
   "cell_type": "code",
   "execution_count": 11,
   "id": "0fb2d480-196b-4302-9558-0fe1a610102d",
   "metadata": {},
   "outputs": [
    {
     "data": {
      "application/vnd.jupyter.widget-view+json": {
       "model_id": "21a0a48f27e44974b0d73715bae27331",
       "version_major": 2,
       "version_minor": 0
      },
      "text/plain": [
       "Resolving data files:   0%|          | 0/1024 [00:00<?, ?it/s]"
      ]
     },
     "metadata": {},
     "output_type": "display_data"
    },
    {
     "data": {
      "application/vnd.jupyter.widget-view+json": {
       "model_id": "a146c10919084596b0cb238f95c8ff3d",
       "version_major": 2,
       "version_minor": 0
      },
      "text/plain": [
       "Resolving data files:   0%|          | 0/1024 [00:00<?, ?it/s]"
      ]
     },
     "metadata": {},
     "output_type": "display_data"
    },
    {
     "data": {
      "text/plain": [
       "['train', 'validation']"
      ]
     },
     "execution_count": 11,
     "metadata": {},
     "output_type": "execute_result"
    }
   ],
   "source": [
    "get_dataset_split_names(\"allenai/c4\", \"en\", trust_remote_code=True)"
   ]
  },
  {
   "cell_type": "code",
   "execution_count": null,
   "id": "d8e94604-ae35-4fe1-a790-d9d34d6e446d",
   "metadata": {},
   "outputs": [],
   "source": []
  }
 ],
 "metadata": {
  "kernelspec": {
   "display_name": "Python 3 (ipykernel)",
   "language": "python",
   "name": "python3"
  },
  "language_info": {
   "codemirror_mode": {
    "name": "ipython",
    "version": 3
   },
   "file_extension": ".py",
   "mimetype": "text/x-python",
   "name": "python",
   "nbconvert_exporter": "python",
   "pygments_lexer": "ipython3",
   "version": "3.9.21"
  }
 },
 "nbformat": 4,
 "nbformat_minor": 5
}
