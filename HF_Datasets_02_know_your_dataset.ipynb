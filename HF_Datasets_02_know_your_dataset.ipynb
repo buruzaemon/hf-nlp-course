{
 "cells": [
  {
   "cell_type": "markdown",
   "id": "e7286918-905e-4980-a2e0-34d27ecf3258",
   "metadata": {},
   "source": [
    "# 🤗 Datasets"
   ]
  },
  {
   "cell_type": "markdown",
   "id": "c8da6ece-d25d-4d3d-84c7-d18e339282ae",
   "metadata": {},
   "source": [
    "## Know your dataset\n",
    "\n",
    "Please see the [Know your dataset tutorial](https://huggingface.co/docs/datasets/access#know-your-dataset) for 🤗 Datasets.\n",
    "\n",
    "##### In a nutshell...\n",
    "\n",
    "> * A `Dataset` provides fast random access to the rows, and memory-mapping so that loading even large datasets only uses a relatively small amount of device memory\n",
    "> * ...  for really, really big datasets that won’t even fit on disk or in memory, an `IterableDataset` allows you to access and use the dataset without waiting for it to download completely"
   ]
  },
  {
   "cell_type": "code",
   "execution_count": 1,
   "id": "186194d9-4688-4fb8-b41a-60d8503c583e",
   "metadata": {},
   "outputs": [],
   "source": [
    "import json\n",
    "\n",
    "from datasets import load_dataset"
   ]
  },
  {
   "cell_type": "markdown",
   "id": "b91ad28a-a3e5-4d5f-9d6d-d7562cb9f8c8",
   "metadata": {},
   "source": [
    "### `Dataset`"
   ]
  },
  {
   "cell_type": "code",
   "execution_count": 2,
   "id": "99be66df-17f7-49fb-bcff-b2b0edc58f7f",
   "metadata": {},
   "outputs": [
    {
     "data": {
      "text/plain": [
       "datasets.arrow_dataset.Dataset"
      ]
     },
     "execution_count": 2,
     "metadata": {},
     "output_type": "execute_result"
    }
   ],
   "source": [
    "#from datasets import load_dataset\n",
    "\n",
    "dataset = load_dataset(\"cornell-movie-review-data/rotten_tomatoes\", split=\"train\")\n",
    "type(dataset)"
   ]
  },
  {
   "cell_type": "markdown",
   "id": "e95a63a9-431d-490b-8f33-27a3bcc204d8",
   "metadata": {},
   "source": [
    "#### Indexing"
   ]
  },
  {
   "cell_type": "code",
   "execution_count": 3,
   "id": "d8e94604-ae35-4fe1-a790-d9d34d6e446d",
   "metadata": {},
   "outputs": [
    {
     "name": "stdout",
     "output_type": "stream",
     "text": [
      "{\n",
      "  \"text\": \"the rock is destined to be the 21st century's new \\\" conan \\\" and that he's going to make a splash even greater than arnold schwarzenegger , jean-claud van damme or steven segal .\",\n",
      "  \"label\": 1\n",
      "}\n"
     ]
    }
   ],
   "source": [
    "print(json.dumps(dataset[0], indent=2))\n",
    "#dataset[0]"
   ]
  },
  {
   "cell_type": "code",
   "execution_count": 4,
   "id": "618dcae1-3da6-44c7-941c-022a0efb9b3c",
   "metadata": {},
   "outputs": [
    {
     "name": "stdout",
     "output_type": "stream",
     "text": [
      "{\n",
      "  \"text\": \"things really get weird , though not particularly scary : the movie is all portent and no content .\",\n",
      "  \"label\": 0\n",
      "}\n"
     ]
    }
   ],
   "source": [
    "print(json.dumps(dataset[-1], indent=2))\n",
    "#dataset[-1]"
   ]
  },
  {
   "cell_type": "code",
   "execution_count": 5,
   "id": "32851bc5-2321-4c0d-9261-95ba4287ee3c",
   "metadata": {},
   "outputs": [
    {
     "data": {
      "text/plain": [
       "{'text': Value(dtype='string', id=None),\n",
       " 'label': ClassLabel(names=['neg', 'pos'], id=None)}"
      ]
     },
     "execution_count": 5,
     "metadata": {},
     "output_type": "execute_result"
    }
   ],
   "source": [
    "dataset.features"
   ]
  },
  {
   "cell_type": "raw",
   "id": "b6c7ea64-112e-4daf-8ac4-9ac963dc3750",
   "metadata": {},
   "source": [
    "#dataset[\"text\"]"
   ]
  },
  {
   "cell_type": "markdown",
   "id": "be8d89f3-f520-4e9c-9772-59e5c2dff430",
   "metadata": {},
   "source": [
    "> But it is important to remember that indexing order matters, especially when working with large audio and image datasets. Indexing by the column name returns all the values in the column first, then loads the value at that position. <span style=\"background-color:#33FFFF\">For large datasets, it may be slower to index by the column name first.</span>"
   ]
  },
  {
   "cell_type": "markdown",
   "id": "6d1ffb8a-0955-409f-b185-562b6039dfe4",
   "metadata": {},
   "source": [
    "#### Slicing"
   ]
  },
  {
   "cell_type": "code",
   "execution_count": 6,
   "id": "a87c2934-f0f5-478a-bbdb-4d24ca7630a2",
   "metadata": {},
   "outputs": [
    {
     "name": "stdout",
     "output_type": "stream",
     "text": [
      "{\n",
      "  \"text\": [\n",
      "    \"the rock is destined to be the 21st century's new \\\" conan \\\" and that he's going to make a splash even greater than arnold schwarzenegger , jean-claud van damme or steven segal .\",\n",
      "    \"the gorgeously elaborate continuation of \\\" the lord of the rings \\\" trilogy is so huge that a column of words cannot adequately describe co-writer/director peter jackson's expanded vision of j . r . r . tolkien's middle-earth .\",\n",
      "    \"effective but too-tepid biopic\"\n",
      "  ],\n",
      "  \"label\": [\n",
      "    1,\n",
      "    1,\n",
      "    1\n",
      "  ]\n",
      "}\n"
     ]
    }
   ],
   "source": [
    "print(json.dumps(dataset[:3], indent=2))\n",
    "#dataset[:3]"
   ]
  },
  {
   "cell_type": "code",
   "execution_count": 7,
   "id": "34836d45-d1b7-49bd-a021-be873af95bed",
   "metadata": {},
   "outputs": [
    {
     "name": "stdout",
     "output_type": "stream",
     "text": [
      "{\n",
      "  \"text\": [\n",
      "    \"if you sometimes like to go to the movies to have fun , wasabi is a good place to start .\",\n",
      "    \"emerges as something rare , an issue movie that's so honest and keenly observed that it doesn't feel like one .\",\n",
      "    \"the film provides some great insight into the neurotic mindset of all comics -- even those who have reached the absolute top of the game .\"\n",
      "  ],\n",
      "  \"label\": [\n",
      "    1,\n",
      "    1,\n",
      "    1\n",
      "  ]\n",
      "}\n"
     ]
    }
   ],
   "source": [
    "print(json.dumps(dataset[3:6], indent=2))\n",
    "#dataset[3:6]"
   ]
  },
  {
   "cell_type": "markdown",
   "id": "856be805-ce36-4774-9d8e-ef39ef072b08",
   "metadata": {},
   "source": [
    "### `IterableDataset`\n",
    "\n",
    "> An `IterableDataset` is loaded when you set `streaming=True` in `load_dataset()`"
   ]
  },
  {
   "cell_type": "code",
   "execution_count": 8,
   "id": "3381345a-60bc-402b-bc78-867fd8b59e85",
   "metadata": {},
   "outputs": [
    {
     "name": "stdout",
     "output_type": "stream",
     "text": [
      "{'image': <PIL.Image.Image image mode=RGB size=384x512 at 0x7FDDB58167C0>, 'label': 6}\n"
     ]
    }
   ],
   "source": [
    "#from datasets import load_dataset\n",
    "\n",
    "iterable_dataset = load_dataset(\"ethz/food101\", split=\"train\", streaming=True)\n",
    "\n",
    "for example in iterable_dataset:\n",
    "    print(example)\n",
    "    break"
   ]
  },
  {
   "cell_type": "code",
   "execution_count": 9,
   "id": "09bdccda-d9a1-4dd1-a40b-1d25f1449975",
   "metadata": {},
   "outputs": [
    {
     "data": {
      "text/plain": [
       "datasets.iterable_dataset.IterableDataset"
      ]
     },
     "execution_count": 9,
     "metadata": {},
     "output_type": "execute_result"
    }
   ],
   "source": [
    "type(iterable_dataset)"
   ]
  },
  {
   "cell_type": "code",
   "execution_count": 10,
   "id": "66050033-e566-4ce8-9e20-6dd6315ef7cc",
   "metadata": {},
   "outputs": [
    {
     "data": {
      "text/plain": [
       "[{'image': <PIL.Image.Image image mode=RGB size=384x512>, 'label': 6},\n",
       " {'image': <PIL.JpegImagePlugin.JpegImageFile image mode=RGB size=512x512>,\n",
       "  'label': 6},\n",
       " {'image': <PIL.Image.Image image mode=RGB size=512x383>, 'label': 6}]"
      ]
     },
     "execution_count": 10,
     "metadata": {},
     "output_type": "execute_result"
    }
   ],
   "source": [
    "list(iterable_dataset.take(3))"
   ]
  },
  {
   "cell_type": "code",
   "execution_count": null,
   "id": "4363a37a-2f53-45d8-8d73-1e73735950de",
   "metadata": {},
   "outputs": [],
   "source": []
  }
 ],
 "metadata": {
  "kernelspec": {
   "display_name": "Python 3 (ipykernel)",
   "language": "python",
   "name": "python3"
  },
  "language_info": {
   "codemirror_mode": {
    "name": "ipython",
    "version": 3
   },
   "file_extension": ".py",
   "mimetype": "text/x-python",
   "name": "python",
   "nbconvert_exporter": "python",
   "pygments_lexer": "ipython3",
   "version": "3.9.21"
  }
 },
 "nbformat": 4,
 "nbformat_minor": 5
}
