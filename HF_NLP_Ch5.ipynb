{
 "cells": [
  {
   "cell_type": "markdown",
   "id": "c4a4d27b-9235-43fa-997c-697e72f24e06",
   "metadata": {},
   "source": [
    "# NLP Course\n",
    "\n",
    "Please see the [Hugging Face NLP Course page](https://huggingface.co/learn/nlp-course/chapter0/1?fw=pt)."
   ]
  },
  {
   "cell_type": "markdown",
   "id": "0103742b-c355-4619-be05-ec7d0c61ad33",
   "metadata": {},
   "source": [
    "## 5. The 🤗 Datasets library"
   ]
  },
  {
   "cell_type": "markdown",
   "id": "1b4e4ff7-5fcf-49d9-9d64-0cfb2e8db0a2",
   "metadata": {},
   "source": [
    "### What if my dataset isn’t on the Hub?"
   ]
  },
  {
   "cell_type": "raw",
   "id": "89bff889-a19c-4df6-bc55-14e64e0c7c2d",
   "metadata": {},
   "source": [
    "!wget https://github.com/crux82/squad-it/raw/master/SQuAD_it-train.json.gz\n",
    "!wget https://github.com/crux82/squad-it/raw/master/SQuAD_it-test.json.gz"
   ]
  },
  {
   "cell_type": "raw",
   "id": "93fc1930-796b-43db-ab21-52a8103f33d7",
   "metadata": {},
   "source": [
    "!gzip -dkv SQuAD_it-*.json.gz"
   ]
  },
  {
   "cell_type": "code",
   "execution_count": 1,
   "id": "5a054993-6e4a-47d7-a6e2-818a7ba39dc9",
   "metadata": {},
   "outputs": [
    {
     "name": "stdout",
     "output_type": "stream",
     "text": [
      "total 627740\n",
      "drwxr-xr-x 7 so_olliphant so_olliphant      4096 Feb 18 04:29 .\n",
      "drwxr-xr-x 3 so_olliphant so_olliphant      4096 Feb 18 02:34 ..\n",
      "drwxr-xr-x 8 so_olliphant so_olliphant      4096 Feb 18 02:28 .git\n",
      "drwxr-xr-x 2 so_olliphant so_olliphant      4096 Feb 18 03:06 .ipynb_checkpoints\n",
      "-rw-r--r-- 1 so_olliphant so_olliphant     14239 Feb 18 02:28 Ch2_p38.ipynb\n",
      "-rw-r--r-- 1 so_olliphant so_olliphant     26388 Feb 18 02:51 HF_NLP_Ch2.ipynb\n",
      "-rw-r--r-- 1 so_olliphant so_olliphant     58778 Feb 18 03:05 HF_NLP_Ch3.ipynb\n",
      "-rw-r--r-- 1 so_olliphant so_olliphant      7373 Feb 18 03:06 HF_NLP_Ch4.ipynb\n",
      "-rw-r--r-- 1 so_olliphant so_olliphant    299022 Feb 18 03:54 HF_NLP_Ch5.ipynb\n",
      "-rw-r--r-- 1 so_olliphant so_olliphant    159365 Feb 18 02:28 HF_NLP_Ch6.ipynb\n",
      "-rw-r--r-- 1 so_olliphant so_olliphant        15 Feb 18 02:28 README.md\n",
      "-rw-r--r-- 1 so_olliphant so_olliphant   8385528 Feb 18 03:06 SQuAD_it-test.json\n",
      "-rw-r--r-- 1 so_olliphant so_olliphant   1051245 Feb 18 03:06 SQuAD_it-test.json.gz\n",
      "-rw-r--r-- 1 so_olliphant so_olliphant  43605829 Feb 18 03:06 SQuAD_it-train.json\n",
      "-rw-r--r-- 1 so_olliphant so_olliphant   7725286 Feb 18 03:06 SQuAD_it-train.json.gz\n",
      "drwxr-xr-x 5 so_olliphant so_olliphant      4096 Feb 18 03:26 drug-reviews\n",
      "-rw-r--r-- 1 so_olliphant so_olliphant 106288152 Feb 18 03:50 drug-reviews-test.jsonl\n",
      "-rw-r--r-- 1 so_olliphant so_olliphant 255839630 Feb 18 03:50 drug-reviews-train.jsonl\n",
      "-rw-r--r-- 1 so_olliphant so_olliphant  63913350 Feb 18 03:50 drug-reviews-validation.jsonl\n",
      "-rw-r--r-- 1 so_olliphant so_olliphant  28071166 Oct  2  2018 drugsComTest_raw.tsv\n",
      "-rw-r--r-- 1 so_olliphant so_olliphant  84289175 Oct  2  2018 drugsComTrain_raw.tsv\n",
      "-rw-r--r-- 1 so_olliphant so_olliphant  42989872 Feb 18 03:07 drugsCom_raw.zip\n",
      "-rw-r--r-- 1 so_olliphant so_olliphant     14948 Feb 18 02:28 environment.yml\n",
      "drwxr-xr-x 2 so_olliphant so_olliphant      4096 Feb 18 03:05 mydir\n",
      "drwxr-xr-x 5 so_olliphant so_olliphant      4096 Feb 18 02:55 test-trainer\n"
     ]
    }
   ],
   "source": [
    "!ls -la"
   ]
  },
  {
   "cell_type": "markdown",
   "id": "34396fb9-434a-4368-9b03-1b21ff9835fb",
   "metadata": {},
   "source": [
    "----"
   ]
  },
  {
   "cell_type": "markdown",
   "id": "3562cce4-8171-4355-89c0-ac36f491405e",
   "metadata": {},
   "source": [
    "##### When there are separate datafiles for train, test, etc.\n",
    "\n",
    "Loading the local datafile `SQuAD_it-train.json` (after `gunzip`ing). Also, we know that the `data` JSON object (an array) contains the data examples."
   ]
  },
  {
   "cell_type": "code",
   "execution_count": 2,
   "id": "087fdb6b-cd1b-49e9-a823-014b2e57a860",
   "metadata": {},
   "outputs": [
    {
     "name": "stdout",
     "output_type": "stream",
     "text": [
      "{\n",
      "    \"data\": [\n",
      "        {\n",
      "            \"title\": \"Terremoto del Sichuan del 2008\",\n",
      "            \"paragraphs\": [\n",
      "                {\n",
      "                    \"context\": \"Il terremoto del Sichuan del 2008 o il terremoto del Gran Sichuan, misurato a 8.0 Ms e 7.9 Mw, e si è verificato alle 02:28:01 PM China Standard Time all' epicentro (06:28:01 UTC) il 12 maggio nella provincia del Sichuan, ha ucciso 69.197 persone e lasciato 18.222 dispersi.\",\n",
      "                    \"qas\": [\n",
      "                        {\n",
      "                            \"id\": \"56cdca7862d2951400fa6826\",\n",
      "                            \"answers\": [\n",
      "                                {\n",
      "                                    \"text\": \"2008\",\n",
      "                                    \"answer_start\": 29\n",
      "                                }\n",
      "                            ],\n",
      "                            \"question\": \"In quale anno si è verificato il terremoto nel Sichuan?\"\n",
      "                        },\n",
      "                        {\n",
      "                            \"id\": \"56cdca7862d2951400fa6828\",\n"
     ]
    }
   ],
   "source": [
    "!head -n 20 SQuAD_it-train.json"
   ]
  },
  {
   "cell_type": "code",
   "execution_count": 3,
   "id": "16149f38-7bfc-4a5e-85ab-74549823cf7e",
   "metadata": {},
   "outputs": [
    {
     "data": {
      "text/plain": [
       "DatasetDict({\n",
       "    train: Dataset({\n",
       "        features: ['title', 'paragraphs'],\n",
       "        num_rows: 442\n",
       "    })\n",
       "})"
      ]
     },
     "execution_count": 3,
     "metadata": {},
     "output_type": "execute_result"
    }
   ],
   "source": [
    "from datasets import load_dataset\n",
    "\n",
    "squad_it_dataset = load_dataset(\"json\", data_files=\"SQuAD_it-train.json\", field=\"data\")\n",
    "squad_it_dataset"
   ]
  },
  {
   "cell_type": "raw",
   "id": "0c8b967c-7b22-431e-8263-0cacfd5713a1",
   "metadata": {},
   "source": [
    "squad_it_dataset[\"train\"][0]"
   ]
  },
  {
   "cell_type": "markdown",
   "id": "22d7a311-da32-45f1-8466-55639edc818d",
   "metadata": {},
   "source": [
    "----"
   ]
  },
  {
   "cell_type": "markdown",
   "id": "7f47acaa-71c9-479e-b5bf-e65a93b59a44",
   "metadata": {},
   "source": [
    "##### Using a `dict` where the keys are the dataset split names; and the values are the local `gunzip`ped datafiles"
   ]
  },
  {
   "cell_type": "code",
   "execution_count": 4,
   "id": "5f04d714-0435-48f5-91a8-947087119ddd",
   "metadata": {},
   "outputs": [
    {
     "data": {
      "text/plain": [
       "DatasetDict({\n",
       "    train: Dataset({\n",
       "        features: ['title', 'paragraphs'],\n",
       "        num_rows: 442\n",
       "    })\n",
       "    test: Dataset({\n",
       "        features: ['title', 'paragraphs'],\n",
       "        num_rows: 48\n",
       "    })\n",
       "})"
      ]
     },
     "execution_count": 4,
     "metadata": {},
     "output_type": "execute_result"
    }
   ],
   "source": [
    "data_files = {\n",
    "    \"train\": \"SQuAD_it-train.json\", \n",
    "    \"test\": \"SQuAD_it-test.json\"\n",
    "}\n",
    "\n",
    "squad_it_dataset = load_dataset(\"json\", data_files=data_files, field=\"data\")\n",
    "squad_it_dataset"
   ]
  },
  {
   "cell_type": "markdown",
   "id": "79ace2ce-faef-458d-a6d5-a3bf311e5c76",
   "metadata": {},
   "source": [
    "----"
   ]
  },
  {
   "cell_type": "markdown",
   "id": "9ca8b9c0-7f6a-4fd3-ad1c-49c51a8fb07e",
   "metadata": {},
   "source": [
    "##### Using a `dict` where the keys are the dataset split names; and the values are the download `gz` archive files"
   ]
  },
  {
   "cell_type": "code",
   "execution_count": 5,
   "id": "d16bcbdd-aa2a-4869-bc3e-3db01f964050",
   "metadata": {},
   "outputs": [
    {
     "data": {
      "text/plain": [
       "DatasetDict({\n",
       "    train: Dataset({\n",
       "        features: ['title', 'paragraphs'],\n",
       "        num_rows: 442\n",
       "    })\n",
       "    test: Dataset({\n",
       "        features: ['title', 'paragraphs'],\n",
       "        num_rows: 48\n",
       "    })\n",
       "})"
      ]
     },
     "execution_count": 5,
     "metadata": {},
     "output_type": "execute_result"
    }
   ],
   "source": [
    "data_files = {\n",
    "    \"train\": \"SQuAD_it-train.json.gz\", \n",
    "    \"test\": \"SQuAD_it-test.json.gz\"\n",
    "}\n",
    "\n",
    "squad_it_dataset = load_dataset(\"json\", data_files=data_files, field=\"data\")\n",
    "squad_it_dataset"
   ]
  },
  {
   "cell_type": "markdown",
   "id": "44af157f-cb6f-491e-804c-081cb8affaf1",
   "metadata": {},
   "source": [
    "----"
   ]
  },
  {
   "cell_type": "markdown",
   "id": "9b7e0bd6-1e77-4b39-876e-39934427e57c",
   "metadata": {},
   "source": [
    "##### Using a `dict` where the keys are the dataset split names; and the values are the URLs for the target data archive files."
   ]
  },
  {
   "cell_type": "code",
   "execution_count": 6,
   "id": "8e2c2f55-17f8-43e4-a114-e411ed681900",
   "metadata": {},
   "outputs": [
    {
     "data": {
      "text/plain": [
       "DatasetDict({\n",
       "    train: Dataset({\n",
       "        features: ['title', 'paragraphs'],\n",
       "        num_rows: 442\n",
       "    })\n",
       "    test: Dataset({\n",
       "        features: ['title', 'paragraphs'],\n",
       "        num_rows: 48\n",
       "    })\n",
       "})"
      ]
     },
     "execution_count": 6,
     "metadata": {},
     "output_type": "execute_result"
    }
   ],
   "source": [
    "base_url = \"https://github.com/crux82/squad-it/raw/master/\"\n",
    "\n",
    "data_files = {\n",
    "    \"train\": f\"{base_url}SQuAD_it-train.json.gz\",\n",
    "    \"test\":  f\"{base_url}SQuAD_it-test.json.gz\",\n",
    "}\n",
    "\n",
    "squad_it_dataset = load_dataset(\"json\", data_files=data_files, field=\"data\")\n",
    "squad_it_dataset"
   ]
  },
  {
   "cell_type": "markdown",
   "id": "a0cf08bd-0582-4488-8467-a94c6c770fed",
   "metadata": {},
   "source": [
    "### Time to slice and dice"
   ]
  },
  {
   "cell_type": "raw",
   "id": "06c67462-7c45-46c0-a0f1-b362e5cab503",
   "metadata": {},
   "source": [
    "!wget \"https://archive.ics.uci.edu/ml/machine-learning-databases/00462/drugsCom_raw.zip\"\n",
    "!unzip drugsCom_raw.zip"
   ]
  },
  {
   "cell_type": "code",
   "execution_count": 7,
   "id": "93a983a4-9148-4723-905e-83951df20c3f",
   "metadata": {},
   "outputs": [
    {
     "name": "stdout",
     "output_type": "stream",
     "text": [
      "total 627740\n",
      "drwxr-xr-x 7 so_olliphant so_olliphant      4096 Feb 18 04:29 .\n",
      "drwxr-xr-x 3 so_olliphant so_olliphant      4096 Feb 18 02:34 ..\n",
      "drwxr-xr-x 8 so_olliphant so_olliphant      4096 Feb 18 02:28 .git\n",
      "drwxr-xr-x 2 so_olliphant so_olliphant      4096 Feb 18 03:06 .ipynb_checkpoints\n",
      "-rw-r--r-- 1 so_olliphant so_olliphant     14239 Feb 18 02:28 Ch2_p38.ipynb\n",
      "-rw-r--r-- 1 so_olliphant so_olliphant     26388 Feb 18 02:51 HF_NLP_Ch2.ipynb\n",
      "-rw-r--r-- 1 so_olliphant so_olliphant     58778 Feb 18 03:05 HF_NLP_Ch3.ipynb\n",
      "-rw-r--r-- 1 so_olliphant so_olliphant      7373 Feb 18 03:06 HF_NLP_Ch4.ipynb\n",
      "-rw-r--r-- 1 so_olliphant so_olliphant    299022 Feb 18 03:54 HF_NLP_Ch5.ipynb\n",
      "-rw-r--r-- 1 so_olliphant so_olliphant    159365 Feb 18 02:28 HF_NLP_Ch6.ipynb\n",
      "-rw-r--r-- 1 so_olliphant so_olliphant        15 Feb 18 02:28 README.md\n",
      "-rw-r--r-- 1 so_olliphant so_olliphant   8385528 Feb 18 03:06 SQuAD_it-test.json\n",
      "-rw-r--r-- 1 so_olliphant so_olliphant   1051245 Feb 18 03:06 SQuAD_it-test.json.gz\n",
      "-rw-r--r-- 1 so_olliphant so_olliphant  43605829 Feb 18 03:06 SQuAD_it-train.json\n",
      "-rw-r--r-- 1 so_olliphant so_olliphant   7725286 Feb 18 03:06 SQuAD_it-train.json.gz\n",
      "drwxr-xr-x 5 so_olliphant so_olliphant      4096 Feb 18 03:26 drug-reviews\n",
      "-rw-r--r-- 1 so_olliphant so_olliphant 106288152 Feb 18 03:50 drug-reviews-test.jsonl\n",
      "-rw-r--r-- 1 so_olliphant so_olliphant 255839630 Feb 18 03:50 drug-reviews-train.jsonl\n",
      "-rw-r--r-- 1 so_olliphant so_olliphant  63913350 Feb 18 03:50 drug-reviews-validation.jsonl\n",
      "-rw-r--r-- 1 so_olliphant so_olliphant  28071166 Oct  2  2018 drugsComTest_raw.tsv\n",
      "-rw-r--r-- 1 so_olliphant so_olliphant  84289175 Oct  2  2018 drugsComTrain_raw.tsv\n",
      "-rw-r--r-- 1 so_olliphant so_olliphant  42989872 Feb 18 03:07 drugsCom_raw.zip\n",
      "-rw-r--r-- 1 so_olliphant so_olliphant     14948 Feb 18 02:28 environment.yml\n",
      "drwxr-xr-x 2 so_olliphant so_olliphant      4096 Feb 18 03:05 mydir\n",
      "drwxr-xr-x 5 so_olliphant so_olliphant      4096 Feb 18 02:55 test-trainer\n"
     ]
    }
   ],
   "source": [
    "!ls -la"
   ]
  },
  {
   "cell_type": "code",
   "execution_count": 8,
   "id": "a2c56013-4c8f-4337-ac3f-eb8bb548c007",
   "metadata": {},
   "outputs": [
    {
     "data": {
      "text/plain": [
       "DatasetDict({\n",
       "    train: Dataset({\n",
       "        features: ['Unnamed: 0', 'drugName', 'condition', 'review', 'rating', 'date', 'usefulCount'],\n",
       "        num_rows: 161297\n",
       "    })\n",
       "    test: Dataset({\n",
       "        features: ['Unnamed: 0', 'drugName', 'condition', 'review', 'rating', 'date', 'usefulCount'],\n",
       "        num_rows: 53766\n",
       "    })\n",
       "})"
      ]
     },
     "execution_count": 8,
     "metadata": {},
     "output_type": "execute_result"
    }
   ],
   "source": [
    "from datasets import load_dataset\n",
    "\n",
    "data_files = {\n",
    "    \"train\": \"drugsComTrain_raw.tsv\", \n",
    "    \"test\": \"drugsComTest_raw.tsv\"\n",
    "}\n",
    "\n",
    "# \\t is the tab character in Python\n",
    "drug_dataset = load_dataset(\"csv\", data_files=data_files, delimiter=\"\\t\")\n",
    "drug_dataset"
   ]
  },
  {
   "cell_type": "code",
   "execution_count": 9,
   "id": "8f0a0194-5208-4828-a588-edaeb4a3fdd9",
   "metadata": {},
   "outputs": [
    {
     "data": {
      "text/plain": [
       "{'Unnamed: 0': [87571, 178045, 80482],\n",
       " 'drugName': ['Naproxen', 'Duloxetine', 'Mobic'],\n",
       " 'condition': ['Gout, Acute', 'ibromyalgia', 'Inflammatory Conditions'],\n",
       " 'review': ['\"like the previous person mention, I&#039;m a strong believer of aleve, it works faster for my gout than the prescription meds I take. No more going to the doctor for refills.....Aleve works!\"',\n",
       "  '\"I have taken Cymbalta for about a year and a half for fibromyalgia pain. It is great\\r\\nas a pain reducer and an anti-depressant, however, the side effects outweighed \\r\\nany benefit I got from it. I had trouble with restlessness, being tired constantly,\\r\\ndizziness, dry mouth, numbness and tingling in my feet, and horrible sweating. I am\\r\\nbeing weaned off of it now. Went from 60 mg to 30mg and now to 15 mg. I will be\\r\\noff completely in about a week. The fibro pain is coming back, but I would rather deal with it than the side effects.\"',\n",
       "  '\"I have been taking Mobic for over a year with no side effects other than an elevated blood pressure.  I had severe knee and ankle pain which completely went away after taking Mobic.  I attempted to stop the medication however pain returned after a few days.\"'],\n",
       " 'rating': [9.0, 3.0, 10.0],\n",
       " 'date': ['September 2, 2015', 'November 7, 2011', 'June 5, 2013'],\n",
       " 'usefulCount': [36, 13, 128]}"
      ]
     },
     "execution_count": 9,
     "metadata": {},
     "output_type": "execute_result"
    }
   ],
   "source": [
    "drug_sample = drug_dataset[\"train\"].shuffle(seed=42).select(range(1000))\n",
    "# Peek at the first few examples\n",
    "drug_sample[:3]"
   ]
  },
  {
   "cell_type": "markdown",
   "id": "d8ee8333-d7e7-429f-81ef-71334f8b73cf",
   "metadata": {},
   "source": [
    "> * The Unnamed: 0 column looks suspiciously like an anonymized ID for each patient.<br/>"
   ]
  },
  {
   "cell_type": "code",
   "execution_count": 10,
   "id": "a34c4214-2d2d-4cdb-973d-e2a72d5e7502",
   "metadata": {},
   "outputs": [],
   "source": [
    "for split in drug_dataset.keys():\n",
    "    assert len(drug_dataset[split]) == len(drug_dataset[split].unique(\"Unnamed: 0\"))"
   ]
  },
  {
   "cell_type": "code",
   "execution_count": 11,
   "id": "186ad5d1-b80e-41ca-915e-acd9b12ec02b",
   "metadata": {},
   "outputs": [
    {
     "data": {
      "text/plain": [
       "DatasetDict({\n",
       "    train: Dataset({\n",
       "        features: ['patient_id', 'drugName', 'condition', 'review', 'rating', 'date', 'usefulCount'],\n",
       "        num_rows: 161297\n",
       "    })\n",
       "    test: Dataset({\n",
       "        features: ['patient_id', 'drugName', 'condition', 'review', 'rating', 'date', 'usefulCount'],\n",
       "        num_rows: 53766\n",
       "    })\n",
       "})"
      ]
     },
     "execution_count": 11,
     "metadata": {},
     "output_type": "execute_result"
    }
   ],
   "source": [
    "drug_dataset = drug_dataset.rename_column(\n",
    "    original_column_name=\"Unnamed: 0\", new_column_name=\"patient_id\"\n",
    ")\n",
    "\n",
    "drug_dataset"
   ]
  },
  {
   "cell_type": "code",
   "execution_count": 12,
   "id": "3c872519-97ab-4bbe-a351-eb6859d14533",
   "metadata": {},
   "outputs": [
    {
     "name": "stdout",
     "output_type": "stream",
     "text": [
      "Help on method unique in module datasets.arrow_dataset:\n",
      "\n",
      "unique(column: str) -> List method of datasets.arrow_dataset.Dataset instance\n",
      "    Return a list of the unique elements in a column.\n",
      "    \n",
      "    This is implemented in the low-level backend and as such, very fast.\n",
      "    \n",
      "    Args:\n",
      "        column (`str`):\n",
      "            Column name (list all the column names with [`~datasets.Dataset.column_names`]).\n",
      "    \n",
      "    Returns:\n",
      "        `list`: List of unique elements in the given column.\n",
      "    \n",
      "    Example:\n",
      "    \n",
      "    ```py\n",
      "    >>> from datasets import load_dataset\n",
      "    >>> ds = load_dataset(\"cornell-movie-review-data/rotten_tomatoes\", split=\"validation\")\n",
      "    >>> ds.unique('label')\n",
      "    [1, 0]\n",
      "    ```\n",
      "\n"
     ]
    }
   ],
   "source": [
    "help(drug_dataset[\"train\"].unique)"
   ]
  },
  {
   "cell_type": "code",
   "execution_count": 13,
   "id": "6fac804d-e7d9-480b-8908-f6467e3c5c0e",
   "metadata": {},
   "outputs": [
    {
     "name": "stdout",
     "output_type": "stream",
     "text": [
      "after filtering out rows where drugName or condition are empty:\n",
      "DatasetDict({\n",
      "    train: Dataset({\n",
      "        features: ['patient_id', 'drugName', 'condition', 'review', 'rating', 'date', 'usefulCount'],\n",
      "        num_rows: 160398\n",
      "    })\n",
      "    test: Dataset({\n",
      "        features: ['patient_id', 'drugName', 'condition', 'review', 'rating', 'date', 'usefulCount'],\n",
      "        num_rows: 53471\n",
      "    })\n",
      "})\n",
      "train, unique drug names: 3431\n",
      "train, unique conditions: 884\n",
      "\n",
      "test, unique drug names: 2635\n",
      "test, unique conditions: 708\n"
     ]
    }
   ],
   "source": [
    "drug_dataset = drug_dataset.filter(lambda r: r['drugName'] is not None and len(r['drugName'].strip()) > 0)\n",
    "drug_dataset = drug_dataset.filter(lambda r: r['condition'] is not None and len(r['drugName'].strip()) > 0)\n",
    "\n",
    "print(f\"after filtering out rows where drugName or condition are empty:\\n{drug_dataset}\")\n",
    "\n",
    "# train\n",
    "drug_names = [\n",
    "    n.lower() \n",
    "    for n in drug_dataset['train'].unique('drugName')\n",
    "]\n",
    "conditions = [\n",
    "    n.lower() \n",
    "    for n in drug_dataset['train'].unique('condition')\n",
    "]\n",
    "\n",
    "print(f\"train, unique drug names: {len(drug_names)}\")\n",
    "print(f\"train, unique conditions: {len(conditions)}\")\n",
    "\n",
    "print()\n",
    "\n",
    "# test\n",
    "drug_names = [\n",
    "    n.lower() \n",
    "    for n in drug_dataset['test'].unique('drugName')\n",
    "]\n",
    "conditions = [\n",
    "    n.lower() \n",
    "    for n in drug_dataset['test'].unique('condition')\n",
    "]\n",
    "\n",
    "print(f\"test, unique drug names: {len(drug_names)}\")\n",
    "print(f\"test, unique conditions: {len(conditions)}\")"
   ]
  },
  {
   "cell_type": "markdown",
   "id": "3daa54dd-1915-4232-88e9-98ee396e8120",
   "metadata": {},
   "source": [
    "----"
   ]
  },
  {
   "cell_type": "markdown",
   "id": "eeb32857-a315-424c-8b34-427942efec7f",
   "metadata": {},
   "source": [
    "> * The condition column includes a mix of uppercase and lowercase labels.<br/>"
   ]
  },
  {
   "cell_type": "code",
   "execution_count": 14,
   "id": "cd121311-c0e7-48d5-9da1-2a8d9cb753fb",
   "metadata": {},
   "outputs": [],
   "source": [
    "def lowercase_condition(example):\n",
    "    return {\"condition\": example[\"condition\"].lower()}\n",
    "\n",
    "drug_dataset = drug_dataset.map(lowercase_condition)"
   ]
  },
  {
   "cell_type": "code",
   "execution_count": 15,
   "id": "5ade5213-4b8f-4d3d-bae9-eb7b8b6b0d3c",
   "metadata": {},
   "outputs": [
    {
     "data": {
      "text/plain": [
       "['left ventricular dysfunction', 'adhd', 'birth control']"
      ]
     },
     "execution_count": 15,
     "metadata": {},
     "output_type": "execute_result"
    }
   ],
   "source": [
    "# Check that lowercasing worked\n",
    "drug_dataset[\"train\"][\"condition\"][:3]"
   ]
  },
  {
   "cell_type": "markdown",
   "id": "fd9c80fb-beb4-4fed-b466-75ab84d18edc",
   "metadata": {},
   "source": [
    "..."
   ]
  },
  {
   "cell_type": "code",
   "execution_count": 16,
   "id": "5ebce855-6d7e-4e7d-9ad3-ad72833a4c8e",
   "metadata": {},
   "outputs": [],
   "source": [
    "def compute_review_length(example):\n",
    "    return {\"review_length\": len(example[\"review\"].split())}"
   ]
  },
  {
   "cell_type": "code",
   "execution_count": 17,
   "id": "cca4f5b5-0ccb-4200-ae29-261cacc0058a",
   "metadata": {},
   "outputs": [
    {
     "data": {
      "text/plain": [
       "{'patient_id': 206461,\n",
       " 'drugName': 'Valsartan',\n",
       " 'condition': 'left ventricular dysfunction',\n",
       " 'review': '\"It has no side effect, I take it in combination of Bystolic 5 Mg and Fish Oil\"',\n",
       " 'rating': 9.0,\n",
       " 'date': 'May 20, 2012',\n",
       " 'usefulCount': 27,\n",
       " 'review_length': 17}"
      ]
     },
     "execution_count": 17,
     "metadata": {},
     "output_type": "execute_result"
    }
   ],
   "source": [
    "drug_dataset = drug_dataset.map(compute_review_length)\n",
    "\n",
    "# Inspect the first training example\n",
    "drug_dataset[\"train\"][0]"
   ]
  },
  {
   "cell_type": "code",
   "execution_count": 18,
   "id": "ef822238-2001-4b6e-9c39-c1daafd1616e",
   "metadata": {},
   "outputs": [
    {
     "data": {
      "text/plain": [
       "{'patient_id': [111469, 13653, 53602],\n",
       " 'drugName': ['Ledipasvir / sofosbuvir',\n",
       "  'Amphetamine / dextroamphetamine',\n",
       "  'Alesse'],\n",
       " 'condition': ['hepatitis c', 'adhd', 'birth control'],\n",
       " 'review': ['\"Headache\"', '\"Great\"', '\"Awesome\"'],\n",
       " 'rating': [10.0, 10.0, 10.0],\n",
       " 'date': ['February 3, 2015', 'October 20, 2009', 'November 23, 2015'],\n",
       " 'usefulCount': [41, 3, 0],\n",
       " 'review_length': [1, 1, 1]}"
      ]
     },
     "execution_count": 18,
     "metadata": {},
     "output_type": "execute_result"
    }
   ],
   "source": [
    "drug_dataset[\"train\"].sort(\"review_length\")[:3]"
   ]
  },
  {
   "cell_type": "code",
   "execution_count": 19,
   "id": "9350e9c0-ae62-4377-b70a-fe4cc3311891",
   "metadata": {},
   "outputs": [
    {
     "name": "stdout",
     "output_type": "stream",
     "text": [
      "{'train': 138514, 'test': 46108}\n"
     ]
    }
   ],
   "source": [
    "drug_dataset = drug_dataset.filter(lambda x: x[\"review_length\"] > 30)\n",
    "\n",
    "print(drug_dataset.num_rows)"
   ]
  },
  {
   "cell_type": "markdown",
   "id": "08e07492-2feb-40d4-88cb-1fbff9c54397",
   "metadata": {},
   "source": [
    "> * The reviews are of varying length and contain a mix of Python line separators (\\r\\n) as well as HTML character codes like &\\#039;."
   ]
  },
  {
   "cell_type": "code",
   "execution_count": 20,
   "id": "9fb8215a-123f-4d72-88c1-b0527c923053",
   "metadata": {},
   "outputs": [],
   "source": [
    "import html"
   ]
  },
  {
   "cell_type": "code",
   "execution_count": 21,
   "id": "436b05a9-f45b-4f9e-b7db-1af7247da692",
   "metadata": {},
   "outputs": [
    {
     "name": "stdout",
     "output_type": "stream",
     "text": [
      "CPU times: user 6.49 ms, sys: 4.47 ms, total: 11 ms\n",
      "Wall time: 9.95 ms\n"
     ]
    }
   ],
   "source": [
    "%time drug_dataset = drug_dataset.map(lambda x: {\"review\": html.unescape(x[\"review\"])})"
   ]
  },
  {
   "cell_type": "markdown",
   "id": "9bc018be-50a5-4a65-a3e0-249dc32e1bd9",
   "metadata": {},
   "source": [
    "..."
   ]
  },
  {
   "cell_type": "markdown",
   "id": "6ac364d3-f181-42f7-b615-d746173c88ac",
   "metadata": {},
   "source": [
    "`map` method's superpowers?\n",
    "\n",
    "... with `batched=True`, this should be slightly faster?"
   ]
  },
  {
   "cell_type": "code",
   "execution_count": 22,
   "id": "2f05cf3e-40ce-409a-8215-5009f94cbd71",
   "metadata": {},
   "outputs": [
    {
     "name": "stdout",
     "output_type": "stream",
     "text": [
      "CPU times: user 0 ns, sys: 11.6 ms, total: 11.6 ms\n",
      "Wall time: 9.71 ms\n"
     ]
    }
   ],
   "source": [
    "%time _ = drug_dataset.map(lambda x: {\"review\": [html.unescape(o) for o in x[\"review\"]]}, batched=True)"
   ]
  },
  {
   "cell_type": "markdown",
   "id": "ab27282c-4c9a-4383-a5bb-72dd04645a6c",
   "metadata": {},
   "source": [
    "----"
   ]
  },
  {
   "cell_type": "code",
   "execution_count": 23,
   "id": "fa0bb09c-8b9c-43e9-8b7a-961c83ce5fa1",
   "metadata": {},
   "outputs": [],
   "source": [
    "from transformers import AutoTokenizer\n",
    "\n",
    "tokenizer_slow = AutoTokenizer.from_pretrained(\"bert-base-cased\", use_fast=False)\n",
    "tokenizer_fast = AutoTokenizer.from_pretrained(\"bert-base-cased\", use_fast=True)\n",
    "\n",
    "def tokenize_function_slow(examples):\n",
    "    return tokenizer_slow(examples[\"review\"], truncation=True)\n",
    "\n",
    "def tokenize_function_fast(examples):\n",
    "    return tokenizer_fast(examples[\"review\"], truncation=True)"
   ]
  },
  {
   "cell_type": "code",
   "execution_count": 24,
   "id": "c9dbc3bc-ef65-4ffa-857f-15c91353dfe8",
   "metadata": {},
   "outputs": [
    {
     "name": "stdout",
     "output_type": "stream",
     "text": [
      "CPU times: user 607 ms, sys: 3.43 ms, total: 610 ms\n",
      "Wall time: 608 ms\n"
     ]
    }
   ],
   "source": [
    "%time _ = drug_dataset.map(tokenize_function_slow, batched=True)"
   ]
  },
  {
   "cell_type": "code",
   "execution_count": 25,
   "id": "52ec36ab-640b-41c6-9c8e-806c141aba6d",
   "metadata": {},
   "outputs": [
    {
     "name": "stdout",
     "output_type": "stream",
     "text": [
      "CPU times: user 617 ms, sys: 7.41 ms, total: 624 ms\n",
      "Wall time: 622 ms\n"
     ]
    }
   ],
   "source": [
    "%time _ = drug_dataset.map(tokenize_function_slow, batched=False)"
   ]
  },
  {
   "cell_type": "code",
   "execution_count": 26,
   "id": "9590de31-eeb0-4b86-8676-4bc2af2a569e",
   "metadata": {},
   "outputs": [
    {
     "name": "stdout",
     "output_type": "stream",
     "text": [
      "CPU times: user 29.3 ms, sys: 91 µs, total: 29.4 ms\n",
      "Wall time: 27.5 ms\n"
     ]
    }
   ],
   "source": [
    "%time _ = drug_dataset.map(tokenize_function_fast, batched=True)"
   ]
  },
  {
   "cell_type": "code",
   "execution_count": 27,
   "id": "75fe5547-1872-4556-8b86-c185adcd8ca3",
   "metadata": {},
   "outputs": [
    {
     "data": {
      "application/vnd.jupyter.widget-view+json": {
       "model_id": "74847aa13fe54f76a43af5223f033cdb",
       "version_major": 2,
       "version_minor": 0
      },
      "text/plain": [
       "Map:   0%|          | 0/138514 [00:00<?, ? examples/s]"
      ]
     },
     "metadata": {},
     "output_type": "display_data"
    },
    {
     "name": "stdout",
     "output_type": "stream",
     "text": [
      "CPU times: user 1min 20s, sys: 368 ms, total: 1min 20s\n",
      "Wall time: 1min 20s\n"
     ]
    }
   ],
   "source": [
    "%time _ = drug_dataset.map(tokenize_function_fast, batched=False)"
   ]
  },
  {
   "cell_type": "markdown",
   "id": "fe41a387-faea-4a89-9ecd-726a60e2e861",
   "metadata": {},
   "source": [
    "..."
   ]
  },
  {
   "cell_type": "code",
   "execution_count": 28,
   "id": "843309c4-5182-48dd-a645-15e61d64bd48",
   "metadata": {},
   "outputs": [],
   "source": [
    "slow_tokenizer = AutoTokenizer.from_pretrained(\"bert-base-cased\", use_fast=False)\n",
    "\n",
    "def slow_tokenize_function(examples):\n",
    "    return slow_tokenizer(examples[\"review\"], truncation=True)"
   ]
  },
  {
   "cell_type": "code",
   "execution_count": 29,
   "id": "3c1abc9a-f3ed-4e59-92e2-58206acbf749",
   "metadata": {},
   "outputs": [
    {
     "name": "stdout",
     "output_type": "stream",
     "text": [
      "CPU times: user 725 ms, sys: 3.95 ms, total: 729 ms\n",
      "Wall time: 727 ms\n"
     ]
    }
   ],
   "source": [
    "%time _ = drug_dataset.map(slow_tokenize_function, batched=True, num_proc=8)"
   ]
  },
  {
   "cell_type": "markdown",
   "id": "1c104b88-aec9-4a96-9fc3-a74640308e7f",
   "metadata": {},
   "source": [
    "..."
   ]
  },
  {
   "cell_type": "code",
   "execution_count": 30,
   "id": "fd49086e-2882-4f90-bffe-b6a724191dc1",
   "metadata": {},
   "outputs": [],
   "source": [
    "# was this line left out of the tutorial???\n",
    "tokenizer = AutoTokenizer.from_pretrained(\"bert-base-cased\", use_fast=True)\n",
    "\n",
    "def tokenize_and_split(examples):\n",
    "    return tokenizer(\n",
    "        examples[\"review\"],\n",
    "        truncation=True,\n",
    "        max_length=128,\n",
    "        return_overflowing_tokens=True,\n",
    "    )"
   ]
  },
  {
   "cell_type": "code",
   "execution_count": 31,
   "id": "f6048ff7-95c6-43cb-9567-f614f97d862f",
   "metadata": {},
   "outputs": [
    {
     "data": {
      "text/plain": [
       "[128, 49]"
      ]
     },
     "execution_count": 31,
     "metadata": {},
     "output_type": "execute_result"
    }
   ],
   "source": [
    "result = tokenize_and_split(drug_dataset[\"train\"][0])\n",
    "[len(inp) for inp in result[\"input_ids\"]]"
   ]
  },
  {
   "cell_type": "markdown",
   "id": "affcd745-de90-4b11-a5af-1a9cd85f8339",
   "metadata": {},
   "source": [
    "##### WARNING\n",
    "\n",
    "The next code block will throw up and error regarding `ArrowInvalid: Column 8 named input_ids expected length 1000 but got length 1463`"
   ]
  },
  {
   "cell_type": "raw",
   "id": "f173189f-3457-46d0-8bde-87a821b70c2a",
   "metadata": {
    "scrolled": true
   },
   "source": [
    "tokenized_dataset = drug_dataset.map(tokenize_and_split, batched=True)"
   ]
  },
  {
   "cell_type": "markdown",
   "id": "2424e682-4a2f-4a6f-95b3-6d7107c1b8e4",
   "metadata": {},
   "source": [
    "<hr width=40%/>\n",
    "\n",
    "##### Uh, wtf? Or, I think we need a bit more clarification...\n",
    "\n",
    "OK, that HF tutorial is not at all clear as to what happens with `return_overflowing_tokens`. \n",
    "\n",
    "Let's take a quick detour and dig just a bit more into the behavior when using `return_overflowing_tokens`..."
   ]
  },
  {
   "cell_type": "code",
   "execution_count": 32,
   "id": "24a76291-5dd8-4f2c-86a9-9dfcbd484ade",
   "metadata": {},
   "outputs": [
    {
     "name": "stdout",
     "output_type": "stream",
     "text": [
      "\n",
      "Original example string: this is an example and context is important to retrieve meaningful contextualized token embeddings from the self attention mechanism of the transformer\n",
      "\n",
      "Tokenized, this string has 32 tokens:\n",
      "['<s>', 'this', 'is', 'an', 'example', 'and', 'context', 'is', 'important', 'to', 're', 'tri', 'eve', 'meaning', 'ful', 'context', 'ual', 'ized', 'to', 'ken', '', 'embe', 'dding', 's', 'from', 'the', 'self', 'attention', 'mechanism', 'of', 'the', 'transform', 'er', '</s>']\n"
     ]
    }
   ],
   "source": [
    "from transformers import XLMRobertaTokenizerFast\n",
    "\n",
    "model_id = \"xlm-roberta-large-finetuned-conll03-english\"\n",
    "t = XLMRobertaTokenizerFast.from_pretrained(model_id)\n",
    "\n",
    "sample = \"this is an example and context is important to retrieve meaningful contextualized token embeddings from the self attention mechanism of the transformer\"\n",
    "encoded_default = t(sample, truncation=True).input_ids\n",
    "\n",
    "print()\n",
    "print(f\"Original example string: {sample}\")\n",
    "print()\n",
    "print(f\"Tokenized, this string has {len(t.tokenize(sample))} tokens:\\n{t.batch_decode(encoded_default)}\")"
   ]
  },
  {
   "cell_type": "code",
   "execution_count": 33,
   "id": "855968eb-0beb-47c5-aa87-9c22edb716b6",
   "metadata": {},
   "outputs": [
    {
     "name": "stdout",
     "output_type": "stream",
     "text": [
      "Setting max_length in tokenization to: 10\n",
      "Now the tokens look like this:\n",
      "['<s>', 'this', 'is', 'an', 'example', 'and', 'context', 'is', 'important', '</s>']\n"
     ]
    }
   ],
   "source": [
    "# now let's limit tokenization to 10 tokens...\n",
    "encoded_max_length = t(sample, max_length=10, truncation=True).input_ids\n",
    "\n",
    "print(f\"Setting max_length in tokenization to: {len(encoded_max_length)}\")\n",
    "print(f\"Now the tokens look like this:\\n{t.batch_decode(encoded_max_length)}\")"
   ]
  },
  {
   "cell_type": "code",
   "execution_count": 34,
   "id": "f0ad05c3-3185-4650-a116-a0a45deda635",
   "metadata": {},
   "outputs": [
    {
     "name": "stdout",
     "output_type": "stream",
     "text": [
      "[10, 10, 10, 10]\n",
      "<s> this is an example and context is important</s>\n",
      "<s> to retrieve meaningful contextual</s>\n",
      "<s>ized token embeddings from</s>\n",
      "<s> the self attention mechanism of the transformer</s>\n"
     ]
    }
   ],
   "source": [
    "# and NOW we ask the tokenizer to return_overflowing_tokens\n",
    "encoded_overflow = t(sample, max_length=10, truncation=True, return_overflowing_tokens=True).input_ids\n",
    "\n",
    "print([len(x) for x in encoded_overflow])\n",
    "print(*t.batch_decode(encoded_overflow), sep=\"\\n\")"
   ]
  },
  {
   "cell_type": "code",
   "execution_count": 35,
   "id": "c3d90c08-02ac-4552-a0eb-91e2b52df8da",
   "metadata": {},
   "outputs": [
    {
     "name": "stdout",
     "output_type": "stream",
     "text": [
      "[10, 10, 10, 10, 10, 9]\n",
      "<s> this is an example and context is important</s>\n",
      "<s> context is important to retrieve meaning</s>\n",
      "<s>trieve meaningful contextualized to</s>\n",
      "<s>ualized token embeddings</s>\n",
      "<s>embeddings from the self attention mechanism</s>\n",
      "<s> self attention mechanism of the transformer</s>\n"
     ]
    }
   ],
   "source": [
    "# but it may be the case that this sequential listing of the overflow \n",
    "# results is less-than-ideal input...\n",
    "# so NOW we ask for striding of the overflow\n",
    "# with the hope that the resulting strided sequences make more sense\n",
    "encoded_overflow_stride = t(sample, max_length=10, truncation=True, stride=3, return_overflowing_tokens=True).input_ids\n",
    "\n",
    "print([len(x) for x in encoded_overflow_stride])\n",
    "print(*t.batch_decode(encoded_overflow_stride), sep=\"\\n\")"
   ]
  },
  {
   "cell_type": "markdown",
   "id": "e52de14b-fcaf-4a58-8d26-51fd7c95f3fc",
   "metadata": {},
   "source": [
    "<hr width=40%/>\n",
    "..."
   ]
  },
  {
   "cell_type": "markdown",
   "id": "51fac824-248d-4fd0-8031-2d6e23b69394",
   "metadata": {},
   "source": [
    "#### OK, so, where were we...?\n",
    "\n",
    "> The problem is that we’re trying to mix two different datasets of different sizes: the drug_dataset columns will have a certain number of examples (the 1,000 in our error), but the tokenized_dataset we are building will have more (the 1,463 in the error message; it is more than 1,000 because we are tokenizing long reviews into more than one example by using return_overflowing_tokens=True). That doesn’t work for a Dataset, so we need to either remove the columns from the old dataset or make them the same size as they are in the new dataset....\n",
    "\n",
    "##### Clarification\n",
    "* We are trying to build a new dataset of tokenized values that we will use for training.\n",
    "* Since we are splitting each original row in `drug_dataset` so that we have an initial 128-token value and possibly and additional set of tokens from those rows where there are more than 128 tokens (overflow), we are essentially not going to be able to do a one-to-one mapping from the original `drug_dataset` to our new tokenized one.\n",
    "* So we need to use the [`remove_columns` argument to to `datasets.map`](https://huggingface.co/docs/datasets/v3.2.0/en/package_reference/main_classes#datasets.Dataset.map.remove_columns), which _...removes a selection of columns while doing the mapping. Columns will be removed before updating the examples with the output of function, i.e. if function is adding columns with names in remove_columns, these columns will be kept_\n",
    "* You would do well to remember that in this instance for training, the **tokenized** dataset is expected to have the following fields: `input_ids`, `token_type_ids`, and `attention_mask`"
   ]
  },
  {
   "cell_type": "code",
   "execution_count": 36,
   "id": "2265e2c4-e783-47f3-a5b2-0bb56ffe4a9e",
   "metadata": {},
   "outputs": [],
   "source": [
    "tokenized_dataset = drug_dataset.map(\n",
    "    tokenize_and_split, batched=True, remove_columns=drug_dataset[\"train\"].column_names\n",
    ")"
   ]
  },
  {
   "cell_type": "markdown",
   "id": "b8c1429e-a073-4ce4-a586-866081d73a9b",
   "metadata": {},
   "source": [
    "...\n",
    "\n",
    "Now compare the resulting `tokenized_dataset` vis a vis the original `drug_dataset`..."
   ]
  },
  {
   "cell_type": "code",
   "execution_count": 37,
   "id": "70266004-5221-464d-96d2-b5bd63ea760d",
   "metadata": {},
   "outputs": [
    {
     "data": {
      "text/plain": [
       "(206772, 138514)"
      ]
     },
     "execution_count": 37,
     "metadata": {},
     "output_type": "execute_result"
    }
   ],
   "source": [
    "len(tokenized_dataset[\"train\"]), len(drug_dataset[\"train\"])"
   ]
  },
  {
   "cell_type": "code",
   "execution_count": 38,
   "id": "6f0d12cf-8ab7-4c04-8823-c86baa10b6fe",
   "metadata": {},
   "outputs": [
    {
     "data": {
      "text/plain": [
       "DatasetDict({\n",
       "    train: Dataset({\n",
       "        features: ['input_ids', 'token_type_ids', 'attention_mask', 'overflow_to_sample_mapping'],\n",
       "        num_rows: 206772\n",
       "    })\n",
       "    test: Dataset({\n",
       "        features: ['input_ids', 'token_type_ids', 'attention_mask', 'overflow_to_sample_mapping'],\n",
       "        num_rows: 68876\n",
       "    })\n",
       "})"
      ]
     },
     "execution_count": 38,
     "metadata": {},
     "output_type": "execute_result"
    }
   ],
   "source": [
    "tokenized_dataset"
   ]
  },
  {
   "cell_type": "code",
   "execution_count": 39,
   "id": "fc11f448-e2d6-42d7-a3d1-5bc071db6bbb",
   "metadata": {},
   "outputs": [
    {
     "name": "stdout",
     "output_type": "stream",
     "text": [
      "{'input_ids': [101, 107, 1258, 1781, 155, 1548, 3365, 12894, 1673, 1111, 127, 1808, 1106, 16775, 1139, 7011, 117, 2945, 1105, 27447, 3578, 2628, 1114, 1139, 22216, 15203, 117, 146, 8181, 1304, 1376, 3893, 119, 1327, 146, 1225, 4361, 1108, 1103, 160, 27514, 2349, 18784, 119, 146, 3388, 1851, 24119, 1107, 127, 1808, 1114, 1185, 1849, 1107, 5497, 15640, 119, 1258, 191, 8136, 4869, 1142, 4517, 1106, 1139, 3995, 117, 146, 1108, 1678, 1228, 1103, 15683, 1114, 1185, 10602, 3154, 1105, 1107, 1275, 1808, 1159, 146, 1575, 3927, 1233, 4832, 1114, 1185, 6730, 1105, 5497, 170, 2332, 2852, 1822, 176, 1193, 2093, 7257, 7448, 10211, 119, 107, 102], 'token_type_ids': [0, 0, 0, 0, 0, 0, 0, 0, 0, 0, 0, 0, 0, 0, 0, 0, 0, 0, 0, 0, 0, 0, 0, 0, 0, 0, 0, 0, 0, 0, 0, 0, 0, 0, 0, 0, 0, 0, 0, 0, 0, 0, 0, 0, 0, 0, 0, 0, 0, 0, 0, 0, 0, 0, 0, 0, 0, 0, 0, 0, 0, 0, 0, 0, 0, 0, 0, 0, 0, 0, 0, 0, 0, 0, 0, 0, 0, 0, 0, 0, 0, 0, 0, 0, 0, 0, 0, 0, 0, 0, 0, 0, 0, 0, 0, 0, 0, 0, 0, 0, 0, 0, 0, 0, 0, 0], 'attention_mask': [1, 1, 1, 1, 1, 1, 1, 1, 1, 1, 1, 1, 1, 1, 1, 1, 1, 1, 1, 1, 1, 1, 1, 1, 1, 1, 1, 1, 1, 1, 1, 1, 1, 1, 1, 1, 1, 1, 1, 1, 1, 1, 1, 1, 1, 1, 1, 1, 1, 1, 1, 1, 1, 1, 1, 1, 1, 1, 1, 1, 1, 1, 1, 1, 1, 1, 1, 1, 1, 1, 1, 1, 1, 1, 1, 1, 1, 1, 1, 1, 1, 1, 1, 1, 1, 1, 1, 1, 1, 1, 1, 1, 1, 1, 1, 1, 1, 1, 1, 1, 1, 1, 1, 1, 1, 1], 'overflow_to_sample_mapping': 456}\n"
     ]
    }
   ],
   "source": [
    "print(tokenized_dataset[\"train\"][666])"
   ]
  },
  {
   "cell_type": "code",
   "execution_count": 40,
   "id": "a4845b0d-f61b-4b4b-a98b-916275462d8b",
   "metadata": {},
   "outputs": [
    {
     "data": {
      "text/plain": [
       "DatasetDict({\n",
       "    train: Dataset({\n",
       "        features: ['patient_id', 'drugName', 'condition', 'review', 'rating', 'date', 'usefulCount', 'review_length'],\n",
       "        num_rows: 138514\n",
       "    })\n",
       "    test: Dataset({\n",
       "        features: ['patient_id', 'drugName', 'condition', 'review', 'rating', 'date', 'usefulCount', 'review_length'],\n",
       "        num_rows: 46108\n",
       "    })\n",
       "})"
      ]
     },
     "execution_count": 40,
     "metadata": {},
     "output_type": "execute_result"
    }
   ],
   "source": [
    "drug_dataset"
   ]
  },
  {
   "cell_type": "code",
   "execution_count": 41,
   "id": "7580fa91-e198-4efb-af97-5358acbfce45",
   "metadata": {},
   "outputs": [
    {
     "name": "stdout",
     "output_type": "stream",
     "text": [
      "{'patient_id': 95260, 'drugName': 'Guanfacine', 'condition': 'adhd', 'review': '\"My son is halfway through his fourth week of Intuniv. We became concerned when he began this last week, when he started taking the highest dose he will be on. For two days, he could hardly get out of bed, was very cranky, and slept for nearly 8 hours on a drive home from school vacation (very unusual for him.) I called his doctor on Monday morning and she said to stick it out a few days. See how he did at school, and with getting up in the morning. The last two days have been problem free. He is MUCH more agreeable than ever. He is less emotional (a good thing), less cranky. He is remembering all the things he should. Overall his behavior is better. \\r\\nWe have tried many different medications and so far this is the most effective.\"', 'rating': 8.0, 'date': 'April 27, 2010', 'usefulCount': 192, 'review_length': 141}\n"
     ]
    }
   ],
   "source": [
    "print(drug_dataset[\"train\"][0])"
   ]
  },
  {
   "cell_type": "markdown",
   "id": "66981b5a-a1d1-4517-bc50-4340ebca9db7",
   "metadata": {},
   "source": [
    "<hr width=40%/>\n",
    "..."
   ]
  },
  {
   "cell_type": "code",
   "execution_count": 42,
   "id": "465f9a11-7208-44b7-88b7-6a49b0681b9c",
   "metadata": {},
   "outputs": [],
   "source": [
    "def tokenize_and_split(examples):\n",
    "    result = tokenizer(\n",
    "        examples[\"review\"],\n",
    "        truncation=True,\n",
    "        max_length=128,\n",
    "        return_overflowing_tokens=True,\n",
    "    )\n",
    "\n",
    "    # Extract mapping between new and old indices\n",
    "    sample_map = result.pop(\"overflow_to_sample_mapping\")\n",
    "    for key, values in examples.items():\n",
    "        result[key] = [values[i] for i in sample_map]\n",
    "    return result"
   ]
  },
  {
   "cell_type": "code",
   "execution_count": 43,
   "id": "d9e85ee3-1a83-45b4-82a2-db17b64b8480",
   "metadata": {},
   "outputs": [
    {
     "data": {
      "text/plain": [
       "DatasetDict({\n",
       "    train: Dataset({\n",
       "        features: ['patient_id', 'drugName', 'condition', 'review', 'rating', 'date', 'usefulCount', 'review_length', 'input_ids', 'token_type_ids', 'attention_mask'],\n",
       "        num_rows: 206772\n",
       "    })\n",
       "    test: Dataset({\n",
       "        features: ['patient_id', 'drugName', 'condition', 'review', 'rating', 'date', 'usefulCount', 'review_length', 'input_ids', 'token_type_ids', 'attention_mask'],\n",
       "        num_rows: 68876\n",
       "    })\n",
       "})"
      ]
     },
     "execution_count": 43,
     "metadata": {},
     "output_type": "execute_result"
    }
   ],
   "source": [
    "drug_dataset = drug_dataset.map(tokenize_and_split, batched=True)\n",
    "drug_dataset"
   ]
  },
  {
   "cell_type": "markdown",
   "id": "311c9c59-ad95-4d32-bd14-659e54a825bd",
   "metadata": {},
   "source": [
    "..."
   ]
  },
  {
   "cell_type": "code",
   "execution_count": 44,
   "id": "61daf6f9-b225-4549-ba41-11caeef04649",
   "metadata": {},
   "outputs": [
    {
     "data": {
      "text/plain": [
       "DatasetDict({\n",
       "    train: Dataset({\n",
       "        features: ['patient_id', 'drugName', 'condition', 'review', 'rating', 'date', 'usefulCount', 'review_length', 'input_ids', 'token_type_ids', 'attention_mask'],\n",
       "        num_rows: 206772\n",
       "    })\n",
       "    test: Dataset({\n",
       "        features: ['patient_id', 'drugName', 'condition', 'review', 'rating', 'date', 'usefulCount', 'review_length', 'input_ids', 'token_type_ids', 'attention_mask'],\n",
       "        num_rows: 68876\n",
       "    })\n",
       "})"
      ]
     },
     "execution_count": 44,
     "metadata": {},
     "output_type": "execute_result"
    }
   ],
   "source": [
    "drug_dataset.set_format(\"pandas\")\n",
    "drug_dataset"
   ]
  },
  {
   "cell_type": "code",
   "execution_count": 45,
   "id": "eddb9961-d95d-4bd5-b5f6-660588332b59",
   "metadata": {},
   "outputs": [
    {
     "data": {
      "text/html": [
       "<div>\n",
       "<style scoped>\n",
       "    .dataframe tbody tr th:only-of-type {\n",
       "        vertical-align: middle;\n",
       "    }\n",
       "\n",
       "    .dataframe tbody tr th {\n",
       "        vertical-align: top;\n",
       "    }\n",
       "\n",
       "    .dataframe thead th {\n",
       "        text-align: right;\n",
       "    }\n",
       "</style>\n",
       "<table border=\"1\" class=\"dataframe\">\n",
       "  <thead>\n",
       "    <tr style=\"text-align: right;\">\n",
       "      <th></th>\n",
       "      <th>patient_id</th>\n",
       "      <th>drugName</th>\n",
       "      <th>condition</th>\n",
       "      <th>review</th>\n",
       "      <th>rating</th>\n",
       "      <th>date</th>\n",
       "      <th>usefulCount</th>\n",
       "      <th>review_length</th>\n",
       "      <th>input_ids</th>\n",
       "      <th>token_type_ids</th>\n",
       "      <th>attention_mask</th>\n",
       "    </tr>\n",
       "  </thead>\n",
       "  <tbody>\n",
       "    <tr>\n",
       "      <th>0</th>\n",
       "      <td>95260</td>\n",
       "      <td>Guanfacine</td>\n",
       "      <td>adhd</td>\n",
       "      <td>\"My son is halfway through his fourth week of ...</td>\n",
       "      <td>8.0</td>\n",
       "      <td>April 27, 2010</td>\n",
       "      <td>192</td>\n",
       "      <td>141</td>\n",
       "      <td>[101, 107, 1422, 1488, 1110, 9079, 1194, 1117,...</td>\n",
       "      <td>[0, 0, 0, 0, 0, 0, 0, 0, 0, 0, 0, 0, 0, 0, 0, ...</td>\n",
       "      <td>[1, 1, 1, 1, 1, 1, 1, 1, 1, 1, 1, 1, 1, 1, 1, ...</td>\n",
       "    </tr>\n",
       "    <tr>\n",
       "      <th>1</th>\n",
       "      <td>95260</td>\n",
       "      <td>Guanfacine</td>\n",
       "      <td>adhd</td>\n",
       "      <td>\"My son is halfway through his fourth week of ...</td>\n",
       "      <td>8.0</td>\n",
       "      <td>April 27, 2010</td>\n",
       "      <td>192</td>\n",
       "      <td>141</td>\n",
       "      <td>[101, 119, 1124, 1110, 1750, 6438, 113, 170, 1...</td>\n",
       "      <td>[0, 0, 0, 0, 0, 0, 0, 0, 0, 0, 0, 0, 0, 0, 0, ...</td>\n",
       "      <td>[1, 1, 1, 1, 1, 1, 1, 1, 1, 1, 1, 1, 1, 1, 1, ...</td>\n",
       "    </tr>\n",
       "    <tr>\n",
       "      <th>2</th>\n",
       "      <td>92703</td>\n",
       "      <td>Lybrel</td>\n",
       "      <td>birth control</td>\n",
       "      <td>\"I used to take another oral contraceptive, wh...</td>\n",
       "      <td>5.0</td>\n",
       "      <td>December 14, 2009</td>\n",
       "      <td>17</td>\n",
       "      <td>134</td>\n",
       "      <td>[101, 107, 146, 1215, 1106, 1321, 1330, 9619, ...</td>\n",
       "      <td>[0, 0, 0, 0, 0, 0, 0, 0, 0, 0, 0, 0, 0, 0, 0, ...</td>\n",
       "      <td>[1, 1, 1, 1, 1, 1, 1, 1, 1, 1, 1, 1, 1, 1, 1, ...</td>\n",
       "    </tr>\n",
       "  </tbody>\n",
       "</table>\n",
       "</div>"
      ],
      "text/plain": [
       "   patient_id    drugName      condition  \\\n",
       "0       95260  Guanfacine           adhd   \n",
       "1       95260  Guanfacine           adhd   \n",
       "2       92703      Lybrel  birth control   \n",
       "\n",
       "                                              review  rating  \\\n",
       "0  \"My son is halfway through his fourth week of ...     8.0   \n",
       "1  \"My son is halfway through his fourth week of ...     8.0   \n",
       "2  \"I used to take another oral contraceptive, wh...     5.0   \n",
       "\n",
       "                date  usefulCount  review_length  \\\n",
       "0     April 27, 2010          192            141   \n",
       "1     April 27, 2010          192            141   \n",
       "2  December 14, 2009           17            134   \n",
       "\n",
       "                                           input_ids  \\\n",
       "0  [101, 107, 1422, 1488, 1110, 9079, 1194, 1117,...   \n",
       "1  [101, 119, 1124, 1110, 1750, 6438, 113, 170, 1...   \n",
       "2  [101, 107, 146, 1215, 1106, 1321, 1330, 9619, ...   \n",
       "\n",
       "                                      token_type_ids  \\\n",
       "0  [0, 0, 0, 0, 0, 0, 0, 0, 0, 0, 0, 0, 0, 0, 0, ...   \n",
       "1  [0, 0, 0, 0, 0, 0, 0, 0, 0, 0, 0, 0, 0, 0, 0, ...   \n",
       "2  [0, 0, 0, 0, 0, 0, 0, 0, 0, 0, 0, 0, 0, 0, 0, ...   \n",
       "\n",
       "                                      attention_mask  \n",
       "0  [1, 1, 1, 1, 1, 1, 1, 1, 1, 1, 1, 1, 1, 1, 1, ...  \n",
       "1  [1, 1, 1, 1, 1, 1, 1, 1, 1, 1, 1, 1, 1, 1, 1, ...  \n",
       "2  [1, 1, 1, 1, 1, 1, 1, 1, 1, 1, 1, 1, 1, 1, 1, ...  "
      ]
     },
     "execution_count": 45,
     "metadata": {},
     "output_type": "execute_result"
    }
   ],
   "source": [
    "drug_dataset[\"train\"][:3]"
   ]
  },
  {
   "cell_type": "code",
   "execution_count": 46,
   "id": "498eb884-1a3c-4de7-a33c-5fd9bd991449",
   "metadata": {},
   "outputs": [],
   "source": [
    "train_df = drug_dataset[\"train\"][:]"
   ]
  },
  {
   "cell_type": "code",
   "execution_count": 47,
   "id": "7681dbd2-3681-48f8-b1c0-97d83241faa8",
   "metadata": {},
   "outputs": [
    {
     "data": {
      "text/html": [
       "<div>\n",
       "<style scoped>\n",
       "    .dataframe tbody tr th:only-of-type {\n",
       "        vertical-align: middle;\n",
       "    }\n",
       "\n",
       "    .dataframe tbody tr th {\n",
       "        vertical-align: top;\n",
       "    }\n",
       "\n",
       "    .dataframe thead th {\n",
       "        text-align: right;\n",
       "    }\n",
       "</style>\n",
       "<table border=\"1\" class=\"dataframe\">\n",
       "  <thead>\n",
       "    <tr style=\"text-align: right;\">\n",
       "      <th></th>\n",
       "      <th>condition</th>\n",
       "      <th>frequency</th>\n",
       "    </tr>\n",
       "  </thead>\n",
       "  <tbody>\n",
       "    <tr>\n",
       "      <th>0</th>\n",
       "      <td>birth control</td>\n",
       "      <td>43445</td>\n",
       "    </tr>\n",
       "    <tr>\n",
       "      <th>1</th>\n",
       "      <td>depression</td>\n",
       "      <td>12322</td>\n",
       "    </tr>\n",
       "    <tr>\n",
       "      <th>2</th>\n",
       "      <td>acne</td>\n",
       "      <td>8285</td>\n",
       "    </tr>\n",
       "    <tr>\n",
       "      <th>3</th>\n",
       "      <td>anxiety</td>\n",
       "      <td>7523</td>\n",
       "    </tr>\n",
       "    <tr>\n",
       "      <th>4</th>\n",
       "      <td>pain</td>\n",
       "      <td>6513</td>\n",
       "    </tr>\n",
       "  </tbody>\n",
       "</table>\n",
       "</div>"
      ],
      "text/plain": [
       "       condition  frequency\n",
       "0  birth control      43445\n",
       "1     depression      12322\n",
       "2           acne       8285\n",
       "3        anxiety       7523\n",
       "4           pain       6513"
      ]
     },
     "execution_count": 47,
     "metadata": {},
     "output_type": "execute_result"
    }
   ],
   "source": [
    "frequencies = (\n",
    "    train_df[\"condition\"]\n",
    "    .value_counts()\n",
    "    .to_frame()\n",
    "    .reset_index()\n",
    "    .rename(columns={\"count\": \"frequency\"})\n",
    ")\n",
    "frequencies.head()"
   ]
  },
  {
   "cell_type": "code",
   "execution_count": 48,
   "id": "769bebb0-ce78-4fc0-b1e1-334f11fe7f64",
   "metadata": {},
   "outputs": [
    {
     "data": {
      "text/plain": [
       "Dataset({\n",
       "    features: ['condition', 'frequency'],\n",
       "    num_rows: 819\n",
       "})"
      ]
     },
     "execution_count": 48,
     "metadata": {},
     "output_type": "execute_result"
    }
   ],
   "source": [
    "from datasets import Dataset\n",
    "\n",
    "freq_dataset = Dataset.from_pandas(frequencies)\n",
    "freq_dataset"
   ]
  },
  {
   "cell_type": "code",
   "execution_count": 49,
   "id": "cdd1e245-2dff-4794-9a69-2504353fd3b3",
   "metadata": {},
   "outputs": [
    {
     "name": "stdout",
     "output_type": "stream",
     "text": [
      "                                  drugName  avg. rating\n",
      "0                A + D Cracked Skin Relief    10.000000\n",
      "1                               A / B Otic    10.000000\n",
      "2     Abacavir / dolutegravir / lamivudine     7.901639\n",
      "3       Abacavir / lamivudine / zidovudine     9.000000\n",
      "4                                Abatacept     7.500000\n",
      "...                                    ...          ...\n",
      "3047                                 Zyvox     9.210526\n",
      "3048                               ZzzQuil     4.000000\n",
      "3049                 depo-subQ provera 104     1.000000\n",
      "3050                                  ella     7.125000\n",
      "3051                                femhrt     5.500000\n",
      "\n",
      "[3052 rows x 2 columns]\n"
     ]
    }
   ],
   "source": [
    "drug_avg_rating = (\n",
    "    train_df.groupby(['drugName'])['rating']\n",
    "            .mean()\n",
    "            .to_frame()\n",
    "            .reset_index()\n",
    "            .rename(columns={\"rating\": \"avg. rating\"})\n",
    ")\n",
    "print(drug_avg_rating)"
   ]
  },
  {
   "cell_type": "code",
   "execution_count": 50,
   "id": "8dc89a35-3be3-4572-96b5-8be18064e53e",
   "metadata": {},
   "outputs": [],
   "source": [
    "drug_dataset.reset_format()"
   ]
  },
  {
   "cell_type": "markdown",
   "id": "cadb58b6-328e-40cb-869a-3f04652348d6",
   "metadata": {},
   "source": [
    "..."
   ]
  },
  {
   "cell_type": "code",
   "execution_count": 51,
   "id": "0172913a-9eb9-4a86-8894-2dcefcf65329",
   "metadata": {},
   "outputs": [
    {
     "data": {
      "text/plain": [
       "DatasetDict({\n",
       "    train: Dataset({\n",
       "        features: ['patient_id', 'drugName', 'condition', 'review', 'rating', 'date', 'usefulCount', 'review_length', 'input_ids', 'token_type_ids', 'attention_mask'],\n",
       "        num_rows: 206772\n",
       "    })\n",
       "    test: Dataset({\n",
       "        features: ['patient_id', 'drugName', 'condition', 'review', 'rating', 'date', 'usefulCount', 'review_length', 'input_ids', 'token_type_ids', 'attention_mask'],\n",
       "        num_rows: 68876\n",
       "    })\n",
       "})"
      ]
     },
     "execution_count": 51,
     "metadata": {},
     "output_type": "execute_result"
    }
   ],
   "source": [
    "drug_dataset"
   ]
  },
  {
   "cell_type": "code",
   "execution_count": 52,
   "id": "e24819e1-3909-41d5-bfc9-ae83c51a5ddc",
   "metadata": {},
   "outputs": [
    {
     "data": {
      "text/plain": [
       "DatasetDict({\n",
       "    train: Dataset({\n",
       "        features: ['patient_id', 'drugName', 'condition', 'review', 'rating', 'date', 'usefulCount', 'review_length', 'input_ids', 'token_type_ids', 'attention_mask'],\n",
       "        num_rows: 165417\n",
       "    })\n",
       "    validation: Dataset({\n",
       "        features: ['patient_id', 'drugName', 'condition', 'review', 'rating', 'date', 'usefulCount', 'review_length', 'input_ids', 'token_type_ids', 'attention_mask'],\n",
       "        num_rows: 41355\n",
       "    })\n",
       "    test: Dataset({\n",
       "        features: ['patient_id', 'drugName', 'condition', 'review', 'rating', 'date', 'usefulCount', 'review_length', 'input_ids', 'token_type_ids', 'attention_mask'],\n",
       "        num_rows: 68876\n",
       "    })\n",
       "})"
      ]
     },
     "execution_count": 52,
     "metadata": {},
     "output_type": "execute_result"
    }
   ],
   "source": [
    "drug_dataset_clean = drug_dataset[\"train\"].train_test_split(train_size=0.8, seed=42)\n",
    "\n",
    "# Rename the default \"test\" split to \"validation\"\n",
    "drug_dataset_clean[\"validation\"] = drug_dataset_clean.pop(\"test\")\n",
    "\n",
    "# Add the \"test\" set to our `DatasetDict`\n",
    "drug_dataset_clean[\"test\"] = drug_dataset[\"test\"]\n",
    "drug_dataset_clean"
   ]
  },
  {
   "cell_type": "markdown",
   "id": "a01d4690-8d03-4efa-aa73-943f8f1c7e00",
   "metadata": {},
   "source": [
    "..."
   ]
  },
  {
   "cell_type": "code",
   "execution_count": 53,
   "id": "1ef1366c-771b-40cd-9bb5-b6c2b32c86c0",
   "metadata": {},
   "outputs": [
    {
     "data": {
      "application/vnd.jupyter.widget-view+json": {
       "model_id": "9fd27a010491426e8a5ff1f1a0d95028",
       "version_major": 2,
       "version_minor": 0
      },
      "text/plain": [
       "Saving the dataset (0/1 shards):   0%|          | 0/165417 [00:00<?, ? examples/s]"
      ]
     },
     "metadata": {},
     "output_type": "display_data"
    },
    {
     "data": {
      "application/vnd.jupyter.widget-view+json": {
       "model_id": "7fbd3e0bec5043688587773559e220d7",
       "version_major": 2,
       "version_minor": 0
      },
      "text/plain": [
       "Saving the dataset (0/1 shards):   0%|          | 0/41355 [00:00<?, ? examples/s]"
      ]
     },
     "metadata": {},
     "output_type": "display_data"
    },
    {
     "data": {
      "application/vnd.jupyter.widget-view+json": {
       "model_id": "a0d6d94f1ec44252bad89a505629213f",
       "version_major": 2,
       "version_minor": 0
      },
      "text/plain": [
       "Saving the dataset (0/1 shards):   0%|          | 0/68876 [00:00<?, ? examples/s]"
      ]
     },
     "metadata": {},
     "output_type": "display_data"
    }
   ],
   "source": [
    "drug_dataset_clean.save_to_disk(\"drug-reviews\")"
   ]
  },
  {
   "cell_type": "code",
   "execution_count": 54,
   "id": "f8bae3fe-2584-454b-a9d8-0f70b4c7e69c",
   "metadata": {},
   "outputs": [
    {
     "name": "stdout",
     "output_type": "stream",
     "text": [
      "total 24\n",
      "drwxr-xr-x 5 so_olliphant so_olliphant 4096 Feb 18 03:26 .\n",
      "drwxr-xr-x 7 so_olliphant so_olliphant 4096 Feb 18 04:29 ..\n",
      "-rw-r--r-- 1 so_olliphant so_olliphant   43 Feb 18 04:31 dataset_dict.json\n",
      "drwxr-xr-x 2 so_olliphant so_olliphant 4096 Feb 18 03:26 test\n",
      "drwxr-xr-x 2 so_olliphant so_olliphant 4096 Feb 18 03:26 train\n",
      "drwxr-xr-x 2 so_olliphant so_olliphant 4096 Feb 18 03:26 validation\n"
     ]
    }
   ],
   "source": [
    "!ls -la drug-reviews"
   ]
  },
  {
   "cell_type": "code",
   "execution_count": 55,
   "id": "2d258ad1-77e3-4283-b748-eaaef3393618",
   "metadata": {},
   "outputs": [
    {
     "name": "stdout",
     "output_type": "stream",
     "text": [
      "total 191660\n",
      "drwxr-xr-x 2 so_olliphant so_olliphant      4096 Feb 18 03:26 .\n",
      "drwxr-xr-x 5 so_olliphant so_olliphant      4096 Feb 18 03:26 ..\n",
      "-rw-r--r-- 1 so_olliphant so_olliphant 196240960 Feb 18 04:31 data-00000-of-00001.arrow\n",
      "-rw-r--r-- 1 so_olliphant so_olliphant      1920 Feb 18 04:31 dataset_info.json\n",
      "-rw-r--r-- 1 so_olliphant so_olliphant       250 Feb 18 04:31 state.json\n"
     ]
    }
   ],
   "source": [
    "!ls -la drug-reviews/train"
   ]
  },
  {
   "cell_type": "code",
   "execution_count": 56,
   "id": "ba9a7641-5d4a-475f-9b53-491c0345f417",
   "metadata": {},
   "outputs": [
    {
     "data": {
      "text/plain": [
       "DatasetDict({\n",
       "    train: Dataset({\n",
       "        features: ['patient_id', 'drugName', 'condition', 'review', 'rating', 'date', 'usefulCount', 'review_length', 'input_ids', 'token_type_ids', 'attention_mask'],\n",
       "        num_rows: 165417\n",
       "    })\n",
       "    validation: Dataset({\n",
       "        features: ['patient_id', 'drugName', 'condition', 'review', 'rating', 'date', 'usefulCount', 'review_length', 'input_ids', 'token_type_ids', 'attention_mask'],\n",
       "        num_rows: 41355\n",
       "    })\n",
       "    test: Dataset({\n",
       "        features: ['patient_id', 'drugName', 'condition', 'review', 'rating', 'date', 'usefulCount', 'review_length', 'input_ids', 'token_type_ids', 'attention_mask'],\n",
       "        num_rows: 68876\n",
       "    })\n",
       "})"
      ]
     },
     "execution_count": 56,
     "metadata": {},
     "output_type": "execute_result"
    }
   ],
   "source": [
    "from datasets import load_from_disk\n",
    "\n",
    "drug_dataset_reloaded = load_from_disk(\"drug-reviews\")\n",
    "drug_dataset_reloaded"
   ]
  },
  {
   "cell_type": "code",
   "execution_count": 57,
   "id": "332d697e-c9f2-47e2-b651-2a2c4154bfe1",
   "metadata": {},
   "outputs": [
    {
     "data": {
      "application/vnd.jupyter.widget-view+json": {
       "model_id": "acfd5147b78340e799ea381b2b0140d4",
       "version_major": 2,
       "version_minor": 0
      },
      "text/plain": [
       "Creating json from Arrow format:   0%|          | 0/166 [00:00<?, ?ba/s]"
      ]
     },
     "metadata": {},
     "output_type": "display_data"
    },
    {
     "data": {
      "application/vnd.jupyter.widget-view+json": {
       "model_id": "ab1fdfed07e54a82ba91b361ba232634",
       "version_major": 2,
       "version_minor": 0
      },
      "text/plain": [
       "Creating json from Arrow format:   0%|          | 0/42 [00:00<?, ?ba/s]"
      ]
     },
     "metadata": {},
     "output_type": "display_data"
    },
    {
     "data": {
      "application/vnd.jupyter.widget-view+json": {
       "model_id": "a7ad991729a94479b1ef736ed140112c",
       "version_major": 2,
       "version_minor": 0
      },
      "text/plain": [
       "Creating json from Arrow format:   0%|          | 0/69 [00:00<?, ?ba/s]"
      ]
     },
     "metadata": {},
     "output_type": "display_data"
    }
   ],
   "source": [
    "for split, dataset in drug_dataset_clean.items():\n",
    "    dataset.to_json(f\"drug-reviews-{split}.jsonl\")"
   ]
  },
  {
   "cell_type": "code",
   "execution_count": 58,
   "id": "38985292-7550-4a7f-b903-f0dafec9dacf",
   "metadata": {},
   "outputs": [
    {
     "name": "stdout",
     "output_type": "stream",
     "text": [
      "total 627536\n",
      "drwxr-xr-x 7 so_olliphant so_olliphant      4096 Feb 18 04:31 .\n",
      "drwxr-xr-x 3 so_olliphant so_olliphant      4096 Feb 18 02:34 ..\n",
      "drwxr-xr-x 8 so_olliphant so_olliphant      4096 Feb 18 02:28 .git\n",
      "drwxr-xr-x 2 so_olliphant so_olliphant      4096 Feb 18 03:06 .ipynb_checkpoints\n",
      "-rw-r--r-- 1 so_olliphant so_olliphant     14239 Feb 18 02:28 Ch2_p38.ipynb\n",
      "-rw-r--r-- 1 so_olliphant so_olliphant     26388 Feb 18 02:51 HF_NLP_Ch2.ipynb\n",
      "-rw-r--r-- 1 so_olliphant so_olliphant     58778 Feb 18 03:05 HF_NLP_Ch3.ipynb\n",
      "-rw-r--r-- 1 so_olliphant so_olliphant      7373 Feb 18 03:06 HF_NLP_Ch4.ipynb\n",
      "-rw-r--r-- 1 so_olliphant so_olliphant     88422 Feb 18 04:31 HF_NLP_Ch5.ipynb\n",
      "-rw-r--r-- 1 so_olliphant so_olliphant    159365 Feb 18 02:28 HF_NLP_Ch6.ipynb\n",
      "-rw-r--r-- 1 so_olliphant so_olliphant        15 Feb 18 02:28 README.md\n",
      "-rw-r--r-- 1 so_olliphant so_olliphant   8385528 Feb 18 03:06 SQuAD_it-test.json\n",
      "-rw-r--r-- 1 so_olliphant so_olliphant   1051245 Feb 18 03:06 SQuAD_it-test.json.gz\n",
      "-rw-r--r-- 1 so_olliphant so_olliphant  43605829 Feb 18 03:06 SQuAD_it-train.json\n",
      "-rw-r--r-- 1 so_olliphant so_olliphant   7725286 Feb 18 03:06 SQuAD_it-train.json.gz\n",
      "drwxr-xr-x 5 so_olliphant so_olliphant      4096 Feb 18 03:26 drug-reviews\n",
      "-rw-r--r-- 1 so_olliphant so_olliphant 106288152 Feb 18 04:31 drug-reviews-test.jsonl\n",
      "-rw-r--r-- 1 so_olliphant so_olliphant 255839630 Feb 18 04:31 drug-reviews-train.jsonl\n",
      "-rw-r--r-- 1 so_olliphant so_olliphant  63913350 Feb 18 04:31 drug-reviews-validation.jsonl\n",
      "-rw-r--r-- 1 so_olliphant so_olliphant  28071166 Oct  2  2018 drugsComTest_raw.tsv\n",
      "-rw-r--r-- 1 so_olliphant so_olliphant  84289175 Oct  2  2018 drugsComTrain_raw.tsv\n",
      "-rw-r--r-- 1 so_olliphant so_olliphant  42989872 Feb 18 03:07 drugsCom_raw.zip\n",
      "-rw-r--r-- 1 so_olliphant so_olliphant     14948 Feb 18 02:28 environment.yml\n",
      "drwxr-xr-x 2 so_olliphant so_olliphant      4096 Feb 18 03:05 mydir\n",
      "drwxr-xr-x 5 so_olliphant so_olliphant      4096 Feb 18 02:55 test-trainer\n"
     ]
    }
   ],
   "source": [
    "!ls -la "
   ]
  },
  {
   "cell_type": "code",
   "execution_count": 59,
   "id": "834a5598-b632-44c9-8a39-70bcd69b4bf6",
   "metadata": {},
   "outputs": [
    {
     "name": "stdout",
     "output_type": "stream",
     "text": [
      "{\"patient_id\":37933,\"drugName\":\"Adipex-P\",\"condition\":\"weight loss\",\"review\":\"\\\"Been on Adipex-p for 28 days and have lost 20 pounds. Doctor put me on it because I am menopausal and have a hard time losing weight. First week had a hard time sleeping but now no problems, I check my blood pressure daily and no issues there. Definitely get dry mouth with it that has been my only issue, I usually chew gum and keep a drink handy. Glad I was given this drug, doubt I would have lost what I did without it.\\\"\",\"rating\":9.0,\"date\":\"September 5, 2017\",\"usefulCount\":35,\"review_length\":85,\"input_ids\":[101,107,18511,1113,24930,9717,11708,118,185,1111,1743,1552,1105,1138,1575,1406,6549,119,4157,1508,1143,1113,1122,1272,146,1821,1441,4184,25134,1348,1105,1138,170,1662,1159,3196,2841,119,1752,1989,1125,170,1662,1159,5575,1133,1208,1185,2645,117,146,4031,1139,1892,2997,3828,1105,1185,2492,1175,119,3177,16598,3150,1193,1243,3712,1779,1114,1122,1115,1144,1151,1139,1178,2486,117,146,1932,22572,5773,19956,1105,1712,170,3668,25997,119,27652,146,1108,1549,1142,3850,117,4095,146,1156,1138,1575,1184,146,1225,1443,1122,119,107,102],\"token_type_ids\":[0,0,0,0,0,0,0,0,0,0,0,0,0,0,0,0,0,0,0,0,0,0,0,0,0,0,0,0,0,0,0,0,0,0,0,0,0,0,0,0,0,0,0,0,0,0,0,0,0,0,0,0,0,0,0,0,0,0,0,0,0,0,0,0,0,0,0,0,0,0,0,0,0,0,0,0,0,0,0,0,0,0,0,0,0,0,0,0,0,0,0,0,0,0,0,0,0,0,0,0,0,0,0,0,0,0,0,0],\"attention_mask\":[1,1,1,1,1,1,1,1,1,1,1,1,1,1,1,1,1,1,1,1,1,1,1,1,1,1,1,1,1,1,1,1,1,1,1,1,1,1,1,1,1,1,1,1,1,1,1,1,1,1,1,1,1,1,1,1,1,1,1,1,1,1,1,1,1,1,1,1,1,1,1,1,1,1,1,1,1,1,1,1,1,1,1,1,1,1,1,1,1,1,1,1,1,1,1,1,1,1,1,1,1,1,1,1,1,1,1,1]}\n"
     ]
    }
   ],
   "source": [
    "!head -n 1 drug-reviews-train.jsonl"
   ]
  },
  {
   "cell_type": "code",
   "execution_count": 60,
   "id": "d559f15f-0974-4660-b82c-5c89e803cc5a",
   "metadata": {},
   "outputs": [
    {
     "data": {
      "application/vnd.jupyter.widget-view+json": {
       "model_id": "3b75fa252a6444d8a2d79210fdfcd5e5",
       "version_major": 2,
       "version_minor": 0
      },
      "text/plain": [
       "Generating train split: 0 examples [00:00, ? examples/s]"
      ]
     },
     "metadata": {},
     "output_type": "display_data"
    },
    {
     "data": {
      "application/vnd.jupyter.widget-view+json": {
       "model_id": "6001eae82ad542b7acb2b3154b456ed8",
       "version_major": 2,
       "version_minor": 0
      },
      "text/plain": [
       "Generating validation split: 0 examples [00:00, ? examples/s]"
      ]
     },
     "metadata": {},
     "output_type": "display_data"
    },
    {
     "data": {
      "application/vnd.jupyter.widget-view+json": {
       "model_id": "089ad8c7fa2f447789fb72c8b33fa09a",
       "version_major": 2,
       "version_minor": 0
      },
      "text/plain": [
       "Generating test split: 0 examples [00:00, ? examples/s]"
      ]
     },
     "metadata": {},
     "output_type": "display_data"
    }
   ],
   "source": [
    "data_files = {\n",
    "    \"train\": \"drug-reviews-train.jsonl\",\n",
    "    \"validation\": \"drug-reviews-validation.jsonl\",\n",
    "    \"test\": \"drug-reviews-test.jsonl\",\n",
    "}\n",
    "drug_dataset_reloaded = load_dataset(\"json\", data_files=data_files)"
   ]
  },
  {
   "cell_type": "markdown",
   "id": "640b2378-91ce-4300-bcb4-3dad8ce70b5b",
   "metadata": {},
   "source": [
    "----"
   ]
  },
  {
   "cell_type": "markdown",
   "id": "fc0e560b-bbf7-440c-ba9f-757a9c7f317c",
   "metadata": {},
   "source": [
    "### Big data? 🤗 Datasets to the rescue!"
   ]
  },
  {
   "cell_type": "markdown",
   "id": "0a3f5576-d8c8-4e91-a10e-c67ba58cb0ce",
   "metadata": {},
   "source": [
    "##### What is the Pile?"
   ]
  },
  {
   "cell_type": "raw",
   "id": "95d8ac7e-e9f1-43c9-a6cd-7cacb5da9d37",
   "metadata": {},
   "source": [
    "!pip install zstandard"
   ]
  },
  {
   "cell_type": "code",
   "execution_count": 61,
   "id": "059ca8f1-0404-4d88-8c21-f53537bd9599",
   "metadata": {},
   "outputs": [
    {
     "data": {
      "application/vnd.jupyter.widget-view+json": {
       "model_id": "734d4730421a4d089a8760d4971f4cfa",
       "version_major": 2,
       "version_minor": 0
      },
      "text/plain": [
       "Loading dataset shards:   0%|          | 0/42 [00:00<?, ?it/s]"
      ]
     },
     "metadata": {},
     "output_type": "display_data"
    },
    {
     "data": {
      "text/plain": [
       "Dataset({\n",
       "    features: ['meta', 'text'],\n",
       "    num_rows: 15518009\n",
       "})"
      ]
     },
     "execution_count": 61,
     "metadata": {},
     "output_type": "execute_result"
    }
   ],
   "source": [
    "#from datasets import load_dataset\n",
    "\n",
    "# This takes a few minutes to run, so go grab a tea or coffee while you wait :)\n",
    "#data_files = \"https://the-eye.eu/public/AI/pile_preliminary_components/PUBMED_title_abstracts_2019_baseline.jsonl.zst\"\n",
    "data_files = \"https://huggingface.co/datasets/casinca/PUBMED_title_abstracts_2019_baseline/resolve/main/PUBMED_title_abstracts_2019_baseline.jsonl.zst\"\n",
    "\n",
    "pubmed_dataset = load_dataset(\"json\", data_files=data_files, split=\"train\")\n",
    "pubmed_dataset"
   ]
  },
  {
   "cell_type": "code",
   "execution_count": 62,
   "id": "c779ed44-264f-4182-b275-9b0ad83b3b46",
   "metadata": {},
   "outputs": [
    {
     "data": {
      "text/plain": [
       "{'meta': {'pmid': 11409574, 'language': 'eng'},\n",
       " 'text': 'Epidemiology of hypoxaemia in children with acute lower respiratory infection.\\nTo determine the prevalence of hypoxaemia in children aged under 5 years suffering acute lower respiratory infections (ALRI), the risk factors for hypoxaemia in children under 5 years of age with ALRI, and the association of hypoxaemia with an increased risk of dying in children of the same age. Systematic review of the published literature. Out-patient clinics, emergency departments and hospitalisation wards in 23 health centres from 10 countries. Cohort studies reporting the frequency of hypoxaemia in children under 5 years of age with ALRI, and the association between hypoxaemia and the risk of dying. Prevalence of hypoxaemia measured in children with ARI and relative risks for the association between the severity of illness and the frequency of hypoxaemia, and between hypoxaemia and the risk of dying. Seventeen published studies were found that included 4,021 children under 5 with acute respiratory infections (ARI) and reported the prevalence of hypoxaemia. Out-patient children and those with a clinical diagnosis of upper ARI had a low risk of hypoxaemia (pooled estimate of 6% to 9%). The prevalence increased to 31% and to 43% in patients in emergency departments and in cases with clinical pneumonia, respectively, and it was even higher among hospitalised children (47%) and in those with radiographically confirmed pneumonia (72%). The cumulated data also suggest that hypoxaemia is more frequent in children living at high altitude. Three papers reported an association between hypoxaemia and death, with relative risks varying between 1.4 and 4.6. Papers describing predictors of hypoxaemia have focused on clinical signs for detecting hypoxaemia rather than on identifying risk factors for developing this complication. Hypoxaemia is a common and potentially lethal complication of ALRI in children under 5, particularly among those with severe disease and those living at high altitude. Given the observed high prevalence of hypoxaemia and its likely association with increased mortality, efforts should be made to improve the detection of hypoxaemia and to provide oxygen earlier to more children with severe ALRI.'}"
      ]
     },
     "execution_count": 62,
     "metadata": {},
     "output_type": "execute_result"
    }
   ],
   "source": [
    "pubmed_dataset[0]"
   ]
  },
  {
   "cell_type": "markdown",
   "id": "7088d627-9ed3-4970-851c-31764055950f",
   "metadata": {},
   "source": [
    "..."
   ]
  },
  {
   "cell_type": "markdown",
   "id": "feee956a-5680-44f4-911c-cc9b5dc256d8",
   "metadata": {},
   "source": [
    "##### The magic of memory mapping"
   ]
  },
  {
   "cell_type": "raw",
   "id": "4359d526-fc0d-4af7-a764-f1ddc95a7e01",
   "metadata": {},
   "source": [
    "!pip install psutil"
   ]
  },
  {
   "cell_type": "code",
   "execution_count": 63,
   "id": "62a5ed18-9063-45a8-adf2-9473b4713cb8",
   "metadata": {},
   "outputs": [
    {
     "name": "stdout",
     "output_type": "stream",
     "text": [
      "RAM used: 2969.16 MB\n"
     ]
    }
   ],
   "source": [
    "import psutil\n",
    "\n",
    "# Process.memory_info is expressed in bytes, so convert to megabytes\n",
    "print(f\"RAM used: {psutil.Process().memory_info().rss / (1024 * 1024):.2f} MB\")"
   ]
  },
  {
   "cell_type": "code",
   "execution_count": 64,
   "id": "67f1ca0c-199c-49c2-903a-3f8f5658320f",
   "metadata": {},
   "outputs": [
    {
     "name": "stdout",
     "output_type": "stream",
     "text": [
      "Number of files in dataset : 20978892555\n",
      "Dataset size (cache file) : 19.54 GB\n"
     ]
    }
   ],
   "source": [
    "print(f\"Number of files in dataset : {pubmed_dataset.dataset_size}\")\n",
    "size_gb = pubmed_dataset.dataset_size / (1024**3)\n",
    "print(f\"Dataset size (cache file) : {size_gb:.2f} GB\")"
   ]
  },
  {
   "cell_type": "markdown",
   "id": "0d1c1588-26fa-4738-ab05-b02f7d502a8a",
   "metadata": {},
   "source": [
    "..."
   ]
  },
  {
   "cell_type": "code",
   "execution_count": 65,
   "id": "85c942e2-3c94-47cd-b1b9-d23f3bc15950",
   "metadata": {},
   "outputs": [
    {
     "name": "stdout",
     "output_type": "stream",
     "text": [
      "Iterated over 15518009 examples (about 19.5 GB) in 98.7s, i.e. 0.198 GB/s\n"
     ]
    }
   ],
   "source": [
    "import timeit\n",
    "\n",
    "code_snippet = \"\"\"batch_size = 1000\n",
    "\n",
    "for idx in range(0, len(pubmed_dataset), batch_size):\n",
    "    _ = pubmed_dataset[idx:idx + batch_size]\n",
    "\"\"\"\n",
    "\n",
    "time = timeit.timeit(stmt=code_snippet, number=1, globals=globals())\n",
    "print(\n",
    "    f\"Iterated over {len(pubmed_dataset)} examples (about {size_gb:.1f} GB) in \"\n",
    "    f\"{time:.1f}s, i.e. {size_gb/time:.3f} GB/s\"\n",
    ")"
   ]
  },
  {
   "cell_type": "markdown",
   "id": "1b6e76c3-3acb-46cb-b1b2-134e034a4977",
   "metadata": {},
   "source": [
    "..."
   ]
  },
  {
   "cell_type": "markdown",
   "id": "dc1beb13-2ea0-4b44-9dff-bedbf9f696a8",
   "metadata": {},
   "source": [
    "##### Streaming datasets\n",
    "\n",
    "* You might want to start reading [Differences between Dataset and IterableDataset](https://huggingface.co/docs/datasets/v3.2.0/en/about_mapstyle_vs_iterable#differences-between-dataset-and-iterabledataset)\n",
    "* Look for real-life examples of `IterableDataset` usage..."
   ]
  },
  {
   "cell_type": "code",
   "execution_count": 66,
   "id": "3fb95eda-3c96-41c5-8637-33619a4af668",
   "metadata": {},
   "outputs": [],
   "source": [
    "pubmed_dataset_streamed = load_dataset(\n",
    "    \"json\", data_files=data_files, split=\"train\", streaming=True\n",
    ")"
   ]
  },
  {
   "cell_type": "code",
   "execution_count": 67,
   "id": "c5e5614f-27c7-4669-8b99-476f96480170",
   "metadata": {},
   "outputs": [
    {
     "data": {
      "text/plain": [
       "{'meta': {'pmid': 11409574, 'language': 'eng'},\n",
       " 'text': 'Epidemiology of hypoxaemia in children with acute lower respiratory infection.\\nTo determine the prevalence of hypoxaemia in children aged under 5 years suffering acute lower respiratory infections (ALRI), the risk factors for hypoxaemia in children under 5 years of age with ALRI, and the association of hypoxaemia with an increased risk of dying in children of the same age. Systematic review of the published literature. Out-patient clinics, emergency departments and hospitalisation wards in 23 health centres from 10 countries. Cohort studies reporting the frequency of hypoxaemia in children under 5 years of age with ALRI, and the association between hypoxaemia and the risk of dying. Prevalence of hypoxaemia measured in children with ARI and relative risks for the association between the severity of illness and the frequency of hypoxaemia, and between hypoxaemia and the risk of dying. Seventeen published studies were found that included 4,021 children under 5 with acute respiratory infections (ARI) and reported the prevalence of hypoxaemia. Out-patient children and those with a clinical diagnosis of upper ARI had a low risk of hypoxaemia (pooled estimate of 6% to 9%). The prevalence increased to 31% and to 43% in patients in emergency departments and in cases with clinical pneumonia, respectively, and it was even higher among hospitalised children (47%) and in those with radiographically confirmed pneumonia (72%). The cumulated data also suggest that hypoxaemia is more frequent in children living at high altitude. Three papers reported an association between hypoxaemia and death, with relative risks varying between 1.4 and 4.6. Papers describing predictors of hypoxaemia have focused on clinical signs for detecting hypoxaemia rather than on identifying risk factors for developing this complication. Hypoxaemia is a common and potentially lethal complication of ALRI in children under 5, particularly among those with severe disease and those living at high altitude. Given the observed high prevalence of hypoxaemia and its likely association with increased mortality, efforts should be made to improve the detection of hypoxaemia and to provide oxygen earlier to more children with severe ALRI.'}"
      ]
     },
     "execution_count": 67,
     "metadata": {},
     "output_type": "execute_result"
    }
   ],
   "source": [
    "next(iter(pubmed_dataset_streamed))"
   ]
  },
  {
   "cell_type": "code",
   "execution_count": 68,
   "id": "a65fd8be-d230-49bc-97d0-92dacdcb526e",
   "metadata": {},
   "outputs": [
    {
     "data": {
      "text/plain": [
       "IterableDataset({\n",
       "    features: Unknown,\n",
       "    num_shards: 1\n",
       "})"
      ]
     },
     "execution_count": 68,
     "metadata": {},
     "output_type": "execute_result"
    }
   ],
   "source": [
    "from transformers import AutoTokenizer\n",
    "\n",
    "tokenizer = AutoTokenizer.from_pretrained(\"distilbert-base-uncased\")\n",
    "\n",
    "tokenized_dataset = pubmed_dataset_streamed.map(lambda x: tokenizer(x[\"text\"]))\n",
    "tokenized_dataset"
   ]
  },
  {
   "cell_type": "code",
   "execution_count": 69,
   "id": "07d5da0f-e915-41b8-bd34-a073ac3f1ab2",
   "metadata": {},
   "outputs": [
    {
     "name": "stdout",
     "output_type": "stream",
     "text": [
      "{'meta': {'pmid': 11409574, 'language': 'eng'}, 'text': 'Epidemiology of hypoxaemia in children with acute lower respiratory infection.\\nTo determine the prevalence of hypoxaemia in children aged under 5 years suffering acute lower respiratory infections (ALRI), the risk factors for hypoxaemia in children under 5 years of age with ALRI, and the association of hypoxaemia with an increased risk of dying in children of the same age. Systematic review of the published literature. Out-patient clinics, emergency departments and hospitalisation wards in 23 health centres from 10 countries. Cohort studies reporting the frequency of hypoxaemia in children under 5 years of age with ALRI, and the association between hypoxaemia and the risk of dying. Prevalence of hypoxaemia measured in children with ARI and relative risks for the association between the severity of illness and the frequency of hypoxaemia, and between hypoxaemia and the risk of dying. Seventeen published studies were found that included 4,021 children under 5 with acute respiratory infections (ARI) and reported the prevalence of hypoxaemia. Out-patient children and those with a clinical diagnosis of upper ARI had a low risk of hypoxaemia (pooled estimate of 6% to 9%). The prevalence increased to 31% and to 43% in patients in emergency departments and in cases with clinical pneumonia, respectively, and it was even higher among hospitalised children (47%) and in those with radiographically confirmed pneumonia (72%). The cumulated data also suggest that hypoxaemia is more frequent in children living at high altitude. Three papers reported an association between hypoxaemia and death, with relative risks varying between 1.4 and 4.6. Papers describing predictors of hypoxaemia have focused on clinical signs for detecting hypoxaemia rather than on identifying risk factors for developing this complication. Hypoxaemia is a common and potentially lethal complication of ALRI in children under 5, particularly among those with severe disease and those living at high altitude. Given the observed high prevalence of hypoxaemia and its likely association with increased mortality, efforts should be made to improve the detection of hypoxaemia and to provide oxygen earlier to more children with severe ALRI.', 'input_ids': [101, 4958, 5178, 4328, 6779, 1997, 1044, 22571, 11636, 6679, 10092, 1999, 2336, 2007, 11325, 2896, 16464, 8985, 1012, 2000, 5646, 1996, 20272, 1997, 1044, 22571, 11636, 6679, 10092, 1999, 2336, 4793, 2104, 1019, 2086, 6114, 11325, 2896, 16464, 15245, 1006, 2632, 3089, 1007, 1010, 1996, 3891, 5876, 2005, 1044, 22571, 11636, 6679, 10092, 1999, 2336, 2104, 1019, 2086, 1997, 2287, 2007, 2632, 3089, 1010, 1998, 1996, 2523, 1997, 1044, 22571, 11636, 6679, 10092, 2007, 2019, 3445, 3891, 1997, 5996, 1999, 2336, 1997, 1996, 2168, 2287, 1012, 11778, 3319, 1997, 1996, 2405, 3906, 1012, 2041, 1011, 5776, 17865, 1010, 5057, 7640, 1998, 2902, 6648, 11682, 1999, 2603, 2740, 8941, 2013, 2184, 3032, 1012, 2522, 27794, 2913, 7316, 1996, 6075, 1997, 1044, 22571, 11636, 6679, 10092, 1999, 2336, 2104, 1019, 2086, 1997, 2287, 2007, 2632, 3089, 1010, 1998, 1996, 2523, 2090, 1044, 22571, 11636, 6679, 10092, 1998, 1996, 3891, 1997, 5996, 1012, 20272, 1997, 1044, 22571, 11636, 6679, 10092, 7594, 1999, 2336, 2007, 10488, 1998, 5816, 10831, 2005, 1996, 2523, 2090, 1996, 18976, 1997, 7355, 1998, 1996, 6075, 1997, 1044, 22571, 11636, 6679, 10092, 1010, 1998, 2090, 1044, 22571, 11636, 6679, 10092, 1998, 1996, 3891, 1997, 5996, 1012, 9171, 2405, 2913, 2020, 2179, 2008, 2443, 1018, 1010, 6185, 2487, 2336, 2104, 1019, 2007, 11325, 16464, 15245, 1006, 10488, 1007, 1998, 2988, 1996, 20272, 1997, 1044, 22571, 11636, 6679, 10092, 1012, 2041, 1011, 5776, 2336, 1998, 2216, 2007, 1037, 6612, 11616, 1997, 3356, 10488, 2018, 1037, 2659, 3891, 1997, 1044, 22571, 11636, 6679, 10092, 1006, 19107, 2094, 10197, 1997, 1020, 1003, 2000, 1023, 1003, 1007, 1012, 1996, 20272, 3445, 2000, 2861, 1003, 1998, 2000, 4724, 1003, 1999, 5022, 1999, 5057, 7640, 1998, 1999, 3572, 2007, 6612, 18583, 1010, 4414, 1010, 1998, 2009, 2001, 2130, 3020, 2426, 2902, 5084, 2336, 1006, 4700, 1003, 1007, 1998, 1999, 2216, 2007, 2557, 14773, 3973, 4484, 18583, 1006, 5824, 1003, 1007, 1012, 1996, 13988, 8898, 2951, 2036, 6592, 2008, 1044, 22571, 11636, 6679, 10092, 2003, 2062, 6976, 1999, 2336, 2542, 2012, 2152, 7998, 1012, 2093, 4981, 2988, 2019, 2523, 2090, 1044, 22571, 11636, 6679, 10092, 1998, 2331, 1010, 2007, 5816, 10831, 9671, 2090, 1015, 1012, 1018, 1998, 1018, 1012, 1020, 1012, 4981, 7851, 16014, 5668, 1997, 1044, 22571, 11636, 6679, 10092, 2031, 4208, 2006, 6612, 5751, 2005, 25952, 1044, 22571, 11636, 6679, 10092, 2738, 2084, 2006, 12151, 3891, 5876, 2005, 4975, 2023, 4012, 21557, 1012, 1044, 22571, 11636, 6679, 10092, 2003, 1037, 2691, 1998, 9280, 12765, 4012, 21557, 1997, 2632, 3089, 1999, 2336, 2104, 1019, 1010, 3391, 2426, 2216, 2007, 5729, 4295, 1998, 2216, 2542, 2012, 2152, 7998, 1012, 2445, 1996, 5159, 2152, 20272, 1997, 1044, 22571, 11636, 6679, 10092, 1998, 2049, 3497, 2523, 2007, 3445, 13356, 1010, 4073, 2323, 2022, 2081, 2000, 5335, 1996, 10788, 1997, 1044, 22571, 11636, 6679, 10092, 1998, 2000, 3073, 7722, 3041, 2000, 2062, 2336, 2007, 5729, 2632, 3089, 1012, 102], 'attention_mask': [1, 1, 1, 1, 1, 1, 1, 1, 1, 1, 1, 1, 1, 1, 1, 1, 1, 1, 1, 1, 1, 1, 1, 1, 1, 1, 1, 1, 1, 1, 1, 1, 1, 1, 1, 1, 1, 1, 1, 1, 1, 1, 1, 1, 1, 1, 1, 1, 1, 1, 1, 1, 1, 1, 1, 1, 1, 1, 1, 1, 1, 1, 1, 1, 1, 1, 1, 1, 1, 1, 1, 1, 1, 1, 1, 1, 1, 1, 1, 1, 1, 1, 1, 1, 1, 1, 1, 1, 1, 1, 1, 1, 1, 1, 1, 1, 1, 1, 1, 1, 1, 1, 1, 1, 1, 1, 1, 1, 1, 1, 1, 1, 1, 1, 1, 1, 1, 1, 1, 1, 1, 1, 1, 1, 1, 1, 1, 1, 1, 1, 1, 1, 1, 1, 1, 1, 1, 1, 1, 1, 1, 1, 1, 1, 1, 1, 1, 1, 1, 1, 1, 1, 1, 1, 1, 1, 1, 1, 1, 1, 1, 1, 1, 1, 1, 1, 1, 1, 1, 1, 1, 1, 1, 1, 1, 1, 1, 1, 1, 1, 1, 1, 1, 1, 1, 1, 1, 1, 1, 1, 1, 1, 1, 1, 1, 1, 1, 1, 1, 1, 1, 1, 1, 1, 1, 1, 1, 1, 1, 1, 1, 1, 1, 1, 1, 1, 1, 1, 1, 1, 1, 1, 1, 1, 1, 1, 1, 1, 1, 1, 1, 1, 1, 1, 1, 1, 1, 1, 1, 1, 1, 1, 1, 1, 1, 1, 1, 1, 1, 1, 1, 1, 1, 1, 1, 1, 1, 1, 1, 1, 1, 1, 1, 1, 1, 1, 1, 1, 1, 1, 1, 1, 1, 1, 1, 1, 1, 1, 1, 1, 1, 1, 1, 1, 1, 1, 1, 1, 1, 1, 1, 1, 1, 1, 1, 1, 1, 1, 1, 1, 1, 1, 1, 1, 1, 1, 1, 1, 1, 1, 1, 1, 1, 1, 1, 1, 1, 1, 1, 1, 1, 1, 1, 1, 1, 1, 1, 1, 1, 1, 1, 1, 1, 1, 1, 1, 1, 1, 1, 1, 1, 1, 1, 1, 1, 1, 1, 1, 1, 1, 1, 1, 1, 1, 1, 1, 1, 1, 1, 1, 1, 1, 1, 1, 1, 1, 1, 1, 1, 1, 1, 1, 1, 1, 1, 1, 1, 1, 1, 1, 1, 1, 1, 1, 1, 1, 1, 1, 1, 1, 1, 1, 1, 1, 1, 1, 1, 1, 1, 1, 1, 1, 1, 1, 1, 1, 1, 1, 1, 1, 1, 1, 1, 1, 1, 1, 1, 1, 1, 1, 1, 1, 1, 1, 1, 1, 1, 1, 1, 1, 1, 1, 1, 1, 1, 1, 1, 1, 1, 1, 1, 1, 1, 1, 1, 1, 1, 1, 1, 1, 1, 1, 1, 1, 1, 1, 1, 1, 1, 1, 1, 1, 1, 1, 1, 1, 1, 1, 1, 1, 1, 1, 1, 1, 1, 1, 1, 1, 1]}\n"
     ]
    }
   ],
   "source": [
    "item = next(iter(tokenized_dataset))\n",
    "print(item)"
   ]
  },
  {
   "cell_type": "code",
   "execution_count": 70,
   "id": "f4b4cae3-ef41-4edd-966b-b655c20b6b90",
   "metadata": {},
   "outputs": [
    {
     "name": "stdout",
     "output_type": "stream",
     "text": [
      "{'meta': {'pmid': 11410799, 'language': 'eng'}, 'text': 'Randomized study of dose or schedule modification of granulocyte colony-stimulating factor in platinum-based chemotherapy for elderly patients with lung cancer.\\nIt is generally believed that elderly patients are less able to tolerate aggressive cancer chemotherapy than their younger counterparts. Bone marrow cellularity diminishes with age and elderly patients may have decreased tolerance to myelosuppressive agents. Between November 1995 and October 1999, 68 chemotherapy-naive elderly (70 or more years old) patients with histologically or cytologically proven lung cancer who were to receive platinum-based chemotherapy were enrolled in this study. All patients had adequate cardiac, hematological, liver and renal function to receive chemotherapy. Patients were randomized into 3 groups. Patients in groups 1 and 2 received 2 microg/kg and 4 microg/kg granulocyte colony-stimulating factor (G-CSF, lenograstim), respectively, when grade 3 leukopenia (<2,000/microl) or neutropenia (<1,000/microl) appeared after chemotherapy. Patients in group 3 received 2 microg/kg G-CSF when grade 2 leukopenia (<3,000/microl) or neutropenia (<1,500/microl) appeared after chemotherapy. G-CSF was stopped in all groups when the leukocyte count increased to over 10,000/microl or the neutrophil count exceeded 5,000/microl. Full blood cell counts were examined 3 times a week after chemotherapy. All patients received platinum-based chemotherapy. Eighteen, 16 and 22 patients (78%, 73% and 96%) in groups 1, 2 and 3, respectively, received G-CSF when leukopenia or neutropenia appeared. The durations of G-CSF treatment required by groups 1 and 3 (5.7+/-3.6 and 6.6+/-3.2 days, respectively) did not differ significantly, but the duration of treatment required by group 2 (3.7+/-2.8 days) was significantly shorter than that of group 1 (p=0.048). The duration of grade 4 neutropenia in group 2 (0.7+/-1.1 days) was marginally shorter than that in group 1 (1.6+/-2.1 days, p=0.076). The neutrophil nadir of group 2 (949+/-757/microl) was marginally higher than that of group 1 (592+/-438/microl, p=0.058). No patients in group 2 experienced grade 4 neutropenia for 4 days or more or a neutrophil nadir less than 100/microl a significant difference from group 1, where 22% and 17% of patients experienced these events (p=0.02 and p=0.04, respectively). Similarly, no infections requiring antibiotics after chemotherapy occurred in patients in group 2, a significant difference from group 1 (26%, p=0.01). The rates of neutropenia and infection in groups 1 and 3 did not differ significantly. The peak plasma concentration of G-CSF in group 2 was significantly higher than in group 1 (p=0.0018), but did not differ significantly between groups 1 and 3. Doubling the dose of G-CSF could help to decrease neutropenia and prevent infection after chemotherapy in elderly patients with lung cancer.'}\n"
     ]
    }
   ],
   "source": [
    "shuffled_dataset = pubmed_dataset_streamed.shuffle(buffer_size=10_000, seed=42)\n",
    "\n",
    "print(next(iter(shuffled_dataset)))"
   ]
  },
  {
   "cell_type": "code",
   "execution_count": 71,
   "id": "cf59d120-4470-440d-8c3b-4afeb017a302",
   "metadata": {},
   "outputs": [
    {
     "data": {
      "text/plain": [
       "[{'meta': {'pmid': 11409574, 'language': 'eng'},\n",
       "  'text': 'Epidemiology of hypoxaemia in children with acute lower respiratory infection.\\nTo determine the prevalence of hypoxaemia in children aged under 5 years suffering acute lower respiratory infections (ALRI), the risk factors for hypoxaemia in children under 5 years of age with ALRI, and the association of hypoxaemia with an increased risk of dying in children of the same age. Systematic review of the published literature. Out-patient clinics, emergency departments and hospitalisation wards in 23 health centres from 10 countries. Cohort studies reporting the frequency of hypoxaemia in children under 5 years of age with ALRI, and the association between hypoxaemia and the risk of dying. Prevalence of hypoxaemia measured in children with ARI and relative risks for the association between the severity of illness and the frequency of hypoxaemia, and between hypoxaemia and the risk of dying. Seventeen published studies were found that included 4,021 children under 5 with acute respiratory infections (ARI) and reported the prevalence of hypoxaemia. Out-patient children and those with a clinical diagnosis of upper ARI had a low risk of hypoxaemia (pooled estimate of 6% to 9%). The prevalence increased to 31% and to 43% in patients in emergency departments and in cases with clinical pneumonia, respectively, and it was even higher among hospitalised children (47%) and in those with radiographically confirmed pneumonia (72%). The cumulated data also suggest that hypoxaemia is more frequent in children living at high altitude. Three papers reported an association between hypoxaemia and death, with relative risks varying between 1.4 and 4.6. Papers describing predictors of hypoxaemia have focused on clinical signs for detecting hypoxaemia rather than on identifying risk factors for developing this complication. Hypoxaemia is a common and potentially lethal complication of ALRI in children under 5, particularly among those with severe disease and those living at high altitude. Given the observed high prevalence of hypoxaemia and its likely association with increased mortality, efforts should be made to improve the detection of hypoxaemia and to provide oxygen earlier to more children with severe ALRI.'},\n",
       " {'meta': {'pmid': 11409575, 'language': 'eng'},\n",
       "  'text': 'Clinical signs of hypoxaemia in children with acute lower respiratory infection: indicators of oxygen therapy.\\nHypoxaemia is a common complication of acute lower respiratory tract infections in children. In most developing countries, where the majority of deaths from pneumonia occur, facilities for early detection of hypoxaemia are lacking and oxygen is in short supply. This review examines the usefulness of different clinical signs and symptoms in the prediction of hypoxaemia associated with acute respiratory infections in children. Several respiratory signs were found to be associated with hypoxaemia. These include very fast breathing (with a respiratory rate of more than 60 or 70 breaths per minute), cyanosis, grunting, nasal flaring, chest retractions, head nodding and auscultatory signs, as well as signs of general depression of the child, such as inability to feed or lethargy. The sensitivity and specificity of these signs, as described in the reviewed studies, is presented, and combination rules are discussed. Through appropriate combination of several physical signs, which can be used by peripheral health workers and be taught to mothers, it is possible to predict hypoxaemia in children with acute respiratory tract infections with reasonable accuracy.'},\n",
       " {'meta': {'pmid': 11409576, 'language': 'eng'},\n",
       "  'text': \"Hypoxaemia in children with severe pneumonia in Papua New Guinea.\\nTo investigate the severity and duration of hypoxaemia in 703 children with severe or very severe pneumonia presenting to Goroka Hospital in the Papua New Guinea highlands; to study the predictive value of clinical signs for the severity of hypoxaemia, the predictive value of transcutaneous oxygen saturation (SpO2) and other variables for mortality. Prospective evaluation of children with severe or very severe pneumonia. SpO2 was measured at the time of presentation and every day until hypoxaemia resolved. Children with a SpO2 less than 85% received supplemental oxygen. By comparing with a retrospective control group for whom oxygen administration was guided by clinical signs, we evaluated whether there was a survival advantage from using a protocol for the administration of oxygen based on pulse oximetry. We determined normal values for oxygen saturation in children living in the highlands. In 151 well, normal highland children, the mean SpO2 was 95.7% (SD 2.7%). The median SpO2 among children with severe or very severe pneumonia was 70% (56-77); 376 (53.5%) had moderate hypoxaemia (SpO2 70-84%); 202 (28.7%) had severe hypoxaemia (SpO2 50-69%); and 125 (17.8%) had very severe hypoxaemia (SpO2 < 50%). Longer duration of cough or the presence of hepatomegaly or cyanosis predicted more severe degrees of hypoxaemia. After 10, 20 and 30 days from the beginning of treatment, respectively 102 (14.5%), 38 (5.4%) and 19 (2.7%) of children had persistent hypoxaemia; 46 children (6.5%) died. Predictors of death were low SpO2 on presentation, severe malnutrition, measles and history of cough for more than 7 days. The mortality risk ratio between the 703 children managed whose oxygen administration was guided by the use of pulse oximetry and the retrospective control group who received supplemental oxygen based on clinical signs was 0.65 (95%CI 0.41-1.02, two-sided Fisher's exact test, P = 0.07). There is a need to increase the availability of supplemental oxygen in smaller health facilities in developing countries, and to train health workers to recognise the clinical signs and risk factors for hypoxaemia. In moderate sized hospitals a protocol for the administration of oxygen based on pulse oximetry may improve survival.\"},\n",
       " {'meta': {'pmid': 11409577, 'language': 'eng'},\n",
       "  'text': 'Oxygen concentrators and cylinders.\\nA comparison is made between oxygen cylinders and oxygen concentrators as sources for clinical use. Oxygen cylinders are in widespread use, but costs and logistic factors favour the use of concentrators in many developing country situations, especially where cylinder supplies fail to penetrate.'},\n",
       " {'meta': {'pmid': 11409578, 'language': 'eng'},\n",
       "  'text': 'Oxygen supply in rural africa: a personal experience.\\nOxygen is one of the essential medical supplies in any hospital setting. However, in some rural African settings without regular electricity and with logistical problems in the transport of oxygen cylinders, the delivery of oxygen can be difficult. This paper compares the costs incurred using oxygen cylinders with a solar operated oxygen concentrator in a rural Gambian setting. The paper shows that a solar operated system has a high capital investment initially, but that running costs and maintenance are minimal. The system becomes cost effective if a rural hospital needs more than 6 treatment days (1 l/min) of oxygen per month and can be considered in a setting where 6 hours of sunlight per day can be guaranteed.'}]"
      ]
     },
     "execution_count": 71,
     "metadata": {},
     "output_type": "execute_result"
    }
   ],
   "source": [
    "dataset_head = pubmed_dataset_streamed.take(5)\n",
    "list(dataset_head)"
   ]
  },
  {
   "cell_type": "code",
   "execution_count": 72,
   "id": "2f9895d9-b695-4bcf-8a4e-ffcf5b2f5245",
   "metadata": {},
   "outputs": [],
   "source": [
    "# Skip the first 1,000 examples and include the rest in the training set\n",
    "train_dataset = shuffled_dataset.skip(1000)\n",
    "\n",
    "# Take the first 1,000 examples for the validation set\n",
    "validation_dataset = shuffled_dataset.take(1000)"
   ]
  },
  {
   "cell_type": "markdown",
   "id": "f07db068-92bf-45d5-b209-8287404d6bc6",
   "metadata": {},
   "source": [
    "...\n",
    "\n",
    "Similar to the URL change above, the Pile raw data has been subject to a take-down order and is not available at the URL in the tutorial!"
   ]
  },
  {
   "cell_type": "raw",
   "id": "0a428605-9ffb-40c3-ad41-97dc3c1e5300",
   "metadata": {},
   "source": [
    "law_dataset_streamed = load_dataset(\n",
    "    \"json\",\n",
    "    data_files=\"https://the-eye.eu/public/AI/pile_preliminary_components/FreeLaw_Opinions.jsonl.zst\",\n",
    "    split=\"train\",\n",
    "    streaming=True,\n",
    ")\n",
    "next(iter(law_dataset_streamed))"
   ]
  },
  {
   "cell_type": "code",
   "execution_count": 73,
   "id": "70fb3041-3b96-445c-9ea9-e57afff24072",
   "metadata": {},
   "outputs": [
    {
     "data": {
      "application/vnd.jupyter.widget-view+json": {
       "model_id": "355a2b9aea484de1a010678ab93724bb",
       "version_major": 2,
       "version_minor": 0
      },
      "text/plain": [
       "Resolving data files:   0%|          | 0/30 [00:00<?, ?it/s]"
      ]
     },
     "metadata": {},
     "output_type": "display_data"
    },
    {
     "data": {
      "text/plain": [
       "IterableDataset({\n",
       "    features: Unknown,\n",
       "    num_shards: 30\n",
       "})"
      ]
     },
     "execution_count": 73,
     "metadata": {},
     "output_type": "execute_result"
    }
   ],
   "source": [
    "law_dataset_streamed = load_dataset(\n",
    "    \"monology/pile-uncopyrighted\",  \n",
    "    split=\"train\", \n",
    "    streaming=True\n",
    ")\n",
    "\n",
    "law_dataset_streamed = law_dataset_streamed.filter(lambda x: x[\"meta\"][\"pile_set_name\"] == \"FreeLaw\")\n",
    "law_dataset_streamed"
   ]
  },
  {
   "cell_type": "code",
   "execution_count": 74,
   "id": "4713f7e8-cf13-4503-873e-8475671846ec",
   "metadata": {},
   "outputs": [
    {
     "name": "stdout",
     "output_type": "stream",
     "text": [
      "{'text': '     The summaries of the Colorado Court of Appeals published opinions\\n  constitute no part of the opinion of the division but have been prepared by\\n  the division for the convenience of the reader. The summaries may not be\\n    cited or relied upon as they are not the official language of the division.\\n  Any discrepancy between the language in the summary and in the opinion\\n           should be resolved in favor of the language in the opinion.\\n\\n\\n                                                                  SUMMARY\\n                                                            February 8, 2018\\n\\n                                2018COA12\\n\\nNo. 14CA0144, People v. Trujillo — Criminal Law — Sentencing\\n— Probation — Indeterminate Sentence\\n\\n     A division of the court of appeals considers whether a\\n\\nColorado statute authorizes imposition of a sentence to an\\n\\nindeterminate term of probation and whether the defendant was\\n\\nentitled to the benefit of amendments to the statute criminalizing\\n\\ntheft. Relying on People v. Jenkins, 2013 COA 76, 305 P.3d 420,\\n\\nthe division concludes that section 18-1.3-202(1), C.R.S. 2017,\\n\\nprovides statutory authority for the imposition of an indeterminate\\n\\nprobation sentence. Following People v. Stellabotte, 2016 COA 106,\\n\\n___ P.3d ___ (cert. granted Feb. 6, 2017), the majority further\\n\\nconcludes that the defendant is entitled to the benefit of\\n\\namendments to the theft statute. The partial dissent concludes\\n\\x0cthat the amendments to the theft statute do not apply retroactively,\\n\\nand would therefore affirm the sentence in full.\\n\\n     Additionally, the division rejects the defendant’s contentions\\n\\nthat reversal is required due to the trial court’s rejection of\\n\\ndefense-tendered jury instructions, wrongfully admitted character\\n\\nevidence, and prosecutorial misconduct. However, the division\\n\\nremands for the trial court to make findings of fact concerning the\\n\\nassessment of the costs of prosecution.\\n\\n     Accordingly, the division affirms the conviction, affirms the\\n\\nsentence in part, vacates the sentence in part, and remands the\\n\\ncase with directions.\\n\\x0cCOLORADO COURT OF APPEALS                                          2018COA12\\n\\n\\nCourt of Appeals No. 14CA0144\\nMesa County District Court No. 11CR447\\nHonorable Valerie J. Robison, Judge\\n\\n\\nThe People of the State of Colorado,\\n\\nPlaintiff-Appellee,\\n\\nv.\\n\\nMichael Floyd Trujillo,\\n\\nDefendant-Appellant.\\n\\n\\n         JUDGMENT AFFIRMED, SENTENCE AFFIRMED IN PART AND\\n        VACATED IN PART, AND CASE REMANDED WITH DIRECTIONS\\n\\n                                  Division I\\n                        Opinion by JUDGE TAUBMAN\\n                             Richman, J., concurs\\n                Furman, J., concurs in part and dissents in part\\n\\n                          Announced February 8, 2018\\n\\n\\nCynthia H. Coffman, Attorney General, Joseph G. Michaels, Assistant Attorney\\nGeneral, Denver, Colorado, for Plaintiff-Appellee\\n\\nDouglas K. Wilson, Colorado State Public Defender, James S. Hardy, Deputy\\nState Public Defender, Denver, Colorado, for Defendant-Appellant\\n\\x0c¶1    Defendant, Michael Floyd Trujillo, appeals his judgment of\\n\\n conviction entered on a jury verdict finding him guilty of one count\\n\\n of theft of more than $20,000 and one count of criminal mischief of\\n\\n $20,000 or more. He also appeals his sentence. We perceive no\\n\\n basis for reversing his convictions, but remand for the trial court to\\n\\n make findings of fact regarding the assessment of the costs of\\n\\n prosecution and to reclassify his theft conviction as a class 4 felony.\\n\\n                            I. Background\\n\\n¶2    In 2007, Trujillo began building a home, doing much of the\\n\\n labor himself and initially using his own money to fund the project.\\n\\n He later took out a construction loan from the victim, a bank, for\\n\\n just under $255,000. After construction was completed on the\\n\\n house, Trujillo stopped making his monthly loan payments. The\\n\\n bank declined to restructure the loan and initiated foreclosure\\n\\n proceedings in September 2010.\\n\\n¶3    Before the foreclosure sale, Trujillo removed or destroyed\\n\\n property in the house, including kitchen cabinets, countertops,\\n\\n interior and exterior doors, doorjambs and casings, flooring,\\n\\n baseboards, light fixtures, bathroom fixtures, the fireplace,\\n\\n handrails, the boiler, the air conditioner, and the garage door.\\n\\n\\n                                    1\\n\\x0c Because of this damage, the house was appraised at $150,000;\\n\\n however, the appraiser estimated that if the house were in good\\n\\n repair, it would have been worth $320,000.\\n\\n¶4    Trujillo was charged with defrauding a secured creditor, theft\\n\\n of $20,000 or more, but less than $100,000, and criminal mischief\\n\\n of $20,000 or more, but less than $100,000. The jury found him\\n\\n not guilty of defrauding a secured creditor and guilty of theft and\\n\\n criminal mischief.\\n\\n¶5    On appeal, Trujillo raises six contentions: (1) the trial court\\n\\n erred in rejecting defense-tendered jury instructions; (2) the trial\\n\\n court erred in allowing evidence of a prior foreclosure against\\n\\n Trujillo; (3) prosecutorial misconduct during direct examination of a\\n\\n witness and closing rebuttal argument warrants reversal; (4) the\\n\\n trial court imposed an illegal sentence of indeterminate probation;\\n\\n (5) the trial court erred in awarding the People costs of prosecution;\\n\\n and (6) an amendment to the theft statute applies to his conviction.\\n\\n We perceive no basis for reversal with respect to the first four\\n\\n contentions, but agree with Trujillo’s final two contentions. We\\n\\n therefore affirm the convictions and the sentence in part but vacate\\n\\n the sentence in part and remand with directions.\\n\\n\\n                                    2\\n\\x0c                          II. Jury Instructions\\n\\n¶6    Trujillo asserts that the trial court erred in rejecting various\\n\\n jury instructions regarding his theory of the case. We disagree.\\n\\n                           A. Additional Facts\\n\\n¶7    Throughout trial, the defense’s theory of the case was that\\n\\n Trujillo lacked the requisite intent to commit the charged offenses\\n\\n because he believed that the property he removed from the house\\n\\n belonged to him. The defense tendered five jury instructions related\\n\\n to this theory of the case.\\n\\n¶8    Trujillo’s tendered jury instructions detailed property law\\n\\n concepts. For example, the first tendered instruction stated that\\n\\n “the person who has title to real property is still the owner of the\\n\\n property even if there is a lien or secured interest on the property.”\\n\\n Another tendered instruction defined “title,” “deed of trust,” and\\n\\n “holder of a certificate of purchase[].” One instruction described the\\n\\n lien theory detailed in section 38-35-117, C.R.S. 2017, and another\\n\\n instructed that title to property “does not vest with the purchaser\\n\\n until eight days after [a] foreclosure sale.”\\n\\n¶9    The trial court declined to give these instructions as tendered.\\n\\n However, portions of the defense-tendered instructions were\\n\\n\\n                                     3\\n\\x0c  included in a final definitional jury instruction. The final\\n\\n  instructions defined “deed of trust” and stated that the title to\\n\\n  property is transferred to the holder of the certificate of purchase\\n\\n  eight days after a foreclosure sale. Though it rejected other\\n\\n  portions of the defense-tendered instructions, the trial court\\n\\n  permitted defense counsel to argue the issues raised in the\\n\\n  instructions during closing argument.\\n\\n¶ 10   The defense also tendered an instruction which the trial court\\n\\n  modified and gave as a theory of the case instruction. That\\n\\n  instruction stated, “Trujillo contends that the items removed from\\n\\n  the home . . . were his; purchased by him and installed by him. . . .\\n\\n  Trujillo conten[d]s that the items that he took and damaged were\\n\\n  his sole property.”\\n\\n                         B. Standard of Review\\n\\n¶ 11   We review jury instructions de novo to determine whether, as\\n\\n  a whole, they accurately informed the jury of the governing law.\\n\\n  Riley v. People, 266 P.3d 1089, 1092-93 (Colo. 2011). If the jury\\n\\n  instructions properly inform the jury of the law, the district court\\n\\n  has “broad discretion to determine the form and style of jury\\n\\n  instructions.” Day v. Johnson, 255 P.3d 1064, 1067 (Colo. 2011).\\n\\n\\n                                     4\\n\\x0c  Accordingly, we review a trial court’s decision concerning a\\n\\n  proposed jury instruction for an abuse of discretion and will not\\n\\n  disturb the ruling unless it is manifestly arbitrary, unreasonable, or\\n\\n  unfair. Id.\\n\\n¶ 12   When a defendant objects to the trial court’s ruling on a jury\\n\\n  instruction, we review for nonconstitutional harmless error and will\\n\\n  thus affirm if “there is not a reasonable probability that the error\\n\\n  contributed to the defendant’s conviction.” People v. Garcia, 28\\n\\n  P.3d 340, 344 (Colo. 2001) (quoting Salcedo v. People, 999 P.2d\\n\\n  833, 841 (Colo. 2000)).\\n\\n                            C. Applicable Law\\n\\n¶ 13   “[A]n instruction embodying a defendant’s theory of the case\\n\\n  must be given by the trial court if the record contains any evidence\\n\\n  to support the theory.” People v. Nunez, 841 P.2d 261, 264 (Colo.\\n\\n  1992). Moreover, a trial court has “an affirmative obligation” to\\n\\n  work with counsel to correct a tendered theory of the case\\n\\n  instruction “or to incorporate the substance of such in an\\n\\n  instruction drafted by the court.” Id. at 265; see also People v.\\n\\n  Tippett, 733 P.2d 1183, 1195 (Colo. 1987) (a trial court may refuse\\n\\n  to give an instruction already embodied in other instructions).\\n\\n\\n                                     5\\n\\x0c¶ 14   In considering whether a jury was adequately informed of a\\n\\n  defendant’s theory of the case, a reviewing court can take into\\n\\n  account whether defense counsel’s closing argument “fairly\\n\\n  represented” the theory to the jury. People v. Dore, 997 P.2d 1214,\\n\\n  1222 (Colo. App. 1999).\\n\\n                               D. Analysis\\n\\n¶ 15   Trujillo contends that the trial court abused its discretion in\\n\\n  rejecting the tendered instructions. We disagree.\\n\\n¶ 16   Trujillo asserts that the tendered instructions were essential\\n\\n  because they communicated his theory of the case. However, the\\n\\n  trial court instructed the jury on his theory of the case in an\\n\\n  instruction that clearly stated that he believed the property he took\\n\\n  from the house was “his sole property.” To the extent that the trial\\n\\n  court had a duty to work with the defense in crafting a proper\\n\\n  theory of defense instruction, we conclude that the trial court\\n\\n  fulfilled that duty here by giving an alternative theory of the case\\n\\n  instruction that encompassed Trujillo’s tendered instructions. See\\n\\n  Nunez, 841 P.2d at 265 n.9. Moreover, the trial court specifically\\n\\n  stated that defense counsel would be allowed to incorporate the\\n\\n\\n\\n\\n                                     6\\n\\x0c  property law concepts into her closing argument, which defense\\n\\n  counsel did.\\n\\n¶ 17   Trujillo asserts that the instructions he tendered were\\n\\n  accurate statements of property law. In contrast, the People argue\\n\\n  that the instructions misstated the law as it applies in criminal\\n\\n  prosecutions for theft and criminal mischief. Because we conclude\\n\\n  that the trial court did not abuse its discretion in drafting a theory\\n\\n  of defense instruction that encompassed the defense’s tendered\\n\\n  instructions, we do not address whether the rejected instructions\\n\\n  were accurate statements of the law.\\n\\n¶ 18   The jury instructions, as a whole, “fairly and adequately\\n\\n  cover[ed] the issues presented.” People v. Pahl, 169 P.3d 169, 183\\n\\n  (Colo. App. 2006). Thus, we conclude that the trial court did not\\n\\n  abuse its discretion in rejecting in part the defense-tendered jury\\n\\n  instructions.\\n\\n                    III. Evidence of Prior Foreclosure\\n\\n¶ 19   Trujillo next asserts that the trial court erred in allowing the\\n\\n  People to introduce evidence that another property of his had been\\n\\n  foreclosed. We disagree.\\n\\n\\n\\n\\n                                     7\\n\\x0c                           A. Additional Facts\\n\\n¶ 20   Before trial, Trujillo filed a motion to exclude evidence of other\\n\\n  acts or res gestae evidence. Trujillo’s motion addressed several\\n\\n  categories of other acts evidence, including evidence related to any\\n\\n  “financial and/or legal problems” unrelated to the charged offenses.\\n\\n  During a motions hearing, the People stated that they did not\\n\\n  intend to introduce any other acts or res gestae evidence. In a\\n\\n  written ruling, the trial court granted Trujillo’s motion to exclude\\n\\n  evidence of his unrelated financial and legal problems “unless the\\n\\n  prosecution fe[lt] that the ‘door ha[d] been opened.’” The trial court\\n\\n  further ordered that, if the People felt Trujillo introduced evidence of\\n\\n  his other financial and legal problems, the People could request a\\n\\n  bench conference during trial.\\n\\n¶ 21   On the first day of trial, defense counsel stated that she was\\n\\n  withdrawing her motion to exclude other acts evidence insofar as it\\n\\n  pertained to evidence of Trujillo’s bankruptcy proceedings. During\\n\\n  her opening statement, defense counsel then mentioned those\\n\\n  proceedings.\\n\\n¶ 22   Later, the People called the bank’s former vice president as an\\n\\n  expert witness. During direct examination, the prosecutor asked\\n\\n\\n                                     8\\n\\x0c  the witness why the bank had declined to restructure Trujillo’s\\n\\n  loan. The prosecutor also asked about Trujillo’s demeanor during\\n\\n  interactions with the bank. Trujillo objected. After a bench\\n\\n  conference, the trial court allowed the witness to testify on both\\n\\n  matters.\\n\\n¶ 23   Specifically, the witness testified that, during a conversation\\n\\n  about restructuring the loan, Trujillo “seemed like he was very\\n\\n  upset.” The witness recalled, “He got into [that] he had a piece of\\n\\n  property that [another bank] had foreclosed on and it sounded like\\n\\n  they had sold it for what [Trujillo] believed was a lot less, leaving\\n\\n  him a large deficiency balance.”\\n\\n¶ 24   During closing argument, the People alluded to the witness’s\\n\\n  testimony and referred several times to Trujillo’s general animosity\\n\\n  against banks.\\n\\n                          B. Standard of Review\\n\\n¶ 25   We review a trial court’s decision to admit other acts or res\\n\\n  gestae evidence for an abuse of discretion. People v. Jimenez, 217\\n\\n  P.3d 841, 846 (Colo. App. 2008). A court abuses its discretion if its\\n\\n  decision to admit such evidence is manifestly arbitrary,\\n\\n  unreasonable, or unfair. Id.\\n\\n\\n                                      9\\n\\x0c¶ 26   We review a preserved claim of nonconstitutional error for\\n\\n  harmless error, reversing only if any error “substantially influenced\\n\\n  the verdict or affected the fairness of the trial proceedings.” Hagos\\n\\n  v. People, 2012 CO 63, ¶ 12, 288 P.3d 116, 119 (quoting Tevlin v.\\n\\n  People, 715 P.2d 338, 342 (Colo. 1986)).\\n\\n                           C. Applicable Law\\n\\n¶ 27   Evidence is relevant if it has “any tendency to make the\\n\\n  existence of any fact that is of consequence to the determination of\\n\\n  the action more probable or less probable than it would be without\\n\\n  the evidence.” CRE 401. Generally speaking, “[t]he Colorado Rules\\n\\n  of Evidence strongly favor the admission of relevant evidence.”\\n\\n  People v. Brown, 2014 COA 155M-2, ¶ 22, 360 P.3d 167, 172.\\n\\n  However, relevant evidence is nevertheless inadmissible when “its\\n\\n  probative value is substantially outweighed by the danger of unfair\\n\\n  prejudice, confusion of the issues, or misleading the jury.” CRE\\n\\n  403. Similarly, evidence of “other crimes, wrongs, or acts” is\\n\\n  inadmissible to prove a person’s character “in order to show that he\\n\\n  acted in conformity therewith,” though it may be admissible for\\n\\n  other purposes, including proving intent. CRE 404(b).\\n\\n\\n\\n\\n                                    10\\n\\x0c¶ 28   “Res gestae is a theory of relevance which recognizes that\\n\\n  certain evidence is relevant because of its unique relationship to the\\n\\n  charged crime.” People v. Greenlee, 200 P.3d 363, 368 (Colo. 2009).\\n\\n  However, “there is no need to consider an alternative theory of\\n\\n  relevance, such as res gestae, where the evidence is admissible\\n\\n  under general rules of relevancy.” Id.\\n\\n                               D. Analysis\\n\\n¶ 29   Trujillo contends that the evidence of the prior foreclosure\\n\\n  action portrayed him as a “serial defaulter” and was impermissible\\n\\n  under CRE 404(b) and 403. The People assert that the evidence\\n\\n  was admissible as “directly relevant” to Trujillo’s intent and motive.\\n\\n  In the alternative, the People argue that the evidence was res gestae\\n\\n  evidence. We agree with the People’s first argument that the\\n\\n  evidence was admissible under CRE 401, and was not barred by\\n\\n  CRE 403.1\\n\\n\\n\\n  1 During the bench conference, the trial court allowed the bank’s\\n  former vice president to testify after conducting an abbreviated CRE\\n  404(b) analysis that did not specifically address the four-factor test\\n  set forth in People v. Spoto, 795 P.2d 1314, 1318 (Colo. 1990). The\\n  trial court did not admit the evidence under the res gestae doctrine.\\n  However, we can affirm a trial court’s evidentiary ruling on any\\n  ground supported by the record, “even if that ground was not\\n\\n                                    11\\n\\x0c¶ 30   The evidence of the prior foreclosure was probative of the\\n\\n  interactions between Trujillo and the bank — it made it more\\n\\n  probable that Trujillo had the requisite intent to commit theft. It\\n\\n  was therefore relevant under CRE 401. Further, the risk of unfair\\n\\n  prejudice did not substantially outweigh the probative value of the\\n\\n  evidence, especially where the prior foreclosure was referenced only\\n\\n  in passing and the details of that foreclosure were not revealed.\\n\\n  Thus, the evidence was not barred by CRE 403.\\n\\n¶ 31   Because we conclude that the evidence of the prior foreclosure\\n\\n  was relevant under CRE 401 and admissible under CRE 403, we\\n\\n  need not address whether the evidence was res gestae evidence or\\n\\n  “other acts” evidence under CRE 404(b). See Greenlee, 200 P.3d at\\n\\n  368-69. Accordingly, we conclude that the trial court did not err in\\n\\n  allowing the testimony concerning the prior foreclosure action.\\n\\n                      IV. Prosecutorial Misconduct\\n\\n¶ 32   Trujillo argues that the prosecutor improperly commented on\\n\\n  the district attorney’s screening process for bringing charges and\\n\\n\\n\\n\\n  articulated or considered by the trial court.” People v. Phillips, 2012\\n  COA 176, ¶ 63, 315 P.3d 136, 153.\\n\\n                                    12\\n\\x0c  Trujillo’s right not to testify, and improperly denigrated defense\\n\\n  counsel. We perceive no basis for reversal.\\n\\n                           A. Additional Facts\\n\\n¶ 33   During redirect examination of one of the People’s expert\\n\\n  witnesses, an attorney who worked at the bank, the prosecutor\\n\\n  asked whether the bank played a role in charging Trujillo. The\\n\\n  prosecutor asked if the witness himself made the decision to file a\\n\\n  criminal case, to which the witness replied, “No.” The prosecutor\\n\\n  then asked, “[W]ho is it, according to your understanding, that\\n\\n  makes those decisions on whether a case gets filed criminally?” The\\n\\n  witness responded, “A complaint’s made to a police department or\\n\\n  sheriff’s department and they make that decision in conjunction\\n\\n  with I believe you.” The prosecutor clarified that “you” meant the\\n\\n  district attorney’s office. The defense did not object.\\n\\n¶ 34   During rebuttal closing argument, the prosecutor said,\\n\\n             Did you hear all that? [Defense counsel]’s\\n             talking about all of this stuff, about what\\n             Trujillo’s intent was. And then did you hear\\n             her towards the end what she did? She says,\\n             and correct – this part was correct of what she\\n             said. My job is to prove intent, right. That is\\n             my burden. And she’s absolutely right. The\\n             Defendant has every right to remain silent,\\n\\n\\n\\n                                    13\\n\\x0c            and he exercised that right and that is\\n            something that you cannot use against him.\\n\\n            But it is completely ridiculous for [defense\\n            counsel] to get up here and say that [Trujillo]\\n            didn’t testify to what his intent was and then\\n            to go on and talk about what his intent\\n            actually was. We don’t know what his intent\\n            was because he never testified to that, which\\n            he has every right to do. But did you hear\\n            her? She’s up here saying his intent was this.\\n\\n¶ 35   Trujillo objected on the basis that the prosecutor was\\n\\n  denigrating defense counsel. The trial court sustained the objection\\n\\n  as to the prosecutor’s tone, but overruled it as to content. The\\n\\n  prosecutor then argued, “[I]f you go out and run somebody over and\\n\\n  – and think that you had the right to do that, is that gonna be a\\n\\n  legitimate defense by saying, well, I thought I could do that. I didn’t\\n\\n  – nobody ever told me. Nobody put it in writing. When I bought my\\n\\n  car, in the instruction manual, nothing said that about that. That’s\\n\\n  preposterous.” Trujillo did not renew his objection.\\n\\n                         B. Standard of Review\\n\\n¶ 36   In reviewing alleged prosecutorial misconduct, an appellate\\n\\n  court engages in a two-step analysis. First, we determine whether\\n\\n  the prosecutor’s conduct was improper based on the totality of the\\n\\n  circumstances. Wend v. People, 235 P.3d 1089, 1096 (Colo. 2010).\\n\\n\\n                                    14\\n\\x0c  Second, we determine whether any misconduct warrants reversal\\n\\n  under the proper standard of review. Id.\\n\\n¶ 37   When the alleged misconduct is objected to at trial and is of\\n\\n  constitutional magnitude, we review for constitutional harmless\\n\\n  error. Id. When the alleged misconduct is not of a constitutional\\n\\n  magnitude, and when the defense objected at trial, we subject the\\n\\n  prosecutorial misconduct to harmless error review. Id. at 1097.\\n\\n  Such prosecutorial misconduct will be considered harmless\\n\\n  “whenever there is no reasonable probability that it contributed to\\n\\n  the defendant’s conviction.” Crider v. People, 186 P.3d 39, 42 (Colo.\\n\\n  2008). When the defense did not object to the misconduct, we\\n\\n  review for plain error. Wend, 235 P.3d at 1097-98.\\n\\n                           C. Applicable Law\\n\\n¶ 38   A prosecutor cannot comment on a “screening process” for\\n\\n  charging cases “because it both hints that additional evidence\\n\\n  supporting guilt exists and reveals the personal opinion of the\\n\\n  prosecutor.” Domingo-Gomez v. People, 125 P.3d 1043, 1052 (Colo.\\n\\n  2005). It is also improper for a prosecutor to make remarks “for the\\n\\n  obvious purpose of denigrating defense counsel.” People v. Jones,\\n\\n  832 P.2d 1036, 1038 (Colo. App. 1991). It is similarly improper for\\n\\n\\n                                   15\\n\\x0c  a prosecutor to comment on a defendant’s decision not to testify.\\n\\n  Griffin v. California, 380 U.S. 609, 614 (1965); see also People v.\\n\\n  Martinez, 652 P.2d 174, 177 (Colo. App. 1981) (noting that a\\n\\n  prosecutor’s comment on a defendant’s silence constitutes\\n\\n  reversible error when “the prosecution argued that such silence\\n\\n  constituted an implied admission of guilt”).\\n\\n¶ 39   Nevertheless, “[a] prosecutor is allowed considerable latitude\\n\\n  in responding to the argument made by opposing counsel.” People\\n\\n  v. Ramirez, 997 P.2d 1200, 1211 (Colo. App. 1999), aff’d, 43 P.3d\\n\\n  611 (Colo. 2001). Further, “[a]lthough it is improper for a\\n\\n  prosecutor to assert that opposing counsel knows that the\\n\\n  accused’s case is not meritorious,” the prosecutor may permissibly\\n\\n  argue “that the evidence in support of defendant’s innocence lacked\\n\\n  substance.” Id. at 1211; see also People v. Samson, 2012 COA 167,\\n\\n  ¶ 31, 302 P.3d 311, 317 (stating that a prosecutor may permissibly\\n\\n  “comment on the absence of evidence to support a defendant’s\\n\\n  contentions”).\\n\\n¶ 40   Appellate courts consider several factors in determining\\n\\n  whether prosecutorial misconduct was prejudicial, including the\\n\\n  nature of the error, the pervasiveness of the misconduct, the\\n\\n\\n                                    16\\n\\x0c  context, and the overall strength of the evidence supporting the\\n\\n  conviction. People v. McBride, 228 P.3d 216, 225 (Colo. App. 2009);\\n\\n  see also Crider, 186 P.3d at 43. For example, a reviewing court may\\n\\n  consider whether proper jury instructions mitigated the prejudicial\\n\\n  effect of prosecutorial misconduct. See People v. Castillo, 2014 COA\\n\\n  140M, ¶ 78, ___ P.3d ___, ___ (concluding prosecutor’s\\n\\n  misstatements were harmless in light of instructions from the trial\\n\\n  court and the defense’s closing argument) (cert. granted in part Nov.\\n\\n  23, 2015).\\n\\n                               D. Analysis\\n\\n¶ 41   Trujillo contends that three instances of prosecutorial\\n\\n  misconduct require reversal. We disagree.\\n\\n¶ 42   Trujillo first contends that the prosecutor improperly referred\\n\\n  to a screening process while examining the expert witness. We\\n\\n  perceive no prosecutorial misconduct. The prosecutor here did not\\n\\n  imply that he had engaged in a screening process to “weed out the\\n\\n  weaker cases and, implicitly, that the State d[id] not consider this a\\n\\n  weak case.” Domingo-Gomez, 125 P.3d at 1052 (concluding the\\n\\n  prosecutor’s comment that “it takes a lot more than somebody\\n\\n  saying that person did it” to bring charges was improper). Rather,\\n\\n\\n                                    17\\n\\x0c  the prosecutor clarified that the bank did not bring criminal\\n\\n  charges and that the witness himself did not stand to gain as a\\n\\n  result of Trujillo’s conviction. The People assert, and we agree, that\\n\\n  the prosecutor’s question merely elicited testimony to establish that\\n\\n  the district attorney’s office was responsible for pursuing the\\n\\n  criminal charges against Trujillo.\\n\\n¶ 43   Second, Trujillo asserts that the prosecutor impermissibly\\n\\n  commented on his decision not to testify. We disagree. Even if we\\n\\n  assume the comment on Trujillo’s decision not to testify was\\n\\n  improper, not every comment on a defendant’s choice not to testify\\n\\n  requires reversal. See Martinez, 652 P.2d at 177. “The determining\\n\\n  factor is whether the defendant’s silence was used by the\\n\\n  prosecution as a means of creating an inference of guilt,” id., and\\n\\n  we conclude that the prosecutor’s comments here did not raise\\n\\n  such an inference.\\n\\n¶ 44   Finally, Trujillo contends that the prosecutor impermissibly\\n\\n  denigrated defense counsel and the defense’s theory of the case\\n\\n  during rebuttal closing argument. We agree that the prosecutor\\n\\n  improperly denigrated defense counsel and the defense’s theory of\\n\\n\\n\\n\\n                                       18\\n\\x0c  the case when he characterized her arguments as “completely\\n\\n  ridiculous” and “preposterous.”\\n\\n¶ 45   However, we perceive no basis for reversal as a result of these\\n\\n  improper remarks. The comments were limited to the People’s\\n\\n  rebuttal closing argument. Moreover, significant evidence\\n\\n  corroborated the jury’s finding of guilt — specifically, the\\n\\n  undisputed evidence that Trujillo had removed an extensive amount\\n\\n  of property from the house. Viewing the record as a whole, we\\n\\n  cannot say that there was a “reasonable probability” that the\\n\\n  prosecutor’s remarks denigrating defense counsel contributed to\\n\\n  Trujillo’s convictions. See Crider, 186 P.3d at 42. Thus, we\\n\\n  determine the error was harmless.\\n\\n¶ 46   In sum, though we agree that the prosecutor improperly\\n\\n  denigrated defense counsel, we perceive no basis for reversal.\\n\\n                       V. Indeterminate Probation\\n\\n¶ 47   Trujillo contends that the trial court did not have the statutory\\n\\n  authority to sentence him to indeterminate probation. We disagree.\\n\\n                           A. Additional Facts\\n\\n¶ 48   During the sentencing hearing, the People requested that\\n\\n  Trujillo be placed on a “long period of probation . . . somewhere in\\n\\n\\n                                    19\\n\\x0c  the neighborhood of eight to ten years” because they anticipated\\n\\n  that Trujillo would be ordered to pay substantial restitution.2\\n\\n  Trujillo requested unsupervised probation with a collections\\n\\n  investigator monitoring his restitution payments.\\n\\n¶ 49   The trial court imposed an “indefinite probation sentence”\\n\\n  because of the substantial restitution that Trujillo was expected to\\n\\n  owe. In imposing an indeterminate probation sentence, the trial\\n\\n  court stated, “There is case law that talks about whether\\n\\n  [indeterminate probation] is something that can or should be\\n\\n  imposed and it’s certainly something that is allowed regardless of\\n\\n  the type of conviction that has been entered.”\\n\\n¶ 50   The mittimus states that the sentence imposed was a term of\\n\\n  probation for seven years to life.\\n\\n                          B. Standard of Review\\n\\n¶ 51   The People contend that we should not consider this claim\\n\\n  because a sentence to probation is not ordinarily subject to\\n\\n\\n\\n  2 The trial court ultimately ordered Trujillo to pay $171,421.97 in\\n  restitution. Trujillo separately appealed that order, and a division\\n  of this court affirmed in part, reversed in part, and remanded for\\n  reconsideration. People v. Trujillo, (Colo. App. No. 14CA2486, Oct.\\n  5, 2017) (not published pursuant to C.A.R. 35(e)).\\n\\n                                       20\\n\\x0c  appellate review. However, “where, as here, a defendant contends\\n\\n  that ‘a court has exceeded its statutory authority’ in imposing a\\n\\n  probationary sentence, appellate review is warranted.” People v.\\n\\n  Jenkins, 2013 COA 76, ¶ 10, 305 P.3d 420, 423 (quoting People v.\\n\\n  Rossman, 140 P.3d 172, 174 (Colo. App. 2006)).\\n\\n¶ 52   “We review sentencing decisions that are within the statutory\\n\\n  range for an abuse of discretion.” People v. Torrez, 2013 COA 37,\\n\\n  ¶ 71, 316 P.3d 25, 37. However, where the defendant contends that\\n\\n  a court exceeded its statutory sentencing authority, our inquiry\\n\\n  involves statutory interpretation. Jenkins, ¶ 12, 305 P.3d at 423.\\n\\n  We review such issues of statutory interpretation de novo. Id.\\n\\n                           C. Applicable Law\\n\\n¶ 53   Under section 18-1.3-202(1)(a), C.R.S. 2017, a trial court “may\\n\\n  grant the defendant probation for such period and upon such terms\\n\\n  and conditions as it deems best.” Further, “[t]he length of probation\\n\\n  shall be subject to the discretion of the court and may exceed the\\n\\n  maximum period of incarceration authorized for the classification of\\n\\n  the offense of which the defendant is convicted.” Id.\\n\\n¶ 54   In Jenkins, a division of this court concluded that section 18-\\n\\n  1.3-202(1) “authorizes a trial court to impose an indeterminate term\\n\\n\\n                                   21\\n\\x0c  of probation.” Jenkins, ¶ 38, 305 P.3d at 426. The Jenkins division\\n\\n  bolstered its conclusion by looking to the plain language of the\\n\\n  statute — which the division noted “contemplate[s] both\\n\\n  determinate and indeterminate terms of probation” — and to the\\n\\n  provision’s legislative history. Id. at ¶¶ 40, 42, 46, 305 P.3d at 426-\\n\\n  28. Finally, the division noted that section 18-1.3-202(1) “generally\\n\\n  pertains to a broad class of cases, and it simply allows a trial court\\n\\n  to elect an indeterminate term if it sentences an offender who has\\n\\n  been convicted of a felony to probation.” Id. at ¶ 50, 305 P.3d at\\n\\n  428 (upholding probationary sentence of ten years to life); see also\\n\\n  People v. Martinez, 844 P.2d 1203, 1206 (Colo. App. 1992)\\n\\n  (concluding that a trial court has authority to impose a term of\\n\\n  probation that exceeds the sentence to imprisonment in the\\n\\n  statutory aggravated range for an offense).\\n\\n                               D. Analysis\\n\\n¶ 55   Trujillo asserts that the trial court exceeded its statutory\\n\\n  authority in imposing an indeterminate probationary sentence. We\\n\\n  disagree.\\n\\n¶ 56   Like the Jenkins division, we conclude that section 18-1.3-\\n\\n  202(1) gives a trial court the authority to sentence a defendant\\n\\n\\n                                    22\\n\\x0c  convicted of a felony to an indefinite probationary period. Trujillo\\n\\n  urges that the statute limits a trial court’s authority to impose an\\n\\n  indeterminate probation sentence. Under Trujillo’s logic, a sentence\\n\\n  to probation for 100 years is permissible, but an indeterminate\\n\\n  probation sentence is outside the trial court’s statutory authority.\\n\\n  The statute offers no basis for reaching this conclusion.\\n\\n¶ 57   Trujillo asserts that Jenkins is distinguishable because that\\n\\n  case concerned whether a defendant convicted of a sex offense not\\n\\n  falling under the supervision scheme of the Colorado Sex Offender\\n\\n  Lifetime Supervision Act of 1998 (SOLSA), see §§ 18-1.3-1001\\n\\n  to -1012, C.R.S. 2017, could nevertheless be sentenced to\\n\\n  indeterminate probation. Jenkins, ¶ 1, 305 P.3d at 422. Trujillo\\n\\n  contends that Jenkins was limited to the particular circumstances\\n\\n  of that case, and does not widely apply to all offenses and\\n\\n  defendants. However, the Jenkins division made clear that section\\n\\n  18-1.3-202(1) “establishes a general rule as far as the possibility of\\n\\n  an indeterminate probationary term for felonies” and “authorizes a\\n\\n  trial court to impose an indeterminate term of probation.” Id. at\\n\\n  ¶¶ 38, 50, 305 P.3d at 426, 428. In fact, Jenkins explicitly rejected\\n\\n  the argument that a sentence of indeterminate probation could be\\n\\n\\n                                    23\\n\\x0c  imposed only in sex offense cases subject to SOLSA. Id. at ¶¶ 49-\\n\\n  50, 305 P.3d at 428. Thus, Trujillo’s argument that Jenkins is\\n\\n  limited to sex offenses is unavailing.\\n\\n¶ 58   In sum, we conclude that the trial court did not exceed its\\n\\n  statutory authority in imposing the probation sentence here.\\n\\n                         VI. Costs of Prosecution\\n\\n¶ 59   Trujillo next asserts that the trial court erred in awarding the\\n\\n  full costs of prosecution requested by the People without making a\\n\\n  finding on whether any portion of the costs was attributable to the\\n\\n  charge on which he was acquitted. We agree.\\n\\n                           A. Additional Facts\\n\\n¶ 60   Before sentencing, the People moved for reimbursement of the\\n\\n  costs of prosecution pursuant to section 18-1.3-701, C.R.S. 2017.\\n\\n  The People requested $768.70. Trujillo opposed the motion on the\\n\\n  basis that the People bore responsibility for the costs incurred to\\n\\n  prove the defrauding a secured creditor charge, of which Trujillo\\n\\n  was acquitted.\\n\\n¶ 61   During the sentencing hearing, the trial court awarded the\\n\\n  requested costs of prosecution, ordering Trujillo to pay $768.70.\\n\\n\\n\\n\\n                                    24\\n\\x0c                          B. Standard of Review\\n\\n¶ 62   The trial court, in its discretion, may assess reasonable and\\n\\n  necessary costs of prosecution against a convicted defendant. See\\n\\n  § 18-1.3-701(2)(j.5). Thus, we review an assessment of costs of\\n\\n  prosecution for an abuse of discretion, reversing if the trial court’s\\n\\n  determination is manifestly arbitrary, unreasonable, or unfair,\\n\\n  People v. Palomo, 272 P.3d 1106, 1110 (Colo. App. 2011), or if the\\n\\n  trial court misapplied the law, People v. Jefferson, 2017 CO 35,\\n\\n  ¶ 25, 393 P.3d 493, 499.\\n\\n                             C. Applicable Law\\n\\n¶ 63   Under section 16-18-101(1), C.R.S. 2017, the state bears the\\n\\n  costs of prosecution when a defendant is acquitted. Such costs\\n\\n  may include witness fees, mileage, lodging expenses, transportation\\n\\n  costs, and other reasonable and necessary costs that directly result\\n\\n  from prosecuting the defendant. § 18-1.3-701(2); see also People v.\\n\\n  Sinovcic, 2013 COA 38, ¶¶ 15-16, 304 P.3d 1176, 1179. If a\\n\\n  defendant is convicted of fewer than all of the charged counts, the\\n\\n  court may assess only those costs attributable to the counts for\\n\\n  which the defendant was convicted, if an allocation is practicable.\\n\\n  Palomo, 272 P.3d at 1112.\\n\\n\\n                                    25\\n\\x0c                               D. Analysis\\n\\n¶ 64   Trujillo asserts that the trial court erred in not making a\\n\\n  finding as to whether some portion of the requested costs of\\n\\n  prosecution were allocable to the acquitted charge. We agree.\\n\\n¶ 65   As Trujillo concedes, it is possible that the costs cannot be\\n\\n  allocated between the charge on which he was acquitted and the\\n\\n  two charges on which he was convicted. However, the trial court\\n\\n  did not find that such an allocation was impracticable. Because the\\n\\n  trial court was required to consider whether some portion of the\\n\\n  requested costs was practicably attributable to the acquitted\\n\\n  charge, the trial court abused its discretion. See DeBella v. People,\\n\\n  233 P.3d 664, 667 (Colo. 2010) (failure to exercise discretion\\n\\n  constitutes an abuse of the court’s discretion).\\n\\n¶ 66   Accordingly, we vacate the order awarding the People costs of\\n\\n  prosecution and remand for the trial court to make appropriate\\n\\n  findings of fact and “assess only those costs that are related to the\\n\\n  prosecution of the . . . counts of which [Trujillo] was convicted, to\\n\\n  the extent an allocation is practicable.” Palomo, 272 P.3d at 1113.\\n\\n\\n\\n\\n                                    26\\n\\x0c                    VII. Amendment to Theft Statute\\n\\n¶ 67   Trujillo contends that he should have benefited from an\\n\\n  amendment to the theft statute reclassifying theft between $20,000\\n\\n  and $100,000 as a class 4 felony. We agree.\\n\\n                            A. Additional Facts\\n\\n¶ 68   The General Assembly amended the theft statute on June 5,\\n\\n  2013. See Ch. 373, sec. 1, § 18-4-401, 2013 Colo. Sess. Laws\\n\\n  2196. Under the amended statute, theft between $20,000 and\\n\\n  $100,000 constitutes a class 4 felony. See § 18-4-401(2)(h), C.R.S.\\n\\n  2017. Prior to the amendment, theft over $20,000 constituted a\\n\\n  class 3 felony. § 18-4-401(2)(d), C.R.S. 2011.\\n\\n¶ 69   Trujillo was charged with theft of $20,000 or more in April\\n\\n  2011. He was convicted in October 2013 and sentenced in\\n\\n  December 2013. His theft conviction was recorded on the mittimus\\n\\n  as a class 3 felony.\\n\\n                         B. Standard of Review\\n\\n¶ 70   The People assert that, because Trujillo did not make this\\n\\n  argument before the trial court, we should review only for plain\\n\\n  error. However, the division in People v. Stellabotte rejected this\\n\\n  argument. 2016 COA 106, ¶ 42, ___ P.3d ___, ___ (noting that plain\\n\\n\\n                                    27\\n\\x0c  error review was inappropriate because “a defendant may raise a\\n\\n  claim at any time that his or her sentence was not authorized by\\n\\n  law”) (cert. granted Feb. 6, 2017). Following Stellabotte, we review\\n\\n  the legality of the sentence de novo. Id. at ¶ 4, ___ P.3d at ___.\\n\\n                             C. Applicable Law\\n\\n¶ 71   In determining whether to apply amendments to legislation,\\n\\n  we first look to the plain language of the statute. People v.\\n\\n  Summers, 208 P.3d 251, 253-54 (Colo. 2009). If a statute explicitly\\n\\n  states that it applies only to offenses committed after the effective\\n\\n  date, it must be applied accordingly. See People v. McCoy, 764 P.2d\\n\\n  1171, 1174 (Colo. 1988).\\n\\n¶ 72   As a general rule, “[a] statute is presumed to be prospective in\\n\\n  its operation.” § 2-4-202, C.R.S. 2017. However, if a statute is\\n\\n  silent as to whether it applies only prospectively, a defendant may\\n\\n  seek retroactive application if he or she benefits from a significant\\n\\n  change in the law. § 18-1-410(1)(f)(I), C.R.S. 2017; see also People\\n\\n  v. Thornton, 187 Colo. 202, 203, 529 P.2d 628, 628 (1974) (allowing\\n\\n  defendant to seek relief on direct appeal under statute).\\n\\n¶ 73   In Stellabotte, a division of this court concluded that the\\n\\n  amendatory theft legislation “applies retroactively to cases pending\\n\\n\\n                                    28\\n\\x0c  in the trial court when the amendment was enacted.” Stellabotte,\\n\\n  ¶ 45, ___ P.3d at ___; People v. Patton, 2016 COA 187, ¶ 32, ___ P.3d\\n\\n  ___, ___; see also People v. Patton, (Colo. App. No. 14CA2359, Aug.\\n\\n  11, 2016) (not published pursuant to C.A.R. 35(e)) (cert. granted\\n\\n  Feb. 6, 2017).\\n\\n                                D. Analysis\\n\\n¶ 74   Trujillo contends that the amendment to the theft statute\\n\\n  requires that we vacate his sentence and remand for the trial court\\n\\n  to enter his theft conviction as a class 4 felony. We agree.\\n\\n¶ 75   As the division noted in Stellabotte, the theft amendment does\\n\\n  not explicitly state that it is either retroactive or prospective.\\n\\n  Stellabotte, ¶ 45, ___ P.3d at ___. In the face of this legislative\\n\\n  silence, the division held that a defendant who committed theft\\n\\n  prior to the statutory amendment but was not convicted until after\\n\\n  its passage was entitled to the benefit retroactively. See id. at\\n\\n  ¶¶ 39, 45, ___ P.3d at ___. The same is true here.\\n\\n¶ 76   Trujillo was charged with theft before the statute was\\n\\n  amended, but was not convicted or sentenced until after the\\n\\n  General Assembly lowered the classification for theft between\\n\\n\\n\\n\\n                                      29\\n\\x0c  $20,000 and $100,000.3 Thus, like the defendant in Stellabotte,\\n\\n  Trujillo is entitled to the benefit of the amendment. As a result, we\\n\\n  vacate the sentence for the theft conviction and remand for the\\n\\n  conviction to be entered as a class 4 felony.\\n\\n¶ 77   The partial dissent looks to several statutory provisions in\\n\\n  support of its conclusion that Trujillo is not entitled to the benefit of\\n\\n  the amendatory legislation. First, the partial dissent cites section\\n\\n  2-4-202, which states the general presumption that statutes apply\\n\\n  prospectively. However, as the division noted in Stellabotte, section\\n\\n  18-1-410 is a specific exception to the general rule expressed in\\n\\n  section 2-4-202. Stellabotte, ¶ 47 n.4, ___ P.3d at ___ n.4. We\\n\\n  agree with that analysis. Thus, the general presumption that\\n\\n  statutes apply prospectively does not apply here where Trujillo\\n\\n  seeks the benefit of a “significant change in the law, . . . allowing in\\n\\n\\n\\n\\n  3 Trujillo asserts that the theft was between $20,000 and $100,000\\n  based on testimony from trial. The People do not contest the value\\n  of the stolen property in this case. We therefore assume that\\n  Trujillo’s offense properly fell within the value range set forth in\\n  section 18-4-401(2)(h), C.R.S. 2017.\\n\\n                                     30\\n\\x0c  the interests of justice retroactive application of the changed legal\\n\\n  standard.”4 § 18-1-410(1)(f)(I).\\n\\n¶ 78   The partial dissent also invokes section 2-4-303, C.R.S. 2017,\\n\\n  in support of its conclusion. Section 2-4-303 states:\\n\\n             The repeal, revision, amendment, or\\n             consolidation of any statute or part of a statute\\n             or section or part of a section of any statute\\n             shall not have the effect to release, extinguish,\\n             alter, modify, or change in whole or in part any\\n             penalty, forfeiture, or liability, either civil or\\n             criminal, which shall have been incurred\\n             under such statute, unless the repealing,\\n             revising, amending, or consolidating act so\\n             expressly provides.\\n\\n¶ 79   However, the supreme court has noted that the “general\\n\\n  saving” provision codified in this statute is not applicable to\\n\\n  criminal cases; instead, the court noted in dictum that it “has\\n\\n\\n  4 The partial dissent also asserts that section 18-1-410(1)(f)(I),\\n  C.R.S. 2017, does not provide any relief to Trujillo because that\\n  provision requires that “there has been significant change in the\\n  law, applied to the [defendant’s] conviction or sentence.” The\\n  partial dissent asserts that the phrase “applied to” requires that the\\n  legislation expressly state that it applies retroactively. We disagree\\n  with that interpretation, and believe that our view finds authority in\\n  supreme court case law. See People v. Thomas, 185 Colo. 395, 397,\\n  525 P.2d 1136, 1137 (1974) (noting that “[t]he legislature intended\\n  the changed legal standards to apply wherever constitutionally\\n  permissible” but making no mention of whether the amendatory\\n  legislation reclassifying attempted second degree burglary explicitly\\n  stated that it applied retroactively).\\n\\n                                     31\\n\\x0c  consistently adhered to the principle . . . that a defendant is entitled\\n\\n  to the benefits of amendatory legislation when relief is sought before\\n\\n  finality has attached to the judgment of conviction.” Noe v. Dolan,\\n\\n  197 Colo. 32, 36 n.3, 589 P.2d 483, 486 n.3 (1979).\\n\\n¶ 80   In People v. Boyd, a division of the court of appeals concluded\\n\\n  that section 2-4-303 did not prevent the retroactive effect of an\\n\\n  amendatory constitutional provision. 2015 COA 109, ¶ 27, 395\\n\\n  P.3d 1128, 1134, aff’d, 2017 CO 2, 387 P.3d 755.5 The division\\n\\n  noted the supreme court’s language in Noe. Id. at ¶ 28, 395 P.3d at\\n\\n  1134. To the extent that other supreme court cases included\\n\\n  contrary statements, the Boyd division concluded that such\\n\\n  statements were dicta and that the supreme court had not\\n\\n  overruled or disapproved of either Noe or People v. Thomas, 185\\n\\n  Colo. 395, 398, 525 P.2d 1136, 1138 (1974) (holding that\\n\\n  “amendatory legislation mitigating the penalties for crimes should\\n\\n  be applied to any case which has not received final judgment”).\\n\\n\\n\\n  5 The supreme court in Boyd affirmed the Court of Appeals decision\\n  on different grounds, concluding that the marijuana criminal\\n  offense statute had been rendered inoperative by Amendment 64.\\n  Neither the majority nor the dissent in Boyd cited section 2-4-303,\\n  C.R.S. 2017.\\n\\n                                    32\\n\\x0c  Boyd, ¶¶ 29-30, 395 P.3d at 1134-35. Finally, the Boyd division\\n\\n  concluded that section 18-1-410(1)(f)(I) controls over section 2-4-\\n\\n  303 because the former sets forth a specific exception to the latter,\\n\\n  which codifies a “general rule[] of construction regarding\\n\\n  prospective effect for amendatory legislation.” Id. at ¶¶ 31-32, 395\\n\\n  P.3d at 1135. We agree with the Boyd division’s analysis and\\n\\n  therefore do not perceive section 2-4-303 as a bar to the relief\\n\\n  Trujillo seeks.\\n\\n¶ 81   In making its statutory arguments, the partial dissent relies\\n\\n  on the plain meaning of both section 2-4-303 and section 18-1-\\n\\n  410(1)(f)(I). However, as discussed, the supreme court has not\\n\\n  given either provision its plain meaning. Despite express reference\\n\\n  in section 2-4-303 to civil and criminal penalties, the supreme court\\n\\n  has indicated that the provision does not apply to criminal cases.\\n\\n  Noe, 197 Colo. at 36 n.3, 589 P.2d at 486 n.3. Similarly, while\\n\\n  section 18-1-410(1)(f)(I) by its express terms applies to defendants\\n\\n  seeking postconviction relief, the supreme court has held that the\\n\\n  statute also extends to defendants seeking relief on direct appeal.\\n\\n  Thornton, 187 Colo. at 203, 529 P.2d at 628. In light of the\\n\\n\\n\\n\\n                                    33\\n\\x0c  supreme court’s interpretation of these statutes, we cannot give\\n\\n  them the meanings that the partial dissent ascribes to them.\\n\\n¶ 82   Finally, the partial dissent also relies on Riley v. People, in\\n\\n  which the supreme court noted that it has “emphasized that a\\n\\n  defendant is not entitled to the ameliorative effects of amendatory\\n\\n  legislation if the General Assembly has not clearly indicated its\\n\\n  intent to require such retroactive application.” 828 P.2d 254, 258\\n\\n  (Colo. 1992). However, we do not consider this statement to have\\n\\n  the controlling effect the partial dissent gives it. In Riley, the\\n\\n  defendant committed a crime in April 1988 and sought relief under\\n\\n  two sentencing provisions that expressly stated they applied to acts\\n\\n  “committed on or after” July 1, 1988. Id. at 255-56. The Riley\\n\\n  court held the defendant there was not entitled to relief because\\n\\n  applying the statutes retroactively would require the court to ignore\\n\\n  the “clear legislative determination” that the amended sentencing\\n\\n  provisions would apply only to acts after that date. Id. at 257.\\n\\n¶ 83   Thus, Riley is readily distinguishable from the present case,\\n\\n  where the amendments to the theft statute do not expressly provide\\n\\n  an effective date, and the language relied on by the partial dissent is\\n\\n  dicta. Accord McCoy, 764 P.2d at 1174 (noting that, where\\n\\n\\n                                     34\\n\\x0c  legislation expressly stated it applied to acts committed on or after\\n\\n  its effective date, a “defendant does not receive any ameliorative\\n\\n  benefit” because “retroactive application of the amendatory\\n\\n  legislation is clearly not intended by its own terms”); People v.\\n\\n  Macias, 631 P.2d 584, 587 (Colo. 1981) (same).\\n\\n¶ 84   Thus, we conclude, in accordance with Stellabotte, that Trujillo\\n\\n  should receive the benefit of the amendment to the theft statute\\n\\n  reclassifying theft between $20,000 and $100,000 as a class 4\\n\\n  felony. See Stellabotte, ¶ 40, ___ P.3d at ___.\\n\\n                               VIII. Conclusion\\n\\n¶ 85   Accordingly, the judgment of conviction is affirmed. The\\n\\n  sentence is affirmed in part and vacated in part, and the case is\\n\\n  remanded for further proceedings consistent with the views\\n\\n  expressed in this opinion.\\n\\n       JUDGE RICHMAN concurs.\\n\\n       JUDGE FURMAN concurs in part and dissents in part.\\n\\n\\n\\n\\n                                     35\\n\\x0c          JUDGE FURMAN, concurring in part and dissenting in part.\\n\\n¶ 86      I respectfully dissent from the majority’s opinion only as to the\\n\\n  effect of the 2013 amendments to the theft statute. I conclude that\\n\\n  the 2013 amendments to the theft statute do not apply retroactively\\n\\n  to Trujillo’s case. I reach this conclusion for several reasons.\\n\\n¶ 87      First, the General Assembly has made it clear that a “statute is\\n\\n  presumed to be prospective in its operation.” § 2-4-202, C.R.S.\\n\\n  2017. The 2013 amendments to the theft statute are silent as to\\n\\n  whether they apply prospectively or retroactively. Therefore, I\\n\\n  presume that the 2013 amendments are prospective in operation\\n\\n  and do not apply to Trujillo’s offense, which occurred before 2013.\\n\\n  See id.\\n\\n¶ 88      Second, an amendment to a criminal statute does not change\\n\\n  the penalty for crimes already committed under the statute unless\\n\\n  the amendatory legislation expressly provides for such a change.\\n\\n  See § 2-4-303, C.R.S. 2017. Section 2-4-303 provides, in relevant\\n\\n  part:\\n\\n               The . . . amendment . . . of any statute or part\\n               of a statute . . . shall not have the effect to\\n               release, extinguish, alter, modify, or change in\\n               whole or in part any penalty, forfeiture, or\\n               liability, either civil or criminal, which shall\\n\\n\\n                                      36\\n\\x0c             have been incurred under such statute, unless\\n             the . . . amending . . . act so expressly\\n             provides, and such statute or part of a statute\\n             . . . so . . . amended . . . shall be treated and\\n             held as still remaining in force for the purpose\\n             of sustaining any and all proper actions, suits,\\n             proceedings, and prosecutions, criminal as\\n             well as civil, for the enforcement of such\\n             penalty, forfeiture, or liability, as well as for\\n             the purpose of sustaining any judgment,\\n             decree, or order which can or may be rendered,\\n             entered, or made in such actions, suits,\\n             proceedings, or prosecutions imposing,\\n             inflicting, or declaring such penalty, forfeiture,\\n             or liability.\\n\\n  Because the 2013 amendments to the theft statute do not expressly\\n\\n  provide that they apply retroactively, and Trujillo committed his\\n\\n  crime before 2013, he is liable for theft as it was defined when he\\n\\n  committed the offense. See id.\\n\\n¶ 89   Third, in Riley v. People, 828 P.2d 254, 258 (Colo. 1992), our\\n\\n  supreme court “emphasized that a defendant is not entitled to the\\n\\n  ameliorative effects of amendatory legislation if the General\\n\\n  Assembly has not clearly indicated its intent to require such\\n\\n  retroactive application.” Id. I consider this statement by the\\n\\n  supreme court about its own jurisprudence on this issue to be\\n\\n  controlling.\\n\\n\\n\\n\\n                                    37\\n\\x0c¶ 90   Fourth, section 18-1-410(1)(f)(I), C.R.S. 2017, does not allow\\n\\n  Trujillo, on direct appeal, to seek retroactive application of the 2013\\n\\n  amendments to his case. Section 18-1-410(1)(f)(I) allows a\\n\\n  defendant to seek retroactive application of a “significant change in\\n\\n  the law, applied to” a defendant’s “conviction or sentence.” I believe\\n\\n  that the phrase “applied to” reflects the General Assembly’s intent\\n\\n  that, for amendatory legislation to apply retroactively to a\\n\\n  defendant’s conviction or sentence, the legislation must state that it\\n\\n  applies retroactively. Thus, because, as noted, the 2013\\n\\n  amendments do not state that they apply retroactively to Trujillo’s\\n\\n  conviction and sentence, he may not seek retroactive application\\n\\n  under section 18-1-410(1)(f)(I).\\n\\n¶ 91   Finally, and with all due respect, I decline to follow People v.\\n\\n  Stellabotte, 2016 COA 106 (cert. granted Feb. 6, 2017). Indeed, I\\n\\n  agree with Judge Dailey’s dissent in Stellabotte. See id. at ¶¶ 62-70\\n\\n  (Dailey, J., concurring in part and dissenting in part).\\n\\n\\n\\n\\n                                     38\\n\\x0c', 'meta': {'pile_set_name': 'FreeLaw'}}\n"
     ]
    }
   ],
   "source": [
    "print(next(iter(law_dataset_streamed)))"
   ]
  },
  {
   "cell_type": "markdown",
   "id": "ecb7b29a-4991-4108-b883-abdd6c5c60d1",
   "metadata": {},
   "source": [
    "..."
   ]
  },
  {
   "cell_type": "code",
   "execution_count": 75,
   "id": "3e40fac7-d7f2-400b-a528-f320d352a48a",
   "metadata": {},
   "outputs": [
    {
     "data": {
      "text/plain": [
       "[{'meta': {'pmid': 11409574, 'language': 'eng'},\n",
       "  'text': 'Epidemiology of hypoxaemia in children with acute lower respiratory infection.\\nTo determine the prevalence of hypoxaemia in children aged under 5 years suffering acute lower respiratory infections (ALRI), the risk factors for hypoxaemia in children under 5 years of age with ALRI, and the association of hypoxaemia with an increased risk of dying in children of the same age. Systematic review of the published literature. Out-patient clinics, emergency departments and hospitalisation wards in 23 health centres from 10 countries. Cohort studies reporting the frequency of hypoxaemia in children under 5 years of age with ALRI, and the association between hypoxaemia and the risk of dying. Prevalence of hypoxaemia measured in children with ARI and relative risks for the association between the severity of illness and the frequency of hypoxaemia, and between hypoxaemia and the risk of dying. Seventeen published studies were found that included 4,021 children under 5 with acute respiratory infections (ARI) and reported the prevalence of hypoxaemia. Out-patient children and those with a clinical diagnosis of upper ARI had a low risk of hypoxaemia (pooled estimate of 6% to 9%). The prevalence increased to 31% and to 43% in patients in emergency departments and in cases with clinical pneumonia, respectively, and it was even higher among hospitalised children (47%) and in those with radiographically confirmed pneumonia (72%). The cumulated data also suggest that hypoxaemia is more frequent in children living at high altitude. Three papers reported an association between hypoxaemia and death, with relative risks varying between 1.4 and 4.6. Papers describing predictors of hypoxaemia have focused on clinical signs for detecting hypoxaemia rather than on identifying risk factors for developing this complication. Hypoxaemia is a common and potentially lethal complication of ALRI in children under 5, particularly among those with severe disease and those living at high altitude. Given the observed high prevalence of hypoxaemia and its likely association with increased mortality, efforts should be made to improve the detection of hypoxaemia and to provide oxygen earlier to more children with severe ALRI.'},\n",
       " {'meta': {'pmid': None, 'language': None},\n",
       "  'text': '     The summaries of the Colorado Court of Appeals published opinions\\n  constitute no part of the opinion of the division but have been prepared by\\n  the division for the convenience of the reader. The summaries may not be\\n    cited or relied upon as they are not the official language of the division.\\n  Any discrepancy between the language in the summary and in the opinion\\n           should be resolved in favor of the language in the opinion.\\n\\n\\n                                                                  SUMMARY\\n                                                            February 8, 2018\\n\\n                                2018COA12\\n\\nNo. 14CA0144, People v. Trujillo — Criminal Law — Sentencing\\n— Probation — Indeterminate Sentence\\n\\n     A division of the court of appeals considers whether a\\n\\nColorado statute authorizes imposition of a sentence to an\\n\\nindeterminate term of probation and whether the defendant was\\n\\nentitled to the benefit of amendments to the statute criminalizing\\n\\ntheft. Relying on People v. Jenkins, 2013 COA 76, 305 P.3d 420,\\n\\nthe division concludes that section 18-1.3-202(1), C.R.S. 2017,\\n\\nprovides statutory authority for the imposition of an indeterminate\\n\\nprobation sentence. Following People v. Stellabotte, 2016 COA 106,\\n\\n___ P.3d ___ (cert. granted Feb. 6, 2017), the majority further\\n\\nconcludes that the defendant is entitled to the benefit of\\n\\namendments to the theft statute. The partial dissent concludes\\n\\x0cthat the amendments to the theft statute do not apply retroactively,\\n\\nand would therefore affirm the sentence in full.\\n\\n     Additionally, the division rejects the defendant’s contentions\\n\\nthat reversal is required due to the trial court’s rejection of\\n\\ndefense-tendered jury instructions, wrongfully admitted character\\n\\nevidence, and prosecutorial misconduct. However, the division\\n\\nremands for the trial court to make findings of fact concerning the\\n\\nassessment of the costs of prosecution.\\n\\n     Accordingly, the division affirms the conviction, affirms the\\n\\nsentence in part, vacates the sentence in part, and remands the\\n\\ncase with directions.\\n\\x0cCOLORADO COURT OF APPEALS                                          2018COA12\\n\\n\\nCourt of Appeals No. 14CA0144\\nMesa County District Court No. 11CR447\\nHonorable Valerie J. Robison, Judge\\n\\n\\nThe People of the State of Colorado,\\n\\nPlaintiff-Appellee,\\n\\nv.\\n\\nMichael Floyd Trujillo,\\n\\nDefendant-Appellant.\\n\\n\\n         JUDGMENT AFFIRMED, SENTENCE AFFIRMED IN PART AND\\n        VACATED IN PART, AND CASE REMANDED WITH DIRECTIONS\\n\\n                                  Division I\\n                        Opinion by JUDGE TAUBMAN\\n                             Richman, J., concurs\\n                Furman, J., concurs in part and dissents in part\\n\\n                          Announced February 8, 2018\\n\\n\\nCynthia H. Coffman, Attorney General, Joseph G. Michaels, Assistant Attorney\\nGeneral, Denver, Colorado, for Plaintiff-Appellee\\n\\nDouglas K. Wilson, Colorado State Public Defender, James S. Hardy, Deputy\\nState Public Defender, Denver, Colorado, for Defendant-Appellant\\n\\x0c¶1    Defendant, Michael Floyd Trujillo, appeals his judgment of\\n\\n conviction entered on a jury verdict finding him guilty of one count\\n\\n of theft of more than $20,000 and one count of criminal mischief of\\n\\n $20,000 or more. He also appeals his sentence. We perceive no\\n\\n basis for reversing his convictions, but remand for the trial court to\\n\\n make findings of fact regarding the assessment of the costs of\\n\\n prosecution and to reclassify his theft conviction as a class 4 felony.\\n\\n                            I. Background\\n\\n¶2    In 2007, Trujillo began building a home, doing much of the\\n\\n labor himself and initially using his own money to fund the project.\\n\\n He later took out a construction loan from the victim, a bank, for\\n\\n just under $255,000. After construction was completed on the\\n\\n house, Trujillo stopped making his monthly loan payments. The\\n\\n bank declined to restructure the loan and initiated foreclosure\\n\\n proceedings in September 2010.\\n\\n¶3    Before the foreclosure sale, Trujillo removed or destroyed\\n\\n property in the house, including kitchen cabinets, countertops,\\n\\n interior and exterior doors, doorjambs and casings, flooring,\\n\\n baseboards, light fixtures, bathroom fixtures, the fireplace,\\n\\n handrails, the boiler, the air conditioner, and the garage door.\\n\\n\\n                                    1\\n\\x0c Because of this damage, the house was appraised at $150,000;\\n\\n however, the appraiser estimated that if the house were in good\\n\\n repair, it would have been worth $320,000.\\n\\n¶4    Trujillo was charged with defrauding a secured creditor, theft\\n\\n of $20,000 or more, but less than $100,000, and criminal mischief\\n\\n of $20,000 or more, but less than $100,000. The jury found him\\n\\n not guilty of defrauding a secured creditor and guilty of theft and\\n\\n criminal mischief.\\n\\n¶5    On appeal, Trujillo raises six contentions: (1) the trial court\\n\\n erred in rejecting defense-tendered jury instructions; (2) the trial\\n\\n court erred in allowing evidence of a prior foreclosure against\\n\\n Trujillo; (3) prosecutorial misconduct during direct examination of a\\n\\n witness and closing rebuttal argument warrants reversal; (4) the\\n\\n trial court imposed an illegal sentence of indeterminate probation;\\n\\n (5) the trial court erred in awarding the People costs of prosecution;\\n\\n and (6) an amendment to the theft statute applies to his conviction.\\n\\n We perceive no basis for reversal with respect to the first four\\n\\n contentions, but agree with Trujillo’s final two contentions. We\\n\\n therefore affirm the convictions and the sentence in part but vacate\\n\\n the sentence in part and remand with directions.\\n\\n\\n                                    2\\n\\x0c                          II. Jury Instructions\\n\\n¶6    Trujillo asserts that the trial court erred in rejecting various\\n\\n jury instructions regarding his theory of the case. We disagree.\\n\\n                           A. Additional Facts\\n\\n¶7    Throughout trial, the defense’s theory of the case was that\\n\\n Trujillo lacked the requisite intent to commit the charged offenses\\n\\n because he believed that the property he removed from the house\\n\\n belonged to him. The defense tendered five jury instructions related\\n\\n to this theory of the case.\\n\\n¶8    Trujillo’s tendered jury instructions detailed property law\\n\\n concepts. For example, the first tendered instruction stated that\\n\\n “the person who has title to real property is still the owner of the\\n\\n property even if there is a lien or secured interest on the property.”\\n\\n Another tendered instruction defined “title,” “deed of trust,” and\\n\\n “holder of a certificate of purchase[].” One instruction described the\\n\\n lien theory detailed in section 38-35-117, C.R.S. 2017, and another\\n\\n instructed that title to property “does not vest with the purchaser\\n\\n until eight days after [a] foreclosure sale.”\\n\\n¶9    The trial court declined to give these instructions as tendered.\\n\\n However, portions of the defense-tendered instructions were\\n\\n\\n                                     3\\n\\x0c  included in a final definitional jury instruction. The final\\n\\n  instructions defined “deed of trust” and stated that the title to\\n\\n  property is transferred to the holder of the certificate of purchase\\n\\n  eight days after a foreclosure sale. Though it rejected other\\n\\n  portions of the defense-tendered instructions, the trial court\\n\\n  permitted defense counsel to argue the issues raised in the\\n\\n  instructions during closing argument.\\n\\n¶ 10   The defense also tendered an instruction which the trial court\\n\\n  modified and gave as a theory of the case instruction. That\\n\\n  instruction stated, “Trujillo contends that the items removed from\\n\\n  the home . . . were his; purchased by him and installed by him. . . .\\n\\n  Trujillo conten[d]s that the items that he took and damaged were\\n\\n  his sole property.”\\n\\n                         B. Standard of Review\\n\\n¶ 11   We review jury instructions de novo to determine whether, as\\n\\n  a whole, they accurately informed the jury of the governing law.\\n\\n  Riley v. People, 266 P.3d 1089, 1092-93 (Colo. 2011). If the jury\\n\\n  instructions properly inform the jury of the law, the district court\\n\\n  has “broad discretion to determine the form and style of jury\\n\\n  instructions.” Day v. Johnson, 255 P.3d 1064, 1067 (Colo. 2011).\\n\\n\\n                                     4\\n\\x0c  Accordingly, we review a trial court’s decision concerning a\\n\\n  proposed jury instruction for an abuse of discretion and will not\\n\\n  disturb the ruling unless it is manifestly arbitrary, unreasonable, or\\n\\n  unfair. Id.\\n\\n¶ 12   When a defendant objects to the trial court’s ruling on a jury\\n\\n  instruction, we review for nonconstitutional harmless error and will\\n\\n  thus affirm if “there is not a reasonable probability that the error\\n\\n  contributed to the defendant’s conviction.” People v. Garcia, 28\\n\\n  P.3d 340, 344 (Colo. 2001) (quoting Salcedo v. People, 999 P.2d\\n\\n  833, 841 (Colo. 2000)).\\n\\n                            C. Applicable Law\\n\\n¶ 13   “[A]n instruction embodying a defendant’s theory of the case\\n\\n  must be given by the trial court if the record contains any evidence\\n\\n  to support the theory.” People v. Nunez, 841 P.2d 261, 264 (Colo.\\n\\n  1992). Moreover, a trial court has “an affirmative obligation” to\\n\\n  work with counsel to correct a tendered theory of the case\\n\\n  instruction “or to incorporate the substance of such in an\\n\\n  instruction drafted by the court.” Id. at 265; see also People v.\\n\\n  Tippett, 733 P.2d 1183, 1195 (Colo. 1987) (a trial court may refuse\\n\\n  to give an instruction already embodied in other instructions).\\n\\n\\n                                     5\\n\\x0c¶ 14   In considering whether a jury was adequately informed of a\\n\\n  defendant’s theory of the case, a reviewing court can take into\\n\\n  account whether defense counsel’s closing argument “fairly\\n\\n  represented” the theory to the jury. People v. Dore, 997 P.2d 1214,\\n\\n  1222 (Colo. App. 1999).\\n\\n                               D. Analysis\\n\\n¶ 15   Trujillo contends that the trial court abused its discretion in\\n\\n  rejecting the tendered instructions. We disagree.\\n\\n¶ 16   Trujillo asserts that the tendered instructions were essential\\n\\n  because they communicated his theory of the case. However, the\\n\\n  trial court instructed the jury on his theory of the case in an\\n\\n  instruction that clearly stated that he believed the property he took\\n\\n  from the house was “his sole property.” To the extent that the trial\\n\\n  court had a duty to work with the defense in crafting a proper\\n\\n  theory of defense instruction, we conclude that the trial court\\n\\n  fulfilled that duty here by giving an alternative theory of the case\\n\\n  instruction that encompassed Trujillo’s tendered instructions. See\\n\\n  Nunez, 841 P.2d at 265 n.9. Moreover, the trial court specifically\\n\\n  stated that defense counsel would be allowed to incorporate the\\n\\n\\n\\n\\n                                     6\\n\\x0c  property law concepts into her closing argument, which defense\\n\\n  counsel did.\\n\\n¶ 17   Trujillo asserts that the instructions he tendered were\\n\\n  accurate statements of property law. In contrast, the People argue\\n\\n  that the instructions misstated the law as it applies in criminal\\n\\n  prosecutions for theft and criminal mischief. Because we conclude\\n\\n  that the trial court did not abuse its discretion in drafting a theory\\n\\n  of defense instruction that encompassed the defense’s tendered\\n\\n  instructions, we do not address whether the rejected instructions\\n\\n  were accurate statements of the law.\\n\\n¶ 18   The jury instructions, as a whole, “fairly and adequately\\n\\n  cover[ed] the issues presented.” People v. Pahl, 169 P.3d 169, 183\\n\\n  (Colo. App. 2006). Thus, we conclude that the trial court did not\\n\\n  abuse its discretion in rejecting in part the defense-tendered jury\\n\\n  instructions.\\n\\n                    III. Evidence of Prior Foreclosure\\n\\n¶ 19   Trujillo next asserts that the trial court erred in allowing the\\n\\n  People to introduce evidence that another property of his had been\\n\\n  foreclosed. We disagree.\\n\\n\\n\\n\\n                                     7\\n\\x0c                           A. Additional Facts\\n\\n¶ 20   Before trial, Trujillo filed a motion to exclude evidence of other\\n\\n  acts or res gestae evidence. Trujillo’s motion addressed several\\n\\n  categories of other acts evidence, including evidence related to any\\n\\n  “financial and/or legal problems” unrelated to the charged offenses.\\n\\n  During a motions hearing, the People stated that they did not\\n\\n  intend to introduce any other acts or res gestae evidence. In a\\n\\n  written ruling, the trial court granted Trujillo’s motion to exclude\\n\\n  evidence of his unrelated financial and legal problems “unless the\\n\\n  prosecution fe[lt] that the ‘door ha[d] been opened.’” The trial court\\n\\n  further ordered that, if the People felt Trujillo introduced evidence of\\n\\n  his other financial and legal problems, the People could request a\\n\\n  bench conference during trial.\\n\\n¶ 21   On the first day of trial, defense counsel stated that she was\\n\\n  withdrawing her motion to exclude other acts evidence insofar as it\\n\\n  pertained to evidence of Trujillo’s bankruptcy proceedings. During\\n\\n  her opening statement, defense counsel then mentioned those\\n\\n  proceedings.\\n\\n¶ 22   Later, the People called the bank’s former vice president as an\\n\\n  expert witness. During direct examination, the prosecutor asked\\n\\n\\n                                     8\\n\\x0c  the witness why the bank had declined to restructure Trujillo’s\\n\\n  loan. The prosecutor also asked about Trujillo’s demeanor during\\n\\n  interactions with the bank. Trujillo objected. After a bench\\n\\n  conference, the trial court allowed the witness to testify on both\\n\\n  matters.\\n\\n¶ 23   Specifically, the witness testified that, during a conversation\\n\\n  about restructuring the loan, Trujillo “seemed like he was very\\n\\n  upset.” The witness recalled, “He got into [that] he had a piece of\\n\\n  property that [another bank] had foreclosed on and it sounded like\\n\\n  they had sold it for what [Trujillo] believed was a lot less, leaving\\n\\n  him a large deficiency balance.”\\n\\n¶ 24   During closing argument, the People alluded to the witness’s\\n\\n  testimony and referred several times to Trujillo’s general animosity\\n\\n  against banks.\\n\\n                          B. Standard of Review\\n\\n¶ 25   We review a trial court’s decision to admit other acts or res\\n\\n  gestae evidence for an abuse of discretion. People v. Jimenez, 217\\n\\n  P.3d 841, 846 (Colo. App. 2008). A court abuses its discretion if its\\n\\n  decision to admit such evidence is manifestly arbitrary,\\n\\n  unreasonable, or unfair. Id.\\n\\n\\n                                      9\\n\\x0c¶ 26   We review a preserved claim of nonconstitutional error for\\n\\n  harmless error, reversing only if any error “substantially influenced\\n\\n  the verdict or affected the fairness of the trial proceedings.” Hagos\\n\\n  v. People, 2012 CO 63, ¶ 12, 288 P.3d 116, 119 (quoting Tevlin v.\\n\\n  People, 715 P.2d 338, 342 (Colo. 1986)).\\n\\n                           C. Applicable Law\\n\\n¶ 27   Evidence is relevant if it has “any tendency to make the\\n\\n  existence of any fact that is of consequence to the determination of\\n\\n  the action more probable or less probable than it would be without\\n\\n  the evidence.” CRE 401. Generally speaking, “[t]he Colorado Rules\\n\\n  of Evidence strongly favor the admission of relevant evidence.”\\n\\n  People v. Brown, 2014 COA 155M-2, ¶ 22, 360 P.3d 167, 172.\\n\\n  However, relevant evidence is nevertheless inadmissible when “its\\n\\n  probative value is substantially outweighed by the danger of unfair\\n\\n  prejudice, confusion of the issues, or misleading the jury.” CRE\\n\\n  403. Similarly, evidence of “other crimes, wrongs, or acts” is\\n\\n  inadmissible to prove a person’s character “in order to show that he\\n\\n  acted in conformity therewith,” though it may be admissible for\\n\\n  other purposes, including proving intent. CRE 404(b).\\n\\n\\n\\n\\n                                    10\\n\\x0c¶ 28   “Res gestae is a theory of relevance which recognizes that\\n\\n  certain evidence is relevant because of its unique relationship to the\\n\\n  charged crime.” People v. Greenlee, 200 P.3d 363, 368 (Colo. 2009).\\n\\n  However, “there is no need to consider an alternative theory of\\n\\n  relevance, such as res gestae, where the evidence is admissible\\n\\n  under general rules of relevancy.” Id.\\n\\n                               D. Analysis\\n\\n¶ 29   Trujillo contends that the evidence of the prior foreclosure\\n\\n  action portrayed him as a “serial defaulter” and was impermissible\\n\\n  under CRE 404(b) and 403. The People assert that the evidence\\n\\n  was admissible as “directly relevant” to Trujillo’s intent and motive.\\n\\n  In the alternative, the People argue that the evidence was res gestae\\n\\n  evidence. We agree with the People’s first argument that the\\n\\n  evidence was admissible under CRE 401, and was not barred by\\n\\n  CRE 403.1\\n\\n\\n\\n  1 During the bench conference, the trial court allowed the bank’s\\n  former vice president to testify after conducting an abbreviated CRE\\n  404(b) analysis that did not specifically address the four-factor test\\n  set forth in People v. Spoto, 795 P.2d 1314, 1318 (Colo. 1990). The\\n  trial court did not admit the evidence under the res gestae doctrine.\\n  However, we can affirm a trial court’s evidentiary ruling on any\\n  ground supported by the record, “even if that ground was not\\n\\n                                    11\\n\\x0c¶ 30   The evidence of the prior foreclosure was probative of the\\n\\n  interactions between Trujillo and the bank — it made it more\\n\\n  probable that Trujillo had the requisite intent to commit theft. It\\n\\n  was therefore relevant under CRE 401. Further, the risk of unfair\\n\\n  prejudice did not substantially outweigh the probative value of the\\n\\n  evidence, especially where the prior foreclosure was referenced only\\n\\n  in passing and the details of that foreclosure were not revealed.\\n\\n  Thus, the evidence was not barred by CRE 403.\\n\\n¶ 31   Because we conclude that the evidence of the prior foreclosure\\n\\n  was relevant under CRE 401 and admissible under CRE 403, we\\n\\n  need not address whether the evidence was res gestae evidence or\\n\\n  “other acts” evidence under CRE 404(b). See Greenlee, 200 P.3d at\\n\\n  368-69. Accordingly, we conclude that the trial court did not err in\\n\\n  allowing the testimony concerning the prior foreclosure action.\\n\\n                      IV. Prosecutorial Misconduct\\n\\n¶ 32   Trujillo argues that the prosecutor improperly commented on\\n\\n  the district attorney’s screening process for bringing charges and\\n\\n\\n\\n\\n  articulated or considered by the trial court.” People v. Phillips, 2012\\n  COA 176, ¶ 63, 315 P.3d 136, 153.\\n\\n                                    12\\n\\x0c  Trujillo’s right not to testify, and improperly denigrated defense\\n\\n  counsel. We perceive no basis for reversal.\\n\\n                           A. Additional Facts\\n\\n¶ 33   During redirect examination of one of the People’s expert\\n\\n  witnesses, an attorney who worked at the bank, the prosecutor\\n\\n  asked whether the bank played a role in charging Trujillo. The\\n\\n  prosecutor asked if the witness himself made the decision to file a\\n\\n  criminal case, to which the witness replied, “No.” The prosecutor\\n\\n  then asked, “[W]ho is it, according to your understanding, that\\n\\n  makes those decisions on whether a case gets filed criminally?” The\\n\\n  witness responded, “A complaint’s made to a police department or\\n\\n  sheriff’s department and they make that decision in conjunction\\n\\n  with I believe you.” The prosecutor clarified that “you” meant the\\n\\n  district attorney’s office. The defense did not object.\\n\\n¶ 34   During rebuttal closing argument, the prosecutor said,\\n\\n             Did you hear all that? [Defense counsel]’s\\n             talking about all of this stuff, about what\\n             Trujillo’s intent was. And then did you hear\\n             her towards the end what she did? She says,\\n             and correct – this part was correct of what she\\n             said. My job is to prove intent, right. That is\\n             my burden. And she’s absolutely right. The\\n             Defendant has every right to remain silent,\\n\\n\\n\\n                                    13\\n\\x0c            and he exercised that right and that is\\n            something that you cannot use against him.\\n\\n            But it is completely ridiculous for [defense\\n            counsel] to get up here and say that [Trujillo]\\n            didn’t testify to what his intent was and then\\n            to go on and talk about what his intent\\n            actually was. We don’t know what his intent\\n            was because he never testified to that, which\\n            he has every right to do. But did you hear\\n            her? She’s up here saying his intent was this.\\n\\n¶ 35   Trujillo objected on the basis that the prosecutor was\\n\\n  denigrating defense counsel. The trial court sustained the objection\\n\\n  as to the prosecutor’s tone, but overruled it as to content. The\\n\\n  prosecutor then argued, “[I]f you go out and run somebody over and\\n\\n  – and think that you had the right to do that, is that gonna be a\\n\\n  legitimate defense by saying, well, I thought I could do that. I didn’t\\n\\n  – nobody ever told me. Nobody put it in writing. When I bought my\\n\\n  car, in the instruction manual, nothing said that about that. That’s\\n\\n  preposterous.” Trujillo did not renew his objection.\\n\\n                         B. Standard of Review\\n\\n¶ 36   In reviewing alleged prosecutorial misconduct, an appellate\\n\\n  court engages in a two-step analysis. First, we determine whether\\n\\n  the prosecutor’s conduct was improper based on the totality of the\\n\\n  circumstances. Wend v. People, 235 P.3d 1089, 1096 (Colo. 2010).\\n\\n\\n                                    14\\n\\x0c  Second, we determine whether any misconduct warrants reversal\\n\\n  under the proper standard of review. Id.\\n\\n¶ 37   When the alleged misconduct is objected to at trial and is of\\n\\n  constitutional magnitude, we review for constitutional harmless\\n\\n  error. Id. When the alleged misconduct is not of a constitutional\\n\\n  magnitude, and when the defense objected at trial, we subject the\\n\\n  prosecutorial misconduct to harmless error review. Id. at 1097.\\n\\n  Such prosecutorial misconduct will be considered harmless\\n\\n  “whenever there is no reasonable probability that it contributed to\\n\\n  the defendant’s conviction.” Crider v. People, 186 P.3d 39, 42 (Colo.\\n\\n  2008). When the defense did not object to the misconduct, we\\n\\n  review for plain error. Wend, 235 P.3d at 1097-98.\\n\\n                           C. Applicable Law\\n\\n¶ 38   A prosecutor cannot comment on a “screening process” for\\n\\n  charging cases “because it both hints that additional evidence\\n\\n  supporting guilt exists and reveals the personal opinion of the\\n\\n  prosecutor.” Domingo-Gomez v. People, 125 P.3d 1043, 1052 (Colo.\\n\\n  2005). It is also improper for a prosecutor to make remarks “for the\\n\\n  obvious purpose of denigrating defense counsel.” People v. Jones,\\n\\n  832 P.2d 1036, 1038 (Colo. App. 1991). It is similarly improper for\\n\\n\\n                                   15\\n\\x0c  a prosecutor to comment on a defendant’s decision not to testify.\\n\\n  Griffin v. California, 380 U.S. 609, 614 (1965); see also People v.\\n\\n  Martinez, 652 P.2d 174, 177 (Colo. App. 1981) (noting that a\\n\\n  prosecutor’s comment on a defendant’s silence constitutes\\n\\n  reversible error when “the prosecution argued that such silence\\n\\n  constituted an implied admission of guilt”).\\n\\n¶ 39   Nevertheless, “[a] prosecutor is allowed considerable latitude\\n\\n  in responding to the argument made by opposing counsel.” People\\n\\n  v. Ramirez, 997 P.2d 1200, 1211 (Colo. App. 1999), aff’d, 43 P.3d\\n\\n  611 (Colo. 2001). Further, “[a]lthough it is improper for a\\n\\n  prosecutor to assert that opposing counsel knows that the\\n\\n  accused’s case is not meritorious,” the prosecutor may permissibly\\n\\n  argue “that the evidence in support of defendant’s innocence lacked\\n\\n  substance.” Id. at 1211; see also People v. Samson, 2012 COA 167,\\n\\n  ¶ 31, 302 P.3d 311, 317 (stating that a prosecutor may permissibly\\n\\n  “comment on the absence of evidence to support a defendant’s\\n\\n  contentions”).\\n\\n¶ 40   Appellate courts consider several factors in determining\\n\\n  whether prosecutorial misconduct was prejudicial, including the\\n\\n  nature of the error, the pervasiveness of the misconduct, the\\n\\n\\n                                    16\\n\\x0c  context, and the overall strength of the evidence supporting the\\n\\n  conviction. People v. McBride, 228 P.3d 216, 225 (Colo. App. 2009);\\n\\n  see also Crider, 186 P.3d at 43. For example, a reviewing court may\\n\\n  consider whether proper jury instructions mitigated the prejudicial\\n\\n  effect of prosecutorial misconduct. See People v. Castillo, 2014 COA\\n\\n  140M, ¶ 78, ___ P.3d ___, ___ (concluding prosecutor’s\\n\\n  misstatements were harmless in light of instructions from the trial\\n\\n  court and the defense’s closing argument) (cert. granted in part Nov.\\n\\n  23, 2015).\\n\\n                               D. Analysis\\n\\n¶ 41   Trujillo contends that three instances of prosecutorial\\n\\n  misconduct require reversal. We disagree.\\n\\n¶ 42   Trujillo first contends that the prosecutor improperly referred\\n\\n  to a screening process while examining the expert witness. We\\n\\n  perceive no prosecutorial misconduct. The prosecutor here did not\\n\\n  imply that he had engaged in a screening process to “weed out the\\n\\n  weaker cases and, implicitly, that the State d[id] not consider this a\\n\\n  weak case.” Domingo-Gomez, 125 P.3d at 1052 (concluding the\\n\\n  prosecutor’s comment that “it takes a lot more than somebody\\n\\n  saying that person did it” to bring charges was improper). Rather,\\n\\n\\n                                    17\\n\\x0c  the prosecutor clarified that the bank did not bring criminal\\n\\n  charges and that the witness himself did not stand to gain as a\\n\\n  result of Trujillo’s conviction. The People assert, and we agree, that\\n\\n  the prosecutor’s question merely elicited testimony to establish that\\n\\n  the district attorney’s office was responsible for pursuing the\\n\\n  criminal charges against Trujillo.\\n\\n¶ 43   Second, Trujillo asserts that the prosecutor impermissibly\\n\\n  commented on his decision not to testify. We disagree. Even if we\\n\\n  assume the comment on Trujillo’s decision not to testify was\\n\\n  improper, not every comment on a defendant’s choice not to testify\\n\\n  requires reversal. See Martinez, 652 P.2d at 177. “The determining\\n\\n  factor is whether the defendant’s silence was used by the\\n\\n  prosecution as a means of creating an inference of guilt,” id., and\\n\\n  we conclude that the prosecutor’s comments here did not raise\\n\\n  such an inference.\\n\\n¶ 44   Finally, Trujillo contends that the prosecutor impermissibly\\n\\n  denigrated defense counsel and the defense’s theory of the case\\n\\n  during rebuttal closing argument. We agree that the prosecutor\\n\\n  improperly denigrated defense counsel and the defense’s theory of\\n\\n\\n\\n\\n                                       18\\n\\x0c  the case when he characterized her arguments as “completely\\n\\n  ridiculous” and “preposterous.”\\n\\n¶ 45   However, we perceive no basis for reversal as a result of these\\n\\n  improper remarks. The comments were limited to the People’s\\n\\n  rebuttal closing argument. Moreover, significant evidence\\n\\n  corroborated the jury’s finding of guilt — specifically, the\\n\\n  undisputed evidence that Trujillo had removed an extensive amount\\n\\n  of property from the house. Viewing the record as a whole, we\\n\\n  cannot say that there was a “reasonable probability” that the\\n\\n  prosecutor’s remarks denigrating defense counsel contributed to\\n\\n  Trujillo’s convictions. See Crider, 186 P.3d at 42. Thus, we\\n\\n  determine the error was harmless.\\n\\n¶ 46   In sum, though we agree that the prosecutor improperly\\n\\n  denigrated defense counsel, we perceive no basis for reversal.\\n\\n                       V. Indeterminate Probation\\n\\n¶ 47   Trujillo contends that the trial court did not have the statutory\\n\\n  authority to sentence him to indeterminate probation. We disagree.\\n\\n                           A. Additional Facts\\n\\n¶ 48   During the sentencing hearing, the People requested that\\n\\n  Trujillo be placed on a “long period of probation . . . somewhere in\\n\\n\\n                                    19\\n\\x0c  the neighborhood of eight to ten years” because they anticipated\\n\\n  that Trujillo would be ordered to pay substantial restitution.2\\n\\n  Trujillo requested unsupervised probation with a collections\\n\\n  investigator monitoring his restitution payments.\\n\\n¶ 49   The trial court imposed an “indefinite probation sentence”\\n\\n  because of the substantial restitution that Trujillo was expected to\\n\\n  owe. In imposing an indeterminate probation sentence, the trial\\n\\n  court stated, “There is case law that talks about whether\\n\\n  [indeterminate probation] is something that can or should be\\n\\n  imposed and it’s certainly something that is allowed regardless of\\n\\n  the type of conviction that has been entered.”\\n\\n¶ 50   The mittimus states that the sentence imposed was a term of\\n\\n  probation for seven years to life.\\n\\n                          B. Standard of Review\\n\\n¶ 51   The People contend that we should not consider this claim\\n\\n  because a sentence to probation is not ordinarily subject to\\n\\n\\n\\n  2 The trial court ultimately ordered Trujillo to pay $171,421.97 in\\n  restitution. Trujillo separately appealed that order, and a division\\n  of this court affirmed in part, reversed in part, and remanded for\\n  reconsideration. People v. Trujillo, (Colo. App. No. 14CA2486, Oct.\\n  5, 2017) (not published pursuant to C.A.R. 35(e)).\\n\\n                                       20\\n\\x0c  appellate review. However, “where, as here, a defendant contends\\n\\n  that ‘a court has exceeded its statutory authority’ in imposing a\\n\\n  probationary sentence, appellate review is warranted.” People v.\\n\\n  Jenkins, 2013 COA 76, ¶ 10, 305 P.3d 420, 423 (quoting People v.\\n\\n  Rossman, 140 P.3d 172, 174 (Colo. App. 2006)).\\n\\n¶ 52   “We review sentencing decisions that are within the statutory\\n\\n  range for an abuse of discretion.” People v. Torrez, 2013 COA 37,\\n\\n  ¶ 71, 316 P.3d 25, 37. However, where the defendant contends that\\n\\n  a court exceeded its statutory sentencing authority, our inquiry\\n\\n  involves statutory interpretation. Jenkins, ¶ 12, 305 P.3d at 423.\\n\\n  We review such issues of statutory interpretation de novo. Id.\\n\\n                           C. Applicable Law\\n\\n¶ 53   Under section 18-1.3-202(1)(a), C.R.S. 2017, a trial court “may\\n\\n  grant the defendant probation for such period and upon such terms\\n\\n  and conditions as it deems best.” Further, “[t]he length of probation\\n\\n  shall be subject to the discretion of the court and may exceed the\\n\\n  maximum period of incarceration authorized for the classification of\\n\\n  the offense of which the defendant is convicted.” Id.\\n\\n¶ 54   In Jenkins, a division of this court concluded that section 18-\\n\\n  1.3-202(1) “authorizes a trial court to impose an indeterminate term\\n\\n\\n                                   21\\n\\x0c  of probation.” Jenkins, ¶ 38, 305 P.3d at 426. The Jenkins division\\n\\n  bolstered its conclusion by looking to the plain language of the\\n\\n  statute — which the division noted “contemplate[s] both\\n\\n  determinate and indeterminate terms of probation” — and to the\\n\\n  provision’s legislative history. Id. at ¶¶ 40, 42, 46, 305 P.3d at 426-\\n\\n  28. Finally, the division noted that section 18-1.3-202(1) “generally\\n\\n  pertains to a broad class of cases, and it simply allows a trial court\\n\\n  to elect an indeterminate term if it sentences an offender who has\\n\\n  been convicted of a felony to probation.” Id. at ¶ 50, 305 P.3d at\\n\\n  428 (upholding probationary sentence of ten years to life); see also\\n\\n  People v. Martinez, 844 P.2d 1203, 1206 (Colo. App. 1992)\\n\\n  (concluding that a trial court has authority to impose a term of\\n\\n  probation that exceeds the sentence to imprisonment in the\\n\\n  statutory aggravated range for an offense).\\n\\n                               D. Analysis\\n\\n¶ 55   Trujillo asserts that the trial court exceeded its statutory\\n\\n  authority in imposing an indeterminate probationary sentence. We\\n\\n  disagree.\\n\\n¶ 56   Like the Jenkins division, we conclude that section 18-1.3-\\n\\n  202(1) gives a trial court the authority to sentence a defendant\\n\\n\\n                                    22\\n\\x0c  convicted of a felony to an indefinite probationary period. Trujillo\\n\\n  urges that the statute limits a trial court’s authority to impose an\\n\\n  indeterminate probation sentence. Under Trujillo’s logic, a sentence\\n\\n  to probation for 100 years is permissible, but an indeterminate\\n\\n  probation sentence is outside the trial court’s statutory authority.\\n\\n  The statute offers no basis for reaching this conclusion.\\n\\n¶ 57   Trujillo asserts that Jenkins is distinguishable because that\\n\\n  case concerned whether a defendant convicted of a sex offense not\\n\\n  falling under the supervision scheme of the Colorado Sex Offender\\n\\n  Lifetime Supervision Act of 1998 (SOLSA), see §§ 18-1.3-1001\\n\\n  to -1012, C.R.S. 2017, could nevertheless be sentenced to\\n\\n  indeterminate probation. Jenkins, ¶ 1, 305 P.3d at 422. Trujillo\\n\\n  contends that Jenkins was limited to the particular circumstances\\n\\n  of that case, and does not widely apply to all offenses and\\n\\n  defendants. However, the Jenkins division made clear that section\\n\\n  18-1.3-202(1) “establishes a general rule as far as the possibility of\\n\\n  an indeterminate probationary term for felonies” and “authorizes a\\n\\n  trial court to impose an indeterminate term of probation.” Id. at\\n\\n  ¶¶ 38, 50, 305 P.3d at 426, 428. In fact, Jenkins explicitly rejected\\n\\n  the argument that a sentence of indeterminate probation could be\\n\\n\\n                                    23\\n\\x0c  imposed only in sex offense cases subject to SOLSA. Id. at ¶¶ 49-\\n\\n  50, 305 P.3d at 428. Thus, Trujillo’s argument that Jenkins is\\n\\n  limited to sex offenses is unavailing.\\n\\n¶ 58   In sum, we conclude that the trial court did not exceed its\\n\\n  statutory authority in imposing the probation sentence here.\\n\\n                         VI. Costs of Prosecution\\n\\n¶ 59   Trujillo next asserts that the trial court erred in awarding the\\n\\n  full costs of prosecution requested by the People without making a\\n\\n  finding on whether any portion of the costs was attributable to the\\n\\n  charge on which he was acquitted. We agree.\\n\\n                           A. Additional Facts\\n\\n¶ 60   Before sentencing, the People moved for reimbursement of the\\n\\n  costs of prosecution pursuant to section 18-1.3-701, C.R.S. 2017.\\n\\n  The People requested $768.70. Trujillo opposed the motion on the\\n\\n  basis that the People bore responsibility for the costs incurred to\\n\\n  prove the defrauding a secured creditor charge, of which Trujillo\\n\\n  was acquitted.\\n\\n¶ 61   During the sentencing hearing, the trial court awarded the\\n\\n  requested costs of prosecution, ordering Trujillo to pay $768.70.\\n\\n\\n\\n\\n                                    24\\n\\x0c                          B. Standard of Review\\n\\n¶ 62   The trial court, in its discretion, may assess reasonable and\\n\\n  necessary costs of prosecution against a convicted defendant. See\\n\\n  § 18-1.3-701(2)(j.5). Thus, we review an assessment of costs of\\n\\n  prosecution for an abuse of discretion, reversing if the trial court’s\\n\\n  determination is manifestly arbitrary, unreasonable, or unfair,\\n\\n  People v. Palomo, 272 P.3d 1106, 1110 (Colo. App. 2011), or if the\\n\\n  trial court misapplied the law, People v. Jefferson, 2017 CO 35,\\n\\n  ¶ 25, 393 P.3d 493, 499.\\n\\n                             C. Applicable Law\\n\\n¶ 63   Under section 16-18-101(1), C.R.S. 2017, the state bears the\\n\\n  costs of prosecution when a defendant is acquitted. Such costs\\n\\n  may include witness fees, mileage, lodging expenses, transportation\\n\\n  costs, and other reasonable and necessary costs that directly result\\n\\n  from prosecuting the defendant. § 18-1.3-701(2); see also People v.\\n\\n  Sinovcic, 2013 COA 38, ¶¶ 15-16, 304 P.3d 1176, 1179. If a\\n\\n  defendant is convicted of fewer than all of the charged counts, the\\n\\n  court may assess only those costs attributable to the counts for\\n\\n  which the defendant was convicted, if an allocation is practicable.\\n\\n  Palomo, 272 P.3d at 1112.\\n\\n\\n                                    25\\n\\x0c                               D. Analysis\\n\\n¶ 64   Trujillo asserts that the trial court erred in not making a\\n\\n  finding as to whether some portion of the requested costs of\\n\\n  prosecution were allocable to the acquitted charge. We agree.\\n\\n¶ 65   As Trujillo concedes, it is possible that the costs cannot be\\n\\n  allocated between the charge on which he was acquitted and the\\n\\n  two charges on which he was convicted. However, the trial court\\n\\n  did not find that such an allocation was impracticable. Because the\\n\\n  trial court was required to consider whether some portion of the\\n\\n  requested costs was practicably attributable to the acquitted\\n\\n  charge, the trial court abused its discretion. See DeBella v. People,\\n\\n  233 P.3d 664, 667 (Colo. 2010) (failure to exercise discretion\\n\\n  constitutes an abuse of the court’s discretion).\\n\\n¶ 66   Accordingly, we vacate the order awarding the People costs of\\n\\n  prosecution and remand for the trial court to make appropriate\\n\\n  findings of fact and “assess only those costs that are related to the\\n\\n  prosecution of the . . . counts of which [Trujillo] was convicted, to\\n\\n  the extent an allocation is practicable.” Palomo, 272 P.3d at 1113.\\n\\n\\n\\n\\n                                    26\\n\\x0c                    VII. Amendment to Theft Statute\\n\\n¶ 67   Trujillo contends that he should have benefited from an\\n\\n  amendment to the theft statute reclassifying theft between $20,000\\n\\n  and $100,000 as a class 4 felony. We agree.\\n\\n                            A. Additional Facts\\n\\n¶ 68   The General Assembly amended the theft statute on June 5,\\n\\n  2013. See Ch. 373, sec. 1, § 18-4-401, 2013 Colo. Sess. Laws\\n\\n  2196. Under the amended statute, theft between $20,000 and\\n\\n  $100,000 constitutes a class 4 felony. See § 18-4-401(2)(h), C.R.S.\\n\\n  2017. Prior to the amendment, theft over $20,000 constituted a\\n\\n  class 3 felony. § 18-4-401(2)(d), C.R.S. 2011.\\n\\n¶ 69   Trujillo was charged with theft of $20,000 or more in April\\n\\n  2011. He was convicted in October 2013 and sentenced in\\n\\n  December 2013. His theft conviction was recorded on the mittimus\\n\\n  as a class 3 felony.\\n\\n                         B. Standard of Review\\n\\n¶ 70   The People assert that, because Trujillo did not make this\\n\\n  argument before the trial court, we should review only for plain\\n\\n  error. However, the division in People v. Stellabotte rejected this\\n\\n  argument. 2016 COA 106, ¶ 42, ___ P.3d ___, ___ (noting that plain\\n\\n\\n                                    27\\n\\x0c  error review was inappropriate because “a defendant may raise a\\n\\n  claim at any time that his or her sentence was not authorized by\\n\\n  law”) (cert. granted Feb. 6, 2017). Following Stellabotte, we review\\n\\n  the legality of the sentence de novo. Id. at ¶ 4, ___ P.3d at ___.\\n\\n                             C. Applicable Law\\n\\n¶ 71   In determining whether to apply amendments to legislation,\\n\\n  we first look to the plain language of the statute. People v.\\n\\n  Summers, 208 P.3d 251, 253-54 (Colo. 2009). If a statute explicitly\\n\\n  states that it applies only to offenses committed after the effective\\n\\n  date, it must be applied accordingly. See People v. McCoy, 764 P.2d\\n\\n  1171, 1174 (Colo. 1988).\\n\\n¶ 72   As a general rule, “[a] statute is presumed to be prospective in\\n\\n  its operation.” § 2-4-202, C.R.S. 2017. However, if a statute is\\n\\n  silent as to whether it applies only prospectively, a defendant may\\n\\n  seek retroactive application if he or she benefits from a significant\\n\\n  change in the law. § 18-1-410(1)(f)(I), C.R.S. 2017; see also People\\n\\n  v. Thornton, 187 Colo. 202, 203, 529 P.2d 628, 628 (1974) (allowing\\n\\n  defendant to seek relief on direct appeal under statute).\\n\\n¶ 73   In Stellabotte, a division of this court concluded that the\\n\\n  amendatory theft legislation “applies retroactively to cases pending\\n\\n\\n                                    28\\n\\x0c  in the trial court when the amendment was enacted.” Stellabotte,\\n\\n  ¶ 45, ___ P.3d at ___; People v. Patton, 2016 COA 187, ¶ 32, ___ P.3d\\n\\n  ___, ___; see also People v. Patton, (Colo. App. No. 14CA2359, Aug.\\n\\n  11, 2016) (not published pursuant to C.A.R. 35(e)) (cert. granted\\n\\n  Feb. 6, 2017).\\n\\n                                D. Analysis\\n\\n¶ 74   Trujillo contends that the amendment to the theft statute\\n\\n  requires that we vacate his sentence and remand for the trial court\\n\\n  to enter his theft conviction as a class 4 felony. We agree.\\n\\n¶ 75   As the division noted in Stellabotte, the theft amendment does\\n\\n  not explicitly state that it is either retroactive or prospective.\\n\\n  Stellabotte, ¶ 45, ___ P.3d at ___. In the face of this legislative\\n\\n  silence, the division held that a defendant who committed theft\\n\\n  prior to the statutory amendment but was not convicted until after\\n\\n  its passage was entitled to the benefit retroactively. See id. at\\n\\n  ¶¶ 39, 45, ___ P.3d at ___. The same is true here.\\n\\n¶ 76   Trujillo was charged with theft before the statute was\\n\\n  amended, but was not convicted or sentenced until after the\\n\\n  General Assembly lowered the classification for theft between\\n\\n\\n\\n\\n                                      29\\n\\x0c  $20,000 and $100,000.3 Thus, like the defendant in Stellabotte,\\n\\n  Trujillo is entitled to the benefit of the amendment. As a result, we\\n\\n  vacate the sentence for the theft conviction and remand for the\\n\\n  conviction to be entered as a class 4 felony.\\n\\n¶ 77   The partial dissent looks to several statutory provisions in\\n\\n  support of its conclusion that Trujillo is not entitled to the benefit of\\n\\n  the amendatory legislation. First, the partial dissent cites section\\n\\n  2-4-202, which states the general presumption that statutes apply\\n\\n  prospectively. However, as the division noted in Stellabotte, section\\n\\n  18-1-410 is a specific exception to the general rule expressed in\\n\\n  section 2-4-202. Stellabotte, ¶ 47 n.4, ___ P.3d at ___ n.4. We\\n\\n  agree with that analysis. Thus, the general presumption that\\n\\n  statutes apply prospectively does not apply here where Trujillo\\n\\n  seeks the benefit of a “significant change in the law, . . . allowing in\\n\\n\\n\\n\\n  3 Trujillo asserts that the theft was between $20,000 and $100,000\\n  based on testimony from trial. The People do not contest the value\\n  of the stolen property in this case. We therefore assume that\\n  Trujillo’s offense properly fell within the value range set forth in\\n  section 18-4-401(2)(h), C.R.S. 2017.\\n\\n                                     30\\n\\x0c  the interests of justice retroactive application of the changed legal\\n\\n  standard.”4 § 18-1-410(1)(f)(I).\\n\\n¶ 78   The partial dissent also invokes section 2-4-303, C.R.S. 2017,\\n\\n  in support of its conclusion. Section 2-4-303 states:\\n\\n             The repeal, revision, amendment, or\\n             consolidation of any statute or part of a statute\\n             or section or part of a section of any statute\\n             shall not have the effect to release, extinguish,\\n             alter, modify, or change in whole or in part any\\n             penalty, forfeiture, or liability, either civil or\\n             criminal, which shall have been incurred\\n             under such statute, unless the repealing,\\n             revising, amending, or consolidating act so\\n             expressly provides.\\n\\n¶ 79   However, the supreme court has noted that the “general\\n\\n  saving” provision codified in this statute is not applicable to\\n\\n  criminal cases; instead, the court noted in dictum that it “has\\n\\n\\n  4 The partial dissent also asserts that section 18-1-410(1)(f)(I),\\n  C.R.S. 2017, does not provide any relief to Trujillo because that\\n  provision requires that “there has been significant change in the\\n  law, applied to the [defendant’s] conviction or sentence.” The\\n  partial dissent asserts that the phrase “applied to” requires that the\\n  legislation expressly state that it applies retroactively. We disagree\\n  with that interpretation, and believe that our view finds authority in\\n  supreme court case law. See People v. Thomas, 185 Colo. 395, 397,\\n  525 P.2d 1136, 1137 (1974) (noting that “[t]he legislature intended\\n  the changed legal standards to apply wherever constitutionally\\n  permissible” but making no mention of whether the amendatory\\n  legislation reclassifying attempted second degree burglary explicitly\\n  stated that it applied retroactively).\\n\\n                                     31\\n\\x0c  consistently adhered to the principle . . . that a defendant is entitled\\n\\n  to the benefits of amendatory legislation when relief is sought before\\n\\n  finality has attached to the judgment of conviction.” Noe v. Dolan,\\n\\n  197 Colo. 32, 36 n.3, 589 P.2d 483, 486 n.3 (1979).\\n\\n¶ 80   In People v. Boyd, a division of the court of appeals concluded\\n\\n  that section 2-4-303 did not prevent the retroactive effect of an\\n\\n  amendatory constitutional provision. 2015 COA 109, ¶ 27, 395\\n\\n  P.3d 1128, 1134, aff’d, 2017 CO 2, 387 P.3d 755.5 The division\\n\\n  noted the supreme court’s language in Noe. Id. at ¶ 28, 395 P.3d at\\n\\n  1134. To the extent that other supreme court cases included\\n\\n  contrary statements, the Boyd division concluded that such\\n\\n  statements were dicta and that the supreme court had not\\n\\n  overruled or disapproved of either Noe or People v. Thomas, 185\\n\\n  Colo. 395, 398, 525 P.2d 1136, 1138 (1974) (holding that\\n\\n  “amendatory legislation mitigating the penalties for crimes should\\n\\n  be applied to any case which has not received final judgment”).\\n\\n\\n\\n  5 The supreme court in Boyd affirmed the Court of Appeals decision\\n  on different grounds, concluding that the marijuana criminal\\n  offense statute had been rendered inoperative by Amendment 64.\\n  Neither the majority nor the dissent in Boyd cited section 2-4-303,\\n  C.R.S. 2017.\\n\\n                                    32\\n\\x0c  Boyd, ¶¶ 29-30, 395 P.3d at 1134-35. Finally, the Boyd division\\n\\n  concluded that section 18-1-410(1)(f)(I) controls over section 2-4-\\n\\n  303 because the former sets forth a specific exception to the latter,\\n\\n  which codifies a “general rule[] of construction regarding\\n\\n  prospective effect for amendatory legislation.” Id. at ¶¶ 31-32, 395\\n\\n  P.3d at 1135. We agree with the Boyd division’s analysis and\\n\\n  therefore do not perceive section 2-4-303 as a bar to the relief\\n\\n  Trujillo seeks.\\n\\n¶ 81   In making its statutory arguments, the partial dissent relies\\n\\n  on the plain meaning of both section 2-4-303 and section 18-1-\\n\\n  410(1)(f)(I). However, as discussed, the supreme court has not\\n\\n  given either provision its plain meaning. Despite express reference\\n\\n  in section 2-4-303 to civil and criminal penalties, the supreme court\\n\\n  has indicated that the provision does not apply to criminal cases.\\n\\n  Noe, 197 Colo. at 36 n.3, 589 P.2d at 486 n.3. Similarly, while\\n\\n  section 18-1-410(1)(f)(I) by its express terms applies to defendants\\n\\n  seeking postconviction relief, the supreme court has held that the\\n\\n  statute also extends to defendants seeking relief on direct appeal.\\n\\n  Thornton, 187 Colo. at 203, 529 P.2d at 628. In light of the\\n\\n\\n\\n\\n                                    33\\n\\x0c  supreme court’s interpretation of these statutes, we cannot give\\n\\n  them the meanings that the partial dissent ascribes to them.\\n\\n¶ 82   Finally, the partial dissent also relies on Riley v. People, in\\n\\n  which the supreme court noted that it has “emphasized that a\\n\\n  defendant is not entitled to the ameliorative effects of amendatory\\n\\n  legislation if the General Assembly has not clearly indicated its\\n\\n  intent to require such retroactive application.” 828 P.2d 254, 258\\n\\n  (Colo. 1992). However, we do not consider this statement to have\\n\\n  the controlling effect the partial dissent gives it. In Riley, the\\n\\n  defendant committed a crime in April 1988 and sought relief under\\n\\n  two sentencing provisions that expressly stated they applied to acts\\n\\n  “committed on or after” July 1, 1988. Id. at 255-56. The Riley\\n\\n  court held the defendant there was not entitled to relief because\\n\\n  applying the statutes retroactively would require the court to ignore\\n\\n  the “clear legislative determination” that the amended sentencing\\n\\n  provisions would apply only to acts after that date. Id. at 257.\\n\\n¶ 83   Thus, Riley is readily distinguishable from the present case,\\n\\n  where the amendments to the theft statute do not expressly provide\\n\\n  an effective date, and the language relied on by the partial dissent is\\n\\n  dicta. Accord McCoy, 764 P.2d at 1174 (noting that, where\\n\\n\\n                                     34\\n\\x0c  legislation expressly stated it applied to acts committed on or after\\n\\n  its effective date, a “defendant does not receive any ameliorative\\n\\n  benefit” because “retroactive application of the amendatory\\n\\n  legislation is clearly not intended by its own terms”); People v.\\n\\n  Macias, 631 P.2d 584, 587 (Colo. 1981) (same).\\n\\n¶ 84   Thus, we conclude, in accordance with Stellabotte, that Trujillo\\n\\n  should receive the benefit of the amendment to the theft statute\\n\\n  reclassifying theft between $20,000 and $100,000 as a class 4\\n\\n  felony. See Stellabotte, ¶ 40, ___ P.3d at ___.\\n\\n                               VIII. Conclusion\\n\\n¶ 85   Accordingly, the judgment of conviction is affirmed. The\\n\\n  sentence is affirmed in part and vacated in part, and the case is\\n\\n  remanded for further proceedings consistent with the views\\n\\n  expressed in this opinion.\\n\\n       JUDGE RICHMAN concurs.\\n\\n       JUDGE FURMAN concurs in part and dissents in part.\\n\\n\\n\\n\\n                                     35\\n\\x0c          JUDGE FURMAN, concurring in part and dissenting in part.\\n\\n¶ 86      I respectfully dissent from the majority’s opinion only as to the\\n\\n  effect of the 2013 amendments to the theft statute. I conclude that\\n\\n  the 2013 amendments to the theft statute do not apply retroactively\\n\\n  to Trujillo’s case. I reach this conclusion for several reasons.\\n\\n¶ 87      First, the General Assembly has made it clear that a “statute is\\n\\n  presumed to be prospective in its operation.” § 2-4-202, C.R.S.\\n\\n  2017. The 2013 amendments to the theft statute are silent as to\\n\\n  whether they apply prospectively or retroactively. Therefore, I\\n\\n  presume that the 2013 amendments are prospective in operation\\n\\n  and do not apply to Trujillo’s offense, which occurred before 2013.\\n\\n  See id.\\n\\n¶ 88      Second, an amendment to a criminal statute does not change\\n\\n  the penalty for crimes already committed under the statute unless\\n\\n  the amendatory legislation expressly provides for such a change.\\n\\n  See § 2-4-303, C.R.S. 2017. Section 2-4-303 provides, in relevant\\n\\n  part:\\n\\n               The . . . amendment . . . of any statute or part\\n               of a statute . . . shall not have the effect to\\n               release, extinguish, alter, modify, or change in\\n               whole or in part any penalty, forfeiture, or\\n               liability, either civil or criminal, which shall\\n\\n\\n                                      36\\n\\x0c             have been incurred under such statute, unless\\n             the . . . amending . . . act so expressly\\n             provides, and such statute or part of a statute\\n             . . . so . . . amended . . . shall be treated and\\n             held as still remaining in force for the purpose\\n             of sustaining any and all proper actions, suits,\\n             proceedings, and prosecutions, criminal as\\n             well as civil, for the enforcement of such\\n             penalty, forfeiture, or liability, as well as for\\n             the purpose of sustaining any judgment,\\n             decree, or order which can or may be rendered,\\n             entered, or made in such actions, suits,\\n             proceedings, or prosecutions imposing,\\n             inflicting, or declaring such penalty, forfeiture,\\n             or liability.\\n\\n  Because the 2013 amendments to the theft statute do not expressly\\n\\n  provide that they apply retroactively, and Trujillo committed his\\n\\n  crime before 2013, he is liable for theft as it was defined when he\\n\\n  committed the offense. See id.\\n\\n¶ 89   Third, in Riley v. People, 828 P.2d 254, 258 (Colo. 1992), our\\n\\n  supreme court “emphasized that a defendant is not entitled to the\\n\\n  ameliorative effects of amendatory legislation if the General\\n\\n  Assembly has not clearly indicated its intent to require such\\n\\n  retroactive application.” Id. I consider this statement by the\\n\\n  supreme court about its own jurisprudence on this issue to be\\n\\n  controlling.\\n\\n\\n\\n\\n                                    37\\n\\x0c¶ 90   Fourth, section 18-1-410(1)(f)(I), C.R.S. 2017, does not allow\\n\\n  Trujillo, on direct appeal, to seek retroactive application of the 2013\\n\\n  amendments to his case. Section 18-1-410(1)(f)(I) allows a\\n\\n  defendant to seek retroactive application of a “significant change in\\n\\n  the law, applied to” a defendant’s “conviction or sentence.” I believe\\n\\n  that the phrase “applied to” reflects the General Assembly’s intent\\n\\n  that, for amendatory legislation to apply retroactively to a\\n\\n  defendant’s conviction or sentence, the legislation must state that it\\n\\n  applies retroactively. Thus, because, as noted, the 2013\\n\\n  amendments do not state that they apply retroactively to Trujillo’s\\n\\n  conviction and sentence, he may not seek retroactive application\\n\\n  under section 18-1-410(1)(f)(I).\\n\\n¶ 91   Finally, and with all due respect, I decline to follow People v.\\n\\n  Stellabotte, 2016 COA 106 (cert. granted Feb. 6, 2017). Indeed, I\\n\\n  agree with Judge Dailey’s dissent in Stellabotte. See id. at ¶¶ 62-70\\n\\n  (Dailey, J., concurring in part and dissenting in part).\\n\\n\\n\\n\\n                                     38\\n\\x0c'}]"
      ]
     },
     "execution_count": 75,
     "metadata": {},
     "output_type": "execute_result"
    }
   ],
   "source": [
    "from itertools import islice\n",
    "from datasets import interleave_datasets\n",
    "\n",
    "combined_dataset = interleave_datasets([pubmed_dataset_streamed, law_dataset_streamed])\n",
    "list(islice(combined_dataset, 2))"
   ]
  },
  {
   "cell_type": "code",
   "execution_count": 76,
   "id": "b4bf5069-3134-4c82-9c0f-ec17fcdd4157",
   "metadata": {},
   "outputs": [
    {
     "data": {
      "text/plain": [
       "IterableDataset({\n",
       "    features: ['meta', 'text'],\n",
       "    num_shards: 1\n",
       "})"
      ]
     },
     "execution_count": 76,
     "metadata": {},
     "output_type": "execute_result"
    }
   ],
   "source": [
    "combined_dataset"
   ]
  },
  {
   "cell_type": "markdown",
   "id": "fe310434-63fc-45d9-8e8f-3e7a09104528",
   "metadata": {},
   "source": [
    "----"
   ]
  },
  {
   "cell_type": "markdown",
   "id": "426e5619-c62c-4926-82c6-90508ccfd1d3",
   "metadata": {},
   "source": [
    "### Creating your own dataset"
   ]
  },
  {
   "cell_type": "raw",
   "id": "2ddd545b-6ed4-41bc-a035-d92eb09ee156",
   "metadata": {},
   "source": [
    "import requests\n",
    "\n",
    "url = \"https://api.github.com/repos/huggingface/datasets/issues?page=1&per_page=1\"\n",
    "response = requests.get(url)\n",
    "response"
   ]
  },
  {
   "cell_type": "raw",
   "id": "28b3c1a1-e9c8-451d-93dd-08f9347b9451",
   "metadata": {},
   "source": [
    "response.json()"
   ]
  },
  {
   "cell_type": "markdown",
   "id": "e2668b30-6c3f-48bf-8a7e-a7077978e38c",
   "metadata": {},
   "source": [
    "##### Github token\n",
    "\n",
    "Be sure to paste in your Github token. Please see [Managing your personal access tokens](https://docs.github.com/en/authentication/keeping-your-account-and-data-secure/managing-your-personal-access-tokens) in the Github docs."
   ]
  },
  {
   "cell_type": "raw",
   "id": "066b157d-3632-4d46-983a-04cdd5b9561c",
   "metadata": {},
   "source": [
    "GITHUB_TOKEN = \"xxx\"  # Copy your GitHub token here\n",
    "headers = {\"Authorization\": f\"token {GITHUB_TOKEN}\"}"
   ]
  },
  {
   "cell_type": "raw",
   "id": "4ffe7bfc-a32e-4c62-b6a5-8231b1513b91",
   "metadata": {},
   "source": [
    "import time\n",
    "import math\n",
    "from pathlib import Path\n",
    "import pandas as pd\n",
    "from tqdm.notebook import tqdm\n",
    "\n",
    "\n",
    "def fetch_issues(\n",
    "    owner=\"huggingface\",\n",
    "    repo=\"datasets\",\n",
    "    num_issues=10_000,\n",
    "    rate_limit=5_000,\n",
    "    issues_path=Path(\".\"),\n",
    "):\n",
    "    if not issues_path.is_dir():\n",
    "        issues_path.mkdir(exist_ok=True)\n",
    "\n",
    "    batch = []\n",
    "    all_issues = []\n",
    "    per_page = 100  # Number of issues to return per page\n",
    "    num_pages = math.ceil(num_issues / per_page)\n",
    "    base_url = \"https://api.github.com/repos\"\n",
    "\n",
    "    for page in tqdm(range(num_pages)):\n",
    "        # Query with state=all to get both open and closed issues\n",
    "        query = f\"issues?page={page}&per_page={per_page}&state=all\"\n",
    "        issues = requests.get(f\"{base_url}/{owner}/{repo}/{query}\", headers=headers)\n",
    "        batch.extend(issues.json())\n",
    "\n",
    "        if len(batch) > rate_limit and len(all_issues) < num_issues:\n",
    "            all_issues.extend(batch)\n",
    "            batch = []  # Flush batch for next time period\n",
    "            print(f\"Reached GitHub rate limit. Sleeping for one hour ...\")\n",
    "            time.sleep(60 * 60 + 1)\n",
    "\n",
    "    all_issues.extend(batch)\n",
    "    df = pd.DataFrame.from_records(all_issues)\n",
    "    df.to_json(f\"{issues_path}/{repo}-issues.jsonl\", orient=\"records\", lines=True)\n",
    "    print(\n",
    "        f\"Downloaded all the issues for {repo}! Dataset stored at {issues_path}/{repo}-issues.jsonl\"\n",
    "    )"
   ]
  },
  {
   "cell_type": "markdown",
   "id": "d7ba65b1-95ed-4aad-9f54-2c9d1decc11b",
   "metadata": {},
   "source": [
    "... ah, \n",
    "\n",
    "> `Reached GitHub rate limit. Sleeping for one hour ...`\n",
    "\n",
    "So let's not even bother continuing..."
   ]
  },
  {
   "cell_type": "raw",
   "id": "f468d899-d7f6-43d1-bcc2-98b4af698896",
   "metadata": {},
   "source": [
    "# Depending on your internet connection, this can take several minutes to run...\n",
    "fetch_issues()"
   ]
  },
  {
   "cell_type": "markdown",
   "id": "9981225e-3be2-49bc-aee7-41e44044a389",
   "metadata": {},
   "source": [
    "----"
   ]
  },
  {
   "cell_type": "markdown",
   "id": "ecaee0ce-5971-4618-b2d3-c27934ebd1ec",
   "metadata": {},
   "source": [
    "#### Semantic search with FAISS"
   ]
  },
  {
   "cell_type": "code",
   "execution_count": 77,
   "id": "aac2d2d8-8621-4502-8018-fadc97565f7b",
   "metadata": {},
   "outputs": [
    {
     "name": "stderr",
     "output_type": "stream",
     "text": [
      "Repo card metadata block was not found. Setting CardData to empty.\n"
     ]
    },
    {
     "data": {
      "text/plain": [
       "Dataset({\n",
       "    features: ['url', 'repository_url', 'labels_url', 'comments_url', 'events_url', 'html_url', 'id', 'node_id', 'number', 'title', 'user', 'labels', 'state', 'locked', 'assignee', 'assignees', 'milestone', 'comments', 'created_at', 'updated_at', 'closed_at', 'author_association', 'active_lock_reason', 'pull_request', 'body', 'timeline_url', 'performed_via_github_app', 'is_pull_request'],\n",
       "    num_rows: 3019\n",
       "})"
      ]
     },
     "execution_count": 77,
     "metadata": {},
     "output_type": "execute_result"
    }
   ],
   "source": [
    "from datasets import load_dataset\n",
    "\n",
    "issues_dataset = load_dataset(\"lewtun/github-issues\", split=\"train\")\n",
    "issues_dataset"
   ]
  },
  {
   "cell_type": "code",
   "execution_count": 78,
   "id": "8bcd4db9-23df-4210-b651-c87bfca2a000",
   "metadata": {},
   "outputs": [
    {
     "data": {
      "text/plain": [
       "Dataset({\n",
       "    features: ['url', 'repository_url', 'labels_url', 'comments_url', 'events_url', 'html_url', 'id', 'node_id', 'number', 'title', 'user', 'labels', 'state', 'locked', 'assignee', 'assignees', 'milestone', 'comments', 'created_at', 'updated_at', 'closed_at', 'author_association', 'active_lock_reason', 'pull_request', 'body', 'timeline_url', 'performed_via_github_app', 'is_pull_request'],\n",
       "    num_rows: 808\n",
       "})"
      ]
     },
     "execution_count": 78,
     "metadata": {},
     "output_type": "execute_result"
    }
   ],
   "source": [
    "issues_dataset = issues_dataset.filter(\n",
    "    lambda x: (x[\"is_pull_request\"] == False and len(x[\"comments\"]) > 0)\n",
    ")\n",
    "issues_dataset"
   ]
  },
  {
   "cell_type": "code",
   "execution_count": 79,
   "id": "7815f97d-8438-4083-9a46-75a79f0a6502",
   "metadata": {},
   "outputs": [
    {
     "data": {
      "text/plain": [
       "Dataset({\n",
       "    features: ['html_url', 'title', 'comments', 'body'],\n",
       "    num_rows: 808\n",
       "})"
      ]
     },
     "execution_count": 79,
     "metadata": {},
     "output_type": "execute_result"
    }
   ],
   "source": [
    "columns = issues_dataset.column_names\n",
    "columns_to_keep = [\"title\", \"body\", \"html_url\", \"comments\"]\n",
    "columns_to_remove = set(columns_to_keep).symmetric_difference(columns)\n",
    "\n",
    "issues_dataset = issues_dataset.remove_columns(columns_to_remove)\n",
    "issues_dataset"
   ]
  },
  {
   "cell_type": "code",
   "execution_count": 80,
   "id": "85c992b9-35e4-4725-89a5-63c57d0498dd",
   "metadata": {},
   "outputs": [
    {
     "name": "stdout",
     "output_type": "stream",
     "text": [
      "{'html_url': 'https://github.com/huggingface/datasets/issues/2945', 'title': 'Protect master branch', 'comments': ['Cool, I think we can do both :)', '@lhoestq now the 2 are implemented.\\r\\n\\r\\nPlease note that for the the second protection, finally I have chosen to protect the master branch only from **merge commits** (see update comment above), so no need to disable/re-enable the protection on each release (direct commits, different from merge commits, can be pushed to the remote master branch; and eventually reverted without messing up the repo history).'], 'body': 'After accidental merge commit (91c55355b634d0dc73350a7ddee1a6776dbbdd69) into `datasets` master branch, all commits present in the feature branch were permanently added to `datasets` master branch history, as e.g.:\\r\\n- 00cc036fea7c7745cfe722360036ed306796a3f2\\r\\n- 13ae8c98602bbad8197de3b9b425f4c78f582af1\\r\\n- ...\\r\\n\\r\\nI propose to protect our master branch, so that we avoid we can accidentally make this kind of mistakes in the future:\\r\\n- [x] For Pull Requests using GitHub, allow only squash merging, so that only a single commit per Pull Request is merged into the master branch\\r\\n  - Currently, simple merge commits are already disabled\\r\\n  - I propose to disable rebase merging as well\\r\\n- ~~Protect the master branch from direct pushes (to avoid accidentally pushing of merge commits)~~\\r\\n  - ~~This protection would reject direct pushes to master branch~~\\r\\n  - ~~If so, for each release (when we need to commit directly to the master branch), we should previously disable the protection and re-enable it again after the release~~\\r\\n- [x] Protect the master branch only from direct pushing of **merge commits**\\r\\n  - GitHub offers the possibility to protect the master branch only from merge commits (which are the ones that introduce all the commits from the feature branch into the master branch).\\r\\n  - No need to disable/re-enable this protection on each release \\r\\n\\r\\nThis purpose of this Issue is to open a discussion about this problem and to agree in a solution.'}\n"
     ]
    }
   ],
   "source": [
    "print(issues_dataset[0])"
   ]
  },
  {
   "cell_type": "code",
   "execution_count": 81,
   "id": "b4bdffcf-c9bd-4ea7-a892-adf89eade34b",
   "metadata": {},
   "outputs": [
    {
     "data": {
      "text/html": [
       "<div>\n",
       "<style scoped>\n",
       "    .dataframe tbody tr th:only-of-type {\n",
       "        vertical-align: middle;\n",
       "    }\n",
       "\n",
       "    .dataframe tbody tr th {\n",
       "        vertical-align: top;\n",
       "    }\n",
       "\n",
       "    .dataframe thead th {\n",
       "        text-align: right;\n",
       "    }\n",
       "</style>\n",
       "<table border=\"1\" class=\"dataframe\">\n",
       "  <thead>\n",
       "    <tr style=\"text-align: right;\">\n",
       "      <th></th>\n",
       "      <th>html_url</th>\n",
       "      <th>title</th>\n",
       "      <th>comments</th>\n",
       "      <th>body</th>\n",
       "    </tr>\n",
       "  </thead>\n",
       "  <tbody>\n",
       "    <tr>\n",
       "      <th>0</th>\n",
       "      <td>https://github.com/huggingface/datasets/issues...</td>\n",
       "      <td>Protect master branch</td>\n",
       "      <td>[Cool, I think we can do both :), @lhoestq now...</td>\n",
       "      <td>After accidental merge commit (91c55355b634d0d...</td>\n",
       "    </tr>\n",
       "    <tr>\n",
       "      <th>1</th>\n",
       "      <td>https://github.com/huggingface/datasets/issues...</td>\n",
       "      <td>Backwards compatibility broken for cached data...</td>\n",
       "      <td>[Hi ! I guess the caching mechanism should hav...</td>\n",
       "      <td>## Describe the bug\\r\\nAfter upgrading to data...</td>\n",
       "    </tr>\n",
       "    <tr>\n",
       "      <th>2</th>\n",
       "      <td>https://github.com/huggingface/datasets/issues...</td>\n",
       "      <td>OSCAR unshuffled_original_ko: NonMatchingSplit...</td>\n",
       "      <td>[I tried `unshuffled_original_da` and it is al...</td>\n",
       "      <td>## Describe the bug\\r\\n\\r\\nCannot download OSC...</td>\n",
       "    </tr>\n",
       "    <tr>\n",
       "      <th>3</th>\n",
       "      <td>https://github.com/huggingface/datasets/issues...</td>\n",
       "      <td>load_dataset using default cache on Windows ca...</td>\n",
       "      <td>[Hi @daqieq, thanks for reporting.\\r\\n\\r\\nUnfo...</td>\n",
       "      <td>## Describe the bug\\r\\nStandard process to dow...</td>\n",
       "    </tr>\n",
       "    <tr>\n",
       "      <th>4</th>\n",
       "      <td>https://github.com/huggingface/datasets/issues...</td>\n",
       "      <td>to_tf_dataset keeps a reference to the open da...</td>\n",
       "      <td>[I did some investigation and, as it seems, th...</td>\n",
       "      <td>To reproduce:\\r\\n```python\\r\\nimport datasets ...</td>\n",
       "    </tr>\n",
       "    <tr>\n",
       "      <th>...</th>\n",
       "      <td>...</td>\n",
       "      <td>...</td>\n",
       "      <td>...</td>\n",
       "      <td>...</td>\n",
       "    </tr>\n",
       "    <tr>\n",
       "      <th>803</th>\n",
       "      <td>https://github.com/huggingface/datasets/issues/6</td>\n",
       "      <td>Error when citation is not given in the Datase...</td>\n",
       "      <td>[Yes looks good to me.\\r\\nNote that we may ref...</td>\n",
       "      <td>The following error is raised when the `citati...</td>\n",
       "    </tr>\n",
       "    <tr>\n",
       "      <th>804</th>\n",
       "      <td>https://github.com/huggingface/datasets/issues/5</td>\n",
       "      <td>ValueError when a split is empty</td>\n",
       "      <td>[To fix this I propose to modify only the file...</td>\n",
       "      <td>When a split is empty either TEST, VALIDATION ...</td>\n",
       "    </tr>\n",
       "    <tr>\n",
       "      <th>805</th>\n",
       "      <td>https://github.com/huggingface/datasets/issues/4</td>\n",
       "      <td>[Feature] Keep the list of labels of a dataset...</td>\n",
       "      <td>[Yes! I see mostly two options for this:\\r\\n- ...</td>\n",
       "      <td>It would be useful to keep the list of the lab...</td>\n",
       "    </tr>\n",
       "    <tr>\n",
       "      <th>806</th>\n",
       "      <td>https://github.com/huggingface/datasets/issues/3</td>\n",
       "      <td>[Feature] More dataset outputs</td>\n",
       "      <td>[Yes!\\r\\n- pandas will be a one-liner in `arro...</td>\n",
       "      <td>Add the following dataset outputs:\\r\\n\\r\\n- Sp...</td>\n",
       "    </tr>\n",
       "    <tr>\n",
       "      <th>807</th>\n",
       "      <td>https://github.com/huggingface/datasets/issues/2</td>\n",
       "      <td>Issue to read a local dataset</td>\n",
       "      <td>[My first bug report ❤️\\r\\nLooking into this r...</td>\n",
       "      <td>Hello,\\r\\n\\r\\nAs proposed by @thomwolf, I open...</td>\n",
       "    </tr>\n",
       "  </tbody>\n",
       "</table>\n",
       "<p>808 rows × 4 columns</p>\n",
       "</div>"
      ],
      "text/plain": [
       "                                              html_url  \\\n",
       "0    https://github.com/huggingface/datasets/issues...   \n",
       "1    https://github.com/huggingface/datasets/issues...   \n",
       "2    https://github.com/huggingface/datasets/issues...   \n",
       "3    https://github.com/huggingface/datasets/issues...   \n",
       "4    https://github.com/huggingface/datasets/issues...   \n",
       "..                                                 ...   \n",
       "803   https://github.com/huggingface/datasets/issues/6   \n",
       "804   https://github.com/huggingface/datasets/issues/5   \n",
       "805   https://github.com/huggingface/datasets/issues/4   \n",
       "806   https://github.com/huggingface/datasets/issues/3   \n",
       "807   https://github.com/huggingface/datasets/issues/2   \n",
       "\n",
       "                                                 title  \\\n",
       "0                                Protect master branch   \n",
       "1    Backwards compatibility broken for cached data...   \n",
       "2    OSCAR unshuffled_original_ko: NonMatchingSplit...   \n",
       "3    load_dataset using default cache on Windows ca...   \n",
       "4    to_tf_dataset keeps a reference to the open da...   \n",
       "..                                                 ...   \n",
       "803  Error when citation is not given in the Datase...   \n",
       "804                   ValueError when a split is empty   \n",
       "805  [Feature] Keep the list of labels of a dataset...   \n",
       "806                     [Feature] More dataset outputs   \n",
       "807                      Issue to read a local dataset   \n",
       "\n",
       "                                              comments  \\\n",
       "0    [Cool, I think we can do both :), @lhoestq now...   \n",
       "1    [Hi ! I guess the caching mechanism should hav...   \n",
       "2    [I tried `unshuffled_original_da` and it is al...   \n",
       "3    [Hi @daqieq, thanks for reporting.\\r\\n\\r\\nUnfo...   \n",
       "4    [I did some investigation and, as it seems, th...   \n",
       "..                                                 ...   \n",
       "803  [Yes looks good to me.\\r\\nNote that we may ref...   \n",
       "804  [To fix this I propose to modify only the file...   \n",
       "805  [Yes! I see mostly two options for this:\\r\\n- ...   \n",
       "806  [Yes!\\r\\n- pandas will be a one-liner in `arro...   \n",
       "807  [My first bug report ❤️\\r\\nLooking into this r...   \n",
       "\n",
       "                                                  body  \n",
       "0    After accidental merge commit (91c55355b634d0d...  \n",
       "1    ## Describe the bug\\r\\nAfter upgrading to data...  \n",
       "2    ## Describe the bug\\r\\n\\r\\nCannot download OSC...  \n",
       "3    ## Describe the bug\\r\\nStandard process to dow...  \n",
       "4    To reproduce:\\r\\n```python\\r\\nimport datasets ...  \n",
       "..                                                 ...  \n",
       "803  The following error is raised when the `citati...  \n",
       "804  When a split is empty either TEST, VALIDATION ...  \n",
       "805  It would be useful to keep the list of the lab...  \n",
       "806  Add the following dataset outputs:\\r\\n\\r\\n- Sp...  \n",
       "807  Hello,\\r\\n\\r\\nAs proposed by @thomwolf, I open...  \n",
       "\n",
       "[808 rows x 4 columns]"
      ]
     },
     "execution_count": 81,
     "metadata": {},
     "output_type": "execute_result"
    }
   ],
   "source": [
    "issues_dataset.set_format(\"pandas\")\n",
    "df = issues_dataset[:]\n",
    "df"
   ]
  },
  {
   "cell_type": "code",
   "execution_count": 82,
   "id": "dd4b5454-a649-4da4-b3b7-b76c90c53b5c",
   "metadata": {},
   "outputs": [
    {
     "data": {
      "text/plain": [
       "['Cool, I think we can do both :)',\n",
       " '@lhoestq now the 2 are implemented.\\r\\n\\r\\nPlease note that for the the second protection, finally I have chosen to protect the master branch only from **merge commits** (see update comment above), so no need to disable/re-enable the protection on each release (direct commits, different from merge commits, can be pushed to the remote master branch; and eventually reverted without messing up the repo history).']"
      ]
     },
     "execution_count": 82,
     "metadata": {},
     "output_type": "execute_result"
    }
   ],
   "source": [
    "df[\"comments\"][0].tolist()"
   ]
  },
  {
   "cell_type": "markdown",
   "id": "36efc7cf-fe35-468e-a69e-3a32714cb849",
   "metadata": {},
   "source": [
    "##### Using `pandas.DataFrame.explode` to break out the `comments` into separate rows\n",
    "\n",
    "> Transform each element of a list-like to a row, replicating index values.\n",
    "\n",
    "See [`pandas.DataFrame.explode` API documentation](https://pandas.pydata.org/docs/reference/api/pandas.DataFrame.explode.html#pandas-dataframe-explode)"
   ]
  },
  {
   "cell_type": "code",
   "execution_count": 83,
   "id": "a38ebaaa-b083-4a61-85fc-34406e7d9c53",
   "metadata": {},
   "outputs": [
    {
     "data": {
      "text/html": [
       "<div>\n",
       "<style scoped>\n",
       "    .dataframe tbody tr th:only-of-type {\n",
       "        vertical-align: middle;\n",
       "    }\n",
       "\n",
       "    .dataframe tbody tr th {\n",
       "        vertical-align: top;\n",
       "    }\n",
       "\n",
       "    .dataframe thead th {\n",
       "        text-align: right;\n",
       "    }\n",
       "</style>\n",
       "<table border=\"1\" class=\"dataframe\">\n",
       "  <thead>\n",
       "    <tr style=\"text-align: right;\">\n",
       "      <th></th>\n",
       "      <th>html_url</th>\n",
       "      <th>title</th>\n",
       "      <th>comments</th>\n",
       "      <th>body</th>\n",
       "    </tr>\n",
       "  </thead>\n",
       "  <tbody>\n",
       "    <tr>\n",
       "      <th>0</th>\n",
       "      <td>https://github.com/huggingface/datasets/issues...</td>\n",
       "      <td>Protect master branch</td>\n",
       "      <td>Cool, I think we can do both :)</td>\n",
       "      <td>After accidental merge commit (91c55355b634d0d...</td>\n",
       "    </tr>\n",
       "    <tr>\n",
       "      <th>1</th>\n",
       "      <td>https://github.com/huggingface/datasets/issues...</td>\n",
       "      <td>Protect master branch</td>\n",
       "      <td>@lhoestq now the 2 are implemented.\\r\\n\\r\\nPle...</td>\n",
       "      <td>After accidental merge commit (91c55355b634d0d...</td>\n",
       "    </tr>\n",
       "    <tr>\n",
       "      <th>2</th>\n",
       "      <td>https://github.com/huggingface/datasets/issues...</td>\n",
       "      <td>Backwards compatibility broken for cached data...</td>\n",
       "      <td>Hi ! I guess the caching mechanism should have...</td>\n",
       "      <td>## Describe the bug\\r\\nAfter upgrading to data...</td>\n",
       "    </tr>\n",
       "    <tr>\n",
       "      <th>3</th>\n",
       "      <td>https://github.com/huggingface/datasets/issues...</td>\n",
       "      <td>Backwards compatibility broken for cached data...</td>\n",
       "      <td>If it's easy enough to implement, then yes ple...</td>\n",
       "      <td>## Describe the bug\\r\\nAfter upgrading to data...</td>\n",
       "    </tr>\n",
       "  </tbody>\n",
       "</table>\n",
       "</div>"
      ],
      "text/plain": [
       "                                            html_url  \\\n",
       "0  https://github.com/huggingface/datasets/issues...   \n",
       "1  https://github.com/huggingface/datasets/issues...   \n",
       "2  https://github.com/huggingface/datasets/issues...   \n",
       "3  https://github.com/huggingface/datasets/issues...   \n",
       "\n",
       "                                               title  \\\n",
       "0                              Protect master branch   \n",
       "1                              Protect master branch   \n",
       "2  Backwards compatibility broken for cached data...   \n",
       "3  Backwards compatibility broken for cached data...   \n",
       "\n",
       "                                            comments  \\\n",
       "0                    Cool, I think we can do both :)   \n",
       "1  @lhoestq now the 2 are implemented.\\r\\n\\r\\nPle...   \n",
       "2  Hi ! I guess the caching mechanism should have...   \n",
       "3  If it's easy enough to implement, then yes ple...   \n",
       "\n",
       "                                                body  \n",
       "0  After accidental merge commit (91c55355b634d0d...  \n",
       "1  After accidental merge commit (91c55355b634d0d...  \n",
       "2  ## Describe the bug\\r\\nAfter upgrading to data...  \n",
       "3  ## Describe the bug\\r\\nAfter upgrading to data...  "
      ]
     },
     "execution_count": 83,
     "metadata": {},
     "output_type": "execute_result"
    }
   ],
   "source": [
    "comments_df = df.explode(\"comments\", ignore_index=True)\n",
    "comments_df.head(4)"
   ]
  },
  {
   "cell_type": "code",
   "execution_count": 84,
   "id": "54761abd-0ac2-4df0-8123-a58feb20b013",
   "metadata": {},
   "outputs": [
    {
     "data": {
      "text/plain": [
       "Dataset({\n",
       "    features: ['html_url', 'title', 'comments', 'body'],\n",
       "    num_rows: 2964\n",
       "})"
      ]
     },
     "execution_count": 84,
     "metadata": {},
     "output_type": "execute_result"
    }
   ],
   "source": [
    "from datasets import Dataset\n",
    "\n",
    "comments_dataset = Dataset.from_pandas(comments_df)\n",
    "comments_dataset"
   ]
  },
  {
   "cell_type": "code",
   "execution_count": 85,
   "id": "55627cee-21de-41e5-b23c-189c83aaa5a0",
   "metadata": {},
   "outputs": [
    {
     "data": {
      "text/plain": [
       "{'html_url': ['https://github.com/huggingface/datasets/issues/2945',\n",
       "  'https://github.com/huggingface/datasets/issues/2945',\n",
       "  'https://github.com/huggingface/datasets/issues/2943',\n",
       "  'https://github.com/huggingface/datasets/issues/2943'],\n",
       " 'title': ['Protect master branch',\n",
       "  'Protect master branch',\n",
       "  'Backwards compatibility broken for cached datasets that use `.filter()`',\n",
       "  'Backwards compatibility broken for cached datasets that use `.filter()`'],\n",
       " 'comments': ['Cool, I think we can do both :)',\n",
       "  '@lhoestq now the 2 are implemented.\\r\\n\\r\\nPlease note that for the the second protection, finally I have chosen to protect the master branch only from **merge commits** (see update comment above), so no need to disable/re-enable the protection on each release (direct commits, different from merge commits, can be pushed to the remote master branch; and eventually reverted without messing up the repo history).',\n",
       "  \"Hi ! I guess the caching mechanism should have considered the new `filter` to be different from the old one, and don't use cached results from the old `filter`.\\r\\nTo avoid other users from having this issue we could make the caching differentiate the two, what do you think ?\",\n",
       "  \"If it's easy enough to implement, then yes please 😄  But this issue can be low-priority, since I've only encountered it in a couple of `transformers` CI tests.\"],\n",
       " 'body': ['After accidental merge commit (91c55355b634d0dc73350a7ddee1a6776dbbdd69) into `datasets` master branch, all commits present in the feature branch were permanently added to `datasets` master branch history, as e.g.:\\r\\n- 00cc036fea7c7745cfe722360036ed306796a3f2\\r\\n- 13ae8c98602bbad8197de3b9b425f4c78f582af1\\r\\n- ...\\r\\n\\r\\nI propose to protect our master branch, so that we avoid we can accidentally make this kind of mistakes in the future:\\r\\n- [x] For Pull Requests using GitHub, allow only squash merging, so that only a single commit per Pull Request is merged into the master branch\\r\\n  - Currently, simple merge commits are already disabled\\r\\n  - I propose to disable rebase merging as well\\r\\n- ~~Protect the master branch from direct pushes (to avoid accidentally pushing of merge commits)~~\\r\\n  - ~~This protection would reject direct pushes to master branch~~\\r\\n  - ~~If so, for each release (when we need to commit directly to the master branch), we should previously disable the protection and re-enable it again after the release~~\\r\\n- [x] Protect the master branch only from direct pushing of **merge commits**\\r\\n  - GitHub offers the possibility to protect the master branch only from merge commits (which are the ones that introduce all the commits from the feature branch into the master branch).\\r\\n  - No need to disable/re-enable this protection on each release \\r\\n\\r\\nThis purpose of this Issue is to open a discussion about this problem and to agree in a solution.',\n",
       "  'After accidental merge commit (91c55355b634d0dc73350a7ddee1a6776dbbdd69) into `datasets` master branch, all commits present in the feature branch were permanently added to `datasets` master branch history, as e.g.:\\r\\n- 00cc036fea7c7745cfe722360036ed306796a3f2\\r\\n- 13ae8c98602bbad8197de3b9b425f4c78f582af1\\r\\n- ...\\r\\n\\r\\nI propose to protect our master branch, so that we avoid we can accidentally make this kind of mistakes in the future:\\r\\n- [x] For Pull Requests using GitHub, allow only squash merging, so that only a single commit per Pull Request is merged into the master branch\\r\\n  - Currently, simple merge commits are already disabled\\r\\n  - I propose to disable rebase merging as well\\r\\n- ~~Protect the master branch from direct pushes (to avoid accidentally pushing of merge commits)~~\\r\\n  - ~~This protection would reject direct pushes to master branch~~\\r\\n  - ~~If so, for each release (when we need to commit directly to the master branch), we should previously disable the protection and re-enable it again after the release~~\\r\\n- [x] Protect the master branch only from direct pushing of **merge commits**\\r\\n  - GitHub offers the possibility to protect the master branch only from merge commits (which are the ones that introduce all the commits from the feature branch into the master branch).\\r\\n  - No need to disable/re-enable this protection on each release \\r\\n\\r\\nThis purpose of this Issue is to open a discussion about this problem and to agree in a solution.',\n",
       "  '## Describe the bug\\r\\nAfter upgrading to datasets `1.12.0`, some cached `.filter()` steps from `1.11.0` started failing with \\r\\n`ValueError: Keys mismatch: between {\\'indices\\': Value(dtype=\\'uint64\\', id=None)} and {\\'file\\': Value(dtype=\\'string\\', id=None), \\'text\\': Value(dtype=\\'string\\', id=None), \\'speaker_id\\': Value(dtype=\\'int64\\', id=None), \\'chapter_id\\': Value(dtype=\\'int64\\', id=None), \\'id\\': Value(dtype=\\'string\\', id=None)}`\\r\\n\\r\\nRelated feature: https://github.com/huggingface/datasets/pull/2836\\r\\n\\r\\n:question:  This is probably a `wontfix` bug, since it can be solved by simply cleaning the related cache dirs, but the workaround could be useful for someone googling the error :) \\r\\n\\r\\n## Workaround\\r\\nRemove the cache for the given dataset, e.g. `rm -rf ~/.cache/huggingface/datasets/librispeech_asr`.\\r\\n\\r\\n## Steps to reproduce the bug\\r\\n1. Delete `~/.cache/huggingface/datasets/librispeech_asr` if it exists.\\r\\n\\r\\n2. `pip install datasets==1.11.0` and run the following snippet:\\r\\n\\r\\n```python\\r\\nfrom datasets import load_dataset\\r\\n\\r\\nids = [\"1272-141231-0000\"]\\r\\nds = load_dataset(\"patrickvonplaten/librispeech_asr_dummy\", \"clean\", split=\"validation\")\\r\\nds = ds.filter(lambda x: x[\"id\"] in ids)\\r\\n```\\r\\n3. `pip install datasets==1.12.1` and re-run the code again\\r\\n\\r\\n## Expected results\\r\\nSame result as with the previous `datasets` version.\\r\\n\\r\\n## Actual results\\r\\n```bash\\r\\nReusing dataset librispeech_asr (./.cache/huggingface/datasets/librispeech_asr/clean/2.1.0/468ec03677f46a8714ac6b5b64dba02d246a228d92cbbad7f3dc190fa039eab1)\\r\\nLoading cached processed dataset at ./.cache/huggingface/datasets/librispeech_asr/clean/2.1.0/468ec03677f46a8714ac6b5b64dba02d246a228d92cbbad7f3dc190fa039eab1/cache-cd1c29844fdbc87a.arrow\\r\\nTraceback (most recent call last):\\r\\n  File \"./repos/transformers/src/transformers/models/wav2vec2/try_dataset.py\", line 5, in <module>\\r\\n    ds = ds.filter(lambda x: x[\"id\"] in ids)\\r\\n  File \"./envs/transformers/lib/python3.8/site-packages/datasets/arrow_dataset.py\", line 185, in wrapper\\r\\n    out: Union[\"Dataset\", \"DatasetDict\"] = func(self, *args, **kwargs)\\r\\n  File \"./envs/transformers/lib/python3.8/site-packages/datasets/fingerprint.py\", line 398, in wrapper\\r\\n    out = func(self, *args, **kwargs)\\r\\n  File \"./envs/transformers/lib/python3.8/site-packages/datasets/arrow_dataset.py\", line 2169, in filter\\r\\n    indices = self.map(\\r\\n  File \"./envs/transformers/lib/python3.8/site-packages/datasets/arrow_dataset.py\", line 1686, in map\\r\\n    return self._map_single(\\r\\n  File \"./envs/transformers/lib/python3.8/site-packages/datasets/arrow_dataset.py\", line 185, in wrapper\\r\\n    out: Union[\"Dataset\", \"DatasetDict\"] = func(self, *args, **kwargs)\\r\\n  File \"./envs/transformers/lib/python3.8/site-packages/datasets/fingerprint.py\", line 398, in wrapper\\r\\n    out = func(self, *args, **kwargs)\\r\\n  File \"./envs/transformers/lib/python3.8/site-packages/datasets/arrow_dataset.py\", line 1896, in _map_single\\r\\n    return Dataset.from_file(cache_file_name, info=info, split=self.split)\\r\\n  File \"./envs/transformers/lib/python3.8/site-packages/datasets/arrow_dataset.py\", line 343, in from_file\\r\\n    return cls(\\r\\n  File \"./envs/transformers/lib/python3.8/site-packages/datasets/arrow_dataset.py\", line 282, in __init__\\r\\n    self.info.features = self.info.features.reorder_fields_as(inferred_features)\\r\\n  File \"./envs/transformers/lib/python3.8/site-packages/datasets/features.py\", line 1151, in reorder_fields_as\\r\\n    return Features(recursive_reorder(self, other))\\r\\n  File \"./envs/transformers/lib/python3.8/site-packages/datasets/features.py\", line 1140, in recursive_reorder\\r\\n    raise ValueError(f\"Keys mismatch: between {source} and {target}\" + stack_position)\\r\\nValueError: Keys mismatch: between {\\'indices\\': Value(dtype=\\'uint64\\', id=None)} and {\\'file\\': Value(dtype=\\'string\\', id=None), \\'text\\': Value(dtype=\\'string\\', id=None), \\'speaker_id\\': Value(dtype=\\'int64\\', id=None), \\'chapter_id\\': Value(dtype=\\'int64\\', id=None), \\'id\\': Value(dtype=\\'string\\', id=None)}\\r\\n\\r\\nProcess finished with exit code 1\\r\\n\\r\\n```\\r\\n\\r\\n## Environment info\\r\\n- `datasets` version: 1.12.1\\r\\n- Platform: Linux-5.11.0-34-generic-x86_64-with-glibc2.17\\r\\n- Python version: 3.8.10\\r\\n- PyArrow version: 5.0.0\\r\\n',\n",
       "  '## Describe the bug\\r\\nAfter upgrading to datasets `1.12.0`, some cached `.filter()` steps from `1.11.0` started failing with \\r\\n`ValueError: Keys mismatch: between {\\'indices\\': Value(dtype=\\'uint64\\', id=None)} and {\\'file\\': Value(dtype=\\'string\\', id=None), \\'text\\': Value(dtype=\\'string\\', id=None), \\'speaker_id\\': Value(dtype=\\'int64\\', id=None), \\'chapter_id\\': Value(dtype=\\'int64\\', id=None), \\'id\\': Value(dtype=\\'string\\', id=None)}`\\r\\n\\r\\nRelated feature: https://github.com/huggingface/datasets/pull/2836\\r\\n\\r\\n:question:  This is probably a `wontfix` bug, since it can be solved by simply cleaning the related cache dirs, but the workaround could be useful for someone googling the error :) \\r\\n\\r\\n## Workaround\\r\\nRemove the cache for the given dataset, e.g. `rm -rf ~/.cache/huggingface/datasets/librispeech_asr`.\\r\\n\\r\\n## Steps to reproduce the bug\\r\\n1. Delete `~/.cache/huggingface/datasets/librispeech_asr` if it exists.\\r\\n\\r\\n2. `pip install datasets==1.11.0` and run the following snippet:\\r\\n\\r\\n```python\\r\\nfrom datasets import load_dataset\\r\\n\\r\\nids = [\"1272-141231-0000\"]\\r\\nds = load_dataset(\"patrickvonplaten/librispeech_asr_dummy\", \"clean\", split=\"validation\")\\r\\nds = ds.filter(lambda x: x[\"id\"] in ids)\\r\\n```\\r\\n3. `pip install datasets==1.12.1` and re-run the code again\\r\\n\\r\\n## Expected results\\r\\nSame result as with the previous `datasets` version.\\r\\n\\r\\n## Actual results\\r\\n```bash\\r\\nReusing dataset librispeech_asr (./.cache/huggingface/datasets/librispeech_asr/clean/2.1.0/468ec03677f46a8714ac6b5b64dba02d246a228d92cbbad7f3dc190fa039eab1)\\r\\nLoading cached processed dataset at ./.cache/huggingface/datasets/librispeech_asr/clean/2.1.0/468ec03677f46a8714ac6b5b64dba02d246a228d92cbbad7f3dc190fa039eab1/cache-cd1c29844fdbc87a.arrow\\r\\nTraceback (most recent call last):\\r\\n  File \"./repos/transformers/src/transformers/models/wav2vec2/try_dataset.py\", line 5, in <module>\\r\\n    ds = ds.filter(lambda x: x[\"id\"] in ids)\\r\\n  File \"./envs/transformers/lib/python3.8/site-packages/datasets/arrow_dataset.py\", line 185, in wrapper\\r\\n    out: Union[\"Dataset\", \"DatasetDict\"] = func(self, *args, **kwargs)\\r\\n  File \"./envs/transformers/lib/python3.8/site-packages/datasets/fingerprint.py\", line 398, in wrapper\\r\\n    out = func(self, *args, **kwargs)\\r\\n  File \"./envs/transformers/lib/python3.8/site-packages/datasets/arrow_dataset.py\", line 2169, in filter\\r\\n    indices = self.map(\\r\\n  File \"./envs/transformers/lib/python3.8/site-packages/datasets/arrow_dataset.py\", line 1686, in map\\r\\n    return self._map_single(\\r\\n  File \"./envs/transformers/lib/python3.8/site-packages/datasets/arrow_dataset.py\", line 185, in wrapper\\r\\n    out: Union[\"Dataset\", \"DatasetDict\"] = func(self, *args, **kwargs)\\r\\n  File \"./envs/transformers/lib/python3.8/site-packages/datasets/fingerprint.py\", line 398, in wrapper\\r\\n    out = func(self, *args, **kwargs)\\r\\n  File \"./envs/transformers/lib/python3.8/site-packages/datasets/arrow_dataset.py\", line 1896, in _map_single\\r\\n    return Dataset.from_file(cache_file_name, info=info, split=self.split)\\r\\n  File \"./envs/transformers/lib/python3.8/site-packages/datasets/arrow_dataset.py\", line 343, in from_file\\r\\n    return cls(\\r\\n  File \"./envs/transformers/lib/python3.8/site-packages/datasets/arrow_dataset.py\", line 282, in __init__\\r\\n    self.info.features = self.info.features.reorder_fields_as(inferred_features)\\r\\n  File \"./envs/transformers/lib/python3.8/site-packages/datasets/features.py\", line 1151, in reorder_fields_as\\r\\n    return Features(recursive_reorder(self, other))\\r\\n  File \"./envs/transformers/lib/python3.8/site-packages/datasets/features.py\", line 1140, in recursive_reorder\\r\\n    raise ValueError(f\"Keys mismatch: between {source} and {target}\" + stack_position)\\r\\nValueError: Keys mismatch: between {\\'indices\\': Value(dtype=\\'uint64\\', id=None)} and {\\'file\\': Value(dtype=\\'string\\', id=None), \\'text\\': Value(dtype=\\'string\\', id=None), \\'speaker_id\\': Value(dtype=\\'int64\\', id=None), \\'chapter_id\\': Value(dtype=\\'int64\\', id=None), \\'id\\': Value(dtype=\\'string\\', id=None)}\\r\\n\\r\\nProcess finished with exit code 1\\r\\n\\r\\n```\\r\\n\\r\\n## Environment info\\r\\n- `datasets` version: 1.12.1\\r\\n- Platform: Linux-5.11.0-34-generic-x86_64-with-glibc2.17\\r\\n- Python version: 3.8.10\\r\\n- PyArrow version: 5.0.0\\r\\n']}"
      ]
     },
     "execution_count": 85,
     "metadata": {},
     "output_type": "execute_result"
    }
   ],
   "source": [
    "comments_dataset[:4]"
   ]
  },
  {
   "cell_type": "markdown",
   "id": "d0087c73-ff0d-4940-9f9e-5aa4f39f9d6b",
   "metadata": {},
   "source": [
    "----\n",
    "\n",
    "... or alternatively, taking a hint from [Batch mapping with `Dataset.map`](https://huggingface.co/docs/datasets/about_map_batch#batch-mapping)...\n",
    "\n"
   ]
  },
  {
   "cell_type": "code",
   "execution_count": 86,
   "id": "32d7d199-d150-4ba7-afc4-4ef31e641e1f",
   "metadata": {},
   "outputs": [
    {
     "data": {
      "text/plain": [
       "Dataset({\n",
       "    features: ['html_url', 'title', 'comments', 'body'],\n",
       "    num_rows: 808\n",
       "})"
      ]
     },
     "execution_count": 86,
     "metadata": {},
     "output_type": "execute_result"
    }
   ],
   "source": [
    "issues_dataset.reset_format()\n",
    "issues_dataset"
   ]
  },
  {
   "cell_type": "code",
   "execution_count": 87,
   "id": "7b1fb07c-cf47-47cb-9e29-884b49d70c40",
   "metadata": {},
   "outputs": [],
   "source": [
    "def manually_flatten_list(batch):\n",
    "    \"\"\"foo\"\"\"\n",
    "    retval = {\n",
    "        'html_url': [],\n",
    "        'title': [],\n",
    "        'comments': [], \n",
    "        'body': []\n",
    "    }\n",
    "\n",
    "    for html_url, title, comments, body in zip(batch['html_url'], batch['title'], batch['comments'], batch['body']):\n",
    "        for c in comments:\n",
    "            retval['html_url'].append(html_url)\n",
    "            retval['title'].append(title)\n",
    "            retval['comments'].append(c)\n",
    "            retval['body'].append(body)\n",
    "    \n",
    "    return retval"
   ]
  },
  {
   "cell_type": "code",
   "execution_count": 88,
   "id": "b2cd6075-c13c-4901-b843-a512c27215a1",
   "metadata": {},
   "outputs": [
    {
     "data": {
      "text/plain": [
       "Dataset({\n",
       "    features: ['html_url', 'title', 'comments', 'body'],\n",
       "    num_rows: 2964\n",
       "})"
      ]
     },
     "execution_count": 88,
     "metadata": {},
     "output_type": "execute_result"
    }
   ],
   "source": [
    "comments_dataset_2 = issues_dataset.map(\n",
    "    manually_flatten_list,\n",
    "    remove_columns=issues_dataset.column_names,\n",
    "    batched=True)\n",
    "comments_dataset_2"
   ]
  },
  {
   "cell_type": "code",
   "execution_count": 89,
   "id": "e88c49a9-cb5b-448d-af72-f1e3cf1acb74",
   "metadata": {},
   "outputs": [
    {
     "data": {
      "text/plain": [
       "{'html_url': ['https://github.com/huggingface/datasets/issues/2945',\n",
       "  'https://github.com/huggingface/datasets/issues/2945',\n",
       "  'https://github.com/huggingface/datasets/issues/2943',\n",
       "  'https://github.com/huggingface/datasets/issues/2943'],\n",
       " 'title': ['Protect master branch',\n",
       "  'Protect master branch',\n",
       "  'Backwards compatibility broken for cached datasets that use `.filter()`',\n",
       "  'Backwards compatibility broken for cached datasets that use `.filter()`'],\n",
       " 'comments': ['Cool, I think we can do both :)',\n",
       "  '@lhoestq now the 2 are implemented.\\r\\n\\r\\nPlease note that for the the second protection, finally I have chosen to protect the master branch only from **merge commits** (see update comment above), so no need to disable/re-enable the protection on each release (direct commits, different from merge commits, can be pushed to the remote master branch; and eventually reverted without messing up the repo history).',\n",
       "  \"Hi ! I guess the caching mechanism should have considered the new `filter` to be different from the old one, and don't use cached results from the old `filter`.\\r\\nTo avoid other users from having this issue we could make the caching differentiate the two, what do you think ?\",\n",
       "  \"If it's easy enough to implement, then yes please 😄  But this issue can be low-priority, since I've only encountered it in a couple of `transformers` CI tests.\"],\n",
       " 'body': ['After accidental merge commit (91c55355b634d0dc73350a7ddee1a6776dbbdd69) into `datasets` master branch, all commits present in the feature branch were permanently added to `datasets` master branch history, as e.g.:\\r\\n- 00cc036fea7c7745cfe722360036ed306796a3f2\\r\\n- 13ae8c98602bbad8197de3b9b425f4c78f582af1\\r\\n- ...\\r\\n\\r\\nI propose to protect our master branch, so that we avoid we can accidentally make this kind of mistakes in the future:\\r\\n- [x] For Pull Requests using GitHub, allow only squash merging, so that only a single commit per Pull Request is merged into the master branch\\r\\n  - Currently, simple merge commits are already disabled\\r\\n  - I propose to disable rebase merging as well\\r\\n- ~~Protect the master branch from direct pushes (to avoid accidentally pushing of merge commits)~~\\r\\n  - ~~This protection would reject direct pushes to master branch~~\\r\\n  - ~~If so, for each release (when we need to commit directly to the master branch), we should previously disable the protection and re-enable it again after the release~~\\r\\n- [x] Protect the master branch only from direct pushing of **merge commits**\\r\\n  - GitHub offers the possibility to protect the master branch only from merge commits (which are the ones that introduce all the commits from the feature branch into the master branch).\\r\\n  - No need to disable/re-enable this protection on each release \\r\\n\\r\\nThis purpose of this Issue is to open a discussion about this problem and to agree in a solution.',\n",
       "  'After accidental merge commit (91c55355b634d0dc73350a7ddee1a6776dbbdd69) into `datasets` master branch, all commits present in the feature branch were permanently added to `datasets` master branch history, as e.g.:\\r\\n- 00cc036fea7c7745cfe722360036ed306796a3f2\\r\\n- 13ae8c98602bbad8197de3b9b425f4c78f582af1\\r\\n- ...\\r\\n\\r\\nI propose to protect our master branch, so that we avoid we can accidentally make this kind of mistakes in the future:\\r\\n- [x] For Pull Requests using GitHub, allow only squash merging, so that only a single commit per Pull Request is merged into the master branch\\r\\n  - Currently, simple merge commits are already disabled\\r\\n  - I propose to disable rebase merging as well\\r\\n- ~~Protect the master branch from direct pushes (to avoid accidentally pushing of merge commits)~~\\r\\n  - ~~This protection would reject direct pushes to master branch~~\\r\\n  - ~~If so, for each release (when we need to commit directly to the master branch), we should previously disable the protection and re-enable it again after the release~~\\r\\n- [x] Protect the master branch only from direct pushing of **merge commits**\\r\\n  - GitHub offers the possibility to protect the master branch only from merge commits (which are the ones that introduce all the commits from the feature branch into the master branch).\\r\\n  - No need to disable/re-enable this protection on each release \\r\\n\\r\\nThis purpose of this Issue is to open a discussion about this problem and to agree in a solution.',\n",
       "  '## Describe the bug\\r\\nAfter upgrading to datasets `1.12.0`, some cached `.filter()` steps from `1.11.0` started failing with \\r\\n`ValueError: Keys mismatch: between {\\'indices\\': Value(dtype=\\'uint64\\', id=None)} and {\\'file\\': Value(dtype=\\'string\\', id=None), \\'text\\': Value(dtype=\\'string\\', id=None), \\'speaker_id\\': Value(dtype=\\'int64\\', id=None), \\'chapter_id\\': Value(dtype=\\'int64\\', id=None), \\'id\\': Value(dtype=\\'string\\', id=None)}`\\r\\n\\r\\nRelated feature: https://github.com/huggingface/datasets/pull/2836\\r\\n\\r\\n:question:  This is probably a `wontfix` bug, since it can be solved by simply cleaning the related cache dirs, but the workaround could be useful for someone googling the error :) \\r\\n\\r\\n## Workaround\\r\\nRemove the cache for the given dataset, e.g. `rm -rf ~/.cache/huggingface/datasets/librispeech_asr`.\\r\\n\\r\\n## Steps to reproduce the bug\\r\\n1. Delete `~/.cache/huggingface/datasets/librispeech_asr` if it exists.\\r\\n\\r\\n2. `pip install datasets==1.11.0` and run the following snippet:\\r\\n\\r\\n```python\\r\\nfrom datasets import load_dataset\\r\\n\\r\\nids = [\"1272-141231-0000\"]\\r\\nds = load_dataset(\"patrickvonplaten/librispeech_asr_dummy\", \"clean\", split=\"validation\")\\r\\nds = ds.filter(lambda x: x[\"id\"] in ids)\\r\\n```\\r\\n3. `pip install datasets==1.12.1` and re-run the code again\\r\\n\\r\\n## Expected results\\r\\nSame result as with the previous `datasets` version.\\r\\n\\r\\n## Actual results\\r\\n```bash\\r\\nReusing dataset librispeech_asr (./.cache/huggingface/datasets/librispeech_asr/clean/2.1.0/468ec03677f46a8714ac6b5b64dba02d246a228d92cbbad7f3dc190fa039eab1)\\r\\nLoading cached processed dataset at ./.cache/huggingface/datasets/librispeech_asr/clean/2.1.0/468ec03677f46a8714ac6b5b64dba02d246a228d92cbbad7f3dc190fa039eab1/cache-cd1c29844fdbc87a.arrow\\r\\nTraceback (most recent call last):\\r\\n  File \"./repos/transformers/src/transformers/models/wav2vec2/try_dataset.py\", line 5, in <module>\\r\\n    ds = ds.filter(lambda x: x[\"id\"] in ids)\\r\\n  File \"./envs/transformers/lib/python3.8/site-packages/datasets/arrow_dataset.py\", line 185, in wrapper\\r\\n    out: Union[\"Dataset\", \"DatasetDict\"] = func(self, *args, **kwargs)\\r\\n  File \"./envs/transformers/lib/python3.8/site-packages/datasets/fingerprint.py\", line 398, in wrapper\\r\\n    out = func(self, *args, **kwargs)\\r\\n  File \"./envs/transformers/lib/python3.8/site-packages/datasets/arrow_dataset.py\", line 2169, in filter\\r\\n    indices = self.map(\\r\\n  File \"./envs/transformers/lib/python3.8/site-packages/datasets/arrow_dataset.py\", line 1686, in map\\r\\n    return self._map_single(\\r\\n  File \"./envs/transformers/lib/python3.8/site-packages/datasets/arrow_dataset.py\", line 185, in wrapper\\r\\n    out: Union[\"Dataset\", \"DatasetDict\"] = func(self, *args, **kwargs)\\r\\n  File \"./envs/transformers/lib/python3.8/site-packages/datasets/fingerprint.py\", line 398, in wrapper\\r\\n    out = func(self, *args, **kwargs)\\r\\n  File \"./envs/transformers/lib/python3.8/site-packages/datasets/arrow_dataset.py\", line 1896, in _map_single\\r\\n    return Dataset.from_file(cache_file_name, info=info, split=self.split)\\r\\n  File \"./envs/transformers/lib/python3.8/site-packages/datasets/arrow_dataset.py\", line 343, in from_file\\r\\n    return cls(\\r\\n  File \"./envs/transformers/lib/python3.8/site-packages/datasets/arrow_dataset.py\", line 282, in __init__\\r\\n    self.info.features = self.info.features.reorder_fields_as(inferred_features)\\r\\n  File \"./envs/transformers/lib/python3.8/site-packages/datasets/features.py\", line 1151, in reorder_fields_as\\r\\n    return Features(recursive_reorder(self, other))\\r\\n  File \"./envs/transformers/lib/python3.8/site-packages/datasets/features.py\", line 1140, in recursive_reorder\\r\\n    raise ValueError(f\"Keys mismatch: between {source} and {target}\" + stack_position)\\r\\nValueError: Keys mismatch: between {\\'indices\\': Value(dtype=\\'uint64\\', id=None)} and {\\'file\\': Value(dtype=\\'string\\', id=None), \\'text\\': Value(dtype=\\'string\\', id=None), \\'speaker_id\\': Value(dtype=\\'int64\\', id=None), \\'chapter_id\\': Value(dtype=\\'int64\\', id=None), \\'id\\': Value(dtype=\\'string\\', id=None)}\\r\\n\\r\\nProcess finished with exit code 1\\r\\n\\r\\n```\\r\\n\\r\\n## Environment info\\r\\n- `datasets` version: 1.12.1\\r\\n- Platform: Linux-5.11.0-34-generic-x86_64-with-glibc2.17\\r\\n- Python version: 3.8.10\\r\\n- PyArrow version: 5.0.0\\r\\n',\n",
       "  '## Describe the bug\\r\\nAfter upgrading to datasets `1.12.0`, some cached `.filter()` steps from `1.11.0` started failing with \\r\\n`ValueError: Keys mismatch: between {\\'indices\\': Value(dtype=\\'uint64\\', id=None)} and {\\'file\\': Value(dtype=\\'string\\', id=None), \\'text\\': Value(dtype=\\'string\\', id=None), \\'speaker_id\\': Value(dtype=\\'int64\\', id=None), \\'chapter_id\\': Value(dtype=\\'int64\\', id=None), \\'id\\': Value(dtype=\\'string\\', id=None)}`\\r\\n\\r\\nRelated feature: https://github.com/huggingface/datasets/pull/2836\\r\\n\\r\\n:question:  This is probably a `wontfix` bug, since it can be solved by simply cleaning the related cache dirs, but the workaround could be useful for someone googling the error :) \\r\\n\\r\\n## Workaround\\r\\nRemove the cache for the given dataset, e.g. `rm -rf ~/.cache/huggingface/datasets/librispeech_asr`.\\r\\n\\r\\n## Steps to reproduce the bug\\r\\n1. Delete `~/.cache/huggingface/datasets/librispeech_asr` if it exists.\\r\\n\\r\\n2. `pip install datasets==1.11.0` and run the following snippet:\\r\\n\\r\\n```python\\r\\nfrom datasets import load_dataset\\r\\n\\r\\nids = [\"1272-141231-0000\"]\\r\\nds = load_dataset(\"patrickvonplaten/librispeech_asr_dummy\", \"clean\", split=\"validation\")\\r\\nds = ds.filter(lambda x: x[\"id\"] in ids)\\r\\n```\\r\\n3. `pip install datasets==1.12.1` and re-run the code again\\r\\n\\r\\n## Expected results\\r\\nSame result as with the previous `datasets` version.\\r\\n\\r\\n## Actual results\\r\\n```bash\\r\\nReusing dataset librispeech_asr (./.cache/huggingface/datasets/librispeech_asr/clean/2.1.0/468ec03677f46a8714ac6b5b64dba02d246a228d92cbbad7f3dc190fa039eab1)\\r\\nLoading cached processed dataset at ./.cache/huggingface/datasets/librispeech_asr/clean/2.1.0/468ec03677f46a8714ac6b5b64dba02d246a228d92cbbad7f3dc190fa039eab1/cache-cd1c29844fdbc87a.arrow\\r\\nTraceback (most recent call last):\\r\\n  File \"./repos/transformers/src/transformers/models/wav2vec2/try_dataset.py\", line 5, in <module>\\r\\n    ds = ds.filter(lambda x: x[\"id\"] in ids)\\r\\n  File \"./envs/transformers/lib/python3.8/site-packages/datasets/arrow_dataset.py\", line 185, in wrapper\\r\\n    out: Union[\"Dataset\", \"DatasetDict\"] = func(self, *args, **kwargs)\\r\\n  File \"./envs/transformers/lib/python3.8/site-packages/datasets/fingerprint.py\", line 398, in wrapper\\r\\n    out = func(self, *args, **kwargs)\\r\\n  File \"./envs/transformers/lib/python3.8/site-packages/datasets/arrow_dataset.py\", line 2169, in filter\\r\\n    indices = self.map(\\r\\n  File \"./envs/transformers/lib/python3.8/site-packages/datasets/arrow_dataset.py\", line 1686, in map\\r\\n    return self._map_single(\\r\\n  File \"./envs/transformers/lib/python3.8/site-packages/datasets/arrow_dataset.py\", line 185, in wrapper\\r\\n    out: Union[\"Dataset\", \"DatasetDict\"] = func(self, *args, **kwargs)\\r\\n  File \"./envs/transformers/lib/python3.8/site-packages/datasets/fingerprint.py\", line 398, in wrapper\\r\\n    out = func(self, *args, **kwargs)\\r\\n  File \"./envs/transformers/lib/python3.8/site-packages/datasets/arrow_dataset.py\", line 1896, in _map_single\\r\\n    return Dataset.from_file(cache_file_name, info=info, split=self.split)\\r\\n  File \"./envs/transformers/lib/python3.8/site-packages/datasets/arrow_dataset.py\", line 343, in from_file\\r\\n    return cls(\\r\\n  File \"./envs/transformers/lib/python3.8/site-packages/datasets/arrow_dataset.py\", line 282, in __init__\\r\\n    self.info.features = self.info.features.reorder_fields_as(inferred_features)\\r\\n  File \"./envs/transformers/lib/python3.8/site-packages/datasets/features.py\", line 1151, in reorder_fields_as\\r\\n    return Features(recursive_reorder(self, other))\\r\\n  File \"./envs/transformers/lib/python3.8/site-packages/datasets/features.py\", line 1140, in recursive_reorder\\r\\n    raise ValueError(f\"Keys mismatch: between {source} and {target}\" + stack_position)\\r\\nValueError: Keys mismatch: between {\\'indices\\': Value(dtype=\\'uint64\\', id=None)} and {\\'file\\': Value(dtype=\\'string\\', id=None), \\'text\\': Value(dtype=\\'string\\', id=None), \\'speaker_id\\': Value(dtype=\\'int64\\', id=None), \\'chapter_id\\': Value(dtype=\\'int64\\', id=None), \\'id\\': Value(dtype=\\'string\\', id=None)}\\r\\n\\r\\nProcess finished with exit code 1\\r\\n\\r\\n```\\r\\n\\r\\n## Environment info\\r\\n- `datasets` version: 1.12.1\\r\\n- Platform: Linux-5.11.0-34-generic-x86_64-with-glibc2.17\\r\\n- Python version: 3.8.10\\r\\n- PyArrow version: 5.0.0\\r\\n']}"
      ]
     },
     "execution_count": 89,
     "metadata": {},
     "output_type": "execute_result"
    }
   ],
   "source": [
    "comments_dataset_2[:4]"
   ]
  },
  {
   "cell_type": "markdown",
   "id": "7eb44104-3ade-41e6-9652-8be73ce749e8",
   "metadata": {},
   "source": [
    "----"
   ]
  },
  {
   "cell_type": "code",
   "execution_count": 90,
   "id": "0bf46dfd-2cbf-4a1d-94ce-7e2aea75a5f4",
   "metadata": {},
   "outputs": [
    {
     "data": {
      "application/vnd.jupyter.widget-view+json": {
       "model_id": "3a634f295b4a4f7b9d766edceba7e399",
       "version_major": 2,
       "version_minor": 0
      },
      "text/plain": [
       "Map:   0%|          | 0/2964 [00:00<?, ? examples/s]"
      ]
     },
     "metadata": {},
     "output_type": "display_data"
    },
    {
     "data": {
      "text/plain": [
       "Dataset({\n",
       "    features: ['html_url', 'title', 'comments', 'body', 'comment_length'],\n",
       "    num_rows: 2964\n",
       "})"
      ]
     },
     "execution_count": 90,
     "metadata": {},
     "output_type": "execute_result"
    }
   ],
   "source": [
    "comments_dataset = comments_dataset.map(\n",
    "    lambda x: {\"comment_length\": len(x[\"comments\"].split())}\n",
    ")\n",
    "comments_dataset"
   ]
  },
  {
   "cell_type": "code",
   "execution_count": 91,
   "id": "18c373fd-56d5-4158-9a33-47470c1e6643",
   "metadata": {},
   "outputs": [
    {
     "data": {
      "application/vnd.jupyter.widget-view+json": {
       "model_id": "577527e24f8b4c4bb53b3054d7b2bb58",
       "version_major": 2,
       "version_minor": 0
      },
      "text/plain": [
       "Filter:   0%|          | 0/2964 [00:00<?, ? examples/s]"
      ]
     },
     "metadata": {},
     "output_type": "display_data"
    },
    {
     "data": {
      "text/plain": [
       "Dataset({\n",
       "    features: ['html_url', 'title', 'comments', 'body', 'comment_length'],\n",
       "    num_rows: 2175\n",
       "})"
      ]
     },
     "execution_count": 91,
     "metadata": {},
     "output_type": "execute_result"
    }
   ],
   "source": [
    "comments_dataset = comments_dataset.filter(lambda x: x[\"comment_length\"] > 15)\n",
    "comments_dataset"
   ]
  },
  {
   "cell_type": "code",
   "execution_count": 92,
   "id": "8509cd4d-c799-4b36-a86b-d2f34d1e0a70",
   "metadata": {},
   "outputs": [
    {
     "data": {
      "application/vnd.jupyter.widget-view+json": {
       "model_id": "209e8cd4be68459e9984f8ecceb06366",
       "version_major": 2,
       "version_minor": 0
      },
      "text/plain": [
       "Map:   0%|          | 0/2175 [00:00<?, ? examples/s]"
      ]
     },
     "metadata": {},
     "output_type": "display_data"
    },
    {
     "data": {
      "text/plain": [
       "Dataset({\n",
       "    features: ['html_url', 'title', 'comments', 'body', 'comment_length', 'text'],\n",
       "    num_rows: 2175\n",
       "})"
      ]
     },
     "execution_count": 92,
     "metadata": {},
     "output_type": "execute_result"
    }
   ],
   "source": [
    "def concatenate_text(examples):\n",
    "    return {\n",
    "        \"text\": examples[\"title\"]\n",
    "        + \" \\n \"\n",
    "        + examples[\"body\"]\n",
    "        + \" \\n \"\n",
    "        + examples[\"comments\"]\n",
    "    }\n",
    "\n",
    "comments_dataset = comments_dataset.map(concatenate_text)\n",
    "comments_dataset"
   ]
  },
  {
   "cell_type": "code",
   "execution_count": 93,
   "id": "31880978-5f79-474c-ab1c-0a9b42af5073",
   "metadata": {},
   "outputs": [],
   "source": [
    "from transformers import AutoTokenizer, AutoModel\n",
    "\n",
    "model_ckpt = \"sentence-transformers/multi-qa-mpnet-base-dot-v1\"\n",
    "tokenizer = AutoTokenizer.from_pretrained(model_ckpt)\n",
    "model = AutoModel.from_pretrained(model_ckpt)"
   ]
  },
  {
   "cell_type": "code",
   "execution_count": 94,
   "id": "9889b67e-8dfc-4f6c-9524-450e7b1e8c2d",
   "metadata": {},
   "outputs": [
    {
     "data": {
      "text/plain": [
       "MPNetModel(\n",
       "  (embeddings): MPNetEmbeddings(\n",
       "    (word_embeddings): Embedding(30527, 768, padding_idx=1)\n",
       "    (position_embeddings): Embedding(514, 768, padding_idx=1)\n",
       "    (LayerNorm): LayerNorm((768,), eps=1e-05, elementwise_affine=True)\n",
       "    (dropout): Dropout(p=0.1, inplace=False)\n",
       "  )\n",
       "  (encoder): MPNetEncoder(\n",
       "    (layer): ModuleList(\n",
       "      (0-11): 12 x MPNetLayer(\n",
       "        (attention): MPNetAttention(\n",
       "          (attn): MPNetSelfAttention(\n",
       "            (q): Linear(in_features=768, out_features=768, bias=True)\n",
       "            (k): Linear(in_features=768, out_features=768, bias=True)\n",
       "            (v): Linear(in_features=768, out_features=768, bias=True)\n",
       "            (o): Linear(in_features=768, out_features=768, bias=True)\n",
       "            (dropout): Dropout(p=0.1, inplace=False)\n",
       "          )\n",
       "          (LayerNorm): LayerNorm((768,), eps=1e-05, elementwise_affine=True)\n",
       "          (dropout): Dropout(p=0.1, inplace=False)\n",
       "        )\n",
       "        (intermediate): MPNetIntermediate(\n",
       "          (dense): Linear(in_features=768, out_features=3072, bias=True)\n",
       "          (intermediate_act_fn): GELUActivation()\n",
       "        )\n",
       "        (output): MPNetOutput(\n",
       "          (dense): Linear(in_features=3072, out_features=768, bias=True)\n",
       "          (LayerNorm): LayerNorm((768,), eps=1e-05, elementwise_affine=True)\n",
       "          (dropout): Dropout(p=0.1, inplace=False)\n",
       "        )\n",
       "      )\n",
       "    )\n",
       "    (relative_attention_bias): Embedding(32, 12)\n",
       "  )\n",
       "  (pooler): MPNetPooler(\n",
       "    (dense): Linear(in_features=768, out_features=768, bias=True)\n",
       "    (activation): Tanh()\n",
       "  )\n",
       ")"
      ]
     },
     "execution_count": 94,
     "metadata": {},
     "output_type": "execute_result"
    }
   ],
   "source": [
    "import torch\n",
    "\n",
    "device = torch.device(\"cuda\")\n",
    "model.to(device)"
   ]
  },
  {
   "cell_type": "code",
   "execution_count": 95,
   "id": "297a5034-019e-4899-9b29-412166b86b22",
   "metadata": {},
   "outputs": [],
   "source": [
    "def cls_pooling(model_output):\n",
    "    return model_output.last_hidden_state[:, 0]"
   ]
  },
  {
   "cell_type": "code",
   "execution_count": 96,
   "id": "c5c77dfa-e077-4f5a-a9e7-f6e284c644fa",
   "metadata": {},
   "outputs": [],
   "source": [
    "def get_embeddings(text_list):\n",
    "    encoded_input = tokenizer(\n",
    "        text_list, padding=True, truncation=True, return_tensors=\"pt\"\n",
    "    )\n",
    "    encoded_input = {k: v.to(device) for k, v in encoded_input.items()}\n",
    "    model_output = model(**encoded_input)\n",
    "    return cls_pooling(model_output)"
   ]
  },
  {
   "cell_type": "code",
   "execution_count": 97,
   "id": "f7db6de2-3033-4427-a11d-782e7d0aad5f",
   "metadata": {},
   "outputs": [
    {
     "data": {
      "text/plain": [
       "torch.Size([1, 768])"
      ]
     },
     "execution_count": 97,
     "metadata": {},
     "output_type": "execute_result"
    }
   ],
   "source": [
    "embedding = get_embeddings(comments_dataset[\"text\"][0])\n",
    "embedding.shape"
   ]
  },
  {
   "cell_type": "code",
   "execution_count": 98,
   "id": "a1fb9797-2056-4d82-a633-84b5bd66f991",
   "metadata": {},
   "outputs": [
    {
     "data": {
      "application/vnd.jupyter.widget-view+json": {
       "model_id": "29c746c4adb04a549ab8e5c3205325ac",
       "version_major": 2,
       "version_minor": 0
      },
      "text/plain": [
       "Map:   0%|          | 0/2175 [00:00<?, ? examples/s]"
      ]
     },
     "metadata": {},
     "output_type": "display_data"
    }
   ],
   "source": [
    "embeddings_dataset = comments_dataset.map(\n",
    "    lambda x: {\"embeddings\": get_embeddings(x[\"text\"]).detach().cpu().numpy()[0]}\n",
    ")"
   ]
  },
  {
   "cell_type": "code",
   "execution_count": 99,
   "id": "566d0939-cab6-44c7-bc39-61fc68e47ace",
   "metadata": {},
   "outputs": [
    {
     "data": {
      "application/vnd.jupyter.widget-view+json": {
       "model_id": "7429d50052b0493fab5e78653c8c8b9d",
       "version_major": 2,
       "version_minor": 0
      },
      "text/plain": [
       "  0%|          | 0/3 [00:00<?, ?it/s]"
      ]
     },
     "metadata": {},
     "output_type": "display_data"
    },
    {
     "data": {
      "text/plain": [
       "Dataset({\n",
       "    features: ['html_url', 'title', 'comments', 'body', 'comment_length', 'text', 'embeddings'],\n",
       "    num_rows: 2175\n",
       "})"
      ]
     },
     "execution_count": 99,
     "metadata": {},
     "output_type": "execute_result"
    }
   ],
   "source": [
    "embeddings_dataset.add_faiss_index(column=\"embeddings\")"
   ]
  },
  {
   "cell_type": "code",
   "execution_count": 100,
   "id": "486f63ca-6a09-4cfc-bffc-fe2e6327436b",
   "metadata": {},
   "outputs": [
    {
     "data": {
      "text/plain": [
       "(1, 768)"
      ]
     },
     "execution_count": 100,
     "metadata": {},
     "output_type": "execute_result"
    }
   ],
   "source": [
    "question = \"How can I load a dataset offline?\"\n",
    "question_embedding = get_embeddings([question]).cpu().detach().numpy()\n",
    "question_embedding.shape"
   ]
  },
  {
   "cell_type": "code",
   "execution_count": 101,
   "id": "a873bc32-7291-4a11-8452-b2cb6590b2c9",
   "metadata": {},
   "outputs": [],
   "source": [
    "scores, samples = embeddings_dataset.get_nearest_examples(\n",
    "    \"embeddings\", question_embedding, k=5\n",
    ")"
   ]
  },
  {
   "cell_type": "code",
   "execution_count": 102,
   "id": "86d21b93-852b-4d0b-9d3e-84c3b945196a",
   "metadata": {},
   "outputs": [],
   "source": [
    "import pandas as pd\n",
    "\n",
    "samples_df = pd.DataFrame.from_dict(samples)\n",
    "samples_df[\"scores\"] = scores\n",
    "samples_df.sort_values(\"scores\", ascending=False, inplace=True)"
   ]
  },
  {
   "cell_type": "code",
   "execution_count": 103,
   "id": "43929337-6026-4df6-b22e-3162964975e8",
   "metadata": {},
   "outputs": [
    {
     "name": "stdout",
     "output_type": "stream",
     "text": [
      "COMMENT: Requiring online connection is a deal breaker in some cases unfortunately so it'd be great if offline mode is added similar to how `transformers` loads models offline fine.\n",
      "\n",
      "@mandubian's second bullet point suggests that there's a workaround allowing you to use your offline (custom?) dataset with `datasets`. Could you please elaborate on how that should look like?\n",
      "SCORE: 25.505014419555664\n",
      "TITLE: Discussion using datasets in offline mode\n",
      "URL: https://github.com/huggingface/datasets/issues/824\n",
      "==================================================\n",
      "\n",
      "COMMENT: The local dataset builders (csv, text , json and pandas) are now part of the `datasets` package since #1726 :)\n",
      "You can now use them offline\n",
      "```python\n",
      "datasets = load_dataset('text', data_files=data_files)\n",
      "```\n",
      "\n",
      "We'll do a new release soon\n",
      "SCORE: 24.5555419921875\n",
      "TITLE: Discussion using datasets in offline mode\n",
      "URL: https://github.com/huggingface/datasets/issues/824\n",
      "==================================================\n",
      "\n",
      "COMMENT: I opened a PR that allows to reload modules that have already been loaded once even if there's no internet.\n",
      "\n",
      "Let me know if you know other ways that can make the offline mode experience better. I'd be happy to add them :) \n",
      "\n",
      "I already note the \"freeze\" modules option, to prevent local modules updates. It would be a cool feature.\n",
      "\n",
      "----------\n",
      "\n",
      "> @mandubian's second bullet point suggests that there's a workaround allowing you to use your offline (custom?) dataset with `datasets`. Could you please elaborate on how that should look like?\n",
      "\n",
      "Indeed `load_dataset` allows to load remote dataset script (squad, glue, etc.) but also you own local ones.\n",
      "For example if you have a dataset script at `./my_dataset/my_dataset.py` then you can do\n",
      "```python\n",
      "load_dataset(\"./my_dataset\")\n",
      "```\n",
      "and the dataset script will generate your dataset once and for all.\n",
      "\n",
      "----------\n",
      "\n",
      "About I'm looking into having `csv`, `json`, `text`, `pandas` dataset builders already included in the `datasets` package, so that they are available offline by default, as opposed to the other datasets that require the script to be downloaded.\n",
      "cf #1724 \n",
      "SCORE: 24.14898681640625\n",
      "TITLE: Discussion using datasets in offline mode\n",
      "URL: https://github.com/huggingface/datasets/issues/824\n",
      "==================================================\n",
      "\n",
      "COMMENT: > here is my way to load a dataset offline, but it **requires** an online machine\n",
      "> \n",
      "> 1. (online machine)\n",
      "> \n",
      "> ```\n",
      "> \n",
      "> import datasets\n",
      "> \n",
      "> data = datasets.load_dataset(...)\n",
      "> \n",
      "> data.save_to_disk(/YOUR/DATASET/DIR)\n",
      "> \n",
      "> ```\n",
      "> \n",
      "> 2. copy the dir from online to the offline machine\n",
      "> \n",
      "> 3. (offline machine)\n",
      "> \n",
      "> ```\n",
      "> \n",
      "> import datasets\n",
      "> \n",
      "> data = datasets.load_from_disk(/SAVED/DATA/DIR)\n",
      "> \n",
      "> ```\n",
      "> \n",
      "> \n",
      "> \n",
      "> HTH.\n",
      "\n",
      "\n",
      "SCORE: 22.894001007080078\n",
      "TITLE: Discussion using datasets in offline mode\n",
      "URL: https://github.com/huggingface/datasets/issues/824\n",
      "==================================================\n",
      "\n",
      "COMMENT: here is my way to load a dataset offline, but it **requires** an online machine\n",
      "1. (online machine)\n",
      "```\n",
      "import datasets\n",
      "data = datasets.load_dataset(...)\n",
      "data.save_to_disk(/YOUR/DATASET/DIR)\n",
      "```\n",
      "2. copy the dir from online to the offline machine\n",
      "3. (offline machine)\n",
      "```\n",
      "import datasets\n",
      "data = datasets.load_from_disk(/SAVED/DATA/DIR)\n",
      "```\n",
      "\n",
      "HTH.\n",
      "SCORE: 22.40665626525879\n",
      "TITLE: Discussion using datasets in offline mode\n",
      "URL: https://github.com/huggingface/datasets/issues/824\n",
      "==================================================\n",
      "\n"
     ]
    }
   ],
   "source": [
    "for _, row in samples_df.iterrows():\n",
    "    print(f\"COMMENT: {row.comments}\")\n",
    "    print(f\"SCORE: {row.scores}\")\n",
    "    print(f\"TITLE: {row.title}\")\n",
    "    print(f\"URL: {row.html_url}\")\n",
    "    print(\"=\" * 50)\n",
    "    print()"
   ]
  },
  {
   "cell_type": "code",
   "execution_count": null,
   "id": "438b0e2f-b39c-46e4-b545-1e7088f592c6",
   "metadata": {},
   "outputs": [],
   "source": []
  },
  {
   "cell_type": "code",
   "execution_count": null,
   "id": "81b9e0c4-0ff9-4aa6-bd64-3fdebfb68a50",
   "metadata": {},
   "outputs": [],
   "source": []
  }
 ],
 "metadata": {
  "kernelspec": {
   "display_name": "Python 3 (ipykernel)",
   "language": "python",
   "name": "python3"
  },
  "language_info": {
   "codemirror_mode": {
    "name": "ipython",
    "version": 3
   },
   "file_extension": ".py",
   "mimetype": "text/x-python",
   "name": "python",
   "nbconvert_exporter": "python",
   "pygments_lexer": "ipython3",
   "version": "3.9.21"
  }
 },
 "nbformat": 4,
 "nbformat_minor": 5
}
